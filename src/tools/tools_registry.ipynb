{
 "cells": [
  {
   "cell_type": "code",
   "execution_count": 25,
   "id": "32748c0a",
   "metadata": {},
   "outputs": [
    {
     "name": "stdout",
     "output_type": "stream",
     "text": [
      "🔁 SRC path already in sys.path: /home/prashant-agrawal/projects/netflix_talk2data/src\n"
     ]
    }
   ],
   "source": [
    "# %%\n",
    "import sys, os\n",
    "\n",
    "try:\n",
    "    # ✅ Running from a Python script (.py file)\n",
    "    base_path = os.path.abspath(os.path.join(os.path.dirname(__file__), \"..\"))\n",
    "except NameError:\n",
    "    # ✅ Running from a Jupyter notebook (__file__ is not defined)\n",
    "    base_path = os.path.abspath(os.path.join(os.getcwd(), \"..\"))\n",
    "\n",
    "SRC_PATH = os.path.join(base_path)\n",
    "\n",
    "if SRC_PATH not in sys.path:\n",
    "    sys.path.insert(0, SRC_PATH)\n",
    "    print(f\"✅ SRC path added: {SRC_PATH}\")\n",
    "else:\n",
    "    print(f\"🔁 SRC path already in sys.path: {SRC_PATH}\")"
   ]
  },
  {
   "cell_type": "code",
   "execution_count": 32,
   "id": "ec1146be",
   "metadata": {},
   "outputs": [],
   "source": [
    "from enhancer_agent_tools.keyword_extractor import keyword_extractor_fn\n",
    "from enhancer_agent_tools.numeric_extractor import extract_numeric_constraints\n",
    "from enhancer_agent_tools.classify_category import classify_categories\n",
    "from enhancer_agent_tools.entity_extractor import extract_entities\n",
    "from enhancer_agent_tools.filter_composer import compose_filters"
   ]
  },
  {
   "cell_type": "code",
   "execution_count": 33,
   "id": "87f1683d",
   "metadata": {},
   "outputs": [],
   "source": [
    "# Keyword extractor tool\n",
    "# This tool is designed to extract relevant company-related fields from the user's query based on keyword matching.\n",
    "\n",
    "from langchain.agents import Tool\n",
    "keyword_extractor_tool = Tool( \n",
    "    name=\"keyword_extractor\",\n",
    "    func=keyword_extractor_fn,\n",
    "    description=\"\"\"Extracts relevant company-related fields from the user's query based on keyword matching. Use this tool to identify which structured metadata fields—like headquarters city, tech stack, product category, funding stage, hiring status, or founder information—are being asked about. \n",
    "    Returns a dictionary mapping each detected field to the matched keyword.\"\"\".strip()\n",
    "    )   \n"
   ]
  },
  {
   "cell_type": "code",
   "execution_count": 8,
   "id": "3373ccec",
   "metadata": {},
   "outputs": [],
   "source": [
    "# Extract Numeric Constraints\n",
    "# This tool identifies numeric constraints in the user's query, such as funding amount, revenue, employee size, valuation, or year of founding.\n",
    "\n",
    "from langchain.agents import Tool\n",
    "\n",
    "extract_numeric_constraints_tool = Tool(\n",
    "    name=\"Numeric Constraint Extraction\",\n",
    "    func=extract_numeric_constraints,\n",
    "    description=\"\"\"\"Extract numeric constraints from the query such as funding amount, revenue, employee size, valuation, or year of founding. \n",
    "    Use this tool to detect conditions like 'raised over $5 million', 'less than 100 employees', or \n",
    "    'founded after 2018' and convert them into structured filters for downstream company search.\"\"\".strip()\n",
    "    \n",
    ")"
   ]
  },
  {
   "cell_type": "code",
   "execution_count": 30,
   "id": "bc84bd85",
   "metadata": {},
   "outputs": [],
   "source": [
    "# Entity extraction tool\n",
    "# This tool is used to extract named entities from the user's query.\n",
    "\n",
    "from langchain.agents import Tool\n",
    "entity_extractor_tool = Tool(\n",
    "    name=\"Entities Extraction\",\n",
    "    func=extract_entities,\n",
    "    description=\"\"\"Extracts named entities like actor names, directors, production companies, locations, or specific movie/show titles from the input query. \n",
    "                    Use this when the query mentions people, places, or titles explicitly.\"\"\".strip()\n",
    ")"
   ]
  },
  {
   "cell_type": "code",
   "execution_count": 10,
   "id": "1337c07f",
   "metadata": {},
   "outputs": [],
   "source": [
    "# Category Classification Tool\n",
    "\n",
    "# This tool classifies the user query into one or more predefined company categories\n",
    "# such as Fintech, SaaS, HealthTech, B2B, Logistics, etc.\n",
    "\n",
    "from langchain.agents import Tool\n",
    "classify_categories_tool = Tool(\n",
    "    name=\"Classify Categories\",\n",
    "    func=classify_categories,\n",
    "    description=\"\"\"Classifies the input query into predefined categories like SaaS, FinTech, Edtech, etc. \n",
    "                    Returns a dictionary with the key 'industry_category'.\",\"\"\".strip()\n",
    ")"
   ]
  },
  {
   "cell_type": "code",
   "execution_count": 11,
   "id": "f99baa73",
   "metadata": {},
   "outputs": [],
   "source": [
    "# Compose Filters Tool\n",
    "\n",
    "##  This tool combines the outputs of the previous tools into a structured filter object.\n",
    "##  This is the final step in the pipeline, so it should be called after all other tools have been applied.\n",
    "##  It takes the outputs of the keyword extractor, numeric constraints, entity extractor, and category classifier\n",
    "##  and combines them into a single filter object that can be used for downstream search agents. \n",
    "from langchain.agents import Tool\n",
    "\n",
    "filter_composer_tool = Tool(\n",
    "    name=\"filter_composer\",\n",
    "    func=compose_filters,\n",
    "    description=\"\"\"Combines extracted metadata from enhancer tools into a unified dictionary of filters. It merges outputs from keyword, numeric, entity, and category extractors into a structured format. \n",
    "                    Should be used after all extraction tools have run. \n",
    "                    Accepts valid JSON-like inputs and returns a single filter object for downstream search agents.\"\"\".strip()\n",
    "\n",
    ")"
   ]
  },
  {
   "cell_type": "code",
   "execution_count": 12,
   "id": "362b2606",
   "metadata": {},
   "outputs": [],
   "source": [
    "# RAG Search Tool\n",
    "# This tool performs a semantic search over startup documents using FAISS.\n",
    "\n",
    "\n",
    "#from langchain_core.tools import Tool\n",
    "#from enhancer_agent_tools.rag_search_tool import RagSearchInput  # Import RagSearchInput\n",
    "\n",
    "#rag_search_tool = Tool(\n",
    "#    name=\"rag_search_tool\",\n",
    "#    func=rag_search_fn,\n",
    "#    description=\"Semantic search tool over startup documents using FAISS. Supports filters like sector, funding, location.\",\n",
    "#    args_schema=RagSearchInput,\n",
    "#)"
   ]
  },
  {
   "cell_type": "code",
   "execution_count": 34,
   "id": "2cad0938",
   "metadata": {},
   "outputs": [],
   "source": [
    "# Qdrant Search Tool\n",
    "from langchain_openai import OpenAIEmbeddings\n",
    "from langchain.tools import Tool\n",
    "from tools.qdrant_tools.qdrant_server_tool import QdrantSearchTool\n",
    "\n",
    "# Instantiate embedding + Qdrant tool\n",
    "embedding_model = OpenAIEmbeddings()\n",
    "\n",
    "qdrant_tool = QdrantSearchTool(\n",
    "    host=\"localhost\",\n",
    "    port=6333,\n",
    "    collection_name=\"indian_startups\",  # ✅ Replace this\n",
    "    embedding_model=embedding_model\n",
    ")\n",
    "\n",
    "# Wrapper for LangChain agent compatibility\n",
    "def wrapped_qdrant_search(inputs: dict) -> list:\n",
    "    query = inputs.get(\"query\", \"\")\n",
    "    filters = inputs.get(\"filters\", None)\n",
    "    k = inputs.get(\"k\", 5)\n",
    "    print(f\"\\n[DEBUG] Query: {query}\")\n",
    "    print(f\"[DEBUG] Filters: {filters}\")\n",
    "    print(f\"[DEBUG] Top K: {k}\")\n",
    "    try:\n",
    "        results = qdrant_tool.search(query=query, filters=filters, k=k)\n",
    "        print(f\"[DEBUG] Raw results: {results}\")\n",
    "        return results\n",
    "    except Exception as e:\n",
    "        print(f\"[ERROR] Qdrant search failed: {e}\")\n",
    "        return []\n",
    "\n",
    "# LangChain Tool registration\n",
    "qdrant_search_tool = Tool(\n",
    "    name=\"qdrant_search\",\n",
    "    func=wrapped_qdrant_search,\n",
    "    description=(\n",
    "        \"\"\"Perform hybrid semantic + metadata searches over our SuperVator startup knowledge base 🔍🚀\n",
    "\n",
    "• **Semantic Retrieval** – Leverage OpenAI embeddings + Qdrant’s cosine‐distance vector index to find the most contextually relevant companies for ANY natural-language query (“emerging fintech players”, “best agritech startups”, etc.).\n",
    "\n",
    "• **Metadata & Keyword Filters** – Narrow down results by exact or fuzzy matching on structured fields:\n",
    "    – ▶️ *Categorical*: `state`, `industry_sector`, `hiring_status`, `tech_stack`, `founders`, etc.  \n",
    "    – ▶️ *Numeric Ranges*: `year_founded`, `total_funding_raised_inr`, `number_of_employees_current`, etc. (supports `gte`/`lte` filters)\n",
    "\n",
    "• **Fully Hybrid** – Mix & match: e.g. “top funded SaaS companies in Delhi founded after 2015”  \n",
    "simply by passing your free-text query plus a `filters` dict:\"\"\"\n",
    "    )\n",
    ")\n"
   ]
  },
  {
   "cell_type": "code",
   "execution_count": 29,
   "id": "e23c1555",
   "metadata": {},
   "outputs": [
    {
     "name": "stdout",
     "output_type": "stream",
     "text": [
      "🔍 Test: pure semantic (no filters)\n",
      "\n",
      "[DEBUG] Query: emerging fintech startups\n",
      "[DEBUG] Filters: None\n",
      "[DEBUG] Top K: 3\n",
      "[DEBUG] Raw results: [{'id': 118, 'score': 0.7725888, 'payload': {'company_name': 'boat', 'legal_entity_type': 'pvt ltd', 'state': 'uttar pradesh', 'headquarters_city': 'delhi', 'year_founded': '2019', 'company_website': 'https://woodsllc.in', 'logo_url': 'https://logo.clearbit.com/woodsllc.in', 'company_description_short': 'total needs-based hardware', 'company_description_long': 'certain young water until able ball art join. similar meet decade trial speak station write.\\r\\narrive throw data. take still worry sign create risk.\\r\\nissue discover white. government cell live capital option eight onto. degree effort else. as discussion near environmental.', 'industry_sector': 'healthtech', 'total_funding_raised_inr': '₹35 cr', 'number_of_funding_rounds': '2', 'latest_funding_round_type': 'pre-seed', 'latest_funding_date': '2022-11-21', 'lead_investors': 'hartman, santana and robinson', 'revenue_estimate_annual': '₹189 cr', 'valuation_estimate_if_available': '₹1398 cr', 'number_of_employees_current': '231', 'number_of_employees_estimate_range': '31-980', 'key_people': 'ceo: ryan miller, cto: corey roberts', 'founders': 'diane anderson (https://linkedin.com/in/maureen81)', 'board_members___advisors': 'mary contreras', 'employee_growth_yoy_%': '26%', 'hiring_status': 'hiring freeze', 'popular_roles_open': 'engineering, marketing', 'primary_products___services': 'job search platform', 'product_categories': 'saas', 'tech_stack': 'java, spring boot, gcp', 'integrations___apis_offered': 'razorpay, zoho, tally', 'target_market': 'enterprises', 'major_customers___logos': 'hcl, accenture', 'press_mentions___recent_news': 'because yard management least.', 'competitors': 'noise, jbl'}}, {'id': '21f4fbb4-9ee7-4d01-9949-c19d76cd07d4', 'score': 0.7725783, 'payload': {'page_content': 'Certain young water until able ball art join. Similar meet decade trial speak station write.\\r\\nArrive throw data. Take still worry sign create risk.\\r\\nIssue discover white. Government cell live capital option eight onto. Degree effort else. As discussion near environmental.', 'metadata': {'Company Name': 'Boat', 'Legal Entity Type': 'Pvt Ltd', 'State': 'Uttar Pradesh', 'Headquarters City': 'Delhi', 'Year Founded': 2019, 'Company Website': 'https://woodsllc.in', 'Logo URL': 'https://logo.clearbit.com/woodsllc.in', 'Company Description (Short)': 'Total needs-based hardware', 'Industry Sector': 'Healthtech', 'Total Funding Raised (INR)': '₹35 Cr', 'Number of Funding Rounds': 2, 'Latest Funding Round Type': 'Pre-seed', 'Latest Funding Date': '2022-11-21', 'Lead Investors': 'Hartman, Santana and Robinson', 'Revenue Estimate (Annual)': '₹189 Cr', 'Valuation Estimate (if available)': '₹1398 Cr', 'Number of Employees (Current)': 231, 'Number of Employees (Estimate Range)': '31-980', 'Key People': 'CEO: Ryan Miller, CTO: Corey Roberts', 'Founders': 'Diane Anderson (https://linkedin.com/in/maureen81)', 'Board Members / Advisors': 'Mary Contreras', 'Employee Growth (YoY %)': '26%', 'Hiring Status': 'Hiring Freeze', 'Popular Roles Open': 'Engineering, Marketing', 'Primary Products / Services': 'Job Search Platform', 'Product Categories': 'SaaS', 'Tech Stack': 'Java, Spring Boot, GCP', 'Integrations / APIs offered': 'Razorpay, Zoho, Tally', 'Target Market': 'Enterprises', 'Major Customers / Logos': 'HCL, Accenture', 'Press Mentions / Recent News': 'Because yard management least.', 'Competitors': 'Noise, JBL'}}}, {'id': '2df6c977-b882-4974-ada3-cd8c29e2562c', 'score': 0.7725783, 'payload': {'page_content': 'Certain young water until able ball art join. Similar meet decade trial speak station write.\\r\\nArrive throw data. Take still worry sign create risk.\\r\\nIssue discover white. Government cell live capital option eight onto. Degree effort else. As discussion near environmental.', 'metadata': {'Company Name': 'Boat', 'Legal Entity Type': 'Pvt Ltd', 'State': 'Uttar Pradesh', 'Headquarters City': 'Delhi', 'Year Founded': 2019, 'Company Website': 'https://woodsllc.in', 'Logo URL': 'https://logo.clearbit.com/woodsllc.in', 'Company Description (Short)': 'Total needs-based hardware', 'Industry Sector': 'Healthtech', 'Total Funding Raised (INR)': '₹35 Cr', 'Number of Funding Rounds': 2, 'Latest Funding Round Type': 'Pre-seed', 'Latest Funding Date': '2022-11-21', 'Lead Investors': 'Hartman, Santana and Robinson', 'Revenue Estimate (Annual)': '₹189 Cr', 'Valuation Estimate (if available)': '₹1398 Cr', 'Number of Employees (Current)': 231, 'Number of Employees (Estimate Range)': '31-980', 'Key People': 'CEO: Ryan Miller, CTO: Corey Roberts', 'Founders': 'Diane Anderson (https://linkedin.com/in/maureen81)', 'Board Members / Advisors': 'Mary Contreras', 'Employee Growth (YoY %)': '26%', 'Hiring Status': 'Hiring Freeze', 'Popular Roles Open': 'Engineering, Marketing', 'Primary Products / Services': 'Job Search Platform', 'Product Categories': 'SaaS', 'Tech Stack': 'Java, Spring Boot, GCP', 'Integrations / APIs offered': 'Razorpay, Zoho, Tally', 'Target Market': 'Enterprises', 'Major Customers / Logos': 'HCL, Accenture', 'Press Mentions / Recent News': 'Because yard management least.', 'Competitors': 'Noise, JBL'}}}]\n",
      " • [0.7726] boat\n",
      " • [0.7726] [No Name]\n",
      " • [0.7726] [No Name]\n",
      "\n",
      "🔍 Test: metadata-only filter state=delhi\n",
      "\n",
      "[DEBUG] Query: \n",
      "[DEBUG] Filters: {'state': 'delhi'}\n",
      "[DEBUG] Top K: 5\n",
      "[DEBUG] Raw results: [{'id': 132, 'score': 0.7059703, 'payload': {'company_name': 'cred', 'legal_entity_type': 'public ltd', 'state': 'delhi', 'headquarters_city': 'jaipur', 'year_founded': '1995', 'company_website': 'https://scott,jacksonandmoses.in', 'logo_url': 'https://logo.clearbit.com/scott,jacksonandmoses.in', 'company_description_short': 'programmable hybrid approach', 'company_description_long': 'quality themselves war she cold relate under. himself now style itself seven. control expert or ago after good.\\r\\nquickly real news drug area.\\r\\nair among himself buy consumer. develop life large carry many any social. thousand president true maybe number.', 'industry_sector': 'logistics', 'total_funding_raised_inr': '₹315 cr', 'number_of_funding_rounds': '2', 'latest_funding_round_type': 'series c', 'latest_funding_date': '2024-02-09', 'lead_investors': 'smith, ward and holland', 'revenue_estimate_annual': '₹292 cr', 'valuation_estimate_if_available': '₹1405 cr', 'number_of_employees_current': '68', 'number_of_employees_estimate_range': '22-883', 'key_people': 'ceo: christian underwood, cto: brian stephens', 'founders': 'andrew osborne (https://linkedin.com/in/hoganraymond)', 'board_members___advisors': 'holly curry', 'employee_growth_yoy_%': '17%', 'hiring_status': 'hiring freeze', 'popular_roles_open': 'product, engineering', 'primary_products___services': 'audio wearables', 'product_categories': 'saas', 'tech_stack': 'python, react, aws', 'integrations___apis_offered': 'razorpay, zoho, tally', 'target_market': 'consumers', 'major_customers___logos': 'direct consumers', 'press_mentions___recent_news': 'recognize whom discussion information.', 'competitors': 'company x, company y'}}, {'id': 113, 'score': 0.7046023, 'payload': {'company_name': 'curefit', 'legal_entity_type': 'pvt ltd', 'state': 'delhi', 'headquarters_city': 'chennai', 'year_founded': '2011', 'company_website': 'https://montgomeryandsons.in', 'logo_url': 'https://logo.clearbit.com/montgomeryandsons.in', 'company_description_short': 'up-sized high-level hierarchy', 'company_description_long': 'over behind true write son hit player almost. congress much off cell me.\\r\\nindividual support computer couple top. fall already ok appear gas may mission.\\r\\ncollege law pull realize. approach fish firm hair view blue. each responsibility common our account scientist.', 'industry_sector': 'agritech', 'total_funding_raised_inr': '₹411 cr', 'number_of_funding_rounds': '2', 'latest_funding_round_type': 'pre-seed', 'latest_funding_date': '2024-02-09', 'lead_investors': 'nelson, hubbard and johnson', 'revenue_estimate_annual': '₹22 cr', 'valuation_estimate_if_available': '₹246 cr', 'number_of_employees_current': '313', 'number_of_employees_estimate_range': '466-1363', 'key_people': 'ceo: thomas carrillo, cto: ann jimenez', 'founders': 'mrs. janet smith (https://linkedin.com/in/krystaldavis)', 'board_members___advisors': 'david baker', 'employee_growth_yoy_%': '20%', 'hiring_status': 'actively hiring', 'popular_roles_open': 'engineering, marketing', 'primary_products___services': 'furniture marketplace', 'product_categories': 'saas', 'tech_stack': 'java, spring boot, gcp', 'integrations___apis_offered': 'razorpay, zoho, tally', 'target_market': 'smbs', 'major_customers___logos': 'independent pharmacies', 'press_mentions___recent_news': 'sea each suggest partner industry share fire.', 'competitors': 'company x, company y'}}, {'id': 16, 'score': 0.702962, 'payload': {'company_name': 'tork motors', 'legal_entity_type': 'proprietorship', 'state': 'delhi', 'headquarters_city': 'hyderabad', 'year_founded': '2004', 'company_website': 'https://lutz-maddox.in', 'logo_url': 'https://logo.clearbit.com/lutz-maddox.in', 'company_description_short': 'exclusive user-facing help-desk', 'company_description_long': 'protect site pass bring training still. late hair stay phone mention. certainly many much rest walk. natural table that guy here alone young.\\r\\nwear not agency inside large.\\r\\neconomic us area. measure hold determine first develop prevent box. them blue strong. voice begin future land.', 'industry_sector': 'agritech', 'total_funding_raised_inr': '₹113 cr', 'number_of_funding_rounds': '1', 'latest_funding_round_type': 'seed', 'latest_funding_date': '2023-07-29', 'lead_investors': 'terrell-castillo', 'revenue_estimate_annual': '₹10 cr', 'valuation_estimate_if_available': '₹1355 cr', 'number_of_employees_current': '55', 'number_of_employees_estimate_range': '131-1874', 'key_people': 'ceo: debra beck, cto: tristan gonzalez', 'founders': 'melissa cross (https://linkedin.com/in/bradleykeller)', 'board_members___advisors': 'david diaz', 'employee_growth_yoy_%': '18%', 'hiring_status': 'actively hiring', 'popular_roles_open': 'product, engineering', 'primary_products___services': 'online grocery', 'product_categories': 'b2b', 'tech_stack': 'python, react, aws', 'integrations___apis_offered': 'razorpay, zoho, tally', 'target_market': 'consumers', 'major_customers___logos': 'direct consumers', 'press_mentions___recent_news': 'nor culture near history ever unit.', 'competitors': 'company x, company y'}}, {'id': 274, 'score': 0.7024498, 'payload': {'company_name': 'lenskart', 'legal_entity_type': 'public ltd', 'state': 'delhi', 'headquarters_city': 'hyderabad', 'year_founded': '2013', 'company_website': 'https://gonzalez,hunterandbaker.in', 'logo_url': 'https://logo.clearbit.com/gonzalez,hunterandbaker.in', 'company_description_short': 'triple-buffered didactic software', 'company_description_long': 'name relationship raise country radio your fine. green imagine serve myself.\\r\\nblood response project clear. with clear across activity drop movie great. financial available recognize his.', 'industry_sector': 'edtech', 'total_funding_raised_inr': '₹224 cr', 'number_of_funding_rounds': '4', 'latest_funding_round_type': 'series a', 'latest_funding_date': '2025-04-11', 'lead_investors': 'lucero group', 'revenue_estimate_annual': '₹77 cr', 'valuation_estimate_if_available': '₹1865 cr', 'number_of_employees_current': '41', 'number_of_employees_estimate_range': '371-919', 'key_people': 'ceo: justin sanchez, cto: jacqueline miller', 'founders': 'melissa rice (https://linkedin.com/in/torrestracy)', 'board_members___advisors': 'felicia carr', 'employee_growth_yoy_%': '50%', 'hiring_status': 'hiring freeze', 'popular_roles_open': 'product, sales', 'primary_products___services': 'home services', 'product_categories': 'saas', 'tech_stack': 'java, spring boot, gcp', 'integrations___apis_offered': 'razorpay, zoho, tally', 'target_market': 'enterprises', 'major_customers___logos': 'maruti suzuki, bosch', 'press_mentions___recent_news': 'food into act arm.', 'competitors': 'titan eyeplus, coolwinks'}}, {'id': 39, 'score': 0.7020854, 'payload': {'company_name': 'yulu', 'legal_entity_type': 'public ltd', 'state': 'delhi', 'headquarters_city': 'chennai', 'year_founded': '2009', 'company_website': 'https://russo-moore.in', 'logo_url': 'https://logo.clearbit.com/russo-moore.in', 'company_description_short': 'automated regional open architecture', 'company_description_long': 'guy small call film street believe well different. white mouth beyond make require certainly relationship couple.\\r\\nindustry night black consider treat product. old central watch government hard teach.', 'industry_sector': 'e-commerce', 'total_funding_raised_inr': '₹298 cr', 'number_of_funding_rounds': '1', 'latest_funding_round_type': 'series b', 'latest_funding_date': '2024-10-06', 'lead_investors': 'robinson-galvan', 'revenue_estimate_annual': '₹31 cr', 'valuation_estimate_if_available': '₹1012 cr', 'number_of_employees_current': '112', 'number_of_employees_estimate_range': '34-1393', 'key_people': 'ceo: brian stevens, cto: april smith', 'founders': 'sandra gonzales (https://linkedin.com/in/hollandjoshua)', 'board_members___advisors': 'darlene bridges', 'employee_growth_yoy_%': '16%', 'hiring_status': 'actively hiring', 'popular_roles_open': 'engineering, marketing', 'primary_products___services': 'electric scooters', 'product_categories': 'saas', 'tech_stack': 'python, react, aws', 'integrations___apis_offered': 'razorpay, zoho, tally', 'target_market': 'smbs', 'major_customers___logos': 'small clinics and schools', 'press_mentions___recent_news': 'speech think affect off name course me beyond.', 'competitors': 'company x, company y'}}]\n",
      " • cred (state=delhi)\n",
      " • curefit (state=delhi)\n",
      " • tork motors (state=delhi)\n",
      " • lenskart (state=delhi)\n",
      " • yulu (state=delhi)\n",
      "\n",
      "🔍 Test: range filter year_founded in [2000,2010]\n",
      "\n",
      "[DEBUG] Query: \n",
      "[DEBUG] Filters: {'year_founded': {'gte': 2000, 'lte': 2010}}\n",
      "[DEBUG] Top K: 5\n",
      "[DEBUG] Raw results: []\n"
     ]
    }
   ],
   "source": [
    "def test_semantic():\n",
    "    print(\"🔍 Test: pure semantic (no filters)\")\n",
    "    results = wrapped_qdrant_search({\"query\": \"emerging fintech startups\", \"filters\": None, \"k\": 3})\n",
    "    for r in results:\n",
    "        print(f\" • [{r['score']:.4f}] {r['payload'].get('company_name', '[No Name]')}\")\n",
    "\n",
    "def test_metadata():\n",
    "    print(\"🔍 Test: metadata-only filter state=delhi\")\n",
    "    results = wrapped_qdrant_search({\"query\": \"\", \"filters\": {\"state\": \"delhi\"}, \"k\": 5})\n",
    "    for r in results:\n",
    "        payload = r['payload']\n",
    "        print(f\" • {payload.get('company_name', '[No Name]')} (state={payload.get('state', '[No State]')})\")\n",
    "\n",
    "def test_range():\n",
    "    print(\"🔍 Test: range filter year_founded in [2000,2010]\")\n",
    "    results = wrapped_qdrant_search({\n",
    "        \"query\": \"\",\n",
    "        \"filters\": {\"year_founded\": {\"gte\": 2000, \"lte\": 2010}},\n",
    "        \"k\": 5\n",
    "    })\n",
    "    for r in results:\n",
    "        payload = r['payload']\n",
    "        print(f\" • {payload.get('company_name', '[No Name]')} (founded={payload.get('year_founded', '[No Year]')})\")\n",
    "\n",
    "# 6️⃣ Run all tests\n",
    "test_semantic()\n",
    "print()\n",
    "test_metadata()\n",
    "print()\n",
    "test_range()\n",
    "\n"
   ]
  },
  {
   "cell_type": "code",
   "execution_count": 20,
   "id": "16eb2a7c",
   "metadata": {},
   "outputs": [
    {
     "name": "stdout",
     "output_type": "stream",
     "text": [
      "collections=[CollectionDescription(name='terraforming'), CollectionDescription(name='demo_payload'), CollectionDescription(name='indian_startups'), CollectionDescription(name='star_charts')]\n",
      "count=1500\n"
     ]
    }
   ],
   "source": [
    "from qdrant_client import QdrantClient\n",
    "client = QdrantClient(host=\"localhost\", port=6333)\n",
    "print(client.get_collections())\n",
    "print(client.count(collection_name=\"indian_startups\"))"
   ]
  }
 ],
 "metadata": {
  "kernelspec": {
   "display_name": "venv",
   "language": "python",
   "name": "python3"
  },
  "language_info": {
   "codemirror_mode": {
    "name": "ipython",
    "version": 3
   },
   "file_extension": ".py",
   "mimetype": "text/x-python",
   "name": "python",
   "nbconvert_exporter": "python",
   "pygments_lexer": "ipython3",
   "version": "3.10.17"
  }
 },
 "nbformat": 4,
 "nbformat_minor": 5
}
