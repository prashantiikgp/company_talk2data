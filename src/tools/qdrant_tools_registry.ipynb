{
 "cells": [
  {
   "cell_type": "markdown",
   "id": "5cc01981",
   "metadata": {},
   "source": [
    "# Qdrant Tools Registry:\n",
    "\n",
    "This notebook demonstrates how to register and wrap the Qdrant search tool for agent use, by importing the implementation from the qdrant_tools folder."
   ]
  },
  {
   "cell_type": "code",
   "execution_count": 12,
   "id": "351632a2",
   "metadata": {},
   "outputs": [
    {
     "name": "stdout",
     "output_type": "stream",
     "text": [
      "🔁 SRC path already in sys.path: /home/prashant-agrawal/projects/netflix_talk2data/src\n"
     ]
    }
   ],
   "source": [
    "# Ensure src/ is in sys.path so 'tools' can be imported\n",
    "# %%\n",
    "import sys, os\n",
    "try:\n",
    "    # ✅ Running from a Python script (.py file)\n",
    "    TOOLS_PATH = os.path.abspath(os.path.join(os.path.dirname(__file__), \"..\"))\n",
    "except NameError:\n",
    "    # ✅ Running from a Jupyter notebook (__file__ is not defined)\n",
    "    TOOLS_PATH = os.path.abspath(os.path.join(os.getcwd(), \"..\"))\n",
    "SRC_PATH = os.path.join(TOOLS_PATH)\n",
    "\n",
    "\n",
    "if SRC_PATH not in sys.path:\n",
    "    sys.path.insert(0, SRC_PATH)\n",
    "    print(f\"✅ SRC path added: {SRC_PATH}\")\n",
    "else:\n",
    "    print(f\"🔁 SRC path already in sys.path: {SRC_PATH}\")"
   ]
  },
  {
   "cell_type": "code",
   "execution_count": 13,
   "id": "92ef028a",
   "metadata": {},
   "outputs": [],
   "source": [
    "\"\"\"\n",
    "Qdrant Tools Registry: Central place to register and wrap Qdrant-related tools for agent use.\n",
    "\"\"\"\n",
    "from langchain_openai import OpenAIEmbeddings\n",
    "from langchain.tools import Tool\n",
    "\n",
    "# Import the QdrantSearchTool implementation from the actual server tool script\n",
    "from tools.qdrant_tools.qdrant_server_tool import QdrantSearchTool\n"
   ]
  },
  {
   "cell_type": "code",
   "execution_count": 14,
   "id": "00276709",
   "metadata": {},
   "outputs": [],
   "source": [
    "# Utility: get collection name from config/loader if needed\n",
    "from utils.qdrant_client_loader import get_qdrant_collection_name\n",
    "COLLECTION_NAME = get_qdrant_collection_name()\n",
    "\n",
    "\n",
    "# Instantiate the tool\n",
    "embedding_model = OpenAIEmbeddings()\n",
    "qdrant_search_tool_instance = QdrantSearchTool(\n",
    "    host=\"localhost\",\n",
    "    port=6333,\n",
    "    collection_name=COLLECTION_NAME,\n",
    "    embedding_model=embedding_model\n",
    ")\n",
    "\n",
    "def wrapped_qdrant_search(inputs: dict) -> list:\n",
    "    import json\n",
    "    if isinstance(inputs, str):\n",
    "        try:\n",
    "            inputs = json.loads(inputs)\n",
    "        except Exception:\n",
    "            raise ValueError(\"Tool input is not a valid JSON dictionary.\")\n",
    "    query = inputs.get(\"query\", \"\")\n",
    "    filters = inputs.get(\"filters\", None)\n",
    "    k = inputs.get(\"k\", 5)\n",
    "    print(f\"\\n[DEBUG] Query: {query}\")\n",
    "    print(f\"[DEBUG] Filters: {filters}\")\n",
    "    print(f\"[DEBUG] Top K: {k}\")\n",
    "    try:\n",
    "        results = qdrant_search_tool_instance.search(query=query, filters=filters, k=k)\n",
    "        print(f\"[DEBUG] Raw results: {results}\")\n",
    "        return results\n",
    "    except Exception as e:\n",
    "        print(f\"[ERROR] Qdrant search failed: {e}\")\n",
    "        return []\n"
   ]
  },
  {
   "cell_type": "code",
   "execution_count": 16,
   "id": "f28cf389",
   "metadata": {},
   "outputs": [],
   "source": [
    "# For LangChain agent compatibility\n",
    "qdrant_search_tool = Tool(\n",
    "    name=\"qdrant_search\",\n",
    "    func=wrapped_qdrant_search,\n",
    "    description=\"\"\"Perform hybrid semantic + metadata searches over our SuperVator startup knowledge base 🔍🚀\n",
    "\n",
    "• **Semantic Retrieval** – Leverage OpenAI embeddings + Qdrant’s cosine‐distance vector index to find the most contextually relevant companies for ANY natural-language query (“emerging fintech players”, “best agritech startups”, etc.).\n",
    "\n",
    "• **Metadata & Keyword Filters** – Narrow down results by exact or fuzzy matching on structured fields:\n",
    "    – ▶️ *Categorical*: `state`, `industry_sector`, `hiring_status`, `tech_stack`, `founders`, etc.  \n",
    "    – ▶️ *Numeric Ranges*: `year_founded`, `total_funding_raised_inr`, `number_of_employees_current`, etc. (supports `gte`/`lte` filters)\n",
    "\n",
    "• **Fully Hybrid** – Mix & match: e.g. “top funded SaaS companies in Delhi founded after 2015”  \n",
    "simply by passing your free-text query plus a `filters` dict:\"\"\"\n",
    "   \n",
    ")"
   ]
  },
  {
   "cell_type": "markdown",
   "id": "aa4c1e50",
   "metadata": {},
   "source": [
    "---\n",
    "\n",
    "**This notebook only imports and registers the Qdrant search tool. All implementation logic lives in the qdrant_server_tool.py script.**"
   ]
  }
 ],
 "metadata": {
  "kernelspec": {
   "display_name": "venv",
   "language": "python",
   "name": "python3"
  },
  "language_info": {
   "codemirror_mode": {
    "name": "ipython",
    "version": 3
   },
   "file_extension": ".py",
   "mimetype": "text/x-python",
   "name": "python",
   "nbconvert_exporter": "python",
   "pygments_lexer": "ipython3",
   "version": "3.10.17"
  }
 },
 "nbformat": 4,
 "nbformat_minor": 5
}
