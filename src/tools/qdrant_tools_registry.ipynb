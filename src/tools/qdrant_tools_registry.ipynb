{
 "cells": [
  {
   "cell_type": "markdown",
   "id": "5cc01981",
   "metadata": {},
   "source": [
    "# Qdrant Tools Registry:\n",
    "\n",
    "This notebook demonstrates how to register and wrap the Qdrant search tool for agent use, by importing the implementation from the qdrant_tools folder."
   ]
  },
  {
   "cell_type": "code",
   "execution_count": 1,
   "id": "351632a2",
   "metadata": {},
   "outputs": [
    {
     "name": "stdout",
     "output_type": "stream",
     "text": [
      "✅ SRC path added: /home/prashant-agrawal/projects/netflix_talk2data/src\n"
     ]
    }
   ],
   "source": [
    "# Ensure src/ is in sys.path so 'tools' can be imported\n",
    "# %%\n",
    "import sys, os\n",
    "try:\n",
    "    # ✅ Running from a Python script (.py file)\n",
    "    TOOLS_PATH = os.path.abspath(os.path.join(os.path.dirname(__file__), \"..\"))\n",
    "except NameError:\n",
    "    # ✅ Running from a Jupyter notebook (__file__ is not defined)\n",
    "    TOOLS_PATH = os.path.abspath(os.path.join(os.getcwd(), \"..\"))\n",
    "SRC_PATH = os.path.join(TOOLS_PATH)\n",
    "\n",
    "\n",
    "if SRC_PATH not in sys.path:\n",
    "    sys.path.insert(0, SRC_PATH)\n",
    "    print(f\"✅ SRC path added: {SRC_PATH}\")\n",
    "else:\n",
    "    print(f\"🔁 SRC path already in sys.path: {SRC_PATH}\")"
   ]
  },
  {
   "cell_type": "code",
   "execution_count": 2,
   "id": "92ef028a",
   "metadata": {},
   "outputs": [
    {
     "name": "stdout",
     "output_type": "stream",
     "text": [
      "🔁 SRC path already in sys.path: /home/prashant-agrawal/projects/netflix_talk2data/src\n",
      "📌 Collection Name: indian_startups\n"
     ]
    }
   ],
   "source": [
    "\"\"\"\n",
    "Qdrant Tools Registry: Central place to register and wrap Qdrant-related tools for agent use.\n",
    "\"\"\"\n",
    "#from langchain_openai import OpenAIEmbeddings\n",
    "from langchain.tools import Tool\n",
    "from langchain.tools import StructuredTool\n",
    "#from langchain_openai import OpenAIEmbeddings\n",
    "from qdrant_client import QdrantClient\n",
    "from langchain_huggingface import HuggingFaceEmbeddings\n",
    "\n",
    "# Import the QdrantSearchTool implementation from the actual server tool script\n",
    "from tools.qdrant_tools.qdrant_server_tool import QdrantSearchTool\n"
   ]
  },
  {
   "cell_type": "code",
   "execution_count": 3,
   "id": "e8a620b8",
   "metadata": {},
   "outputs": [],
   "source": [
    "from pydantic import BaseModel, Field\n",
    "\n",
    "class QdrantSearchInput(BaseModel):\n",
    "    query: str = Field(..., description=\"Enhanced natural‑language query\")\n",
    "    filters: dict | None = Field(None, description=\"Optional metadata filters (e.g. {'year_founded': {'gte':2015}}\")\n",
    "    k: int = Field(5, description=\"Number of top‑K results to return\")"
   ]
  },
  {
   "cell_type": "code",
   "execution_count": 4,
   "id": "00276709",
   "metadata": {},
   "outputs": [],
   "source": [
    "# Utility: get collection name from config/loader if needed\n",
    "from utils.qdrant_client_loader import get_qdrant_collection_name\n",
    "\n",
    "\n",
    "COLLECTION_NAME = get_qdrant_collection_name()\n",
    "\n",
    "#embedding_model = OpenAIEmbeddings()\n",
    "embeddings = HuggingFaceEmbeddings(model_name=\"sentence-transformers/all-MiniLM-L6-v2\")\n",
    "\n",
    "\n",
    "# Instantiate the tool\n",
    "qdrant_search_tool_instance = QdrantSearchTool(\n",
    "    host=\"localhost\",\n",
    "    port=6333,\n",
    "    collection_name=COLLECTION_NAME,\n",
    "    embedding_model=embeddings\n",
    ")\n",
    "\n",
    "#def wrapped_qdrant_search(inputs: QdrantSearchInput) -> list:\n",
    "#    print(f\"\\n[DEBUG] Query: {input.query}\")\n",
    "#    print(f\"[DEBUG] Filters: {input.filters}\")\n",
    "#    print(f\"[DEBUG] Top K: {input.k}\")\n",
    "#    try:\n",
    "#        results = qdrant_search_tool_instance.search(\n",
    "#                query=input.query,\n",
    "#                filters=input.filters, \n",
    "#                k=input.k\n",
    "#            )\n",
    "#        print(f\"[DEBUG] Raw results: {results}\")\n",
    "#        return results\n",
    "#    except Exception as e:\n",
    "#        print(f\"[ERROR] Qdrant search failed: {e}\")\n",
    "#        return []\n",
    "\n"
   ]
  },
  {
   "cell_type": "code",
   "execution_count": 5,
   "id": "f28cf389",
   "metadata": {},
   "outputs": [],
   "source": [
    "# For LangChain agent compatibility\n",
    "qdrant_search_tool = StructuredTool.from_function(\n",
    "    name=\"qdrant_search\",\n",
    "    func=qdrant_search_tool_instance.search,\n",
    "    argument_schema=QdrantSearchInput,\n",
    "    description=\"\"\"Semantic + metadata search over Qdrant.  \n",
    "                    Embed a text query, apply optional filters, and return the top‑K matching documents.\n",
    "                \"\"\"\n",
    "                )"
   ]
  },
  {
   "cell_type": "code",
   "execution_count": 11,
   "id": "e7068b34",
   "metadata": {},
   "outputs": [
    {
     "name": "stdout",
     "output_type": "stream",
     "text": [
      "🔎 StructuredTool returned: <class 'list'> with 3 hits\n",
      " • 175 0.3595778 navi\n",
      " • 454 0.3536254 mobikwik\n",
      " • 256 0.33331898 boat\n"
     ]
    }
   ],
   "source": [
    "# %% [markdown]\n",
    "# # 1. Test the StructuredTool Directly\n",
    "\n",
    "# 1️⃣ Build a QdrantSearchInput instance\n",
    "test_input = {\n",
    "    \"query\":\"Top AI startups in India\",\n",
    "    \"filters\":{\"product_categories\": \"saas\"},\n",
    "    \"k\":3\n",
    "}\n",
    "# 2️⃣ Call the StructuredTool directly\n",
    "results = qdrant_search_tool.run(test_input)  \n",
    "# .run will parse and dispatch to your QdrantSearchTool.search under the hood\n",
    "\n",
    "# 3️⃣ Inspect the returned list of dicts\n",
    "print(\"🔎 StructuredTool returned:\", type(results), \"with\", len(results), \"hits\")\n",
    "for hit in results:\n",
    "    print(\" •\", hit[\"id\"], hit[\"score\"], hit[\"payload\"].get(\"company_name\"))\n"
   ]
  },
  {
   "cell_type": "markdown",
   "id": "aa4c1e50",
   "metadata": {},
   "source": [
    "---\n",
    "\n",
    "**This notebook only imports and registers the Qdrant search tool. All implementation logic lives in the qdrant_server_tool.py script.**"
   ]
  }
 ],
 "metadata": {
  "kernelspec": {
   "display_name": "venv",
   "language": "python",
   "name": "python3"
  },
  "language_info": {
   "codemirror_mode": {
    "name": "ipython",
    "version": 3
   },
   "file_extension": ".py",
   "mimetype": "text/x-python",
   "name": "python",
   "nbconvert_exporter": "python",
   "pygments_lexer": "ipython3",
   "version": "3.10.17"
  }
 },
 "nbformat": 4,
 "nbformat_minor": 5
}
