{
 "cells": [
  {
   "cell_type": "code",
   "execution_count": 5,
   "id": "37c09dd4",
   "metadata": {},
   "outputs": [],
   "source": [
    "\n",
    "# ------------------------------------\n",
    "# Tool 5: Filter Composer\n",
    "# ------------------------------------\n",
    "import re\n",
    "from typing import Dict, Any\n",
    "from langchain_core.tools import Tool\n",
    "\n",
    "def merge_values(existing, new):\n",
    "    # 🧠 Merge logic for different types\n",
    "    if isinstance(existing, dict) and isinstance(new, dict):\n",
    "        return {**existing, **new}\n",
    "    elif isinstance(existing, list) and isinstance(new, list):\n",
    "        return list(set(existing + new))\n",
    "    elif isinstance(existing, list):\n",
    "        return list(set(existing + [new]))\n",
    "    elif isinstance(new, list):\n",
    "        return list(set([existing] + new))\n",
    "    elif existing != new:\n",
    "        return [existing, new]\n",
    "    else:\n",
    "        return existing\n",
    "    \n",
    "\n",
    "def compose_filters(*tools_outputs: Dict[str, Any]) -> Dict[str, Any]:\n",
    "    final_filters = {}\n",
    "\n",
    "    for tool_output in tools_outputs:\n",
    "        for key, value in tool_output.items():\n",
    "            if not value:\n",
    "                continue  # Skip empty\n",
    "            if key in final_filters:\n",
    "                final_filters[key] = merge_values(final_filters[key], value)\n",
    "            else:\n",
    "                final_filters[key] = value\n",
    "\n",
    "    return final_filters\n"
   ]
  },
  {
   "cell_type": "code",
   "execution_count": null,
   "id": "2e2ae436",
   "metadata": {},
   "outputs": [],
   "source": [
    "\n",
    "\n"
   ]
  },
  {
   "cell_type": "code",
   "execution_count": null,
   "id": "bf1369ac",
   "metadata": {},
   "outputs": [],
   "source": []
  }
 ],
 "metadata": {
  "kernelspec": {
   "display_name": "venv",
   "language": "python",
   "name": "python3"
  },
  "language_info": {
   "codemirror_mode": {
    "name": "ipython",
    "version": 3
   },
   "file_extension": ".py",
   "mimetype": "text/x-python",
   "name": "python",
   "nbconvert_exporter": "python",
   "pygments_lexer": "ipython3",
   "version": "3.10.16"
  }
 },
 "nbformat": 4,
 "nbformat_minor": 5
}
