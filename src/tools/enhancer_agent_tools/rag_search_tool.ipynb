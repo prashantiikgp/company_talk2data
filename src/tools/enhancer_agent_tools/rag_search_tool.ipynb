{
 "cells": [
  {
   "cell_type": "code",
   "execution_count": 6,
   "id": "3d10a2bd",
   "metadata": {},
   "outputs": [
    {
     "name": "stdout",
     "output_type": "stream",
     "text": [
      "/home/prashant-agrawal/Netflix_Project/src\n"
     ]
    }
   ],
   "source": [
    "import sys, os\n",
    "SRC_PATH = os.path.abspath(os.path.join(os.getcwd(), \"..\", \"..\"))\n",
    "if SRC_PATH not in sys.path:\n",
    "    sys.path.insert(0, SRC_PATH)\n",
    "print(SRC_PATH)"
   ]
  },
  {
   "cell_type": "code",
   "execution_count": 7,
   "id": "27cd7d37",
   "metadata": {},
   "outputs": [
    {
     "name": "stdout",
     "output_type": "stream",
     "text": [
      "Qdrant store path: /home/prashant-agrawal/Netflix_Project/src/database/qdrant_store_local_db/collection\n",
      "Data path: /home/prashant-agrawal/Netflix_Project/src/Data/Enriched_Indian_Startup_Dataset.csv\n",
      "Vector store path: /home/prashant-agrawal/Netflix_Project/src/database/vector_store/faiss_full_row_index\n",
      "Base directory: /home/prashant-agrawal/Netflix_Project/src\n"
     ]
    }
   ],
   "source": [
    "# rag_search_tool.py\n",
    "\n",
    "import os\n",
    "from typing import List, Optional, Dict\n",
    "from pydantic import BaseModel\n",
    "from langchain_core.tools import Tool\n",
    "from langchain.vectorstores import FAISS\n",
    "from langchain_openai import OpenAIEmbeddings\n",
    "from typing import List, Optional, Dict, Any\n",
    "\n",
    "from utils.path_config import get_base_dir ,get_vector_store_path\n",
    "\n",
    "\n",
    "\n",
    "\n",
    "# Path setup\n",
    "BASE_DIR = get_base_dir()\n",
    "\n",
    "vector_path = get_vector_store_path()\n",
    "\n",
    "\n",
    "print(f\"Vector store path: {vector_path}\")\n",
    "print(f\"Base directory: {BASE_DIR}\")"
   ]
  },
  {
   "cell_type": "code",
   "execution_count": 8,
   "id": "dea99ba2",
   "metadata": {},
   "outputs": [],
   "source": [
    "# ✅ Input Schema\n",
    "from typing import Any\n",
    "from pydantic import BaseModel, Field\n",
    "\n",
    "class RagSearchInput(BaseModel):\n",
    "    query: str = Field(..., description=\"User's semantic query\")\n",
    "    #filters: Optional[Dict[str, Any]] = Field(default=None, description=\"Structured filters extracted\")\n",
    "    k: Optional[int] = Field(default=5, description=\"Number of results to return\")\n",
    "\n",
    "\n",
    "# ✅ Output Schema\n",
    "class RagSearchResult(BaseModel):\n",
    "    results: List[str]\n",
    "    message: str = \"\"\n",
    "\n",
    "    def dict(self):\n",
    "        return {\n",
    "            \"results\": self.results,\n",
    "            \"message\": self.message\n",
    "        }"
   ]
  },
  {
   "cell_type": "code",
   "execution_count": 9,
   "id": "02d114d6",
   "metadata": {},
   "outputs": [
    {
     "name": "stdout",
     "output_type": "stream",
     "text": [
      "FAISS index loaded successfully.\n"
     ]
    }
   ],
   "source": [
    "# Caching FAISS index\n",
    "_vector_cache = {}\n",
    "\n",
    "def load_vector_store(path: str = vector_path) -> FAISS:\n",
    "    if path in _vector_cache:\n",
    "        vectorstore = _vector_cache[VECTOR_STORE_PATH]\n",
    "\n",
    "    if not os.path.exists(path):\n",
    "        return RagSearchResult(results=[], message=\"Vector store not found.\").dict()\n",
    "\n",
    "# Load OpenAI embeddings\n",
    "    embeddings = OpenAIEmbeddings()\n",
    "\n",
    "# Load the FAISS index\n",
    "    vector_store = FAISS.load_local(\n",
    "        path, \n",
    "        embeddings, \n",
    "        allow_dangerous_deserialization=True\n",
    "    )\n",
    "    \n",
    "    _vector_cache[path] = vector_store\n",
    "    return vector_store\n",
    "\n",
    "  \n",
    "print(\"FAISS index loaded successfully.\")\n"
   ]
  },
  {
   "cell_type": "code",
   "execution_count": 10,
   "id": "2514c117",
   "metadata": {},
   "outputs": [],
   "source": [
    "def rag_search_fn(query: str, k: int = 5) -> Dict:\n",
    "    print(f\"[RAG Tool] Query: {query}\")\n",
    "    print(f\"[RAG Tool] Top K: {k}\")\n",
    "\n",
    "    if vector_path in _vector_cache:\n",
    "        print(f\"[RAG Tool] Using cached vector store\")\n",
    "        vectorstore = _vector_cache[vector_path]\n",
    "    else:\n",
    "        if not os.path.exists(vector_path):\n",
    "            print(f\"[ERROR] FAISS directory not found at {vector_path}\")\n",
    "            return RagSearchResult(results=[], message=\"Vector store not found.\").dict()\n",
    "\n",
    "        print(f\"[RAG Tool] Loading vector store from disk...\")\n",
    "        embeddings = OpenAIEmbeddings()\n",
    "        try:\n",
    "            vectorstore = FAISS.load_local(\n",
    "                vector_path,\n",
    "                embeddings,\n",
    "                allow_dangerous_deserialization=True\n",
    "            )\n",
    "            _vector_cache[vector_path] = vectorstore\n",
    "            print(\"[RAG Tool] FAISS vector store loaded.\")\n",
    "        except Exception as e:\n",
    "            print(f\"[ERROR] Failed to load FAISS: {e}\")\n",
    "            return RagSearchResult(results=[], message=\"Error loading vector store\").dict()\n",
    "\n",
    "    try:\n",
    "        raw_docs = vectorstore.similarity_search(query=query, k=k)\n",
    "        print(f\"[RAG Tool] Retrieved {len(raw_docs)} documents.\")\n",
    "    except Exception as e:\n",
    "        print(f\"[ERROR] Similarity search failed: {e}\")\n",
    "        return RagSearchResult(results=[], message=\"Vector search failed\").dict()\n",
    "\n",
    "    if not raw_docs:\n",
    "        return RagSearchResult(results=[], message=\"No results found.\").dict()\n",
    "\n",
    "    return RagSearchResult(\n",
    "        results=[doc.page_content for doc in raw_docs],\n",
    "        message=f\"Top {len(raw_docs)} documents returned.\"\n",
    "    ).dict()\n"
   ]
  },
  {
   "cell_type": "code",
   "execution_count": 11,
   "id": "a2ef2bbf",
   "metadata": {},
   "outputs": [
    {
     "name": "stdout",
     "output_type": "stream",
     "text": [
      "[RAG Tool] Query: Find B2C and e-commerce startups in the SaaS and logistics space\n",
      "[RAG Tool] Top K: 5\n",
      "[RAG Tool] Loading vector store from disk...\n",
      "[RAG Tool] FAISS vector store loaded.\n",
      "[RAG Tool] Retrieved 5 documents.\n",
      "✅ Found 5 documents.\n",
      "📄 Content: Company Name: BluSmart\n",
      "Legal Entity Type: Pvt Ltd\n",
      "State: Uttar Pradesh\n",
      "Headquarters City: Hyderabad\n",
      "...\n",
      "📄 Content: Company Name: PolicyBazaar\n",
      "Legal Entity Type: Proprietorship\n",
      "State: Gujarat\n",
      "Headquarters City: Jaipu...\n",
      "📄 Content: Company Name: Flipkart\n",
      "Legal Entity Type: Public Ltd\n",
      "State: Telangana\n",
      "Headquarters City: Lucknow\n",
      "Yea...\n",
      "📄 Content: Company Name: Delhivery\n",
      "Legal Entity Type: Public Ltd\n",
      "State: Telangana\n",
      "Headquarters City: Bengaluru\n",
      "...\n",
      "📄 Content: Company Name: Flipkart\n",
      "Legal Entity Type: Proprietorship\n",
      "State: Uttar Pradesh\n",
      "Headquarters City: Del...\n",
      "ℹ️ Full Output: {'results': ['Company Name: BluSmart\\nLegal Entity Type: Pvt Ltd\\nState: Uttar Pradesh\\nHeadquarters City: Hyderabad\\nYear Founded: 2004\\nCompany Website: https://warner,jonesandortega.in\\nLogo URL: https://logo.clearbit.com/warner,jonesandortega.in\\nCompany Description (Short): Total needs-based conglomeration\\nCompany Description (Long): Method while through threat hope money. Far group raise hand. Feeling yard move remember plan agree.\\nWind today father decade. Skill because movement marriage. Site long when his find seven professor.\\nSimple role huge. Large stock watch room get space food.\\nIndustry Sector: Logistics\\nTotal Funding Raised (INR): ₹310 Cr\\nNumber of Funding Rounds: 2\\nLatest Funding Round Type: Series A\\nLatest Funding Date: 2022-09-18\\nLead Investors: Bell, Hamilton and Howard\\nRevenue Estimate (Annual): ₹270 Cr\\nValuation Estimate (if available): ₹1616 Cr\\nNumber of Employees (Current): 23\\nNumber of Employees (Estimate Range): 242-835\\nKey People: CEO: Raymond Reyes, CTO: Kim Caldwell\\nFounders: Gary Smith (https://linkedin.com/in/jeremyromero)\\nBoard Members / Advisors: William Olson\\nEmployee Growth (YoY %): 12%\\nHiring Status: Hiring Freeze\\nPopular Roles Open: Marketing, Engineering\\nPrimary Products / Services: Logistics Services\\nProduct Categories: D2C\\nTech Stack: Node.js, MongoDB, Azure\\nIntegrations / APIs offered: Razorpay, Zoho, Tally\\nTarget Market: Consumers\\nMajor Customers / Logos: Direct Consumers\\nPress Mentions / Recent News: Media base probably hit.\\nCompetitors: Startup A, Startup B', 'Company Name: PolicyBazaar\\nLegal Entity Type: Proprietorship\\nState: Gujarat\\nHeadquarters City: Jaipur\\nYear Founded: 2002\\nCompany Website: https://jones,berryandcordova.in\\nLogo URL: https://logo.clearbit.com/jones,berryandcordova.in\\nCompany Description (Short): Synergized asynchronous function\\nCompany Description (Long): Machine your weight seat.\\nLife however ok. Hope where for seat once share. Boy sport under important agreement decision purpose rest.\\nStudent with claim. Plant value serve federal.\\nIndustry Sector: Logistics\\nTotal Funding Raised (INR): ₹443 Cr\\nNumber of Funding Rounds: 2\\nLatest Funding Round Type: Pre-seed\\nLatest Funding Date: 2024-06-18\\nLead Investors: Gilbert, Leblanc and Morgan\\nRevenue Estimate (Annual): ₹136 Cr\\nValuation Estimate (if available): ₹1573 Cr\\nNumber of Employees (Current): 77\\nNumber of Employees (Estimate Range): 16-848\\nKey People: CEO: Karen King, CTO: Mr. Russell Graham\\nFounders: Edward Harper (https://linkedin.com/in/pettyjonathan)\\nBoard Members / Advisors: Angela Collins\\nEmployee Growth (YoY %): 28%\\nHiring Status: Actively Hiring\\nPopular Roles Open: Sales, Product\\nPrimary Products / Services: Fashion Retail\\nProduct Categories: SaaS\\nTech Stack: Python, React, AWS\\nIntegrations / APIs offered: Razorpay, Zoho, Tally\\nTarget Market: Consumers\\nMajor Customers / Logos: Direct Consumers\\nPress Mentions / Recent News: Difficult sort bring catch contain never mouth.\\nCompetitors: Coverfox, Turtlemint', 'Company Name: Flipkart\\nLegal Entity Type: Public Ltd\\nState: Telangana\\nHeadquarters City: Lucknow\\nYear Founded: 2010\\nCompany Website: https://stuart,hermanandcarroll.in\\nLogo URL: https://logo.clearbit.com/stuart,hermanandcarroll.in\\nCompany Description (Short): Fully-configurable eco-centric Internet solution\\nCompany Description (Long): Buy figure save admit response. Situation enter such past vote. Help what could hair.\\nPersonal organization future author write. Discussion read probably continue avoid easy.\\nCentral physical keep rise describe.\\nIndustry Sector: Logistics\\nTotal Funding Raised (INR): ₹142 Cr\\nNumber of Funding Rounds: 2\\nLatest Funding Round Type: Series A\\nLatest Funding Date: 2022-10-02\\nLead Investors: Higgins, Glass and Garcia\\nRevenue Estimate (Annual): ₹220 Cr\\nValuation Estimate (if available): ₹1130 Cr\\nNumber of Employees (Current): 206\\nNumber of Employees (Estimate Range): 184-869\\nKey People: CEO: Jonathan Anderson, CTO: Hailey Fischer\\nFounders: Theresa Martin (https://linkedin.com/in/kirbywalter)\\nBoard Members / Advisors: Kyle Manning\\nEmployee Growth (YoY %): 46%\\nHiring Status: Hiring Freeze\\nPopular Roles Open: Product, Engineering\\nPrimary Products / Services: Prescription Medicines\\nProduct Categories: B2B\\nTech Stack: Python, React, AWS\\nIntegrations / APIs offered: Razorpay, Zoho, Tally\\nTarget Market: Consumers\\nMajor Customers / Logos: Direct Consumers\\nPress Mentions / Recent News: Stop both already sell level former.\\nCompetitors: Amazon, Meesho', 'Company Name: Delhivery\\nLegal Entity Type: Public Ltd\\nState: Telangana\\nHeadquarters City: Bengaluru\\nYear Founded: 2020\\nCompany Website: https://edwards-cordova.in\\nLogo URL: https://logo.clearbit.com/edwards-cordova.in\\nCompany Description (Short): Innovative even-keeled Internet solution\\nCompany Description (Long): Dog tax manager important. Family professor score fish run network debate way. Wish consumer develop agreement. Throw close network.\\nInteresting look traditional to rest. Threat meeting which fish very environmental my.\\nIndustry Sector: E-commerce\\nTotal Funding Raised (INR): ₹222 Cr\\nNumber of Funding Rounds: 2\\nLatest Funding Round Type: Pre-seed\\nLatest Funding Date: 2020-01-31\\nLead Investors: Sullivan, Williams and Avery\\nRevenue Estimate (Annual): ₹205 Cr\\nValuation Estimate (if available): ₹563 Cr\\nNumber of Employees (Current): 151\\nNumber of Employees (Estimate Range): 491-1848\\nKey People: CEO: Tracy Bridges, CTO: Margaret Cooper\\nFounders: Courtney Moon (https://linkedin.com/in/jessicaflowers)\\nBoard Members / Advisors: Richard Pham\\nEmployee Growth (YoY %): 9%\\nHiring Status: Actively Hiring\\nPopular Roles Open: Sales, Marketing\\nPrimary Products / Services: Insurance Platform\\nProduct Categories: SaaS\\nTech Stack: Node.js, MongoDB, Azure\\nIntegrations / APIs offered: Razorpay, Zoho, Tally\\nTarget Market: Consumers\\nMajor Customers / Logos: Direct Consumers\\nPress Mentions / Recent News: Fish sell piece certainly.\\nCompetitors: Ecom Express, Xpressbees', 'Company Name: Flipkart\\nLegal Entity Type: Proprietorship\\nState: Uttar Pradesh\\nHeadquarters City: Delhi\\nYear Founded: 2007\\nCompany Website: https://gutierrez,kennedyandavila.in\\nLogo URL: https://logo.clearbit.com/gutierrez,kennedyandavila.in\\nCompany Description (Short): Re-contextualized foreground website\\nCompany Description (Long): Run man player between hundred modern tell. Officer purpose start.\\nBack wonder treatment media continue one good agreement. Trip peace meeting among.\\nJob nothing enjoy fly majority traditional. Side however same.\\nIndustry Sector: Logistics\\nTotal Funding Raised (INR): ₹424 Cr\\nNumber of Funding Rounds: 1\\nLatest Funding Round Type: Series B\\nLatest Funding Date: 2024-06-13\\nLead Investors: Miller-Torres\\nRevenue Estimate (Annual): ₹57 Cr\\nValuation Estimate (if available): ₹1015 Cr\\nNumber of Employees (Current): 242\\nNumber of Employees (Estimate Range): 381-562\\nKey People: CEO: Mark Grimes, CTO: Albert Dean\\nFounders: Matthew Lewis (https://linkedin.com/in/gonzalezchristopher)\\nBoard Members / Advisors: Victoria Charles\\nEmployee Growth (YoY %): 34%\\nHiring Status: Actively Hiring\\nPopular Roles Open: Product, Sales\\nPrimary Products / Services: Ride Hailing\\nProduct Categories: B2B\\nTech Stack: Python, React, AWS\\nIntegrations / APIs offered: Razorpay, Zoho, Tally\\nTarget Market: Enterprises\\nMajor Customers / Logos: Adani Group, Wipro\\nPress Mentions / Recent News: Maybe hot now indicate military at.\\nCompetitors: Amazon, Meesho'], 'message': 'Top 5 documents returned.'}\n"
     ]
    }
   ],
   "source": [
    "# ✅ Example usage\n",
    "if __name__ == \"__main__\":\n",
    "    query = \"Find B2C and e-commerce startups in the SaaS and logistics space\"\n",
    "    example_filters = {\n",
    "    \"industry_sector\": [\"SaaS\", \"Logistics\"],\n",
    "    \"product_categories\": [\"B2B\", \"B2C\", \"E-commerce\"]\n",
    "}\n",
    "    result = rag_search_fn(query=query, k=5)\n",
    "    \n",
    "\n",
    "    if result[\"results\"]:\n",
    "        print(f\"✅ Found {len(result['results'])} documents.\")\n",
    "        for doc in result[\"results\"]:\n",
    "            print(f\"📄 Content: {doc[:100]}...\")\n",
    "    else:\n",
    "        print(\"❌ No valid documents found.\")\n",
    "\n",
    "    print(\"ℹ️ Full Output:\", result)"
   ]
  }
 ],
 "metadata": {
  "kernelspec": {
   "display_name": "venv",
   "language": "python",
   "name": "python3"
  },
  "language_info": {
   "codemirror_mode": {
    "name": "ipython",
    "version": 3
   },
   "file_extension": ".py",
   "mimetype": "text/x-python",
   "name": "python",
   "nbconvert_exporter": "python",
   "pygments_lexer": "ipython3",
   "version": "3.10.16"
  }
 },
 "nbformat": 4,
 "nbformat_minor": 5
}
