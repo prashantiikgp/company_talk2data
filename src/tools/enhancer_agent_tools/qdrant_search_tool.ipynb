{
 "cells": [
  {
   "cell_type": "code",
   "execution_count": 8,
   "id": "92c51940",
   "metadata": {},
   "outputs": [
    {
     "name": "stdout",
     "output_type": "stream",
     "text": [
      "/home/prashant-agrawal/Netflix_Project/src\n"
     ]
    }
   ],
   "source": [
    "import sys, os\n",
    "SRC_PATH = os.path.abspath(os.path.join(os.getcwd(), \"..\",\"..\"))\n",
    "if SRC_PATH not in sys.path:\n",
    "    sys.path.insert(0, SRC_PATH)\n",
    "print(SRC_PATH)"
   ]
  },
  {
   "cell_type": "code",
   "execution_count": 9,
   "id": "9b297ab0",
   "metadata": {},
   "outputs": [
    {
     "name": "stdout",
     "output_type": "stream",
     "text": [
      "Vector store path: /home/prashant-agrawal/Netflix_Project/src/database/qdrant_store_local_db/collection\n",
      "Base directory: /home/prashant-agrawal/Netflix_Project/src\n"
     ]
    }
   ],
   "source": [
    "# ✅ STEP 1: Qdrant Search Path Setup\n",
    "\n",
    "import os\n",
    "from utils.path_config import get_base_dir ,get_qdrant_store_path ,get_data_path\n",
    "from utils.qdrant_client_loader import get_qdrant_client,get_qdrant_collection_name\n",
    "\n",
    "# Path setup\n",
    "BASE_DIR = get_base_dir()\n",
    "\n",
    "qdrant_store_path = get_qdrant_store_path() \n",
    "\n",
    "# ✅ Create collection name\n",
    "COLLECTION_NAME= get_qdrant_collection_name()\n",
    "\n",
    "print(f\"Vector store path: {qdrant_store_path}\")\n",
    "print(f\"Base directory: {BASE_DIR}\")"
   ]
  },
  {
   "cell_type": "code",
   "execution_count": 10,
   "id": "bad45f93",
   "metadata": {},
   "outputs": [],
   "source": [
    "# qdrant_search_tool.py\n",
    "\n",
    "import os\n",
    "from typing import Dict, List, Any\n",
    "from langchain_core.tools import Tool\n",
    "from langchain_openai import OpenAIEmbeddings\n",
    "from langchain_qdrant import QdrantVectorStore\n",
    "from utils.qdrant_client_loader import get_qdrant_client,get_qdrant_collection_name\n",
    "from utils.path_config import get_qdrant_store_path\n",
    "\n",
    "# 🔁 Cache\n",
    "_qdrant_cache = {}\n",
    "\n",
    "def qdrant_search_fn(query: str, k: int = 5, filters: Dict[str, Any] = None) -> Dict[str, Any]:\n",
    "    \"\"\"Semantic + metadata-filtered search from Qdrant.\"\"\"\n",
    "    print(\"[QDRANT Tool] Query:\", query)\n",
    "    print(\"[QDRANT Tool] Filters:\", filters)\n",
    "\n",
    "    store_path = get_qdrant_store_path()\n",
    "\n",
    "    if store_path in _qdrant_cache:\n",
    "        vectorstore = _qdrant_cache[store_path]\n",
    "    else:\n",
    "        if not os.path.exists(store_path):\n",
    "            print(f\"[ERROR] Qdrant store not found at {store_path}\")\n",
    "            return {\"results\": [], \"message\": \"Qdrant store not found.\"}\n",
    "\n",
    "        # ✅ Create embedding + client\n",
    "        embedding = OpenAIEmbeddings()\n",
    "        client = get_qdrant_client()  # <-- Singleton loader\n",
    "\n",
    "        # ✅ Create collection name\n",
    "        COLLECTION_NAME= get_qdrant_collection_name()\n",
    "\n",
    "        # ✅ Load Qdrant vector store\n",
    "        vectorstore = QdrantVectorStore(\n",
    "            client=client,\n",
    "            collection_name=COLLECTION_NAME,\n",
    "            embedding=embedding,\n",
    "        )\n",
    "        _qdrant_cache[store_path] = vectorstore\n",
    "\n",
    "    # ✅ Perform search\n",
    "    try:\n",
    "        docs_and_scores = vectorstore.similarity_search_with_score(\n",
    "            query=query,\n",
    "            k=k,\n",
    "            filter=filters\n",
    "        )\n",
    "        return {\n",
    "            \"results\": [doc.page_content for doc, _ in docs_and_scores],\n",
    "            \"message\": f\"Found {len(docs_and_scores)} results.\"\n",
    "        }\n",
    "    except Exception as e:\n",
    "        return {\"results\": [], \"message\": str(e)}\n"
   ]
  },
  {
   "cell_type": "code",
   "execution_count": 12,
   "id": "8e84671a",
   "metadata": {},
   "outputs": [
    {
     "name": "stdout",
     "output_type": "stream",
     "text": [
      "[QDRANT Tool] Query: Top funded fintech startups in Bengaluru\n",
      "[QDRANT Tool] Filters: {'industry_sector': ['Fintech'], 'headquarters_city': ['bengaluru'], 'total_funding_raised_inr': {'gte': 50.0}}\n",
      "[Qdrant Client] Initializing client with path: /home/prashant-agrawal/Netflix_Project/src/database/qdrant_store_local_db/collection\n"
     ]
    },
    {
     "ename": "RuntimeError",
     "evalue": "Storage folder /home/prashant-agrawal/Netflix_Project/src/database/qdrant_store_local_db/collection is already accessed by another instance of Qdrant client. If you require concurrent access, use Qdrant server instead.",
     "output_type": "error",
     "traceback": [
      "\u001b[0;31m---------------------------------------------------------------------------\u001b[0m",
      "\u001b[0;31mBlockingIOError\u001b[0m                           Traceback (most recent call last)",
      "File \u001b[0;32m~/Netflix_Project/venv/lib/python3.10/site-packages/portalocker/portalocker.py:118\u001b[0m, in \u001b[0;36mlock\u001b[0;34m(file_, flags)\u001b[0m\n\u001b[1;32m    117\u001b[0m \u001b[38;5;28;01mtry\u001b[39;00m:\n\u001b[0;32m--> 118\u001b[0m     \u001b[43mLOCKER\u001b[49m\u001b[43m(\u001b[49m\u001b[43mfile_\u001b[49m\u001b[43m,\u001b[49m\u001b[43m \u001b[49m\u001b[43mflags\u001b[49m\u001b[43m)\u001b[49m\n\u001b[1;32m    119\u001b[0m \u001b[38;5;28;01mexcept\u001b[39;00m \u001b[38;5;167;01mOSError\u001b[39;00m \u001b[38;5;28;01mas\u001b[39;00m exc_value:\n\u001b[1;32m    120\u001b[0m     \u001b[38;5;66;03m# Python can use one of several different exception classes to\u001b[39;00m\n\u001b[1;32m    121\u001b[0m     \u001b[38;5;66;03m# represent timeout (most likely is BlockingIOError and IOError),\u001b[39;00m\n\u001b[0;32m   (...)\u001b[0m\n\u001b[1;32m    126\u001b[0m     \u001b[38;5;66;03m# inherit) and check the errno (which should be EACCESS or EAGAIN\u001b[39;00m\n\u001b[1;32m    127\u001b[0m     \u001b[38;5;66;03m# according to the spec).\u001b[39;00m\n",
      "\u001b[0;31mBlockingIOError\u001b[0m: [Errno 11] Resource temporarily unavailable",
      "\nThe above exception was the direct cause of the following exception:\n",
      "\u001b[0;31mAlreadyLocked\u001b[0m                             Traceback (most recent call last)",
      "File \u001b[0;32m~/Netflix_Project/venv/lib/python3.10/site-packages/qdrant_client/local/qdrant_local.py:133\u001b[0m, in \u001b[0;36mQdrantLocal._load\u001b[0;34m(self)\u001b[0m\n\u001b[1;32m    132\u001b[0m \u001b[38;5;28;01mtry\u001b[39;00m:\n\u001b[0;32m--> 133\u001b[0m     \u001b[43mportalocker\u001b[49m\u001b[38;5;241;43m.\u001b[39;49m\u001b[43mlock\u001b[49m\u001b[43m(\u001b[49m\n\u001b[1;32m    134\u001b[0m \u001b[43m        \u001b[49m\u001b[38;5;28;43mself\u001b[39;49m\u001b[38;5;241;43m.\u001b[39;49m\u001b[43m_flock_file\u001b[49m\u001b[43m,\u001b[49m\n\u001b[1;32m    135\u001b[0m \u001b[43m        \u001b[49m\u001b[43mportalocker\u001b[49m\u001b[38;5;241;43m.\u001b[39;49m\u001b[43mLockFlags\u001b[49m\u001b[38;5;241;43m.\u001b[39;49m\u001b[43mEXCLUSIVE\u001b[49m\u001b[43m \u001b[49m\u001b[38;5;241;43m|\u001b[39;49m\u001b[43m \u001b[49m\u001b[43mportalocker\u001b[49m\u001b[38;5;241;43m.\u001b[39;49m\u001b[43mLockFlags\u001b[49m\u001b[38;5;241;43m.\u001b[39;49m\u001b[43mNON_BLOCKING\u001b[49m\u001b[43m,\u001b[49m\n\u001b[1;32m    136\u001b[0m \u001b[43m    \u001b[49m\u001b[43m)\u001b[49m\n\u001b[1;32m    137\u001b[0m \u001b[38;5;28;01mexcept\u001b[39;00m portalocker\u001b[38;5;241m.\u001b[39mexceptions\u001b[38;5;241m.\u001b[39mLockException:\n",
      "File \u001b[0;32m~/Netflix_Project/venv/lib/python3.10/site-packages/portalocker/portalocker.py:131\u001b[0m, in \u001b[0;36mlock\u001b[0;34m(file_, flags)\u001b[0m\n\u001b[1;32m    128\u001b[0m \u001b[38;5;28;01mif\u001b[39;00m exc_value\u001b[38;5;241m.\u001b[39merrno \u001b[38;5;129;01min\u001b[39;00m (errno\u001b[38;5;241m.\u001b[39mEACCES, errno\u001b[38;5;241m.\u001b[39mEAGAIN):\n\u001b[1;32m    129\u001b[0m     \u001b[38;5;66;03m# A timeout exception, wrap this so the outer code knows to try\u001b[39;00m\n\u001b[1;32m    130\u001b[0m     \u001b[38;5;66;03m# again (if it wants to).\u001b[39;00m\n\u001b[0;32m--> 131\u001b[0m     \u001b[38;5;28;01mraise\u001b[39;00m exceptions\u001b[38;5;241m.\u001b[39mAlreadyLocked(\n\u001b[1;32m    132\u001b[0m         exc_value,\n\u001b[1;32m    133\u001b[0m         fh\u001b[38;5;241m=\u001b[39mfile_,\n\u001b[1;32m    134\u001b[0m     ) \u001b[38;5;28;01mfrom\u001b[39;00m\u001b[38;5;250m \u001b[39m\u001b[38;5;21;01mexc_value\u001b[39;00m\n\u001b[1;32m    135\u001b[0m \u001b[38;5;28;01melse\u001b[39;00m:\n\u001b[1;32m    136\u001b[0m     \u001b[38;5;66;03m# Something else went wrong; don't wrap this so we stop\u001b[39;00m\n\u001b[1;32m    137\u001b[0m     \u001b[38;5;66;03m# immediately.\u001b[39;00m\n",
      "\u001b[0;31mAlreadyLocked\u001b[0m: [Errno 11] Resource temporarily unavailable",
      "\nDuring handling of the above exception, another exception occurred:\n",
      "\u001b[0;31mRuntimeError\u001b[0m                              Traceback (most recent call last)",
      "Cell \u001b[0;32mIn[12], line 22\u001b[0m\n\u001b[1;32m     18\u001b[0m COLLECTION_NAME \u001b[38;5;241m=\u001b[39m get_qdrant_collection_name\n\u001b[1;32m     21\u001b[0m \u001b[38;5;66;03m# Run test\u001b[39;00m\n\u001b[0;32m---> 22\u001b[0m results \u001b[38;5;241m=\u001b[39m \u001b[43mqdrant_search_fn\u001b[49m\u001b[43m(\u001b[49m\u001b[43mquery\u001b[49m\u001b[38;5;241;43m=\u001b[39;49m\u001b[43mquery\u001b[49m\u001b[43m,\u001b[49m\u001b[43m \u001b[49m\u001b[43mk\u001b[49m\u001b[38;5;241;43m=\u001b[39;49m\u001b[38;5;241;43m5\u001b[39;49m\u001b[43m,\u001b[49m\u001b[43m \u001b[49m\u001b[43mfilters\u001b[49m\u001b[38;5;241;43m=\u001b[39;49m\u001b[43mexample_filters\u001b[49m\u001b[43m)\u001b[49m\n\u001b[1;32m     24\u001b[0m \u001b[38;5;28mprint\u001b[39m(\u001b[38;5;124m\"\u001b[39m\u001b[38;5;130;01m\\n\u001b[39;00m\u001b[38;5;124m✅ Qdrant Tool Results:\u001b[39m\u001b[38;5;124m\"\u001b[39m)\n\u001b[1;32m     25\u001b[0m \u001b[38;5;28;01mfor\u001b[39;00m idx, doc \u001b[38;5;129;01min\u001b[39;00m \u001b[38;5;28menumerate\u001b[39m(results[\u001b[38;5;124m\"\u001b[39m\u001b[38;5;124mresults\u001b[39m\u001b[38;5;124m\"\u001b[39m], \u001b[38;5;241m1\u001b[39m):\n",
      "Cell \u001b[0;32mIn[10], line 30\u001b[0m, in \u001b[0;36mqdrant_search_fn\u001b[0;34m(query, k, filters)\u001b[0m\n\u001b[1;32m     28\u001b[0m \u001b[38;5;66;03m# ✅ Create embedding + client\u001b[39;00m\n\u001b[1;32m     29\u001b[0m embedding \u001b[38;5;241m=\u001b[39m OpenAIEmbeddings()\n\u001b[0;32m---> 30\u001b[0m client \u001b[38;5;241m=\u001b[39m \u001b[43mget_qdrant_client\u001b[49m\u001b[43m(\u001b[49m\u001b[43m)\u001b[49m  \u001b[38;5;66;03m# <-- Singleton loader\u001b[39;00m\n\u001b[1;32m     32\u001b[0m \u001b[38;5;66;03m# ✅ Create collection name\u001b[39;00m\n\u001b[1;32m     33\u001b[0m COLLECTION_NAME\u001b[38;5;241m=\u001b[39m get_qdrant_collection_name()\n",
      "File \u001b[0;32m~/Netflix_Project/src/utils/qdrant_client_loader.py:36\u001b[0m, in \u001b[0;36mget_qdrant_client\u001b[0;34m()\u001b[0m\n\u001b[1;32m     34\u001b[0m     store_path \u001b[38;5;241m=\u001b[39m get_qdrant_store_path()\n\u001b[1;32m     35\u001b[0m     \u001b[38;5;28mprint\u001b[39m(\u001b[38;5;124mf\u001b[39m\u001b[38;5;124m\"\u001b[39m\u001b[38;5;124m[Qdrant Client] Initializing client with path: \u001b[39m\u001b[38;5;132;01m{\u001b[39;00mstore_path\u001b[38;5;132;01m}\u001b[39;00m\u001b[38;5;124m\"\u001b[39m)\n\u001b[0;32m---> 36\u001b[0m     _qdrant_client \u001b[38;5;241m=\u001b[39m \u001b[43mQdrantClient\u001b[49m\u001b[43m(\u001b[49m\u001b[43mpath\u001b[49m\u001b[38;5;241;43m=\u001b[39;49m\u001b[43mstore_path\u001b[49m\u001b[43m)\u001b[49m\n\u001b[1;32m     38\u001b[0m \u001b[38;5;28;01mreturn\u001b[39;00m _qdrant_client\n",
      "File \u001b[0;32m~/Netflix_Project/venv/lib/python3.10/site-packages/qdrant_client/qdrant_client.py:133\u001b[0m, in \u001b[0;36mQdrantClient.__init__\u001b[0;34m(self, location, url, port, grpc_port, prefer_grpc, https, api_key, prefix, timeout, host, path, force_disable_check_same_thread, grpc_options, auth_token_provider, cloud_inference, local_inference_batch_size, check_compatibility, **kwargs)\u001b[0m\n\u001b[1;32m    128\u001b[0m     \u001b[38;5;28mself\u001b[39m\u001b[38;5;241m.\u001b[39m_client \u001b[38;5;241m=\u001b[39m QdrantLocal(\n\u001b[1;32m    129\u001b[0m         location\u001b[38;5;241m=\u001b[39mlocation,\n\u001b[1;32m    130\u001b[0m         force_disable_check_same_thread\u001b[38;5;241m=\u001b[39mforce_disable_check_same_thread,\n\u001b[1;32m    131\u001b[0m     )\n\u001b[1;32m    132\u001b[0m \u001b[38;5;28;01melif\u001b[39;00m path \u001b[38;5;129;01mis\u001b[39;00m \u001b[38;5;129;01mnot\u001b[39;00m \u001b[38;5;28;01mNone\u001b[39;00m:\n\u001b[0;32m--> 133\u001b[0m     \u001b[38;5;28mself\u001b[39m\u001b[38;5;241m.\u001b[39m_client \u001b[38;5;241m=\u001b[39m \u001b[43mQdrantLocal\u001b[49m\u001b[43m(\u001b[49m\n\u001b[1;32m    134\u001b[0m \u001b[43m        \u001b[49m\u001b[43mlocation\u001b[49m\u001b[38;5;241;43m=\u001b[39;49m\u001b[43mpath\u001b[49m\u001b[43m,\u001b[49m\n\u001b[1;32m    135\u001b[0m \u001b[43m        \u001b[49m\u001b[43mforce_disable_check_same_thread\u001b[49m\u001b[38;5;241;43m=\u001b[39;49m\u001b[43mforce_disable_check_same_thread\u001b[49m\u001b[43m,\u001b[49m\n\u001b[1;32m    136\u001b[0m \u001b[43m    \u001b[49m\u001b[43m)\u001b[49m\n\u001b[1;32m    137\u001b[0m \u001b[38;5;28;01melse\u001b[39;00m:\n\u001b[1;32m    138\u001b[0m     \u001b[38;5;28;01mif\u001b[39;00m location \u001b[38;5;129;01mis\u001b[39;00m \u001b[38;5;129;01mnot\u001b[39;00m \u001b[38;5;28;01mNone\u001b[39;00m \u001b[38;5;129;01mand\u001b[39;00m url \u001b[38;5;129;01mis\u001b[39;00m \u001b[38;5;28;01mNone\u001b[39;00m:\n",
      "File \u001b[0;32m~/Netflix_Project/venv/lib/python3.10/site-packages/qdrant_client/local/qdrant_local.py:66\u001b[0m, in \u001b[0;36mQdrantLocal.__init__\u001b[0;34m(self, location, force_disable_check_same_thread)\u001b[0m\n\u001b[1;32m     64\u001b[0m \u001b[38;5;28mself\u001b[39m\u001b[38;5;241m.\u001b[39maliases: \u001b[38;5;28mdict\u001b[39m[\u001b[38;5;28mstr\u001b[39m, \u001b[38;5;28mstr\u001b[39m] \u001b[38;5;241m=\u001b[39m {}\n\u001b[1;32m     65\u001b[0m \u001b[38;5;28mself\u001b[39m\u001b[38;5;241m.\u001b[39m_flock_file: Optional[TextIOWrapper] \u001b[38;5;241m=\u001b[39m \u001b[38;5;28;01mNone\u001b[39;00m\n\u001b[0;32m---> 66\u001b[0m \u001b[38;5;28;43mself\u001b[39;49m\u001b[38;5;241;43m.\u001b[39;49m\u001b[43m_load\u001b[49m\u001b[43m(\u001b[49m\u001b[43m)\u001b[49m\n\u001b[1;32m     67\u001b[0m \u001b[38;5;28mself\u001b[39m\u001b[38;5;241m.\u001b[39m_closed: \u001b[38;5;28mbool\u001b[39m \u001b[38;5;241m=\u001b[39m \u001b[38;5;28;01mFalse\u001b[39;00m\n",
      "File \u001b[0;32m~/Netflix_Project/venv/lib/python3.10/site-packages/qdrant_client/local/qdrant_local.py:138\u001b[0m, in \u001b[0;36mQdrantLocal._load\u001b[0;34m(self)\u001b[0m\n\u001b[1;32m    133\u001b[0m     portalocker\u001b[38;5;241m.\u001b[39mlock(\n\u001b[1;32m    134\u001b[0m         \u001b[38;5;28mself\u001b[39m\u001b[38;5;241m.\u001b[39m_flock_file,\n\u001b[1;32m    135\u001b[0m         portalocker\u001b[38;5;241m.\u001b[39mLockFlags\u001b[38;5;241m.\u001b[39mEXCLUSIVE \u001b[38;5;241m|\u001b[39m portalocker\u001b[38;5;241m.\u001b[39mLockFlags\u001b[38;5;241m.\u001b[39mNON_BLOCKING,\n\u001b[1;32m    136\u001b[0m     )\n\u001b[1;32m    137\u001b[0m \u001b[38;5;28;01mexcept\u001b[39;00m portalocker\u001b[38;5;241m.\u001b[39mexceptions\u001b[38;5;241m.\u001b[39mLockException:\n\u001b[0;32m--> 138\u001b[0m     \u001b[38;5;28;01mraise\u001b[39;00m \u001b[38;5;167;01mRuntimeError\u001b[39;00m(\n\u001b[1;32m    139\u001b[0m         \u001b[38;5;124mf\u001b[39m\u001b[38;5;124m\"\u001b[39m\u001b[38;5;124mStorage folder \u001b[39m\u001b[38;5;132;01m{\u001b[39;00m\u001b[38;5;28mself\u001b[39m\u001b[38;5;241m.\u001b[39mlocation\u001b[38;5;132;01m}\u001b[39;00m\u001b[38;5;124m is already accessed by another instance of Qdrant client.\u001b[39m\u001b[38;5;124m\"\u001b[39m\n\u001b[1;32m    140\u001b[0m         \u001b[38;5;124mf\u001b[39m\u001b[38;5;124m\"\u001b[39m\u001b[38;5;124m If you require concurrent access, use Qdrant server instead.\u001b[39m\u001b[38;5;124m\"\u001b[39m\n\u001b[1;32m    141\u001b[0m     )\n",
      "\u001b[0;31mRuntimeError\u001b[0m: Storage folder /home/prashant-agrawal/Netflix_Project/src/database/qdrant_store_local_db/collection is already accessed by another instance of Qdrant client. If you require concurrent access, use Qdrant server instead."
     ]
    }
   ],
   "source": [
    "# ✅ Test block\n",
    "if __name__ == \"__main__\":\n",
    "    from utils.path_config import get_qdrant_store_path\n",
    "    from qdrant_client import QdrantClient\n",
    "    from langchain_qdrant import QdrantVectorStore as Qdrant\n",
    "    from utils.qdrant_client_loader import get_qdrant_client,get_qdrant_collection_name\n",
    "    import os\n",
    "\n",
    "    # Required test input\n",
    "    query = \"Top funded fintech startups in Bengaluru\"\n",
    "    example_filters = {\n",
    "        \"industry_sector\": [\"Fintech\"],\n",
    "        \"headquarters_city\": [\"bengaluru\"],\n",
    "        \"total_funding_raised_inr\": {\"gte\": 50.0}\n",
    "    }\n",
    "\n",
    "    # Replace with your real collection name\n",
    "    COLLECTION_NAME = get_qdrant_collection_name\n",
    "    \n",
    "  \n",
    "    # Run test\n",
    "    results = qdrant_search_fn(query=query, k=5, filters=example_filters)\n",
    "\n",
    "    print(\"\\n✅ Qdrant Tool Results:\")\n",
    "    for idx, doc in enumerate(results[\"results\"], 1):\n",
    "        print(f\"{idx}. {doc[:150]}...\\n{'-' * 60}\")\n",
    "\n",
    "    print(\"📦 Message:\", results[\"message\"])"
   ]
  }
 ],
 "metadata": {
  "kernelspec": {
   "display_name": "venv",
   "language": "python",
   "name": "python3"
  },
  "language_info": {
   "codemirror_mode": {
    "name": "ipython",
    "version": 3
   },
   "file_extension": ".py",
   "mimetype": "text/x-python",
   "name": "python",
   "nbconvert_exporter": "python",
   "pygments_lexer": "ipython3",
   "version": "3.10.17"
  }
 },
 "nbformat": 4,
 "nbformat_minor": 5
}
