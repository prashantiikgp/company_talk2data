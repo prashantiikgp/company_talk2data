{
 "cells": [
  {
   "cell_type": "code",
   "execution_count": 8,
   "id": "92c51940",
   "metadata": {},
   "outputs": [
    {
     "name": "stdout",
     "output_type": "stream",
     "text": [
      "/home/prashant-agrawal/Netflix_Project/src\n"
     ]
    }
   ],
   "source": [
    "import sys, os\n",
    "SRC_PATH = os.path.abspath(os.path.join(os.getcwd(), \"..\",\"..\"))\n",
    "if SRC_PATH not in sys.path:\n",
    "    sys.path.insert(0, SRC_PATH)\n",
    "print(SRC_PATH)"
   ]
  },
  {
   "cell_type": "code",
   "execution_count": null,
   "id": "977b5d36",
   "metadata": {},
   "outputs": [],
   "source": [
    "## pip install ipywidgets pip install qdrant-client langchain qdrant-client[fastembed]"
   ]
  },
  {
   "cell_type": "code",
   "execution_count": 9,
   "id": "9b297ab0",
   "metadata": {},
   "outputs": [
    {
     "name": "stdout",
     "output_type": "stream",
     "text": [
      "Vector store path: /home/prashant-agrawal/Netflix_Project/src/database/qdrant_store_local_db/collection\n",
      "Base directory: /home/prashant-agrawal/Netflix_Project/src\n"
     ]
    }
   ],
   "source": [
    "# ✅ STEP 1: Qdrant Search Path Setup\n",
    "\n",
    "import os\n",
    "from utils.path_config import get_base_dir ,get_qdrant_store_path ,get_data_path\n",
    "from utils.qdrant_client_loader import get_qdrant_client,get_qdrant_collection_name\n",
    "\n",
    "# Path setup\n",
    "BASE_DIR = get_base_dir()\n",
    "\n",
    "qdrant_store_path = get_qdrant_store_path() \n",
    "\n",
    "# ✅ Create collection name\n",
    "COLLECTION_NAME= get_qdrant_collection_name()\n",
    "\n",
    "print(f\"Vector store path: {qdrant_store_path}\")\n",
    "print(f\"Base directory: {BASE_DIR}\")"
   ]
  },
  {
   "cell_type": "code",
   "execution_count": 10,
   "id": "bad45f93",
   "metadata": {},
   "outputs": [],
   "source": [
    "# qdrant_search_tool.py\n",
    "\n",
    "import os\n",
    "from typing import Dict, List, Any\n",
    "from langchain_core.tools import Tool\n",
    "from langchain_openai import OpenAIEmbeddings\n",
    "from langchain_qdrant import QdrantVectorStore\n",
    "from utils.qdrant_client_loader import get_qdrant_client,get_qdrant_collection_name\n",
    "from utils.path_config import get_qdrant_store_path\n",
    "\n",
    "# 🔁 Cache\n",
    "_qdrant_cache = {}\n",
    "\n",
    "def qdrant_search_fn(query: str, k: int = 5, filters: Dict[str, Any] = None) -> Dict[str, Any]:\n",
    "    \"\"\"Semantic + metadata-filtered search from Qdrant.\"\"\"\n",
    "    print(\"[QDRANT Tool] Query:\", query)\n",
    "    print(\"[QDRANT Tool] Filters:\", filters)\n",
    "\n",
    "    store_path = get_qdrant_store_path()\n",
    "\n",
    "    if store_path in _qdrant_cache:\n",
    "        vectorstore = _qdrant_cache[store_path]\n",
    "    else:\n",
    "        if not os.path.exists(store_path):\n",
    "            print(f\"[ERROR] Qdrant store not found at {store_path}\")\n",
    "            return {\"results\": [], \"message\": \"Qdrant store not found.\"}\n",
    "\n",
    "        # ✅ Create embedding + client\n",
    "        embedding = OpenAIEmbeddings()\n",
    "        client = get_qdrant_client()  # <-- Singleton loader\n",
    "\n",
    "        # ✅ Create collection name\n",
    "        COLLECTION_NAME= get_qdrant_collection_name()\n",
    "\n",
    "        # ✅ Load Qdrant vector store\n",
    "        vectorstore = QdrantVectorStore(\n",
    "            client=client,\n",
    "            collection_name=COLLECTION_NAME,\n",
    "            embedding=embedding,\n",
    "        )\n",
    "        _qdrant_cache[store_path] = vectorstore\n",
    "\n",
    "    # ✅ Perform search\n",
    "    try:\n",
    "        docs_and_scores = vectorstore.similarity_search_with_score(\n",
    "            query=query,\n",
    "            k=k,\n",
    "            filter=filters\n",
    "        )\n",
    "        return {\n",
    "            \"results\": [doc.page_content for doc, _ in docs_and_scores],\n",
    "            \"message\": f\"Found {len(docs_and_scores)} results.\"\n",
    "        }\n",
    "    except Exception as e:\n",
    "        return {\"results\": [], \"message\": str(e)}\n"
   ]
  },
  {
   "cell_type": "code",
   "execution_count": 4,
   "id": "185ef320",
   "metadata": {},
   "outputs": [],
   "source": [
    "## Server Side Tool\n",
    "\n",
    "from qdrant_client import QdrantClient\n",
    "from qdrant_client.http.models import Distance, VectorParams\n",
    "from langchain.vectorstores import Qdrant\n",
    "from langchain.embeddings import OpenAIEmbeddings\n",
    "\n",
    "def get_qdrant_vectorstore():\n",
    "    qdrant_client = QdrantClient(\n",
    "        url=\"http://localhost:6333\"\n",
    "    )\n",
    "\n",
    "    embeddings = OpenAIEmbeddings()  # or HuggingFaceEmbeddings()\n",
    "\n",
    "    vectorstore = Qdrant(\n",
    "        client=qdrant_client,\n",
    "        collection_name=\"netflix_collection\",\n",
    "        embeddings=embeddings,\n",
    "    )\n",
    "    \n",
    "    return vectorstore\n"
   ]
  },
  {
   "cell_type": "code",
   "execution_count": 5,
   "id": "8e84671a",
   "metadata": {},
   "outputs": [
    {
     "ename": "ModuleNotFoundError",
     "evalue": "No module named 'utils'",
     "output_type": "error",
     "traceback": [
      "\u001b[0;31m---------------------------------------------------------------------------\u001b[0m",
      "\u001b[0;31mModuleNotFoundError\u001b[0m                       Traceback (most recent call last)",
      "Cell \u001b[0;32mIn[5], line 3\u001b[0m\n\u001b[1;32m      1\u001b[0m \u001b[38;5;66;03m# ✅ Test block\u001b[39;00m\n\u001b[1;32m      2\u001b[0m \u001b[38;5;28;01mif\u001b[39;00m \u001b[38;5;18m__name__\u001b[39m \u001b[38;5;241m==\u001b[39m \u001b[38;5;124m\"\u001b[39m\u001b[38;5;124m__main__\u001b[39m\u001b[38;5;124m\"\u001b[39m:\n\u001b[0;32m----> 3\u001b[0m     \u001b[38;5;28;01mfrom\u001b[39;00m\u001b[38;5;250m \u001b[39m\u001b[38;5;21;01mutils\u001b[39;00m\u001b[38;5;21;01m.\u001b[39;00m\u001b[38;5;21;01mpath_config\u001b[39;00m\u001b[38;5;250m \u001b[39m\u001b[38;5;28;01mimport\u001b[39;00m get_qdrant_store_path\n\u001b[1;32m      4\u001b[0m     \u001b[38;5;28;01mfrom\u001b[39;00m\u001b[38;5;250m \u001b[39m\u001b[38;5;21;01mqdrant_client\u001b[39;00m\u001b[38;5;250m \u001b[39m\u001b[38;5;28;01mimport\u001b[39;00m QdrantClient\n\u001b[1;32m      5\u001b[0m     \u001b[38;5;28;01mfrom\u001b[39;00m\u001b[38;5;250m \u001b[39m\u001b[38;5;21;01mlangchain_qdrant\u001b[39;00m\u001b[38;5;250m \u001b[39m\u001b[38;5;28;01mimport\u001b[39;00m QdrantVectorStore \u001b[38;5;28;01mas\u001b[39;00m Qdrant\n",
      "\u001b[0;31mModuleNotFoundError\u001b[0m: No module named 'utils'"
     ]
    }
   ],
   "source": [
    "# ✅ Test block\n",
    "if __name__ == \"__main__\":\n",
    "    from utils.path_config import get_qdrant_store_path\n",
    "    from qdrant_client import QdrantClient\n",
    "    from langchain_qdrant import QdrantVectorStore as Qdrant\n",
    "    from utils.qdrant_client_loader import get_qdrant_client,get_qdrant_collection_name\n",
    "    import os\n",
    "\n",
    "    # Required test input\n",
    "    query = \"Top funded fintech startups in Bengaluru\"\n",
    "    example_filters = {\n",
    "        \"industry_sector\": [\"Fintech\"],\n",
    "        \"headquarters_city\": [\"bengaluru\"],\n",
    "        \"total_funding_raised_inr\": {\"gte\": 50.0}\n",
    "    }\n",
    "\n",
    "    # Replace with your real collection name\n",
    "    COLLECTION_NAME = get_qdrant_collection_name\n",
    "    \n",
    "  \n",
    "    # Run test\n",
    "    results = qdrant_search_fn(query=query, k=5, filters=example_filters)\n",
    "\n",
    "    print(\"\\n✅ Qdrant Tool Results:\")\n",
    "    for idx, doc in enumerate(results[\"results\"], 1):\n",
    "        print(f\"{idx}. {doc[:150]}...\\n{'-' * 60}\")\n",
    "\n",
    "    print(\"📦 Message:\", results[\"message\"])"
   ]
  }
 ],
 "metadata": {
  "kernelspec": {
   "display_name": "venv",
   "language": "python",
   "name": "python3"
  },
  "language_info": {
   "codemirror_mode": {
    "name": "ipython",
    "version": 3
   },
   "file_extension": ".py",
   "mimetype": "text/x-python",
   "name": "python",
   "nbconvert_exporter": "python",
   "pygments_lexer": "ipython3",
   "version": "3.10.17"
  }
 },
 "nbformat": 4,
 "nbformat_minor": 5
}
