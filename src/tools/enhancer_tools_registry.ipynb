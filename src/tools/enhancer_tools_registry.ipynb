{
 "cells": [
  {
   "cell_type": "markdown",
   "id": "d86225d7",
   "metadata": {},
   "source": [
    "# Enhancer Tools Registry Test Notebook\n",
    "\n",
    "This notebook is a direct replica of the enhancer tools registry Python script. It demonstrates registration and usage of enhancer tools, ensuring all tool functions accept both string and dictionary input."
   ]
  },
  {
   "cell_type": "code",
   "execution_count": 7,
   "id": "c8d22bc8",
   "metadata": {},
   "outputs": [
    {
     "name": "stdout",
     "output_type": "stream",
     "text": [
      "🔁 SRC path already in sys.path: /home/prashant-agrawal/projects/netflix_talk2data/src\n"
     ]
    }
   ],
   "source": [
    "# %%\n",
    "import sys, os\n",
    "\n",
    "try:\n",
    "    # ✅ Running from a Python script (.py file)\n",
    "    base_path = os.path.abspath(os.path.join(os.path.dirname(__file__), \"..\"))\n",
    "except NameError:\n",
    "    # ✅ Running from a Jupyter notebook (__file__ is not defined)\n",
    "    base_path = os.path.abspath(os.path.join(os.getcwd(), \"..\"))\n",
    "\n",
    "SRC_PATH = os.path.join(base_path)\n",
    "\n",
    "if SRC_PATH not in sys.path:\n",
    "    sys.path.insert(0, SRC_PATH)\n",
    "    print(f\"✅ SRC path added: {SRC_PATH}\")\n",
    "else:\n",
    "    print(f\"🔁 SRC path already in sys.path: {SRC_PATH}\")"
   ]
  },
  {
   "cell_type": "code",
   "execution_count": 11,
   "id": "75c8502b",
   "metadata": {},
   "outputs": [],
   "source": [
    "\"\"\"\n",
    "Enhancer Tools Registry: Register and wrap all enhancer-related tools for agent use.\n",
    "\"\"\"\n",
    "from langchain.tools import Tool\n",
    "from tools.enhancer_agent_tools.keyword_extractor import keyword_extractor_fn\n",
    "from tools.enhancer_agent_tools.numeric_extractor import extract_numeric_constraints\n",
    "from tools.enhancer_agent_tools.filter_composer import compose_filters\n"
   ]
  },
  {
   "cell_type": "code",
   "execution_count": 12,
   "id": "139197a0",
   "metadata": {},
   "outputs": [],
   "source": [
    "\n",
    "def keyword_extractor_tool_func(inputs):\n",
    "    if isinstance(inputs, dict):\n",
    "        query = inputs.get(\"query\", \"\")\n",
    "    else:\n",
    "        query = inputs\n",
    "    return keyword_extractor_fn(query)\n",
    "\n",
    "def extract_numeric_constraints_tool_func(inputs):\n",
    "    if isinstance(inputs, dict):\n",
    "        query = inputs.get(\"query\", \"\")\n",
    "    else:\n",
    "        query = inputs\n",
    "    return extract_numeric_constraints(query)\n",
    "\n",
    "def filter_composer_tool_func(inputs):\n",
    "    if isinstance(inputs, dict):\n",
    "        tools_outputs = inputs.get(\"tools_outputs\", [])\n",
    "    else:\n",
    "        tools_outputs = []\n",
    "    return compose_filters(*tools_outputs)\n",
    "\n",
    "keyword_extractor_tool = Tool(\n",
    "    name=\"keyword_extractor\",\n",
    "    description=\"Extracts keywords and maps them to filterable fields from a query string.\",\n",
    "    func=keyword_extractor_tool_func,\n",
    ")\n",
    "\n",
    "extract_numeric_constraints_tool = Tool(\n",
    "    name=\"extract_numeric_constraints\",\n",
    "    description=\"Extracts numeric constraints (like funding, revenue, year) from a query string.\",\n",
    "    func=extract_numeric_constraints_tool_func,\n",
    ")\n",
    "\n",
    "filter_composer_tool = Tool(\n",
    "    name=\"filter_composer\",\n",
    "    description=\"Composes/merges multiple tool outputs (as JSON strings) into a single filter dictionary.\",\n",
    "    func=filter_composer_tool_func,\n",
    ")\n",
    "\n",
    "enhancer_tools = [\n",
    "    keyword_extractor_tool,\n",
    "    extract_numeric_constraints_tool,\n",
    "    filter_composer_tool,\n",
    "]"
   ]
  },
  {
   "cell_type": "markdown",
   "id": "1eef9c7f",
   "metadata": {},
   "source": [
    "---\n",
    "\n",
    "**This notebook is a direct copy of the enhancer tools registry Python script, structured for interactive exploration and testing.**"
   ]
  }
 ],
 "metadata": {
  "kernelspec": {
   "display_name": "venv",
   "language": "python",
   "name": "python3"
  },
  "language_info": {
   "codemirror_mode": {
    "name": "ipython",
    "version": 3
   },
   "file_extension": ".py",
   "mimetype": "text/x-python",
   "name": "python",
   "nbconvert_exporter": "python",
   "pygments_lexer": "ipython3",
   "version": "3.10.17"
  }
 },
 "nbformat": 4,
 "nbformat_minor": 5
}
