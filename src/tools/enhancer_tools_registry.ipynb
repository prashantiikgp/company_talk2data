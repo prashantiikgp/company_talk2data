{
 "cells": [
  {
   "cell_type": "code",
   "execution_count": 17,
   "id": "ec1146be",
   "metadata": {},
   "outputs": [],
   "source": [
    "from enhancer_agent_tools.keyword_extractor import keyword_extractor_fn\n",
    "from enhancer_agent_tools.numeric_extractor import extract_numeric_constraints\n",
    "from enhancer_agent_tools.classify_category import classify_categories\n",
    "from enhancer_agent_tools.entity_extractor import extract_entities\n",
    "from enhancer_agent_tools.filter_composer import compose_filters\n",
    "from enhancer_agent_tools.rag_search_tool import rag_search_tool,RagSearchInput"
   ]
  },
  {
   "cell_type": "code",
   "execution_count": 10,
   "id": "87f1683d",
   "metadata": {},
   "outputs": [],
   "source": [
    "# Keyword extractor tool\n",
    "# This tool is designed to extract relevant company-related fields from the user's query based on keyword matching.\n",
    "\n",
    "from langchain.agents import Tool\n",
    "keyword_extractor_tool = Tool( \n",
    "    name=\"keyword_extractor\",\n",
    "    func=keyword_extractor_fn,\n",
    "    description=\"\"\"Extracts relevant company-related fields from the user's query based on keyword matching. Use this tool to identify which structured metadata fields—like headquarters city, tech stack, product category, funding stage, hiring status, or founder information—are being asked about. \n",
    "    Returns a dictionary mapping each detected field to the matched keyword.\"\"\".strip()\n",
    "    )   \n"
   ]
  },
  {
   "cell_type": "code",
   "execution_count": 11,
   "id": "3373ccec",
   "metadata": {},
   "outputs": [],
   "source": [
    "# Extract Numeric Constraints\n",
    "# This tool identifies numeric constraints in the user's query, such as funding amount, revenue, employee size, valuation, or year of founding.\n",
    "\n",
    "from langchain.agents import Tool\n",
    "\n",
    "extract_numeric_constraints_tool = Tool(\n",
    "    name=\"Numeric Constraint Extraction\",\n",
    "    func=extract_numeric_constraints,\n",
    "    description=\"\"\"\"Extract numeric constraints from the query such as funding amount, revenue, employee size, valuation, or year of founding. \n",
    "    Use this tool to detect conditions like 'raised over $5 million', 'less than 100 employees', or \n",
    "    'founded after 2018' and convert them into structured filters for downstream company search.\"\"\".strip()\n",
    "    \n",
    ")"
   ]
  },
  {
   "cell_type": "code",
   "execution_count": 12,
   "id": "bc84bd85",
   "metadata": {},
   "outputs": [],
   "source": [
    "# Entity extraction tool\n",
    "# This tool is used to extract named entities from the user's query.\n",
    "\n",
    "from langchain.agents import Tool\n",
    "entity_extractor_tool = Tool(\n",
    "    name=\"Entities Extraction\",\n",
    "    func=extract_entities,\n",
    "    description=\"\"\"Extracts named entities like actor names, directors, production companies, locations, or specific movie/show titles from the input query. \n",
    "                    Use this when the query mentions people, places, or titles explicitly.\"\"\".strip()\n",
    ")"
   ]
  },
  {
   "cell_type": "code",
   "execution_count": 13,
   "id": "1337c07f",
   "metadata": {},
   "outputs": [],
   "source": [
    "# Category Classification Tool\n",
    "\n",
    "# This tool classifies the user query into one or more predefined company categories\n",
    "# such as Fintech, SaaS, HealthTech, B2B, Logistics, etc.\n",
    "\n",
    "from langchain.agents import Tool\n",
    "classify_categories_tool = Tool(\n",
    "    name=\"Classify Categories\",\n",
    "    func=classify_categories,\n",
    "    description=\"\"\"Classifies the input query into predefined categories like SaaS, FinTech, Edtech, etc. \n",
    "                    Returns a dictionary with the key 'industry_category'.\",\"\"\".strip()\n",
    ")"
   ]
  },
  {
   "cell_type": "code",
   "execution_count": 14,
   "id": "f99baa73",
   "metadata": {},
   "outputs": [],
   "source": [
    "# Compose Filters Tool\n",
    "\n",
    "##  This tool combines the outputs of the previous tools into a structured filter object.\n",
    "##  This is the final step in the pipeline, so it should be called after all other tools have been applied.\n",
    "##  It takes the outputs of the keyword extractor, numeric constraints, entity extractor, and category classifier\n",
    "##  and combines them into a single filter object that can be used for downstream search agents. \n",
    "from langchain.agents import Tool\n",
    "\n",
    "filter_composer_tool = Tool(\n",
    "    name=\"filter_composer\",\n",
    "    func=compose_filters,\n",
    "    description=\"\"\"Combines extracted metadata from enhancer tools into a unified dictionary of filters. It merges outputs from keyword, numeric, entity, and category extractors into a structured format. \n",
    "                    Should be used after all extraction tools have run. \n",
    "                    Accepts valid JSON-like inputs and returns a single filter object for downstream search agents.\"\"\".strip()\n",
    "\n",
    ")"
   ]
  },
  {
   "cell_type": "code",
   "execution_count": 19,
   "id": "362b2606",
   "metadata": {},
   "outputs": [],
   "source": [
    "# RAG Search Tool\n",
    "# This tool performs a semantic search over startup documents using FAISS.\n",
    "\n",
    "\n",
    "from langchain_core.tools import Tool\n",
    "from enhancer_agent_tools.rag_search_tool import RagSearchInput  # Import RagSearchInput\n",
    "\n",
    "rag_vector_tool = Tool(\n",
    "    name=\"rag_search_tool\",\n",
    "    func=rag_search_tool,\n",
    "    description=\"Semantic search tool over startup documents using FAISS. Supports filters like sector, funding, location.\",\n",
    "    args_schema=RagSearchInput,\n",
    ")"
   ]
  }
 ],
 "metadata": {
  "kernelspec": {
   "display_name": "venv",
   "language": "python",
   "name": "python3"
  },
  "language_info": {
   "codemirror_mode": {
    "name": "ipython",
    "version": 3
   },
   "file_extension": ".py",
   "mimetype": "text/x-python",
   "name": "python",
   "nbconvert_exporter": "python",
   "pygments_lexer": "ipython3",
   "version": "3.10.17"
  }
 },
 "nbformat": 4,
 "nbformat_minor": 5
}
