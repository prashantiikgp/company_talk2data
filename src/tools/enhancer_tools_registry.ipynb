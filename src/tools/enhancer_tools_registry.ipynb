{
 "cells": [
  {
   "cell_type": "markdown",
   "id": "d86225d7",
   "metadata": {},
   "source": [
    "# Enhancer Tools Registry Test Notebook\n",
    "\n",
    "This notebook is a direct replica of the enhancer tools registry Python script. It demonstrates registration and usage of enhancer tools, ensuring all tool functions accept both string and dictionary input."
   ]
  },
  {
   "cell_type": "code",
   "execution_count": 2,
   "id": "c8d22bc8",
   "metadata": {},
   "outputs": [
    {
     "name": "stdout",
     "output_type": "stream",
     "text": [
      "✅ SRC path added: /home/prashant-agrawal/projects/netflix_talk2data/src\n"
     ]
    }
   ],
   "source": [
    "# %%\n",
    "import sys, os\n",
    "\n",
    "try:\n",
    "    # ✅ Running from a Python script (.py file)\n",
    "    base_path = os.path.abspath(os.path.join(os.path.dirname(__file__), \"..\"))\n",
    "except NameError:\n",
    "    # ✅ Running from a Jupyter notebook (__file__ is not defined)\n",
    "    base_path = os.path.abspath(os.path.join(os.getcwd(), \"..\"))\n",
    "\n",
    "SRC_PATH = os.path.join(base_path)\n",
    "\n",
    "if SRC_PATH not in sys.path:\n",
    "    sys.path.insert(0, SRC_PATH)\n",
    "    print(f\"✅ SRC path added: {SRC_PATH}\")\n",
    "else:\n",
    "    print(f\"🔁 SRC path already in sys.path: {SRC_PATH}\")"
   ]
  },
  {
   "cell_type": "code",
   "execution_count": null,
   "id": "75c8502b",
   "metadata": {},
   "outputs": [
    {
     "ename": "ModuleNotFoundError",
     "evalue": "No module named 'tools.enhancer_agent_tools'",
     "output_type": "error",
     "traceback": [
      "\u001b[0;31m---------------------------------------------------------------------------\u001b[0m",
      "\u001b[0;31mModuleNotFoundError\u001b[0m                       Traceback (most recent call last)",
      "Cell \u001b[0;32mIn[3], line 5\u001b[0m\n\u001b[1;32m      1\u001b[0m \u001b[38;5;124;03m\"\"\"\u001b[39;00m\n\u001b[1;32m      2\u001b[0m \u001b[38;5;124;03mEnhancer Tools Registry: Register and wrap all enhancer-related tools for agent use.\u001b[39;00m\n\u001b[1;32m      3\u001b[0m \u001b[38;5;124;03m\"\"\"\u001b[39;00m\n\u001b[1;32m      4\u001b[0m \u001b[38;5;28;01mfrom\u001b[39;00m\u001b[38;5;250m \u001b[39m\u001b[38;5;21;01mlangchain\u001b[39;00m\u001b[38;5;21;01m.\u001b[39;00m\u001b[38;5;21;01mtools\u001b[39;00m\u001b[38;5;250m \u001b[39m\u001b[38;5;28;01mimport\u001b[39;00m Tool\n\u001b[0;32m----> 5\u001b[0m \u001b[38;5;28;01mfrom\u001b[39;00m\u001b[38;5;250m \u001b[39m\u001b[38;5;21;01mtools\u001b[39;00m\u001b[38;5;21;01m.\u001b[39;00m\u001b[38;5;21;01menhancer_agent_tools\u001b[39;00m\u001b[38;5;21;01m.\u001b[39;00m\u001b[38;5;21;01mkeyword_extractor\u001b[39;00m\u001b[38;5;250m \u001b[39m\u001b[38;5;28;01mimport\u001b[39;00m keyword_extractor_fn\n\u001b[1;32m      6\u001b[0m \u001b[38;5;28;01mfrom\u001b[39;00m\u001b[38;5;250m \u001b[39m\u001b[38;5;21;01mtools\u001b[39;00m\u001b[38;5;21;01m.\u001b[39;00m\u001b[38;5;21;01menhancer_agent_tools\u001b[39;00m\u001b[38;5;21;01m.\u001b[39;00m\u001b[38;5;21;01mnumeric_extractor\u001b[39;00m\u001b[38;5;250m \u001b[39m\u001b[38;5;28;01mimport\u001b[39;00m extract_numeric_constraints\n\u001b[1;32m      7\u001b[0m \u001b[38;5;28;01mfrom\u001b[39;00m\u001b[38;5;250m \u001b[39m\u001b[38;5;21;01mtools\u001b[39;00m\u001b[38;5;21;01m.\u001b[39;00m\u001b[38;5;21;01menhancer_agent_tools\u001b[39;00m\u001b[38;5;21;01m.\u001b[39;00m\u001b[38;5;21;01mfilter_composer\u001b[39;00m\u001b[38;5;250m \u001b[39m\u001b[38;5;28;01mimport\u001b[39;00m compose_filters\n",
      "\u001b[0;31mModuleNotFoundError\u001b[0m: No module named 'tools.enhancer_agent_tools'"
     ]
    }
   ],
   "source": [
    "\"\"\"\n",
    "Enhancer Tools Registry: Register and wrap all enhancer-related tools for agent use.\n",
    "\"\"\"\n",
    "from langchain.tools import Tool\n",
    "from tools.enhancer_agent_tools.keyword_extractor import keyword_extractor_fn\n",
    "from tools.enhancer_agent_tools.numeric_extractor import extract_numeric_constraints\n",
    "from tools.enhancer_agent_tools.filter_composer import compose_filters\n",
    "from __future__ import annotations\n",
    "\n",
    "from typing import List, Dict, Any\n",
    "from langchain.tools import StructuredTool\n",
    "from langchain_core.tools import Tool  # ↓ needed only for compose_filters\n",
    "\n",
    "# ── Pydantic schemas -------------------------------------------------------\n",
    "from schema.tools_schema import (\n",
    "    KeywordExtractInput,\n",
    "    KeywordExtractOutput,\n",
    "    NumericConstraintInput,\n",
    "    NumericConstraintOutput,\n",
    "    FilterComposeInput,\n",
    "    FilterComposeOutput,\n",
    "    SingleFilterDict,   # alias used inside FilterComposeInput\n",
    ")\n"
   ]
  },
  {
   "cell_type": "code",
   "execution_count": 12,
   "id": "139197a0",
   "metadata": {},
   "outputs": [],
   "source": [
    "\n",
    "def keyword_extractor_tool_func(inputs):\n",
    "    if isinstance(inputs, dict):\n",
    "        query = inputs.get(\"query\", \"\")\n",
    "    else:\n",
    "        query = inputs\n",
    "    return keyword_extractor_fn(query)\n",
    "\n",
    "def extract_numeric_constraints_tool_func(inputs):\n",
    "    if isinstance(inputs, dict):\n",
    "        query = inputs.get(\"query\", \"\")\n",
    "    else:\n",
    "        query = inputs\n",
    "    return extract_numeric_constraints(query)\n",
    "\n",
    "def filter_composer_tool_func(inputs):\n",
    "    if isinstance(inputs, dict):\n",
    "        tools_outputs = inputs.get(\"tools_outputs\", [])\n",
    "    else:\n",
    "        tools_outputs = []\n",
    "    return compose_filters(*tools_outputs)\n",
    "\n",
    "keyword_extractor_tool = Tool(\n",
    "    name=\"keyword_extractor\",\n",
    "    description=\"Extracts keywords and maps them to filterable fields from a query string.\",\n",
    "    func=keyword_extractor_tool_func,\n",
    ")\n",
    "\n",
    "extract_numeric_constraints_tool = Tool(\n",
    "    name=\"extract_numeric_constraints\",\n",
    "    description=\"Extracts numeric constraints (like funding, revenue, year) from a query string.\",\n",
    "    func=extract_numeric_constraints_tool_func,\n",
    ")\n",
    "\n",
    "filter_composer_tool = Tool(\n",
    "    name=\"filter_composer\",\n",
    "    description=\"Composes/merges multiple tool outputs (as JSON strings) into a single filter dictionary.\",\n",
    "    func=filter_composer_tool_func,\n",
    ")\n",
    "\n",
    "enhancer_tools = [\n",
    "    keyword_extractor_tool,\n",
    "    extract_numeric_constraints_tool,\n",
    "    filter_composer_tool,\n",
    "]"
   ]
  },
  {
   "cell_type": "code",
   "execution_count": null,
   "id": "edc99606",
   "metadata": {},
   "outputs": [
    {
     "ename": "ModuleNotFoundError",
     "evalue": "No module named 'utils.keyword_extractor'",
     "output_type": "error",
     "traceback": [
      "\u001b[0;31m---------------------------------------------------------------------------\u001b[0m",
      "\u001b[0;31mModuleNotFoundError\u001b[0m                       Traceback (most recent call last)",
      "Cell \u001b[0;32mIn[3], line 14\u001b[0m\n\u001b[1;32m     12\u001b[0m \u001b[38;5;28;01mfrom\u001b[39;00m\u001b[38;5;250m \u001b[39m\u001b[38;5;21;01mlangchain_core\u001b[39;00m\u001b[38;5;21;01m.\u001b[39;00m\u001b[38;5;21;01mtools\u001b[39;00m\u001b[38;5;250m \u001b[39m\u001b[38;5;28;01mimport\u001b[39;00m Tool  \u001b[38;5;66;03m# ↓ needed only for compose_filters\u001b[39;00m\n\u001b[1;32m     13\u001b[0m \u001b[38;5;66;03m# ── your pure‑python helper fns (no LangChain) ─────────────────────────────\u001b[39;00m\n\u001b[0;32m---> 14\u001b[0m \u001b[38;5;28;01mfrom\u001b[39;00m\u001b[38;5;250m \u001b[39m\u001b[38;5;21;01mutils\u001b[39;00m\u001b[38;5;21;01m.\u001b[39;00m\u001b[38;5;21;01mkeyword_extractor\u001b[39;00m\u001b[38;5;250m \u001b[39m\u001b[38;5;28;01mimport\u001b[39;00m keyword_extractor_fn\n\u001b[1;32m     15\u001b[0m \u001b[38;5;28;01mfrom\u001b[39;00m\u001b[38;5;250m \u001b[39m\u001b[38;5;21;01mutils\u001b[39;00m\u001b[38;5;21;01m.\u001b[39;00m\u001b[38;5;21;01mnumeric_constraints\u001b[39;00m\u001b[38;5;250m \u001b[39m\u001b[38;5;28;01mimport\u001b[39;00m extract_numeric_constraints\n\u001b[1;32m     16\u001b[0m \u001b[38;5;28;01mfrom\u001b[39;00m\u001b[38;5;250m \u001b[39m\u001b[38;5;21;01mutils\u001b[39;00m\u001b[38;5;21;01m.\u001b[39;00m\u001b[38;5;21;01mfilter_composer\u001b[39;00m\u001b[38;5;250m \u001b[39m\u001b[38;5;28;01mimport\u001b[39;00m compose_filters\n",
      "\u001b[0;31mModuleNotFoundError\u001b[0m: No module named 'utils.keyword_extractor'"
     ]
    }
   ],
   "source": [
    "# ────────────────────────────────────────────────────────────\n",
    "# src/tools/enhancer_registry.py\n",
    "# Structured versions of:\n",
    "#   1. keyword_extractor\n",
    "#   2. extract_numeric_constraints\n",
    "#   3. filter_composer\n",
    "# ────────────────────────────────────────────────────────────\n",
    "\n",
    "# ═══════════════════════════════════════════════════════════════════════════\n",
    "# 1.  Keyword‑extractor  (string → keywords‑by‑field)\n",
    "# ═══════════════════════════════════════════════════════════════════════════\n",
    "def _keyword_extractor_run(payload: KeywordExtractInput) -> KeywordExtractOutput:\n",
    "    raw = keyword_extractor_fn(payload.text)\n",
    "    return KeywordExtractOutput(raw)               # wrap in schema\n",
    "\n",
    "keyword_extractor_tool = StructuredTool.from_function(\n",
    "    func=_keyword_extractor_run,\n",
    "    name=\"keyword_extractor\",\n",
    "    description=(\n",
    "        \"Extracts location / sector / hiring etc. keywords from a user \"\n",
    "        \"utterance and maps them to canonical Qdrant payload fields.\"\n",
    "    ),\n",
    "    args_schema=KeywordExtractInput,\n",
    ")\n",
    "\n",
    "# ═══════════════════════════════════════════════════════════════════════════\n",
    "# 2.  Numeric‑constraint extractor  (string → {field: {gte/lte}})\n",
    "# ═══════════════════════════════════════════════════════════════════════════\n",
    "def _numeric_constraint_run(\n",
    "    payload: NumericConstraintInput,\n",
    ") -> NumericConstraintOutput:\n",
    "    raw = extract_numeric_constraints(payload.text)\n",
    "    return NumericConstraintOutput(raw)\n",
    "\n",
    "numeric_constraint_tool = StructuredTool.from_function(\n",
    "    func=_numeric_constraint_run,\n",
    "    name=\"numeric_constraint_extractor\",\n",
    "    description=(\n",
    "        \"Detects phrases like “funding above 50 cr”, “between 2015 and 2020”, \"\n",
    "        \"and returns ≤/≥ filters ready for Qdrant.\"\n",
    "    ),\n",
    "    args_schema=NumericConstraintInput,\n",
    ")\n",
    "\n",
    "# ═══════════════════════════════════════════════════════════════════════════\n",
    "# 3.  Filter‑composer  (merge outputs of 1 & 2 or any other tools)\n",
    "# ═══════════════════════════════════════════════════════════════════════════\n",
    "def _filter_composer_run(payload: FilterComposeInput) -> FilterComposeOutput:\n",
    "    # payload.filters is a list of SingleFilterDict                   ↓ convert\n",
    "    merged: Dict[str, Any] = compose_filters(*[f.root for f in payload.filters])\n",
    "    return FilterComposeOutput(merged)\n",
    "\n",
    "filter_composer_tool = StructuredTool.from_function(\n",
    "    func=_filter_composer_run,\n",
    "    name=\"filter_composer\",\n",
    "    description=(\n",
    "        \"Merges multiple filter‑dicts (keyword extractor, numeric extractor, …) \"\n",
    "        \"into one final metadata‑filters object.\"\n",
    "    ),\n",
    "    args_schema=FilterComposeInput,\n",
    ")\n",
    "\n",
    "# ──────────────────────────────────────────────────────────────\n",
    "# Convenience list for your Enhancer agent\n",
    "# ──────────────────────────────────────────────────────────────\n",
    "enhancer_tools = [\n",
    "    keyword_extractor_tool,\n",
    "    numeric_constraint_tool,\n",
    "    filter_composer_tool,\n",
    "]\n"
   ]
  },
  {
   "cell_type": "markdown",
   "id": "1eef9c7f",
   "metadata": {},
   "source": [
    "---\n",
    "\n",
    "**This notebook is a direct copy of the enhancer tools registry Python script, structured for interactive exploration and testing.**"
   ]
  }
 ],
 "metadata": {
  "kernelspec": {
   "display_name": "venv",
   "language": "python",
   "name": "python3"
  },
  "language_info": {
   "codemirror_mode": {
    "name": "ipython",
    "version": 3
   },
   "file_extension": ".py",
   "mimetype": "text/x-python",
   "name": "python",
   "nbconvert_exporter": "python",
   "pygments_lexer": "ipython3",
   "version": "3.10.17"
  }
 },
 "nbformat": 4,
 "nbformat_minor": 5
}
