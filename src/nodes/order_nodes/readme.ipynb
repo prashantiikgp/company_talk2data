{
 "cells": [
  {
   "cell_type": "markdown",
   "id": "5802b896",
   "metadata": {},
   "source": [
    "# 🧾 Order Node Flow – Shudh Desi Bites Voice Agent\n",
    "\n",
    "This folder contains all the nodes and logic related to **Order Management**, including:\n",
    "\n",
    "- Collecting dish, quantity, and table number\n",
    "- Asking user for confirmation\n",
    "- Collecting preferred payment method\n",
    "- Sending payment link via WhatsApp\n",
    "- Finalizing the order upon payment confirmation\n",
    "\n",
    "---\n",
    "\n",
    "## 🎯 Objective\n",
    "\n",
    "The order flow simulates a complete voice-assisted food ordering process using **slot collection** and **conditional nodes** instead of multiple agents. It ensures a natural and smart conversation.\n",
    "\n",
    "---\n",
    "\n",
    "## 🧭 Customer Journey (Voice Flow)\n",
    "\n",
    "```mermaid\n",
    "flowchart TD\n",
    "    Start[\"🎙️ User speaks order (e.g. '2 samosas at table 5')\"]\n",
    "    Start --> SlotCollector[\"🧩 order_slot_collector_node\"]\n",
    "    SlotCollector -->|All slots filled| SummaryValidator[\"✅ order_summary_validator_node\"]\n",
    "    SlotCollector -->|Missing info| SlotCollector\n",
    "    SummaryValidator --> AwaitConfirm[\"❓ await_order_confirmation_node\"]\n",
    "    AwaitConfirm -->|Yes| PayMethod[\"💳 payment_method_collector_node\"]\n",
    "    AwaitConfirm -->|No| SlotCollector\n",
    "    PayMethod --> PayLink[\"🔗 payment_link_generator_node\"]\n",
    "    PayLink --> AwaitPayment[\"💬 await_payment_confirmation_node\"]\n",
    "    AwaitPayment -->|Paid| Finalizer[\"✅ order_finalizer_node\"]\n",
    "    AwaitPayment -->|Not paid| AwaitPayment\n",
    "    Finalizer --> End[\"🎉 Order complete\"]\n",
    "\n"
   ]
  },
  {
   "cell_type": "markdown",
   "id": "d6a8ae96",
   "metadata": {},
   "source": [
    "| Node Name                         | Filename                                   | Description                                                                                                     |\n",
    "| --------------------------------- | ------------------------------------------ | --------------------------------------------------------------------------------------------------------------- |\n",
    "| `order_slot_collector_node`       | `nodes/order_slot_collector_node.py`       | Extracts dish name, quantity, and table number from user input. If any field is missing, stays in loop.         |\n",
    "| `order_summary_validator_node`    | `nodes/order_summary_validator_node.py`    | Displays a human-readable order summary and asks user for confirmation.                                         |\n",
    "| `await_order_confirmation_node`   | `nodes/await_order_confirmation_node.py`   | Checks if user confirms the order or wants to modify it.                                                        |\n",
    "| `payment_method_collector_node`   | `nodes/payment_method_collector_node.py`   | Asks user for preferred payment method (card, UPI, cash).                                                       |\n",
    "| `payment_link_generator_node`     | `nodes/payment_link_generator_node.py`     | Generates a fake Razorpay payment link and sends it via message. (Can be extended to send via Twilio WhatsApp.) |\n",
    "| `await_payment_confirmation_node` | `nodes/await_payment_confirmation_node.py` | Waits for user to say “paid” or “done” to proceed.                                                              |\n",
    "| `order_finalizer_node`            | `nodes/order_finalizer_node.py`            | Marks order as confirmed and speaks back a success message.                                                     |\n"
   ]
  },
  {
   "cell_type": "markdown",
   "id": "c603604f",
   "metadata": {},
   "source": [
    "🧩 Highlights\n",
    "✅ Stateless and modular node structure\n",
    "\n",
    "🔄 Built-in conditional routing (yes/no flow)\n",
    "\n",
    "🔐 No sensitive data (card/UPI) collected via voice\n",
    "\n",
    "🔗 Payment handled via link (Razorpay/Cashfree)\n",
    "\n",
    "💬 User stays in natural conversation loop"
   ]
  },
  {
   "cell_type": "markdown",
   "id": "14c5e00e",
   "metadata": {},
   "source": [
    "nodes/\n",
    "│\n",
    "├── order_slot_collector_node.py\n",
    "├── order_summary_validator_node.py\n",
    "├── await_order_confirmation_node.py\n",
    "├── payment_method_collector_node.py\n",
    "├── payment_link_generator_node.py\n",
    "├── await_payment_confirmation_node.py\n",
    "└── order_finalizer_node.py\n"
   ]
  },
  {
   "cell_type": "markdown",
   "id": "dd8bbaec",
   "metadata": {},
   "source": [
    "nodes/order_nodes\n",
    "│\n",
    "├── order_slot_collector_node.py\n",
    "├── order_summary_validator_node.py\n",
    "├── await_order_confirmation_node.py\n",
    "├── payment_method_collector_node.py\n",
    "├── payment_link_generator_node.py\n",
    "├── await_payment_confirmation_node.py\n",
    "└── order_finalizer_node.py"
   ]
  }
 ],
 "metadata": {
  "language_info": {
   "name": "python"
  }
 },
 "nbformat": 4,
 "nbformat_minor": 5
}
