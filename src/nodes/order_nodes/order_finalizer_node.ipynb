{
 "cells": [
  {
   "cell_type": "code",
   "execution_count": null,
   "id": "9c8476ad",
   "metadata": {},
   "outputs": [],
   "source": [
    "# %%\n",
    "import sys, os\n",
    "\n",
    "try:\n",
    "    # ✅ Running from a Python script (.py file)\n",
    "    base_path = os.path.abspath(os.path.join(os.path.dirname(__file__), \"..\"))\n",
    "except NameError:\n",
    "    # ✅ Running from a Jupyter notebook (__file__ is not defined)\n",
    "    base_path = os.path.abspath(os.path.join(os.getcwd(), \"..\"))\n",
    "\n",
    "SRC_PATH = os.path.join(base_path)\n",
    "\n",
    "if SRC_PATH not in sys.path:\n",
    "    sys.path.insert(0, SRC_PATH)\n",
    "    print(f\"✅ SRC path added: {SRC_PATH}\")\n",
    "else:\n",
    "    print(f\"🔁 SRC path already in sys.path: {SRC_PATH}\")"
   ]
  },
  {
   "cell_type": "code",
   "execution_count": null,
   "id": "e6e3b22e",
   "metadata": {},
   "outputs": [],
   "source": [
    "# nodes/order_finalizer_node.py\n",
    "from langgraph.types import Command\n",
    "\n",
    "def order_finalizer_node(state) -> Command:\n",
    "    order = state.get(\"order_data\", {})\n",
    "    summary = f\"Your order for {order['quantity']} {order['dish']}(s) at table {order['table_number']} has been placed successfully.\"\n",
    "    state[\"messages\"].append({\"role\": \"system\", \"content\": summary})\n",
    "    return Command(update={\"messages\": state[\"messages\"]}, goto=\"end\")\n"
   ]
  }
 ],
 "metadata": {
  "language_info": {
   "name": "python"
  }
 },
 "nbformat": 4,
 "nbformat_minor": 5
}
