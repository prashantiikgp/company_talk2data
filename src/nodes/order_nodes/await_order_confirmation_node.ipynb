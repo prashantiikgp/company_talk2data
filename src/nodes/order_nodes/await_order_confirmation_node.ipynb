{
 "cells": [
  {
   "cell_type": "code",
   "execution_count": null,
   "id": "e038f564",
   "metadata": {},
   "outputs": [],
   "source": []
  },
  {
   "cell_type": "code",
   "execution_count": null,
   "id": "f50ffaa7",
   "metadata": {},
   "outputs": [],
   "source": [
    "# nodes/await_order_confirmation_node.py\n",
    "from langgraph.types import Command\n",
    "\n",
    "def await_order_confirmation_node(state) -> Command:\n",
    "    user_reply = [m for m in state[\"messages\"] if m[\"role\"] == \"user\"][-1][\"content\"].lower()\n",
    "    if \"yes\" in user_reply or \"confirm\" in user_reply:\n",
    "        return Command(goto=\"payment_method_collector\")\n",
    "    else:\n",
    "        return Command(goto=\"order_slot_collector\")\n"
   ]
  }
 ],
 "metadata": {
  "language_info": {
   "name": "python"
  }
 },
 "nbformat": 4,
 "nbformat_minor": 5
}
