{
 "cells": [
  {
   "cell_type": "code",
   "execution_count": null,
   "id": "5b128426",
   "metadata": {},
   "outputs": [],
   "source": [
    "# %%\n",
    "import sys, os\n",
    "\n",
    "try:\n",
    "    # ✅ Running from a Python script (.py file)\n",
    "    base_path = os.path.abspath(os.path.join(os.path.dirname(__file__), \"..\"))\n",
    "except NameError:\n",
    "    # ✅ Running from a Jupyter notebook (__file__ is not defined)\n",
    "    base_path = os.path.abspath(os.path.join(os.getcwd(), \"..\"))\n",
    "\n",
    "SRC_PATH = os.path.join(base_path)\n",
    "\n",
    "if SRC_PATH not in sys.path:\n",
    "    sys.path.insert(0, SRC_PATH)\n",
    "    print(f\"✅ SRC path added: {SRC_PATH}\")\n",
    "else:\n",
    "    print(f\"🔁 SRC path already in sys.path: {SRC_PATH}\")"
   ]
  },
  {
   "cell_type": "code",
   "execution_count": null,
   "id": "ac9b839e",
   "metadata": {},
   "outputs": [],
   "source": [
    "# nodes/payment_link_generator_node.py\n",
    "from langgraph.types import Command\n",
    "\n",
    "def payment_link_generator_node(state) -> Command:\n",
    "    order = state[\"order_data\"]\n",
    "    amount = order.get(\"quantity\", 1) * 50  # e.g., ₹50 per item\n",
    "    method = state.get(\"payment_method\", \"upi\")\n",
    "    phone = state.get(\"user_phone\", \"91XXXXXXXXXX\")\n",
    "\n",
    "    payment_link = f\"https://rzp.io/i/fake-link-{amount}\"\n",
    "\n",
    "    message = f\"Here’s your {method} payment link for ₹{amount}: {payment_link}. Please complete the payment.\"\n",
    "    state[\"messages\"].append({\"role\": \"system\", \"content\": message})\n",
    "\n",
    "    # Ideally: send link via Twilio here\n",
    "    return Command(update={\"payment_link\": payment_link, \"messages\": state[\"messages\"]}, goto=\"await_payment_confirmation\")\n"
   ]
  }
 ],
 "metadata": {
  "language_info": {
   "name": "python"
  }
 },
 "nbformat": 4,
 "nbformat_minor": 5
}
