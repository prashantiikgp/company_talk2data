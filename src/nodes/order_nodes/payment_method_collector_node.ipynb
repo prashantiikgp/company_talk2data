{
 "cells": [
  {
   "cell_type": "code",
   "execution_count": null,
   "id": "06983fa8",
   "metadata": {},
   "outputs": [],
   "source": [
    "# %%\n",
    "import sys, os\n",
    "\n",
    "try:\n",
    "    # ✅ Running from a Python script (.py file)\n",
    "    base_path = os.path.abspath(os.path.join(os.path.dirname(__file__), \"..\"))\n",
    "except NameError:\n",
    "    # ✅ Running from a Jupyter notebook (__file__ is not defined)\n",
    "    base_path = os.path.abspath(os.path.join(os.getcwd(), \"..\"))\n",
    "\n",
    "SRC_PATH = os.path.join(base_path)\n",
    "\n",
    "if SRC_PATH not in sys.path:\n",
    "    sys.path.insert(0, SRC_PATH)\n",
    "    print(f\"✅ SRC path added: {SRC_PATH}\")\n",
    "else:\n",
    "    print(f\"🔁 SRC path already in sys.path: {SRC_PATH}\")"
   ]
  },
  {
   "cell_type": "code",
   "execution_count": null,
   "id": "b55d4bad",
   "metadata": {},
   "outputs": [],
   "source": [
    "# nodes/payment_method_collector_node.py\n",
    "from langgraph.types import Command\n",
    "\n",
    "def payment_method_collector_node(state) -> Command:\n",
    "    user_reply = [m for m in state[\"messages\"] if m[\"role\"] == \"user\"][-1][\"content\"].lower()\n",
    "\n",
    "    method = \"card\" if \"card\" in user_reply else \"cash\" if \"cash\" in user_reply else \"upi\"\n",
    "    return Command(update={\"payment_method\": method}, goto=\"payment_link_generator\")"
   ]
  }
 ],
 "metadata": {
  "language_info": {
   "name": "python"
  }
 },
 "nbformat": 4,
 "nbformat_minor": 5
}
