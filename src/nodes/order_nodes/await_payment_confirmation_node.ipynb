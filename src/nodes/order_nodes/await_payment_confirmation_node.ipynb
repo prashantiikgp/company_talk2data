{
 "cells": [
  {
   "cell_type": "code",
   "execution_count": null,
   "id": "15dbb2e9",
   "metadata": {},
   "outputs": [],
   "source": [
    "# %%\n",
    "import sys, os\n",
    "\n",
    "try:\n",
    "    # ✅ Running from a Python script (.py file)\n",
    "    base_path = os.path.abspath(os.path.join(os.path.dirname(__file__), \"..\"))\n",
    "except NameError:\n",
    "    # ✅ Running from a Jupyter notebook (__file__ is not defined)\n",
    "    base_path = os.path.abspath(os.path.join(os.getcwd(), \"..\"))\n",
    "\n",
    "SRC_PATH = os.path.join(base_path)\n",
    "\n",
    "if SRC_PATH not in sys.path:\n",
    "    sys.path.insert(0, SRC_PATH)\n",
    "    print(f\"✅ SRC path added: {SRC_PATH}\")\n",
    "else:\n",
    "    print(f\"🔁 SRC path already in sys.path: {SRC_PATH}\")"
   ]
  },
  {
   "cell_type": "code",
   "execution_count": null,
   "id": "eb40aa60",
   "metadata": {},
   "outputs": [],
   "source": [
    "# nodes/await_payment_confirmation_node.py\n",
    "from langgraph.types import Command\n",
    "\n",
    "def await_payment_confirmation_node(state) -> Command:\n",
    "    reply = [m for m in state[\"messages\"] if m[\"role\"] == \"user\"][-1][\"content\"].lower()\n",
    "    if \"paid\" in reply or \"done\" in reply or \"success\" in reply:\n",
    "        return Command(goto=\"order_finalizer_node\")\n",
    "    else:\n",
    "        return Command(goto=\"await_payment_confirmation\")"
   ]
  }
 ],
 "metadata": {
  "language_info": {
   "name": "python"
  }
 },
 "nbformat": 4,
 "nbformat_minor": 5
}
