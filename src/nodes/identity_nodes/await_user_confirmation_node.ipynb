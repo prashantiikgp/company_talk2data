{
 "cells": [
  {
   "cell_type": "code",
   "execution_count": null,
   "id": "4ae7387e",
   "metadata": {},
   "outputs": [],
   "source": [
    "# %%\n",
    "import sys, os\n",
    "\n",
    "try:\n",
    "    # ✅ Running from a Python script (.py file)\n",
    "    base_path = os.path.abspath(os.path.join(os.path.dirname(__file__), \"..\"))\n",
    "except NameError:\n",
    "    # ✅ Running from a Jupyter notebook (__file__ is not defined)\n",
    "    base_path = os.path.abspath(os.path.join(os.getcwd(), \"..\"))\n",
    "\n",
    "SRC_PATH = os.path.join(base_path)\n",
    "\n",
    "if SRC_PATH not in sys.path:\n",
    "    sys.path.insert(0, SRC_PATH)\n",
    "    print(f\"✅ SRC path added: {SRC_PATH}\")\n",
    "else:\n",
    "    print(f\"🔁 SRC path already in sys.path: {SRC_PATH}\")"
   ]
  },
  {
   "cell_type": "code",
   "execution_count": null,
   "metadata": {},
   "outputs": [],
   "source": [
    "# nodes/await_user_confirmation_node.py\n",
    "\n",
    "from langgraph.types import Command\n",
    "from utils.message_tagging import tag_message\n",
    "from typing import Literal\n",
    "\n",
    "def await_user_confirmation_node(state) -> Command[Literal[\"slot_collector\", \"intent_agent\", \"await_user_confirmation\"]]:\n",
    "    messages = state.get(\"messages\", [])\n",
    "\n",
    "    # Get latest user message\n",
    "    latest_input = \"\"\n",
    "    for msg in reversed(messages):\n",
    "        if msg[\"role\"] == \"user\":\n",
    "            latest_input = msg[\"content\"]\n",
    "            break\n",
    "\n",
    "    # Tag it\n",
    "    user_tag = tag_message(latest_input)\n",
    "\n",
    "    if user_tag == \"confirmation\":\n",
    "        return Command(goto=\"intent_agent\")\n",
    "\n",
    "    elif user_tag == \"denial\":\n",
    "        return Command(goto=\"slot_collector\")\n",
    "\n",
    "    else:\n",
    "        # Not clear, ask again\n",
    "        messages.append({\n",
    "            \"role\": \"assistant\",\n",
    "            \"content\": \"Sorry, could you please confirm again with a clear yes or no?\",\n",
    "            \"meta\": \"clarification_request\"\n",
    "        })\n",
    "\n",
    "        return Command(\n",
    "            update={\"messages\": messages},\n",
    "            goto=\"await_user_confirmation\"\n",
    "        )\n"
   ]
  }
 ],
 "metadata": {
  "language_info": {
   "name": "python"
  }
 },
 "nbformat": 4,
 "nbformat_minor": 5
}
