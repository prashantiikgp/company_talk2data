{
 "cells": [
  {
   "cell_type": "code",
   "execution_count": null,
   "id": "62993325",
   "metadata": {},
   "outputs": [],
   "source": [
    "# %%\n",
    "import sys, os\n",
    "\n",
    "try:\n",
    "    # ✅ Running from a Python script (.py file)\n",
    "    base_path = os.path.abspath(os.path.join(os.path.dirname(__file__), \"..\"))\n",
    "except NameError:\n",
    "    # ✅ Running from a Jupyter notebook (__file__ is not defined)\n",
    "    base_path = os.path.abspath(os.path.join(os.getcwd(), \"..\"))\n",
    "\n",
    "SRC_PATH = os.path.join(base_path)\n",
    "\n",
    "if SRC_PATH not in sys.path:\n",
    "    sys.path.insert(0, SRC_PATH)\n",
    "    print(f\"✅ SRC path added: {SRC_PATH}\")\n",
    "else:\n",
    "    print(f\"🔁 SRC path already in sys.path: {SRC_PATH}\")"
   ]
  },
  {
   "cell_type": "code",
   "execution_count": null,
   "id": "2e883e55",
   "metadata": {},
   "outputs": [],
   "source": [
    "# nodes/slot_validator_node.py\n",
    "\n",
    "from typing import Literal\n",
    "from langgraph.types import Command\n",
    "\n",
    "def slot_validator_node(state) -> Command[Literal[\"await_user_confirmation\"]]:\n",
    "    user_info = state.get(\"user_info\", {})\n",
    "    messages = state.get(\"messages\", [])\n",
    "\n",
    "    name = user_info.get(\"name\", \"unknown\")\n",
    "    phone = user_info.get(\"phone\", \"unknown\")\n",
    "    table = user_info.get(\"table_number\", \"N/A\")\n",
    "    people = user_info.get(\"number_of_people\", \"N/A\")\n",
    "\n",
    "    confirmation_text = (\n",
    "        f\"Just to confirm, your name is {name}, phone number is {phone}, \"\n",
    "        f\"you’re at table {table}, and you're {people} people. Is that correct?\"\n",
    "    )\n",
    "\n",
    "    messages.append({\n",
    "        \"role\": \"assistant\",\n",
    "        \"content\": confirmation_text,\n",
    "        \"meta\": \"identity_confirmation\"\n",
    "    })\n",
    "\n",
    "    return Command(\n",
    "        update={\n",
    "            \"messages\": messages,\n",
    "            \"agent_name\": \"slot_validator\"\n",
    "        },\n",
    "        goto=\"await_user_confirmation\"\n",
    "    )\n"
   ]
  }
 ],
 "metadata": {
  "language_info": {
   "name": "python"
  }
 },
 "nbformat": 4,
 "nbformat_minor": 5
}
