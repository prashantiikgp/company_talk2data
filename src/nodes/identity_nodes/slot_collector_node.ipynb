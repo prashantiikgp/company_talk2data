{
 "cells": [
  {
   "cell_type": "code",
   "execution_count": null,
   "id": "37c94d7c",
   "metadata": {},
   "outputs": [],
   "source": [
    "# %%\n",
    "import sys, os\n",
    "\n",
    "try:\n",
    "    # ✅ Running from a Python script (.py file)\n",
    "    base_path = os.path.abspath(os.path.join(os.path.dirname(__file__), \"..\"))\n",
    "except NameError:\n",
    "    # ✅ Running from a Jupyter notebook (__file__ is not defined)\n",
    "    base_path = os.path.abspath(os.path.join(os.getcwd(), \"..\"))\n",
    "\n",
    "SRC_PATH = os.path.join(base_path)\n",
    "\n",
    "if SRC_PATH not in sys.path:\n",
    "    sys.path.insert(0, SRC_PATH)\n",
    "    print(f\"✅ SRC path added: {SRC_PATH}\")\n",
    "else:\n",
    "    print(f\"🔁 SRC path already in sys.path: {SRC_PATH}\")"
   ]
  },
  {
   "cell_type": "code",
   "execution_count": null,
   "id": "b588025b",
   "metadata": {},
   "outputs": [],
   "source": [
    "# nodes/slot_collector_node.py\n",
    "\n",
    "from typing import Literal\n",
    "from langgraph.types import Command\n",
    "from langchain_core.messages import HumanMessage\n",
    "from agents.restaurant.slot_collector_agent import slot_executor\n",
    "from utils.message_tagging import tag_message\n",
    "\n",
    "def slot_collector_node(state) -> Command[Literal[\"slot_validator\"]]:\n",
    "    messages = state.get(\"messages\", [])\n",
    "    \n",
    "    # Get latest user input\n",
    "    user_input = \"\"\n",
    "    for msg in reversed(messages):\n",
    "        if msg[\"role\"] == \"user\":\n",
    "            user_input = msg[\"content\"]\n",
    "            break\n",
    "\n",
    "    # Tag the message\n",
    "    tagged_msg = {\n",
    "        \"role\": \"user\",\n",
    "        \"content\": user_input,\n",
    "        \"meta\": tag_message(user_input)\n",
    "    }\n",
    "\n",
    "    # Add it to state\n",
    "    messages.append(tagged_msg)\n",
    "\n",
    "    # Run the slot collector agent\n",
    "    result = slot_executor.invoke({\"input\": user_input})\n",
    "\n",
    "    user_info = {\n",
    "        \"name\": result.get(\"name\"),\n",
    "        \"phone\": result.get(\"phone\"),\n",
    "        \"table_number\": result.get(\"table_number\"),\n",
    "        \"number_of_people\": result.get(\"number_of_people\"),\n",
    "    }\n",
    "\n",
    "    return Command(\n",
    "        update={\n",
    "            \"messages\": messages,\n",
    "            \"user_info\": user_info,\n",
    "            \"agent_name\": \"slot_collector\"\n",
    "        },\n",
    "        goto=\"slot_validator\"\n",
    "    )\n"
   ]
  },
  {
   "cell_type": "code",
   "execution_count": null,
   "metadata": {},
   "outputs": [],
   "source": []
  }
 ],
 "metadata": {
  "language_info": {
   "name": "python"
  }
 },
 "nbformat": 4,
 "nbformat_minor": 5
}
