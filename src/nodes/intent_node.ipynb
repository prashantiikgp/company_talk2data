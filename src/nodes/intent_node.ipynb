{
 "cells": [
  {
   "cell_type": "code",
   "execution_count": null,
   "id": "ab7e57fc",
   "metadata": {},
   "outputs": [],
   "source": [
    "# %%\n",
    "import sys, os\n",
    "\n",
    "try:\n",
    "    # ✅ Running from a Python script (.py file)\n",
    "    base_path = os.path.abspath(os.path.join(os.path.dirname(__file__), \"..\"))\n",
    "except NameError:\n",
    "    # ✅ Running from a Jupyter notebook (__file__ is not defined)\n",
    "    base_path = os.path.abspath(os.path.join(os.getcwd(), \"..\"))\n",
    "\n",
    "SRC_PATH = os.path.join(base_path)\n",
    "\n",
    "if SRC_PATH not in sys.path:\n",
    "    sys.path.insert(0, SRC_PATH)\n",
    "    print(f\"✅ SRC path added: {SRC_PATH}\")\n",
    "else:\n",
    "    print(f\"🔁 SRC path already in sys.path: {SRC_PATH}\")"
   ]
  },
  {
   "cell_type": "code",
   "execution_count": null,
   "id": "9415c3c4",
   "metadata": {},
   "outputs": [],
   "source": [
    "from langgraph.types import Command\n",
    "from utils.intent_keywords import INTENT_KEYWORDS\n",
    "\n",
    "def detect_intent(text: str) -> str:\n",
    "    text = text.lower()\n",
    "    for intent, keywords in INTENT_KEYWORDS.items():\n",
    "        if any(kw in text for kw in keywords):\n",
    "            return intent\n",
    "    return \"unknown\"\n",
    "\n",
    "def intent_node(state) -> Command:\n",
    "    user_msg = [m for m in state[\"messages\"] if m[\"role\"] == \"user\"][-1][\"content\"]\n",
    "    detected_intent = detect_intent(user_msg)\n",
    "\n",
    "    return Command(\n",
    "        update={\n",
    "            \"intent\": detected_intent,\n",
    "            \"messages\": state[\"messages\"] + [{\"role\": \"intent\", \"content\": detected_intent}],\n",
    "            \"agent_name\": \"intent_router\"\n",
    "        },\n",
    "        goto=\"supervisor\"\n",
    "    )\n"
   ]
  }
 ],
 "metadata": {
  "language_info": {
   "name": "python"
  }
 },
 "nbformat": 4,
 "nbformat_minor": 5
}
