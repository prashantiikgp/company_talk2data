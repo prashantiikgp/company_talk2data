{
 "cells": [
  {
   "cell_type": "code",
   "execution_count": 14,
   "id": "e9b4875d",
   "metadata": {},
   "outputs": [
    {
     "name": "stdout",
     "output_type": "stream",
     "text": [
      "Base directory: /home/prashant-agrawal/Netflix_Project/src\n"
     ]
    }
   ],
   "source": [
    "import os\n",
    "import sys\n",
    "\n",
    "def get_base_dir(levels_up: int = 1) -> str:\n",
    "    \"\"\"\n",
    "    Returns the base directory of the project.\n",
    "\n",
    "    - Uses __file__ when run from .py\n",
    "    - Uses os.getcwd() when in notebook\n",
    "    \"\"\"\n",
    "    try:\n",
    "        # In .py files\n",
    "        current_file = os.path.abspath(__file__)\n",
    "        return os.path.abspath(os.path.join(os.path.dirname(current_file), *[\"..\"] * levels_up))\n",
    "    except NameError:\n",
    "        # In Jupyter notebooks\n",
    "        return os.path.abspath(os.path.join(os.getcwd(), *[\"..\"] * levels_up))\n",
    "\n",
    "print(f\"Base directory: {get_base_dir()}\")\n"
   ]
  },
  {
   "cell_type": "code",
   "execution_count": 15,
   "id": "e08415f0",
   "metadata": {},
   "outputs": [
    {
     "name": "stdout",
     "output_type": "stream",
     "text": [
      "Vector store path: /home/prashant-agrawal/Netflix_Project/src/database/vector_store/faiss_full_row_index\n"
     ]
    }
   ],
   "source": [
    "import os\n",
    "import sys\n",
    "\n",
    "def get_vector_store_path(subfolder: str = \"faiss_full_row_index\") -> str:\n",
    "    \"\"\"\n",
    "    Returns the full path to the FAISS vector store directory.\n",
    "    \"\"\"\n",
    "    base_dir = get_base_dir()\n",
    "    return os.path.join(base_dir, \"database\", \"vector_store\", subfolder)\n",
    "\n",
    "print(f\"Vector store path: {get_vector_store_path()}\")\n"
   ]
  },
  {
   "cell_type": "code",
   "execution_count": 16,
   "id": "ea46579e",
   "metadata": {},
   "outputs": [
    {
     "name": "stdout",
     "output_type": "stream",
     "text": [
      "Graph store path: /home/prashant-agrawal/Netflix_Project/src/database/graph\n"
     ]
    }
   ],
   "source": [
    "import os\n",
    "import sys\n",
    "\n",
    "def get_graph_store_path() -> str:\n",
    "    \"\"\"\n",
    "    Returns path to Neo4j CSVs or configs if needed.\n",
    "    \"\"\"\n",
    "    base_dir = get_base_dir()\n",
    "    return os.path.join(base_dir, \"database\", \"graph\")\n",
    "print(f\"Graph store path: {get_graph_store_path()}\")"
   ]
  },
  {
   "cell_type": "code",
   "execution_count": 17,
   "id": "b91ac334",
   "metadata": {},
   "outputs": [
    {
     "name": "stdout",
     "output_type": "stream",
     "text": [
      "Qdrant store path: /home/prashant-agrawal/Netflix_Project/src/database/qdrant_store_local_db/collection\n"
     ]
    }
   ],
   "source": [
    "def get_qdrant_store_path(subfolder: str = \"collection\") -> str:\n",
    "    base_dir = get_base_dir()\n",
    "    return os.path.join(base_dir, \"database\", \"qdrant_store_local_db\", subfolder)\n",
    "\n",
    "print(f\"Qdrant store path: {get_qdrant_store_path()}\")"
   ]
  },
  {
   "cell_type": "code",
   "execution_count": 21,
   "id": "a1e66fcc",
   "metadata": {},
   "outputs": [
    {
     "name": "stdout",
     "output_type": "stream",
     "text": [
      "Data path: /home/prashant-agrawal/Netflix_Project/src/Data/Enriched_Indian_Startup_Dataset.csv\n"
     ]
    }
   ],
   "source": [
    "import os\n",
    "\n",
    "# Get the path to the enriched Indian startup dataset\n",
    "\n",
    "def get_data_path() -> str:\n",
    "    base_dir = get_base_dir()\n",
    "    return os.path.join(get_base_dir(), \"Data\", \"Enriched_Indian_Startup_Dataset.csv\")\n",
    "print(f\"Data path: {get_data_path()}\")\n",
    "\n"
   ]
  }
 ],
 "metadata": {
  "kernelspec": {
   "display_name": "venv",
   "language": "python",
   "name": "python3"
  },
  "language_info": {
   "codemirror_mode": {
    "name": "ipython",
    "version": 3
   },
   "file_extension": ".py",
   "mimetype": "text/x-python",
   "name": "python",
   "nbconvert_exporter": "python",
   "pygments_lexer": "ipython3",
   "version": "3.10.17"
  }
 },
 "nbformat": 4,
 "nbformat_minor": 5
}
