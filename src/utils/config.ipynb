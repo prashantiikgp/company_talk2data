{
 "cells": [
  {
   "cell_type": "code",
   "execution_count": null,
   "id": "54644112",
   "metadata": {},
   "outputs": [],
   "source": [
    "# src/utils/config.py\n",
    "\n",
    "# 🔍 Vector Search Config\n",
    "DEFAULT_K = 5\n",
    "USE_FILTERS = True\n",
    "VECTOR_RETRIEVAL_MODE = \"semantic\"  # options: \"semantic\", \"hybrid\", \"keyword\"\n",
    "\n",
    "# 🔠 Embeddings\n",
    "EMBEDDING_MODEL_NAME = \"text-embedding-3-small\"  # For OpenAI\n",
    "EMBEDDING_DIMENSIONS = 1536\n",
    "\n",
    "# 🧠 LLM Configs\n",
    "LLM_MODEL_NAME = \"gpt-3.5-turbo\"\n",
    "LLM_TEMPERATURE = 0.2\n",
    "\n",
    "# 🔧 Feature Flags\n",
    "ENABLE_LANGSMITH = False\n",
    "ENABLE_LOGGING = True\n",
    "DEBUG_MODE = True\n",
    "\n",
    "# 📊 Post-processing\n",
    "ENABLE_RERANKING = False\n",
    "ENABLE_EVALUATION = True\n",
    "\n",
    "# 🌐 Qdrant & Vector Stores\n",
    "QDRANT_COLLECTION_NAME = \"startups_data_collection\"\n",
    "FAISS_INDEX_TYPE = \"fullrow\"  # or \"chunk\"\n",
    "\n",
    "# 🧪 Evaluation\n",
    "ENABLE_EVALUATOR_AGENT = True\n",
    "EVAL_STRATEGY = \"score_and_merge\"  # or \"winner_takes_all\""
   ]
  }
 ],
 "metadata": {
  "language_info": {
   "name": "python"
  }
 },
 "nbformat": 4,
 "nbformat_minor": 5
}
