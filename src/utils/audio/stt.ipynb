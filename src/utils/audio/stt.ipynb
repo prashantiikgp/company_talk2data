{
 "cells": [
  {
   "cell_type": "code",
   "execution_count": 3,
   "id": "73f2e317",
   "metadata": {},
   "outputs": [
    {
     "name": "stdout",
     "output_type": "stream",
     "text": [
      "✅ SRC path added: /home/prashant-agrawal/projects/company_talk2data/src\n"
     ]
    }
   ],
   "source": [
    "# Ensure src/ is in sys.path so 'tools' can be imported\n",
    "# %%\n",
    "import sys, os\n",
    "try:\n",
    "    # ✅ Running from a Python script (.py file)\n",
    "    TOOLS_PATH = os.path.abspath(os.path.join(os.path.dirname(__file__),\"..\",\"..\"))\n",
    "except NameError:\n",
    "    # ✅ Running from a Jupyter notebook (__file__ is not defined)\n",
    "    TOOLS_PATH = os.path.abspath(os.path.join(os.getcwd(), \"..\",\"..\"))\n",
    "SRC_PATH = os.path.join(TOOLS_PATH)\n",
    "\n",
    "\n",
    "if SRC_PATH not in sys.path:\n",
    "    sys.path.insert(0, SRC_PATH)\n",
    "    print(f\"✅ SRC path added: {SRC_PATH}\")\n",
    "else:\n",
    "    print(f\"🔁 SRC path already in sys.path: {SRC_PATH}\")"
   ]
  },
  {
   "cell_type": "code",
   "execution_count": null,
   "id": "ac05c4a5",
   "metadata": {},
   "outputs": [],
   "source": [
    "# src/utils/audio/stt_assembly.py\n",
    "\n",
    "import requests, time\n",
    "from typing import Optional\n",
    "\n",
    "class AssemblyAITranscriber:\n",
    "    def __init__(self, api_key: str):\n",
    "        self.api_key = api_key\n",
    "        self.headers = {\n",
    "            \"authorization\": api_key,\n",
    "            \"content-type\": \"application/json\"\n",
    "        }\n",
    "\n",
    "    def upload_audio(self, filepath: str) -> str:\n",
    "        with open(filepath, 'rb') as f:\n",
    "            response = requests.post(\n",
    "                \"https://api.assemblyai.com/v2/upload\",\n",
    "                headers={\"authorization\": self.api_key},\n",
    "                data=f\n",
    "            )\n",
    "        return response.json()['upload_url']\n",
    "\n",
    "    def transcribe(self, audio_url: str) -> Optional[str]:\n",
    "        transcript_request = {\n",
    "            \"audio_url\": audio_url,\n",
    "            \"language_code\": \"en-IN\"\n",
    "        }\n",
    "        response = requests.post(\n",
    "            \"https://api.assemblyai.com/v2/transcript\",\n",
    "            json=transcript_request,\n",
    "            headers=self.headers\n",
    "        )\n",
    "        transcript_id = response.json()['id']\n",
    "\n",
    "        while True:\n",
    "            poll = requests.get(\n",
    "                f\"https://api.assemblyai.com/v2/transcript/{transcript_id}\",\n",
    "                headers=self.headers\n",
    "            )\n",
    "            status = poll.json()['status']\n",
    "            if status == 'completed':\n",
    "                return poll.json()['text']\n",
    "            elif status == 'error':\n",
    "                return None\n",
    "            time.sleep(2)\n"
   ]
  },
  {
   "cell_type": "code",
   "execution_count": null,
   "id": "6939b0e0",
   "metadata": {},
   "outputs": [],
   "source": []
  }
 ],
 "metadata": {
  "kernelspec": {
   "display_name": "myvenv",
   "language": "python",
   "name": "python3"
  },
  "language_info": {
   "codemirror_mode": {
    "name": "ipython",
    "version": 3
   },
   "file_extension": ".py",
   "mimetype": "text/x-python",
   "name": "python",
   "nbconvert_exporter": "python",
   "pygments_lexer": "ipython3",
   "version": "3.10.17"
  }
 },
 "nbformat": 4,
 "nbformat_minor": 5
}
