{
 "cells": [
  {
   "cell_type": "code",
   "execution_count": null,
   "id": "f96b11f8",
   "metadata": {},
   "outputs": [],
   "source": [
    "pip install langgraph-supervisor langchain-openai\n",
    "\n",
    "export OPENAI_API_KEY="
   ]
  }
 ],
 "metadata": {
  "language_info": {
   "name": "python"
  }
 },
 "nbformat": 4,
 "nbformat_minor": 5
}
