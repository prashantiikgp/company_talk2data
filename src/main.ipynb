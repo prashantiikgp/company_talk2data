{
 "cells": [
  {
   "cell_type": "code",
   "execution_count": 3,
   "id": "f96b11f8",
   "metadata": {},
   "outputs": [],
   "source": [
    "%%capture --no-stderr\n",
    "%pip install -U langchain langchain-openai"
   ]
  },
  {
   "cell_type": "code",
   "execution_count": null,
   "id": "503399c5",
   "metadata": {},
   "outputs": [],
   "source": [
    "# .env setup OR programmatic setup\n",
    "%pip install openai\n",
    "\n",
    "import os\n",
    "import openai\n",
    "from langsmith import Client\n",
    "\n",
    "LANGSMITH_TRACING=True\n",
    "LANGSMITH_ENDPOINT= \"https://api.smith.langchain.com\"\n",
    "LANGSMITH_API_KEY=os.getenv(\"LANGSMITH_API_KEY\") \n",
    "openai.api_key=os.environ[\"OPENAI_API_KEY\"]\n",
    "\n",
    "# Set tracing in LangGraph\n",
    "from langchain_core.tracers import ConsoleCallbackHandler\n",
    "callbacks = [ConsoleCallbackHandler()]  #"
   ]
  },
  {
   "cell_type": "code",
   "execution_count": null,
   "id": "a191ec4e",
   "metadata": {},
   "outputs": [],
   "source": [
    "\n",
    "def get_llm():\n",
    "    return ChatOpenAI(model=\"gpt-4\", temperature="
   ]
  }
 ],
 "metadata": {
  "kernelspec": {
   "display_name": "venv",
   "language": "python",
   "name": "python3"
  },
  "language_info": {
   "codemirror_mode": {
    "name": "ipython",
    "version": 3
   },
   "file_extension": ".py",
   "mimetype": "text/x-python",
   "name": "python",
   "nbconvert_exporter": "python",
   "pygments_lexer": "ipython3",
   "version": "3.10.16"
  }
 },
 "nbformat": 4,
 "nbformat_minor": 5
}
