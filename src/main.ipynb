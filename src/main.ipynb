{
 "cells": [
  {
   "cell_type": "code",
   "execution_count": 4,
   "id": "f96b11f8",
   "metadata": {},
   "outputs": [
    {
     "name": "stdout",
     "output_type": "stream",
     "text": [
      "✅ SRC path added: /home/prashant-agrawal/projects/netflix_talk2data/src\n"
     ]
    }
   ],
   "source": [
    "# %%\n",
    "import sys, os\n",
    "try:\n",
    "    # ✅ Running from a Python script (.py file)\n",
    "    TOOLS_PATH = os.path.abspath(os.path.join(os.path.dirname(__file__)))\n",
    "except NameError:\n",
    "    # ✅ Running from a Jupyter notebook (__file__ is not defined)\n",
    "    TOOLS_PATH = os.path.abspath(os.path.join(os.getcwd()))\n",
    "\n",
    "SRC_PATH = os.path.join(TOOLS_PATH)\n",
    "\n",
    "if SRC_PATH not in sys.path:\n",
    "    sys.path.insert(0, SRC_PATH)\n",
    "    print(f\"✅ SRC path added: {SRC_PATH}\")\n",
    "else:\n",
    "    print(f\"🔁 SRC path already in sys.path: {SRC_PATH}\")"
   ]
  },
  {
   "cell_type": "code",
   "execution_count": null,
   "id": "503399c5",
   "metadata": {},
   "outputs": [],
   "source": [
    "import os\n",
    "import openai\n",
    "from langsmith import Client\n",
    "\n",
    "LANGSMITH_TRACING=True\n",
    "LANGSMITH_ENDPOINT= \"https://api.smith.langchain.com\"\n",
    "LANGSMITH_API_KEY=os.getenv(\"LANGSMITH_API_KEY\") \n",
    "openai.api_key=os.environ[\"OPENAI_API_KEY\"]\n",
    "\n",
    "# Set tracing in LangGraph\n",
    "from langchain_core.tracers import ConsoleCallbackHandler\n",
    "callbacks = [ConsoleCallbackHandler()]  #"
   ]
  },
  {
   "cell_type": "code",
   "execution_count": 6,
   "id": "a191ec4e",
   "metadata": {},
   "outputs": [
    {
     "ename": "ModuleNotFoundError",
     "evalue": "No module named 'tools.graph_query'",
     "output_type": "error",
     "traceback": [
      "\u001b[0;31m---------------------------------------------------------------------------\u001b[0m",
      "\u001b[0;31mModuleNotFoundError\u001b[0m                       Traceback (most recent call last)",
      "Cell \u001b[0;32mIn[6], line 3\u001b[0m\n\u001b[1;32m      1\u001b[0m \u001b[38;5;66;03m# src/main.py\u001b[39;00m\n\u001b[0;32m----> 3\u001b[0m \u001b[38;5;28;01mfrom\u001b[39;00m\u001b[38;5;250m \u001b[39m\u001b[38;5;21;01mgraph\u001b[39;00m\u001b[38;5;21;01m.\u001b[39;00m\u001b[38;5;21;01mworkflow\u001b[39;00m\u001b[38;5;250m \u001b[39m\u001b[38;5;28;01mimport\u001b[39;00m build_graph\n\u001b[1;32m      5\u001b[0m \u001b[38;5;28;01mdef\u001b[39;00m\u001b[38;5;250m \u001b[39m\u001b[38;5;21mrun_once\u001b[39m(user_query: \u001b[38;5;28mstr\u001b[39m):\n\u001b[1;32m      6\u001b[0m \u001b[38;5;250m    \u001b[39m\u001b[38;5;124;03m\"\"\"\u001b[39;00m\n\u001b[1;32m      7\u001b[0m \u001b[38;5;124;03m    Build the graph, run it end‑to‑end, and return the final AgentState.\u001b[39;00m\n\u001b[1;32m      8\u001b[0m \u001b[38;5;124;03m    \"\"\"\u001b[39;00m\n",
      "File \u001b[0;32m~/projects/netflix_talk2data/src/graph/workflow.py:2\u001b[0m\n\u001b[1;32m      1\u001b[0m \u001b[38;5;28;01mfrom\u001b[39;00m\u001b[38;5;250m \u001b[39m\u001b[38;5;21;01mlanggraph\u001b[39;00m\u001b[38;5;21;01m.\u001b[39;00m\u001b[38;5;21;01mgraph\u001b[39;00m\u001b[38;5;250m \u001b[39m\u001b[38;5;28;01mimport\u001b[39;00m StateGraph\n\u001b[0;32m----> 2\u001b[0m \u001b[38;5;28;01mfrom\u001b[39;00m\u001b[38;5;250m \u001b[39m\u001b[38;5;21;01magents\u001b[39;00m\u001b[38;5;250m \u001b[39m\u001b[38;5;28;01mimport\u001b[39;00m rag_agent, graph_agent, evaluator_agent, enhancer_agent, supervisor\n\u001b[1;32m      3\u001b[0m \u001b[38;5;28;01mfrom\u001b[39;00m\u001b[38;5;250m \u001b[39m\u001b[38;5;21;01mtyping\u001b[39;00m\u001b[38;5;250m \u001b[39m\u001b[38;5;28;01mimport\u001b[39;00m TypedDict\n\u001b[1;32m      4\u001b[0m \u001b[38;5;28;01mfrom\u001b[39;00m\u001b[38;5;250m \u001b[39m\u001b[38;5;21;01mschema\u001b[39;00m\u001b[38;5;21;01m.\u001b[39;00m\u001b[38;5;21;01magent_state\u001b[39;00m\u001b[38;5;250m \u001b[39m\u001b[38;5;28;01mimport\u001b[39;00m AgentState\n",
      "File \u001b[0;32m~/projects/netflix_talk2data/src/agents/graph_agent.py:7\u001b[0m\n\u001b[1;32m      5\u001b[0m \u001b[38;5;28;01mfrom\u001b[39;00m\u001b[38;5;250m \u001b[39m\u001b[38;5;21;01mlanggraph\u001b[39;00m\u001b[38;5;21;01m.\u001b[39;00m\u001b[38;5;21;01mprebuilt\u001b[39;00m\u001b[38;5;250m \u001b[39m\u001b[38;5;28;01mimport\u001b[39;00m create_react_agent\n\u001b[1;32m      6\u001b[0m \u001b[38;5;28;01mfrom\u001b[39;00m\u001b[38;5;250m \u001b[39m\u001b[38;5;21;01mconfig\u001b[39;00m\u001b[38;5;21;01m.\u001b[39;00m\u001b[38;5;21;01msetup\u001b[39;00m\u001b[38;5;250m \u001b[39m\u001b[38;5;28;01mimport\u001b[39;00m get_llm\n\u001b[0;32m----> 7\u001b[0m \u001b[38;5;28;01mfrom\u001b[39;00m\u001b[38;5;250m \u001b[39m\u001b[38;5;21;01mtools\u001b[39;00m\u001b[38;5;21;01m.\u001b[39;00m\u001b[38;5;21;01mgraph_query\u001b[39;00m\u001b[38;5;250m \u001b[39m\u001b[38;5;28;01mimport\u001b[39;00m graph_query_tool\n\u001b[1;32m      9\u001b[0m llm \u001b[38;5;241m=\u001b[39m get_llm()\n\u001b[1;32m     11\u001b[0m graph_agent \u001b[38;5;241m=\u001b[39m create_react_agent(\n\u001b[1;32m     12\u001b[0m     llm,\n\u001b[1;32m     13\u001b[0m     tools\u001b[38;5;241m=\u001b[39m[graph_query_tool],\n\u001b[1;32m     14\u001b[0m     prompt\u001b[38;5;241m=\u001b[39m\u001b[38;5;124m\"\u001b[39m\u001b[38;5;124mYou are a Graph Search agent. Use graph_query_tool to retrieve structured data.\u001b[39m\u001b[38;5;124m\"\u001b[39m\n\u001b[1;32m     15\u001b[0m )\n",
      "\u001b[0;31mModuleNotFoundError\u001b[0m: No module named 'tools.graph_query'"
     ]
    }
   ],
   "source": [
    "# src/main.py\n",
    "\n",
    "from graph.workflow import build_graph\n",
    "\n",
    "def run_once(user_query: str):\n",
    "    \"\"\"\n",
    "    Build the graph, run it end‑to‑end, and return the final AgentState.\n",
    "    \"\"\"\n",
    "    # 1) Compile the workflow\n",
    "    graph = build_graph()\n",
    "\n",
    "    # 2) Prepare the initial state for LangGraph\n",
    "    #    All nodes share this same AgentState schema.\n",
    "    initial_state = {\n",
    "        \"messages\": [ {\"role\": \"user\", \"content\": user_query} ]\n",
    "    }\n",
    "\n",
    "    # 3) Invoke the graph synchronously (follows supervisor→enhancer→search→END)\n",
    "    final_state = graph.invoke(initial_state)\n",
    "\n",
    "    # 4) Inspect or return the final state\n",
    "    return final_state\n",
    "\n",
    "if __name__ == \"__main__\":\n",
    "    query = \"Find B2B SaaS startups in India with > $10M funding\"\n",
    "    result = run_once(query)\n",
    "\n",
    "    print(\"=== Final State ===\")\n",
    "    print(f\"Enhanced Query   : {result.get('enhanced_query')}\")\n",
    "    print(f\"Filters          : {result.get('filters')}\")\n",
    "    print(f\"Top‑K (k)        : {result.get('k')}\")\n",
    "    print(f\"Results          : {result.get('retrieved_results')}\")\n",
    "    print(f\"Trace Actions    : {result.get('actions')}\")\n",
    "    print(f\"Trace Observations: {result.get('observations')}\")"
   ]
  }
 ],
 "metadata": {
  "kernelspec": {
   "display_name": "venv",
   "language": "python",
   "name": "python3"
  },
  "language_info": {
   "codemirror_mode": {
    "name": "ipython",
    "version": 3
   },
   "file_extension": ".py",
   "mimetype": "text/x-python",
   "name": "python",
   "nbconvert_exporter": "python",
   "pygments_lexer": "ipython3",
   "version": "3.10.17"
  }
 },
 "nbformat": 4,
 "nbformat_minor": 5
}
