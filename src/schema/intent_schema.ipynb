{
 "cells": [
  {
   "cell_type": "code",
   "execution_count": null,
   "id": "402e7501",
   "metadata": {},
   "outputs": [],
   "source": []
  },
  {
   "cell_type": "code",
   "execution_count": null,
   "id": "cb7b6cf5",
   "metadata": {},
   "outputs": [],
   "source": [
    "# schema/intent_schema.py\n",
    "\n",
    "from pydantic import BaseModel, Field\n",
    "\n",
    "class IntentInput(BaseModel):\n",
    "    query: str = Field(..., description=\"The user's message\")\n",
    "\n",
    "class IntentOutput(BaseModel):\n",
    "    intent: str = Field(..., description=\"One of: search, recommend, offer, order\")\n",
    "    confidence: float = Field(..., description=\"Confidence between 0 and 1\")\n"
   ]
  }
 ],
 "metadata": {
  "language_info": {
   "name": "python"
  }
 },
 "nbformat": 4,
 "nbformat_minor": 5
}
