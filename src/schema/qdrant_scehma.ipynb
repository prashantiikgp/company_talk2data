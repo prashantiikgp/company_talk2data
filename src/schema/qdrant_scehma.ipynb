{
 "cells": [
  {
   "cell_type": "code",
   "execution_count": 1,
   "id": "24df841a",
   "metadata": {},
   "outputs": [
    {
     "name": "stdout",
     "output_type": "stream",
     "text": [
      "✅ SRC Path: /home/prashant-agrawal/projects/netflix_talk2data/src\n"
     ]
    }
   ],
   "source": [
    "# %% 📝 Souring Path\n",
    "import sys, os\n",
    "SRC_PATH = os.path.abspath(os.path.join(os.getcwd(), \"..\", \"..\", \"src\"))\n",
    "if SRC_PATH not in sys.path:\n",
    "    sys.path.insert(0, SRC_PATH)\n",
    "print(f\"✅ SRC Path: {SRC_PATH}\")\n"
   ]
  },
  {
   "cell_type": "code",
   "execution_count": 3,
   "id": "bbf05d80",
   "metadata": {},
   "outputs": [],
   "source": [
    "from qdrant_client.http.models import PayloadSchemaType\n",
    "\n",
    "PAYLOAD_SCHEMA = {\n",
    "    \"company_name\": PayloadSchemaType.TEXT,  # TEXT or KEYWORD\n",
    "    \"legal_entity_type\": PayloadSchemaType.KEYWORD,\n",
    "    \"state\": PayloadSchemaType.KEYWORD,\n",
    "    \"headquarters_city\": PayloadSchemaType.KEYWORD,\n",
    "\n",
    "    \"year_founded\": {\n",
    "        \"type\": PayloadSchemaType.INTEGER,\n",
    "        \"params\": {\"range\": True}\n",
    "    },\n",
    "\n",
    "    \"company_website\": PayloadSchemaType.KEYWORD,\n",
    "    \"logo_url\": PayloadSchemaType.KEYWORD,\n",
    "    \"company_description_short\": PayloadSchemaType.TEXT,\n",
    "    \"company_description_long\": PayloadSchemaType.TEXT,\n",
    "    \"industry_sector\": PayloadSchemaType.KEYWORD,\n",
    "\n",
    "    \"total_funding_raised_inr\": {\n",
    "        \"type\": PayloadSchemaType.INTEGER,\n",
    "        \"params\": {\"range\": True}\n",
    "    },\n",
    "\n",
    "    \"number_of_funding_rounds\": {\n",
    "        \"type\": PayloadSchemaType.INTEGER,\n",
    "        \"params\": {\"range\": True}\n",
    "    },\n",
    "\n",
    "    \"latest_funding_round_type\": PayloadSchemaType.KEYWORD,\n",
    "    \"latest_funding_date\": PayloadSchemaType.KEYWORD,\n",
    "    \"lead_investors\": PayloadSchemaType.KEYWORD,\n",
    "\n",
    "    \"revenue_estimate_annual\": {\n",
    "        \"type\": PayloadSchemaType.INTEGER,\n",
    "        \"params\": {\"range\": True}\n",
    "    },\n",
    "\n",
    "    \"valuation_estimate_if_available\": {\n",
    "        \"type\": PayloadSchemaType.INTEGER,\n",
    "        \"params\": {\"range\": True}\n",
    "    },\n",
    "\n",
    "    \"number_of_employees_current\": {\n",
    "        \"type\": PayloadSchemaType.INTEGER,\n",
    "        \"params\": {\"range\": True}\n",
    "    },\n",
    "\n",
    "    \"number_of_employees_estimate_range\": PayloadSchemaType.KEYWORD,\n",
    "    \"key_people\": PayloadSchemaType.KEYWORD,\n",
    "    \"founders\": PayloadSchemaType.KEYWORD,\n",
    "    \"board_members_advisors\": PayloadSchemaType.KEYWORD,\n",
    "\n",
    "    \"employee_growth_yoy\": {\n",
    "        \"type\": PayloadSchemaType.FLOAT,\n",
    "        \"params\": {\"range\": True}\n",
    "    },\n",
    "\n",
    "    \"hiring_status\": PayloadSchemaType.KEYWORD,\n",
    "    \"popular_roles_open\": PayloadSchemaType.KEYWORD,\n",
    "    \"primary_products_services\": PayloadSchemaType.KEYWORD,\n",
    "    \"product_categories\": PayloadSchemaType.KEYWORD,\n",
    "    \"tech_stack\": PayloadSchemaType.KEYWORD,\n",
    "    \"integrations_apis_offered\": PayloadSchemaType.KEYWORD,\n",
    "    \"target_market\": PayloadSchemaType.KEYWORD,\n",
    "    \"major_customers_logos\": PayloadSchemaType.KEYWORD,\n",
    "    \"press_mentions_recent_news\": PayloadSchemaType.KEYWORD,\n",
    "    \"competitors\": PayloadSchemaType.KEYWORD\n",
    "}\n"
   ]
  }
 ],
 "metadata": {
  "kernelspec": {
   "display_name": "venv",
   "language": "python",
   "name": "python3"
  },
  "language_info": {
   "codemirror_mode": {
    "name": "ipython",
    "version": 3
   },
   "file_extension": ".py",
   "mimetype": "text/x-python",
   "name": "python",
   "nbconvert_exporter": "python",
   "pygments_lexer": "ipython3",
   "version": "3.10.17"
  }
 },
 "nbformat": 4,
 "nbformat_minor": 5
}
