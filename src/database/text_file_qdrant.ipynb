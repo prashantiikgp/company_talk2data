{
 "cells": [
  {
   "cell_type": "code",
   "execution_count": null,
   "id": "9fd4abde",
   "metadata": {},
   "outputs": [],
   "source": [
    "# %% 📝 Souring Path\n",
    "import sys, os\n",
    "SRC_PATH = os.path.abspath(os.path.join(os.getcwd(), \"..\", \"..\", \"src\"))\n",
    "if SRC_PATH not in sys.path:\n",
    "    sys.path.insert(0, SRC_PATH)\n",
    "print(f\"✅ SRC Path: {SRC_PATH}\")\n"
   ]
  },
  {
   "cell_type": "code",
   "execution_count": null,
   "id": "c875e73b",
   "metadata": {},
   "outputs": [],
   "source": [
    "# Python imports & libraries\n",
    "from langchain_community.vectorstores import Qdrant\n",
    "from langchain_openai import OpenAIEmbeddings\n",
    "from langchain_core.documents import Document\n",
    "from qdrant_client.http.models import Range\n",
    "from qdrant_client import QdrantClient\n",
    "from qdrant_client.http.models import VectorParams, Distance, PayloadSchemaType, FieldCondition, MatchValue, Filter\n",
    "from typing import Dict, Union, Any\n",
    "import pandas as pd\n",
    "import re\n",
    "import json\n",
    "\n",
    "# 🚀 Import your utility loaders\n",
    "from utils.qdrant_client_loader import get_qdrant_collection_name\n",
    "from utils.path_config import get_base_dir, get_data_path, get_qdrant_store_path, get_schema_path\n",
    "\n",
    "# %% 📁 Paths\n",
    "BASE_DIR = get_base_dir()\n",
    "DATA_PATH = get_data_path()\n",
    "SCHEMA_OUTPUT_PATH = get_schema_path()\n",
    "qdrant_store_path = get_qdrant_store_path()\n",
    "COLLECTION_NAME = get_qdrant_collection_name()\n",
    "\n",
    "print(f\"📌 Base Dir: {BASE_DIR}\")\n",
    "print(f\"📌 CSV Path: {DATA_PATH}\")\n",
    "print(f\"📌 Qdrant Local Path: {qdrant_store_path}\")\n",
    "print(f\"📌 Collection Name: {COLLECTION_NAME}\")\n",
    "print(f\"📌 Schema Path: {SCHEMA_OUTPUT_PATH}\")\n",
    "\n"
   ]
  },
  {
   "cell_type": "code",
   "execution_count": null,
   "id": "a8590dd6",
   "metadata": {},
   "outputs": [],
   "source": [
    "\n",
    "# --- Utility: Normalize ---\n",
    "def normalize_field_name(field: str) -> str:\n",
    "    field = field.strip().lower()\n",
    "    field = re.sub(r\"[ ()/]\", \"_\", field)\n",
    "    return re.sub(r\"[^a-zA-Z0-9_]\", \"\", field)\n",
    "\n",
    "def normalize_field_value(value) -> str:\n",
    "    return str(value).strip().lower()\n"
   ]
  },
  {
   "cell_type": "code",
   "execution_count": null,
   "id": "7f6342aa",
   "metadata": {},
   "outputs": [],
   "source": [
    "# --- 1. Load CSV ---\n",
    "df = pd.read_csv(DATA_PATH)\n",
    "df = df.dropna(subset=[\"Company Description (Long)\"]).reset_index(drop=True)\n",
    "\n",
    "# --- 2. Prepare Documents ---\n",
    "def load_documents_from_df(df: pd.DataFrame):\n",
    "    docs = []\n",
    "    for _, row in df.iterrows():\n",
    "        metadata = {\n",
    "            normalize_field_name(str(k)): normalize_field_value(v)\n",
    "            for k, v in row.items() if pd.notna(v)\n",
    "        }\n",
    "        # Only the main description as page_content!\n",
    "        content = str(row['Company Description (Long)']) if 'Company Description (Long)' in row else \"\"\n",
    "        docs.append(Document(page_content=content, metadata=metadata))\n",
    "    return docs\n",
    "\n",
    "documents = load_documents_from_df(df)\n",
    "print(f\"📚 Loaded {len(documents)} documents\")\n",
    "print(\"🔑 Sample Metadata Keys:\", list(documents[0].metadata.keys()))\n",
    "\n"
   ]
  },
  {
   "cell_type": "code",
   "execution_count": null,
   "id": "c416c134",
   "metadata": {},
   "outputs": [],
   "source": [
    "docs = client.scroll(collection_name=COLLECTION_NAME, with_payload=True, limit=5)[0]\n",
    "for d in docs:\n",
    "    print(d.payload)"
   ]
  },
  {
   "cell_type": "code",
   "execution_count": null,
   "id": "9ec1bf52",
   "metadata": {},
   "outputs": [],
   "source": [
    "# %% ✅ Explicitly Create Qdrant Collection\n",
    "from qdrant_client import QdrantClient\n",
    "from qdrant_client.http.models import VectorParams, Distance\n",
    "\n",
    "# %% 🔁 Recreate Qdrant Collection (Optional but Recommended)\n",
    "client = QdrantClient(host=\"localhost\", port=6333)\n",
    "\n",
    "if client.collection_exists(COLLECTION_NAME):\n",
    "    client.delete_collection(collection_name=COLLECTION_NAME)\n",
    "\n",
    "client.create_collection(\n",
    "    collection_name=COLLECTION_NAME,\n",
    "    vectors_config=VectorParams(size=1536, distance=Distance.COSINE)\n",
    ")\n",
    "print(f\"✅ Re-created collection: {COLLECTION_NAME}\")"
   ]
  },
  {
   "cell_type": "code",
   "execution_count": null,
   "id": "963d4cd4",
   "metadata": {},
   "outputs": [],
   "source": [
    "# --- 4. Define Payload Schema ---\n",
    "# All category fields as KEYWORD for exact matching\n",
    "payload_schema = {\n",
    "    \"company_name\": PayloadSchemaType.KEYWORD,\n",
    "    \"legal_entity_type\": PayloadSchemaType.KEYWORD,\n",
    "    \"state\": PayloadSchemaType.KEYWORD,\n",
    "    \"headquarters_city\": PayloadSchemaType.KEYWORD,\n",
    "    \"industry_sector\": PayloadSchemaType.KEYWORD,\n",
    "    # All others as TEXT or INT/FLOAT as needed\n",
    "}\n"
   ]
  },
  {
   "cell_type": "code",
   "execution_count": null,
   "id": "34606e05",
   "metadata": {},
   "outputs": [],
   "source": [
    "\n",
    "# --- 5. Create Payload Indexes for filtered fields ---\n",
    "for field, schema in payload_schema.items():\n",
    "    client.create_payload_index(\n",
    "        collection_name=COLLECTION_NAME,\n",
    "        field_name=field,\n",
    "        field_schema=schema\n",
    "    )\n",
    "\n",
    "print(f\"✅ Created payload indexes.\")\n"
   ]
  },
  {
   "cell_type": "code",
   "execution_count": null,
   "id": "7ee295b2",
   "metadata": {},
   "outputs": [],
   "source": [
    "# --- 6. Ingest documents into Qdrant ---\n",
    "embedding_model = OpenAIEmbeddings()\n",
    "qdrant = Qdrant.from_documents(\n",
    "    documents=documents,\n",
    "    embedding=embedding_model,\n",
    "    url=\"http://localhost:6333\",\n",
    "    collection_name=COLLECTION_NAME,\n",
    ")\n",
    "\n",
    "print(f\"✅ Ingested {len(documents)} documents.\")\n"
   ]
  },
  {
   "cell_type": "code",
   "execution_count": null,
   "id": "06df3d14",
   "metadata": {},
   "outputs": [],
   "source": [
    "docs = client.scroll(collection_name=COLLECTION_NAME, with_payload=True, limit=5)[0]\n",
    "for d in docs:\n",
    "    print(d.payload)"
   ]
  },
  {
   "cell_type": "code",
   "execution_count": null,
   "id": "d1caf3cb",
   "metadata": {},
   "outputs": [],
   "source": [
    "states = set()\n",
    "docs = client.scroll(collection_name=COLLECTION_NAME, with_payload=True, limit=1000)[0]\n",
    "for d in docs:\n",
    "    if \"state\" in d.payload:\n",
    "        states.add(d.payload[\"state\"])\n",
    "print(states)"
   ]
  },
  {
   "cell_type": "code",
   "execution_count": null,
   "id": "c44205eb",
   "metadata": {},
   "outputs": [],
   "source": [
    "\n",
    "# --- 7. Test: Filter Query for 'state' = 'delhi' ---\n",
    "from qdrant_client.http.models import Filter, FieldCondition, MatchValue\n",
    "\n",
    "q_filter = Filter(must=[\n",
    "    FieldCondition(key=\"state\", match=MatchValue(value=\"delhi\"))\n",
    "])\n",
    "\n",
    "result = client.scroll(\n",
    "    collection_name=COLLECTION_NAME,\n",
    "    scroll_filter=q_filter,\n",
    "    limit=10,\n",
    "    with_payload=True\n",
    ")\n",
    "\n",
    "print(\"Number of results:\", len(result[0]))\n",
    "for pt in result[0]:\n",
    "    print(pt.payload)\n"
   ]
  },
  {
   "cell_type": "code",
   "execution_count": null,
   "id": "6cde2513",
   "metadata": {},
   "outputs": [],
   "source": [
    "print(\"Filter:\", q_filter)"
   ]
  },
  {
   "cell_type": "code",
   "execution_count": null,
   "id": "f36589bd",
   "metadata": {},
   "outputs": [],
   "source": [
    "result = client.scroll(\n",
    "    collection_name=COLLECTION_NAME,\n",
    "    limit=10,\n",
    "    with_payload=True\n",
    ")\n",
    "print(\"All results (no filter):\")\n",
    "for pt in result[0]:\n",
    "    print(pt.payload)"
   ]
  },
  {
   "cell_type": "code",
   "execution_count": null,
   "id": "ea0c9ab1",
   "metadata": {},
   "outputs": [],
   "source": []
  },
  {
   "cell_type": "code",
   "execution_count": null,
   "id": "daf6d603",
   "metadata": {},
   "outputs": [],
   "source": [
    "from qdrant_client import QdrantClient\n",
    "from qdrant_client.http.models import VectorParams, Distance\n",
    "\n",
    "client = QdrantClient(host=\"localhost\", port=6333)\n",
    "COLLECTION_NAME = \"demo_payload\"\n",
    "\n",
    "# Recreate collection\n",
    "if client.collection_exists(COLLECTION_NAME):\n",
    "    client.delete_collection(collection_name=COLLECTION_NAME)\n",
    "client.create_collection(\n",
    "    collection_name=COLLECTION_NAME,\n",
    "    vectors_config=VectorParams(size=3, distance=Distance.COSINE)\n",
    ")\n",
    "# Upsert ONE point\n",
    "client.upsert(\n",
    "    collection_name=COLLECTION_NAME,\n",
    "    points=[\n",
    "        {\"id\": 1, \"vector\": [0.1, 0.2, 0.3], \"payload\": {\"state\": \"delhi\", \"company_name\": \"test\"}}\n",
    "    ]\n",
    ")\n",
    "\n",
    "# Check\n",
    "docs = client.scroll(collection_name=COLLECTION_NAME, with_payload=True, limit=5)[0]\n",
    "for d in docs:\n",
    "    print(d.payload)  # << Should print {'state': 'delhi', ...}\n"
   ]
  }
 ],
 "metadata": {
  "kernelspec": {
   "display_name": "venv",
   "language": "python",
   "name": "python3"
  },
  "language_info": {
   "codemirror_mode": {
    "name": "ipython",
    "version": 3
   },
   "file_extension": ".py",
   "mimetype": "text/x-python",
   "name": "python",
   "nbconvert_exporter": "python",
   "pygments_lexer": "ipython3",
   "version": "3.10.17"
  }
 },
 "nbformat": 4,
 "nbformat_minor": 5
}
