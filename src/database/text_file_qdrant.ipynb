{
 "cells": [
  {
   "cell_type": "code",
   "execution_count": 5,
   "id": "9fd4abde",
   "metadata": {},
   "outputs": [
    {
     "name": "stdout",
     "output_type": "stream",
     "text": [
      "✅ SRC Path: /home/prashant-agrawal/projects/netflix_talk2data/src\n"
     ]
    }
   ],
   "source": [
    "# %% 📝 Souring Path\n",
    "import sys, os\n",
    "SRC_PATH = os.path.abspath(os.path.join(os.getcwd(), \"..\", \"..\", \"src\"))\n",
    "if SRC_PATH not in sys.path:\n",
    "    sys.path.insert(0, SRC_PATH)\n",
    "print(f\"✅ SRC Path: {SRC_PATH}\")\n"
   ]
  },
  {
   "cell_type": "code",
   "execution_count": 6,
   "id": "c875e73b",
   "metadata": {},
   "outputs": [
    {
     "name": "stdout",
     "output_type": "stream",
     "text": [
      "Qdrant store path: /home/prashant-agrawal/projects/netflix_talk2data/src/database/qdrant_store_local_db/collection\n",
      "Data path: /home/prashant-agrawal/projects/netflix_talk2data/src/Data/Enriched_Indian_Startup_Dataset.csv\n",
      "Schema path: /home/prashant-agrawal/projects/netflix_talk2data/src/schema/payload_schema.json\n",
      "📌 Base Dir: /home/prashant-agrawal/projects/netflix_talk2data/src\n",
      "📌 CSV Path: /home/prashant-agrawal/projects/netflix_talk2data/src/Data/Enriched_Indian_Startup_Dataset.csv\n",
      "📌 Qdrant Local Path: /home/prashant-agrawal/projects/netflix_talk2data/src/database/qdrant_store_local_db/collection\n",
      "📌 Collection Name: indian_startups\n",
      "📌 Schema Path: /home/prashant-agrawal/projects/netflix_talk2data/src/schema/payload_schema.json\n"
     ]
    }
   ],
   "source": [
    "# Python imports & libraries\n",
    "from langchain_community.vectorstores import Qdrant\n",
    "from langchain_openai import OpenAIEmbeddings\n",
    "from langchain_core.documents import Document\n",
    "from qdrant_client.http.models import Range\n",
    "from qdrant_client import QdrantClient\n",
    "from qdrant_client.http.models import VectorParams, Distance, PayloadSchemaType, FieldCondition, MatchValue, Filter\n",
    "from typing import Dict, Union, Any\n",
    "import pandas as pd\n",
    "import re\n",
    "import json\n",
    "\n",
    "# 🚀 Import your utility loaders\n",
    "from utils.qdrant_client_loader import get_qdrant_collection_name\n",
    "from utils.path_config import get_base_dir, get_data_path, get_qdrant_store_path, get_schema_path\n",
    "\n",
    "# %% 📁 Paths\n",
    "BASE_DIR = get_base_dir()\n",
    "DATA_PATH = get_data_path()\n",
    "SCHEMA_OUTPUT_PATH = get_schema_path()\n",
    "qdrant_store_path = get_qdrant_store_path()\n",
    "COLLECTION_NAME = get_qdrant_collection_name()\n",
    "\n",
    "print(f\"📌 Base Dir: {BASE_DIR}\")\n",
    "print(f\"📌 CSV Path: {DATA_PATH}\")\n",
    "print(f\"📌 Qdrant Local Path: {qdrant_store_path}\")\n",
    "print(f\"📌 Collection Name: {COLLECTION_NAME}\")\n",
    "print(f\"📌 Schema Path: {SCHEMA_OUTPUT_PATH}\")\n",
    "\n"
   ]
  },
  {
   "cell_type": "code",
   "execution_count": 8,
   "id": "a8590dd6",
   "metadata": {},
   "outputs": [],
   "source": [
    "\n",
    "# --- Utility: Normalize ---\n",
    "def normalize_field_name(field: str) -> str:\n",
    "    field = field.strip().lower()\n",
    "    field = re.sub(r\"[ ()/]\", \"_\", field)\n",
    "    return re.sub(r\"[^a-zA-Z0-9_]\", \"\", field)\n",
    "\n",
    "def normalize_field_value(value) -> str:\n",
    "    return str(value).strip().lower()\n"
   ]
  },
  {
   "cell_type": "code",
   "execution_count": 9,
   "id": "7f6342aa",
   "metadata": {},
   "outputs": [
    {
     "name": "stdout",
     "output_type": "stream",
     "text": [
      "✅ Loaded 500 documents.\n",
      "✅ Created payload indexes.\n",
      "✅ Ingested 500 documents.\n",
      "Number of results: 0\n"
     ]
    }
   ],
   "source": [
    "# --- 1. Load CSV ---\n",
    "df = pd.read_csv(DATA_PATH)\n",
    "df = df.dropna(subset=[\"Company Description (Long)\"]).reset_index(drop=True)\n",
    "\n",
    "# --- 2. Prepare Documents ---\n",
    "def load_documents_from_df(df: pd.DataFrame):\n",
    "    docs = []\n",
    "    for _, row in df.iterrows():\n",
    "        metadata = {\n",
    "            normalize_field_name(str(k)): normalize_field_value(v)\n",
    "            for k, v in row.items() if pd.notna(v)\n",
    "        }\n",
    "        content = \"\\n\".join(f\"{k}: {v}\" for k, v in metadata.items())\n",
    "        docs.append(Document(page_content=content, metadata=metadata))\n",
    "    return docs\n",
    "\n",
    "documents = load_documents_from_df(df)\n",
    "print(f\"✅ Loaded {len(documents)} documents.\")\n"
   ]
  },
  {
   "cell_type": "code",
   "execution_count": 11,
   "id": "9ec1bf52",
   "metadata": {},
   "outputs": [],
   "source": [
    "\n",
    "# --- 3. Connect and Recreate Collection ---\n",
    "client = QdrantClient(host=\"localhost\", port=6333)\n",
    "\n",
    "if client.collection_exists(COLLECTION_NAME):\n",
    "    client.delete_collection(collection_name=COLLECTION_NAME)\n"
   ]
  },
  {
   "cell_type": "code",
   "execution_count": 12,
   "id": "963d4cd4",
   "metadata": {},
   "outputs": [
    {
     "data": {
      "text/plain": [
       "True"
      ]
     },
     "execution_count": 12,
     "metadata": {},
     "output_type": "execute_result"
    }
   ],
   "source": [
    "\n",
    "# --- 4. Define Payload Schema ---\n",
    "# All category fields as KEYWORD for exact matching\n",
    "payload_schema = {\n",
    "    \"company_name\": PayloadSchemaType.KEYWORD,\n",
    "    \"legal_entity_type\": PayloadSchemaType.KEYWORD,\n",
    "    \"state\": PayloadSchemaType.KEYWORD,\n",
    "    \"headquarters_city\": PayloadSchemaType.KEYWORD,\n",
    "    \"industry_sector\": PayloadSchemaType.KEYWORD,\n",
    "    # All others as TEXT or INT/FLOAT as needed\n",
    "}\n",
    "\n",
    "client.create_collection(\n",
    "    collection_name=COLLECTION_NAME,\n",
    "    vectors_config=VectorParams(size=1536, distance=Distance.COSINE)\n",
    ")\n"
   ]
  },
  {
   "cell_type": "code",
   "execution_count": 14,
   "id": "34606e05",
   "metadata": {},
   "outputs": [
    {
     "name": "stdout",
     "output_type": "stream",
     "text": [
      "✅ Created payload indexes.\n"
     ]
    }
   ],
   "source": [
    "\n",
    "# --- 5. Create Payload Indexes for filtered fields ---\n",
    "for field, schema in payload_schema.items():\n",
    "    client.create_payload_index(\n",
    "        collection_name=COLLECTION_NAME,\n",
    "        field_name=field,\n",
    "        field_schema=schema\n",
    "    )\n",
    "\n",
    "print(f\"✅ Created payload indexes.\")\n"
   ]
  },
  {
   "cell_type": "code",
   "execution_count": 15,
   "id": "7ee295b2",
   "metadata": {},
   "outputs": [
    {
     "name": "stdout",
     "output_type": "stream",
     "text": [
      "✅ Ingested 500 documents.\n"
     ]
    }
   ],
   "source": [
    "\n",
    "# --- 6. Ingest documents into Qdrant ---\n",
    "embedding_model = OpenAIEmbeddings()\n",
    "qdrant = Qdrant.from_documents(\n",
    "    documents=documents,\n",
    "    embedding=embedding_model,\n",
    "    url=\"http://localhost:6333\",\n",
    "    collection_name=COLLECTION_NAME,\n",
    ")\n",
    "\n",
    "print(f\"✅ Ingested {len(documents)} documents.\")\n"
   ]
  },
  {
   "cell_type": "code",
   "execution_count": 16,
   "id": "c44205eb",
   "metadata": {},
   "outputs": [
    {
     "name": "stdout",
     "output_type": "stream",
     "text": [
      "Number of results: 0\n"
     ]
    }
   ],
   "source": [
    "\n",
    "# --- 7. Test: Filter Query for 'state' = 'delhi' ---\n",
    "from qdrant_client.http.models import Filter, FieldCondition, MatchValue\n",
    "\n",
    "q_filter = Filter(must=[\n",
    "    FieldCondition(key=\"state\", match=MatchValue(value=\"delhi\"))\n",
    "])\n",
    "\n",
    "result = client.scroll(\n",
    "    collection_name=COLLECTION_NAME,\n",
    "    scroll_filter=q_filter,\n",
    "    limit=10,\n",
    "    with_payload=True\n",
    ")\n",
    "\n",
    "print(\"Number of results:\", len(result[0]))\n",
    "for pt in result[0]:\n",
    "    print(pt.payload)\n"
   ]
  }
 ],
 "metadata": {
  "kernelspec": {
   "display_name": "venv",
   "language": "python",
   "name": "python3"
  },
  "language_info": {
   "codemirror_mode": {
    "name": "ipython",
    "version": 3
   },
   "file_extension": ".py",
   "mimetype": "text/x-python",
   "name": "python",
   "nbconvert_exporter": "python",
   "pygments_lexer": "ipython3",
   "version": "3.10.17"
  }
 },
 "nbformat": 4,
 "nbformat_minor": 5
}
