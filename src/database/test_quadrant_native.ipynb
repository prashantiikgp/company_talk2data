{
 "cells": [
  {
   "cell_type": "code",
   "execution_count": 1,
   "id": "b3f2ec14",
   "metadata": {},
   "outputs": [
    {
     "name": "stdout",
     "output_type": "stream",
     "text": [
      "✅ SRC Path: /home/prashant-agrawal/projects/netflix_talk2data/src\n"
     ]
    }
   ],
   "source": [
    "# %% 📝 Souring Path\n",
    "import sys, os\n",
    "SRC_PATH = os.path.abspath(os.path.join(os.getcwd(), \"..\", \"..\", \"src\"))\n",
    "if SRC_PATH not in sys.path:\n",
    "    sys.path.insert(0, SRC_PATH)\n",
    "print(f\"✅ SRC Path: {SRC_PATH}\")\n"
   ]
  },
  {
   "cell_type": "code",
   "execution_count": 2,
   "id": "53ebdc4a",
   "metadata": {},
   "outputs": [
    {
     "name": "stdout",
     "output_type": "stream",
     "text": [
      "Qdrant store path: /home/prashant-agrawal/projects/netflix_talk2data/src/database/qdrant_store_local_db/collection\n",
      "Data path: /home/prashant-agrawal/projects/netflix_talk2data/src/Data/Enriched_Indian_Startup_Dataset.csv\n",
      "Schema path: /home/prashant-agrawal/projects/netflix_talk2data/src/schema/payload_schema.json\n",
      "📌 Base Dir: /home/prashant-agrawal/projects/netflix_talk2data/src\n",
      "📌 CSV Path: /home/prashant-agrawal/projects/netflix_talk2data/src/Data/Enriched_Indian_Startup_Dataset.csv\n",
      "📌 Qdrant Local Path: /home/prashant-agrawal/projects/netflix_talk2data/src/database/qdrant_store_local_db/collection\n",
      "📌 Collection Name: indian_startups\n",
      "📌 Schema Path: /home/prashant-agrawal/projects/netflix_talk2data/src/schema/payload_schema.json\n"
     ]
    }
   ],
   "source": [
    "# Python imports & libraries\n",
    "from langchain_community.vectorstores import Qdrant\n",
    "from langchain_openai import OpenAIEmbeddings\n",
    "from langchain_core.documents import Document\n",
    "from qdrant_client.http.models import Range\n",
    "from qdrant_client import QdrantClient\n",
    "from qdrant_client.http.models import VectorParams, Distance, PayloadSchemaType, FieldCondition, MatchValue, Filter\n",
    "from typing import Dict, Union, Any\n",
    "import pandas as pd\n",
    "import re\n",
    "import json\n",
    "\n",
    "# 🚀 Import your utility loaders\n",
    "from utils.qdrant_client_loader import get_qdrant_collection_name\n",
    "from utils.path_config import get_base_dir, get_data_path, get_qdrant_store_path, get_schema_path\n",
    "\n",
    "# %% 📁 Paths\n",
    "BASE_DIR = get_base_dir()\n",
    "DATA_PATH = get_data_path()\n",
    "SCHEMA_OUTPUT_PATH = get_schema_path()\n",
    "qdrant_store_path = get_qdrant_store_path()\n",
    "COLLECTION_NAME = get_qdrant_collection_name()\n",
    "\n",
    "print(f\"📌 Base Dir: {BASE_DIR}\")\n",
    "print(f\"📌 CSV Path: {DATA_PATH}\")\n",
    "print(f\"📌 Qdrant Local Path: {qdrant_store_path}\")\n",
    "print(f\"📌 Collection Name: {COLLECTION_NAME}\")\n",
    "print(f\"📌 Schema Path: {SCHEMA_OUTPUT_PATH}\")\n",
    "\n"
   ]
  },
  {
   "cell_type": "code",
   "execution_count": null,
   "id": "d5d41573",
   "metadata": {},
   "outputs": [],
   "source": [
    "import pandas as pd\n",
    "import re\n",
    "\n",
    "def normalize_field_name(field: str) -> str:\n",
    "    field = field.strip().lower()\n",
    "    field = re.sub(r\"[ ()/]\", \"_\", field)\n",
    "    return re.sub(r\"[^a-zA-Z0-9_]\", \"\", field)\n",
    "\n",
    "def normalize_field_value(value) -> str:\n",
    "    return str(value).strip().lower()\n",
    "\n",
    "# Load and clean your data\n",
    "df = pd.read_csv(DATA_PATH)\n",
    "df = df.dropna(subset=[\"Company Description (Long)\"]).reset_index(drop=True)\n",
    "\n"
   ]
  },
  {
   "cell_type": "code",
   "execution_count": 5,
   "id": "7f9fd474",
   "metadata": {},
   "outputs": [],
   "source": [
    "embedding_model = OpenAIEmbeddings()\n",
    "vectors = embedding_model.embed_documents(df['Company Description (Long)'].tolist())"
   ]
  },
  {
   "cell_type": "code",
   "execution_count": 6,
   "id": "a699337a",
   "metadata": {},
   "outputs": [],
   "source": [
    "## Build Points\n",
    "points = []\n",
    "for idx, row in df.iterrows():\n",
    "    payload = {\n",
    "        normalize_field_name(str(k)): normalize_field_value(v)\n",
    "        for k, v in row.items() if pd.notna(v)\n",
    "    }\n",
    "    vector = vectors[idx]\n",
    "    points.append({\n",
    "        \"id\": idx,\n",
    "        \"vector\": vector,\n",
    "        \"payload\": payload\n",
    "    })"
   ]
  },
  {
   "cell_type": "code",
   "execution_count": 7,
   "id": "83d7ba95",
   "metadata": {},
   "outputs": [
    {
     "data": {
      "text/plain": [
       "True"
      ]
     },
     "execution_count": 7,
     "metadata": {},
     "output_type": "execute_result"
    }
   ],
   "source": [
    "from qdrant_client import QdrantClient\n",
    "from qdrant_client.http.models import VectorParams, Distance, PayloadSchemaType\n",
    "\n",
    "client = QdrantClient(host=\"localhost\", port=6333)\n",
    "COLLECTION_NAME = COLLECTION_NAME\n",
    "\n",
    "# Delete and re-create the collection\n",
    "if client.collection_exists(COLLECTION_NAME):\n",
    "    client.delete_collection(collection_name=COLLECTION_NAME)\n",
    "\n",
    "client.create_collection(\n",
    "    collection_name=COLLECTION_NAME,\n",
    "    vectors_config=VectorParams(size=1536, distance=Distance.COSINE)\n",
    ")"
   ]
  },
  {
   "cell_type": "code",
   "execution_count": 8,
   "id": "100e8d12",
   "metadata": {},
   "outputs": [],
   "source": [
    "payload_schema = {\n",
    "    \"company_name\": PayloadSchemaType.KEYWORD,\n",
    "    \"legal_entity_type\": PayloadSchemaType.KEYWORD,\n",
    "    \"state\": PayloadSchemaType.KEYWORD,\n",
    "    \"headquarters_city\": PayloadSchemaType.KEYWORD,\n",
    "    \"industry_sector\": PayloadSchemaType.KEYWORD,\n",
    "    # add more if needed\n",
    "}\n",
    "for field, schema in payload_schema.items():\n",
    "    client.create_payload_index(\n",
    "        collection_name=COLLECTION_NAME,\n",
    "        field_name=field,\n",
    "        field_schema=schema\n",
    "    )"
   ]
  },
  {
   "cell_type": "code",
   "execution_count": 9,
   "id": "52eb32ae",
   "metadata": {},
   "outputs": [
    {
     "name": "stdout",
     "output_type": "stream",
     "text": [
      "✅ Ingested 500 documents.\n"
     ]
    }
   ],
   "source": [
    "# Ingest points in chunks if you have a large dataset\n",
    "batch_size = 100\n",
    "for i in range(0, len(points), batch_size):\n",
    "    client.upsert(collection_name=COLLECTION_NAME, points=points[i:i+batch_size])\n",
    "\n",
    "print(f\"✅ Ingested {len(points)} documents.\")"
   ]
  },
  {
   "cell_type": "code",
   "execution_count": 10,
   "id": "cb0f882b",
   "metadata": {},
   "outputs": [
    {
     "name": "stdout",
     "output_type": "stream",
     "text": [
      "Number of results: 10\n",
      "{'company_name': 'noise', 'legal_entity_type': 'proprietorship', 'state': 'delhi', 'headquarters_city': 'mumbai', 'year_founded': '1996', 'company_website': 'https://perkinsllc.in', 'logo_url': 'https://logo.clearbit.com/perkinsllc.in', 'company_description__short_': 'streamlined needs-based flexibility', 'company_description__long_': 'again customer performance director sure media. boy seat however road area shake if.\\r\\nmouth chance believe fill sometimes those necessary various. serve quality happy under.\\r\\nhistory full energy our allow. under marriage last represent night.\\r\\nstate vote heavy art hope political five.', 'industry_sector': 'e-commerce', 'total_funding_raised__inr_': '₹115 cr', 'number_of_funding_rounds': '2', 'latest_funding_round_type': 'series b', 'latest_funding_date': '2020-07-18', 'lead_investors': 'smith, zhang and walker', 'revenue_estimate__annual_': '₹108 cr', 'valuation_estimate__if_available_': '₹679 cr', 'number_of_employees__current_': '472', 'number_of_employees__estimate_range_': '225-1672', 'key_people': 'ceo: william watts, cto: kristin williams', 'founders': 'sandra rush (https://linkedin.com/in/qmartin)', 'board_members___advisors': 'brian thomas', 'employee_growth__yoy__': '42%', 'hiring_status': 'actively hiring', 'popular_roles_open': 'engineering, product', 'primary_products___services': 'credit card rewards', 'product_categories': 'b2b', 'tech_stack': 'python, react, aws', 'integrations___apis_offered': 'razorpay, zoho, tally', 'target_market': 'consumers', 'major_customers___logos': 'direct consumers', 'press_mentions___recent_news': 'ten bed positive property order central.', 'competitors': 'boat, fire-boltt'}\n",
      "{'company_name': 'practically', 'legal_entity_type': 'llc', 'state': 'delhi', 'headquarters_city': 'ahmedabad', 'year_founded': '2010', 'company_website': 'https://bender,adamsandaguilar.in', 'logo_url': 'https://logo.clearbit.com/bender,adamsandaguilar.in', 'company_description__short_': 'persistent directional policy', 'company_description__long_': 'trial official court involve to around cost. year push help compare medical group structure. like actually agreement option. inside dinner big drop believe thousand pattern.', 'industry_sector': 'e-commerce', 'total_funding_raised__inr_': '₹447 cr', 'number_of_funding_rounds': '4', 'latest_funding_round_type': 'series b', 'latest_funding_date': '2023-06-30', 'lead_investors': 'patton, clark and cruz', 'revenue_estimate__annual_': '₹131 cr', 'valuation_estimate__if_available_': '₹1126 cr', 'number_of_employees__current_': '55', 'number_of_employees__estimate_range_': '43-1219', 'key_people': 'ceo: brett martin, cto: stephanie mitchell', 'founders': 'adam brown (https://linkedin.com/in/thomasrivera)', 'board_members___advisors': 'jesus mahoney', 'employee_growth__yoy__': '19%', 'hiring_status': 'actively hiring', 'popular_roles_open': 'product, sales', 'primary_products___services': 'home services', 'product_categories': 'd2c', 'tech_stack': 'python, react, aws', 'integrations___apis_offered': 'razorpay, zoho, tally', 'target_market': 'consumers', 'major_customers___logos': 'direct consumers', 'press_mentions___recent_news': 'once democrat member about both to.', 'competitors': 'company x, company y'}\n",
      "{'company_name': 'tork motors', 'legal_entity_type': 'proprietorship', 'state': 'delhi', 'headquarters_city': 'hyderabad', 'year_founded': '2004', 'company_website': 'https://lutz-maddox.in', 'logo_url': 'https://logo.clearbit.com/lutz-maddox.in', 'company_description__short_': 'exclusive user-facing help-desk', 'company_description__long_': 'protect site pass bring training still. late hair stay phone mention. certainly many much rest walk. natural table that guy here alone young.\\r\\nwear not agency inside large.\\r\\neconomic us area. measure hold determine first develop prevent box. them blue strong. voice begin future land.', 'industry_sector': 'agritech', 'total_funding_raised__inr_': '₹113 cr', 'number_of_funding_rounds': '1', 'latest_funding_round_type': 'seed', 'latest_funding_date': '2023-07-29', 'lead_investors': 'terrell-castillo', 'revenue_estimate__annual_': '₹10 cr', 'valuation_estimate__if_available_': '₹1355 cr', 'number_of_employees__current_': '55', 'number_of_employees__estimate_range_': '131-1874', 'key_people': 'ceo: debra beck, cto: tristan gonzalez', 'founders': 'melissa cross (https://linkedin.com/in/bradleykeller)', 'board_members___advisors': 'david diaz', 'employee_growth__yoy__': '18%', 'hiring_status': 'actively hiring', 'popular_roles_open': 'product, engineering', 'primary_products___services': 'online grocery', 'product_categories': 'b2b', 'tech_stack': 'python, react, aws', 'integrations___apis_offered': 'razorpay, zoho, tally', 'target_market': 'consumers', 'major_customers___logos': 'direct consumers', 'press_mentions___recent_news': 'nor culture near history ever unit.', 'competitors': 'company x, company y'}\n",
      "{'company_name': 'mamaearth', 'legal_entity_type': 'public ltd', 'state': 'delhi', 'headquarters_city': 'delhi', 'year_founded': '2012', 'company_website': 'https://thompsongroup.in', 'logo_url': 'https://logo.clearbit.com/thompsongroup.in', 'company_description__short_': 'front-line logistical service-desk', 'company_description__long_': 'people that someone laugh. particularly onto forward movement despite.\\r\\nmachine reach generation item time memory agent. world dream behind president serve person more. guess responsibility agent film point none.', 'industry_sector': 'e-commerce', 'total_funding_raised__inr_': '₹35 cr', 'number_of_funding_rounds': '3', 'latest_funding_round_type': 'series c', 'latest_funding_date': '2021-04-11', 'lead_investors': 'michael, mcneil and james', 'revenue_estimate__annual_': '₹81 cr', 'valuation_estimate__if_available_': '₹439 cr', 'number_of_employees__current_': '416', 'number_of_employees__estimate_range_': '272-600', 'key_people': 'ceo: charles johnson, cto: christopher contreras', 'founders': 'patricia hunt (https://linkedin.com/in/mwilson)', 'board_members___advisors': 'linda nichols', 'employee_growth__yoy__': '16%', 'hiring_status': 'actively hiring', 'popular_roles_open': 'sales, marketing', 'primary_products___services': 'electric scooters', 'product_categories': 'd2c', 'tech_stack': 'node.js, mongodb, azure', 'integrations___apis_offered': 'razorpay, zoho, tally', 'target_market': 'consumers', 'major_customers___logos': 'direct consumers', 'press_mentions___recent_news': 'campaign read yet quickly myself discover country.', 'competitors': 'wow skin science, plum'}\n",
      "{'company_name': 'scripbox', 'legal_entity_type': 'llc', 'state': 'delhi', 'headquarters_city': 'chandigarh', 'year_founded': '2013', 'company_website': 'https://peters-allen.in', 'logo_url': 'https://logo.clearbit.com/peters-allen.in', 'company_description__short_': 'monitored bandwidth-monitored extranet', 'company_description__long_': 'catch tv sell condition. identify adult statement board power feel site. whether get factor idea tax build grow.\\r\\nwater meet happy. feel conference near doctor recently by often. painting subject company line.\\r\\ndog for reality. piece charge only air gas.', 'industry_sector': 'fintech', 'total_funding_raised__inr_': '₹16 cr', 'number_of_funding_rounds': '4', 'latest_funding_round_type': 'series a', 'latest_funding_date': '2024-09-10', 'lead_investors': 'williams, dominguez and todd', 'revenue_estimate__annual_': '₹62 cr', 'valuation_estimate__if_available_': '₹1101 cr', 'number_of_employees__current_': '493', 'number_of_employees__estimate_range_': '227-1648', 'key_people': 'ceo: jeffrey barnes, cto: vanessa cole', 'founders': 'andrew gray (https://linkedin.com/in/sloanmichelle)', 'board_members___advisors': 'lindsey rojas', 'employee_growth__yoy__': '9%', 'hiring_status': 'hiring freeze', 'popular_roles_open': 'engineering, marketing', 'primary_products___services': 'insurance platform', 'product_categories': 'd2c', 'tech_stack': 'java, spring boot, gcp', 'integrations___apis_offered': 'razorpay, zoho, tally', 'target_market': 'enterprises', 'major_customers___logos': 'unilever, mahindra', 'press_mentions___recent_news': 'bit school doctor never.', 'competitors': 'startup a, startup b'}\n",
      "{'company_name': 'noise', 'legal_entity_type': 'llc', 'state': 'delhi', 'headquarters_city': 'jaipur', 'year_founded': '2013', 'company_website': 'https://jackson,blairandwilson.in', 'logo_url': 'https://logo.clearbit.com/jackson,blairandwilson.in', 'company_description__short_': 'ergonomic interactive conglomeration', 'company_description__long_': 'none we move particularly believe. water listen girl area around believe which.\\r\\ncentral by training sister tree she approach. phone other parent third.\\r\\nmr response keep to interview reduce simply. above once cold scene relationship future. budget explain condition dog prepare per own.', 'industry_sector': 'fintech', 'total_funding_raised__inr_': '₹362 cr', 'number_of_funding_rounds': '1', 'latest_funding_round_type': 'series a', 'latest_funding_date': '2021-07-31', 'lead_investors': 'francis, velasquez and silva', 'revenue_estimate__annual_': '₹277 cr', 'valuation_estimate__if_available_': '₹296 cr', 'number_of_employees__current_': '93', 'number_of_employees__estimate_range_': '144-901', 'key_people': 'ceo: oscar gomez, cto: patrick meyers', 'founders': 'cynthia payne (https://linkedin.com/in/ghall)', 'board_members___advisors': 'eugene glenn', 'employee_growth__yoy__': '28%', 'hiring_status': 'actively hiring', 'popular_roles_open': 'product, engineering', 'primary_products___services': 'online grocery', 'product_categories': 'b2b', 'tech_stack': 'java, spring boot, gcp', 'integrations___apis_offered': 'razorpay, zoho, tally', 'target_market': 'consumers', 'major_customers___logos': 'direct consumers', 'press_mentions___recent_news': 'out ball agency while almost bag.', 'competitors': 'boat, fire-boltt'}\n",
      "{'company_name': 'yulu', 'legal_entity_type': 'public ltd', 'state': 'delhi', 'headquarters_city': 'chennai', 'year_founded': '2009', 'company_website': 'https://russo-moore.in', 'logo_url': 'https://logo.clearbit.com/russo-moore.in', 'company_description__short_': 'automated regional open architecture', 'company_description__long_': 'guy small call film street believe well different. white mouth beyond make require certainly relationship couple.\\r\\nindustry night black consider treat product. old central watch government hard teach.', 'industry_sector': 'e-commerce', 'total_funding_raised__inr_': '₹298 cr', 'number_of_funding_rounds': '1', 'latest_funding_round_type': 'series b', 'latest_funding_date': '2024-10-06', 'lead_investors': 'robinson-galvan', 'revenue_estimate__annual_': '₹31 cr', 'valuation_estimate__if_available_': '₹1012 cr', 'number_of_employees__current_': '112', 'number_of_employees__estimate_range_': '34-1393', 'key_people': 'ceo: brian stevens, cto: april smith', 'founders': 'sandra gonzales (https://linkedin.com/in/hollandjoshua)', 'board_members___advisors': 'darlene bridges', 'employee_growth__yoy__': '16%', 'hiring_status': 'actively hiring', 'popular_roles_open': 'engineering, marketing', 'primary_products___services': 'electric scooters', 'product_categories': 'saas', 'tech_stack': 'python, react, aws', 'integrations___apis_offered': 'razorpay, zoho, tally', 'target_market': 'smbs', 'major_customers___logos': 'small clinics and schools', 'press_mentions___recent_news': 'speech think affect off name course me beyond.', 'competitors': 'company x, company y'}\n",
      "{'company_name': 'meesho', 'legal_entity_type': 'proprietorship', 'state': 'delhi', 'headquarters_city': 'chennai', 'year_founded': '2019', 'company_website': 'https://byrdplc.in', 'logo_url': 'https://logo.clearbit.com/byrdplc.in', 'company_description__short_': 'organic optimizing collaboration', 'company_description__long_': 'receive message society open. message under chance treat take also up player. day now best quite real throw movement again. perform part page choose.\\r\\neast religious husband then. through a size miss son happen current. people word there structure growth respond. difference against entire take.', 'industry_sector': 'healthtech', 'total_funding_raised__inr_': '₹497 cr', 'number_of_funding_rounds': '3', 'latest_funding_round_type': 'series c', 'latest_funding_date': '2021-07-24', 'lead_investors': 'bentley, benjamin and morgan', 'revenue_estimate__annual_': '₹221 cr', 'valuation_estimate__if_available_': '₹354 cr', 'number_of_employees__current_': '65', 'number_of_employees__estimate_range_': '388-1650', 'key_people': 'ceo: jeffrey thomas, cto: scott terry', 'founders': 'steven ewing (https://linkedin.com/in/shane49)', 'board_members___advisors': 'theresa jacobs', 'employee_growth__yoy__': '36%', 'hiring_status': 'hiring freeze', 'popular_roles_open': 'engineering, product', 'primary_products___services': 'online grocery', 'product_categories': 'd2c', 'tech_stack': 'java, spring boot, gcp', 'integrations___apis_offered': 'razorpay, zoho, tally', 'target_market': 'smbs', 'major_customers___logos': 'small clinics and schools', 'press_mentions___recent_news': 'magazine character hit.', 'competitors': 'flipkart, amazon'}\n",
      "{'company_name': 'curefit', 'legal_entity_type': 'llc', 'state': 'delhi', 'headquarters_city': 'jaipur', 'year_founded': '2003', 'company_website': 'https://copeland,smithandmeyer.in', 'logo_url': 'https://logo.clearbit.com/copeland,smithandmeyer.in', 'company_description__short_': 'focused stable access', 'company_description__long_': 'believe on success week least college style term. lot require media cultural charge modern over.\\r\\nseek writer newspaper support. machine someone standard think your system policy. off near whether loss camera. current month manager place ok.', 'industry_sector': 'fintech', 'total_funding_raised__inr_': '₹490 cr', 'number_of_funding_rounds': '3', 'latest_funding_round_type': 'series c', 'latest_funding_date': '2022-05-23', 'lead_investors': 'garrett group', 'revenue_estimate__annual_': '₹109 cr', 'valuation_estimate__if_available_': '₹1523 cr', 'number_of_employees__current_': '258', 'number_of_employees__estimate_range_': '389-531', 'key_people': 'ceo: nathaniel harris, cto: justin munoz', 'founders': 'cassandra jackson (https://linkedin.com/in/hernandezbrendan)', 'board_members___advisors': 'matthew morris', 'employee_growth__yoy__': '41%', 'hiring_status': 'actively hiring', 'popular_roles_open': 'product, engineering', 'primary_products___services': 'online lending', 'product_categories': 'saas', 'tech_stack': 'python, react, aws', 'integrations___apis_offered': 'razorpay, zoho, tally', 'target_market': 'smbs', 'major_customers___logos': 'small clinics and schools', 'press_mentions___recent_news': 'option well bag party decide ahead no.', 'competitors': 'company x, company y'}\n",
      "{'company_name': 'urban company', 'legal_entity_type': 'proprietorship', 'state': 'delhi', 'headquarters_city': 'mumbai', 'year_founded': '2000', 'company_website': 'https://walkerllc.in', 'logo_url': 'https://logo.clearbit.com/walkerllc.in', 'company_description__short_': 'public-key zero administration data-warehouse', 'company_description__long_': 'husband water fill security there. movement message peace. seven wait design name citizen campaign.\\r\\nbecome hospital place maintain care. civil almost sure agree analysis.', 'industry_sector': 'edtech', 'total_funding_raised__inr_': '₹450 cr', 'number_of_funding_rounds': '4', 'latest_funding_round_type': 'pre-seed', 'latest_funding_date': '2022-04-23', 'lead_investors': 'anderson, harrell and white', 'revenue_estimate__annual_': '₹40 cr', 'valuation_estimate__if_available_': '₹733 cr', 'number_of_employees__current_': '456', 'number_of_employees__estimate_range_': '31-1766', 'key_people': 'ceo: caitlin miller, cto: diana mcintyre', 'founders': 'kristen harrington (https://linkedin.com/in/zholmes)', 'board_members___advisors': 'kyle bell', 'employee_growth__yoy__': '26%', 'hiring_status': 'actively hiring', 'popular_roles_open': 'sales, product', 'primary_products___services': 'ai chatbot tools', 'product_categories': 'saas', 'tech_stack': 'java, spring boot, gcp', 'integrations___apis_offered': 'razorpay, zoho, tally', 'target_market': 'consumers', 'major_customers___logos': 'direct consumers', 'press_mentions___recent_news': 'as single kitchen discussion.', 'competitors': 'housejoy, timesaverz'}\n"
     ]
    }
   ],
   "source": [
    "from qdrant_client.http.models import Filter, FieldCondition, MatchValue\n",
    "\n",
    "q_filter = Filter(must=[\n",
    "    FieldCondition(key=\"state\", match=MatchValue(value=\"delhi\"))\n",
    "])\n",
    "\n",
    "result = client.scroll(\n",
    "    collection_name=COLLECTION_NAME,\n",
    "    scroll_filter=q_filter,\n",
    "    limit=10,\n",
    "    with_payload=True\n",
    ")\n",
    "\n",
    "print(\"Number of results:\", len(result[0]))\n",
    "for pt in result[0]:\n",
    "    print(pt.payload)"
   ]
  },
  {
   "cell_type": "code",
   "execution_count": 11,
   "id": "00f13af9",
   "metadata": {},
   "outputs": [
    {
     "name": "stdout",
     "output_type": "stream",
     "text": [
      "{'company_name': 'swiggy', 'legal_entity_type': 'llc', 'state': 'telangana', 'headquarters_city': 'lucknow', 'year_founded': '2018', 'company_website': 'https://nichols,castilloandjones.in', 'logo_url': 'https://logo.clearbit.com/nichols,castilloandjones.in', 'company_description__short_': 'front-line multi-tasking flexibility', 'company_description__long_': 'type once whatever trouble. executive raise nation writer why.\\r\\nwin style her window your pick. goal stay fire hope around. order provide gun go attention scene myself.\\r\\nindustry fund man behavior theory student. firm day recognize order.', 'industry_sector': 'e-commerce', 'total_funding_raised__inr_': '₹457 cr', 'number_of_funding_rounds': '2', 'latest_funding_round_type': 'pre-seed', 'latest_funding_date': '2022-08-31', 'lead_investors': 'nicholson-rogers', 'revenue_estimate__annual_': '₹202 cr', 'valuation_estimate__if_available_': '₹770 cr', 'number_of_employees__current_': '303', 'number_of_employees__estimate_range_': '103-1473', 'key_people': 'ceo: diana brooks, cto: ruth murphy', 'founders': 'jeffrey lambert (https://linkedin.com/in/sgarza)', 'board_members___advisors': 'angelica jones', 'employee_growth__yoy__': '3%', 'hiring_status': 'hiring freeze', 'popular_roles_open': 'sales, engineering', 'primary_products___services': 'insurance platform', 'product_categories': 'saas', 'tech_stack': 'node.js, mongodb, azure', 'integrations___apis_offered': 'razorpay, zoho, tally', 'target_market': 'consumers', 'major_customers___logos': 'direct consumers', 'press_mentions___recent_news': 'data newspaper ahead along.', 'competitors': 'zomato, uber eats'}\n",
      "{'company_name': 'inmobi', 'legal_entity_type': 'proprietorship', 'state': 'rajasthan', 'headquarters_city': 'kolkata', 'year_founded': '2000', 'company_website': 'https://hunt,michaelandlopez.in', 'logo_url': 'https://logo.clearbit.com/hunt,michaelandlopez.in', 'company_description__short_': 'fundamental full-range structure', 'company_description__long_': 'mr above exactly go wonder couple. indeed clearly number purpose.\\r\\nits herself although rise check. anyone reason nice network management unit. produce guy federal office but.\\r\\ncell book soldier woman pm base idea. win only any reflect song begin hot yard.', 'industry_sector': 'saas', 'total_funding_raised__inr_': '₹193 cr', 'number_of_funding_rounds': '4', 'latest_funding_round_type': 'seed', 'latest_funding_date': '2022-10-31', 'lead_investors': 'brown group', 'revenue_estimate__annual_': '₹294 cr', 'valuation_estimate__if_available_': '₹1352 cr', 'number_of_employees__current_': '365', 'number_of_employees__estimate_range_': '112-703', 'key_people': 'ceo: kimberly lee, cto: patricia george', 'founders': 'jorge lopez (https://linkedin.com/in/alexandrarhodes)', 'board_members___advisors': 'joshua davis', 'employee_growth__yoy__': '17%', 'hiring_status': 'actively hiring', 'popular_roles_open': 'engineering, sales', 'primary_products___services': 'stock trading app', 'product_categories': 'b2b', 'tech_stack': 'java, spring boot, gcp', 'integrations___apis_offered': 'razorpay, zoho, tally', 'target_market': 'consumers', 'major_customers___logos': 'direct consumers', 'press_mentions___recent_news': 'who movement maintain soldier face when purpose.', 'competitors': 'startup a, startup b'}\n",
      "{'company_name': 'nobroker', 'legal_entity_type': 'pvt ltd', 'state': 'rajasthan', 'headquarters_city': 'chandigarh', 'year_founded': '2004', 'company_website': 'https://cooper-barber.in', 'logo_url': 'https://logo.clearbit.com/cooper-barber.in', 'company_description__short_': 'switchable reciprocal standardization', 'company_description__long_': 'fast score development fly science student through. impact rather sound purpose realize. who realize including democratic brother this figure accept.\\r\\nfinancial include population service religious american foreign. among just front executive position mr peace.', 'industry_sector': 'saas', 'total_funding_raised__inr_': '₹302 cr', 'number_of_funding_rounds': '2', 'latest_funding_round_type': 'series c', 'latest_funding_date': '2023-01-20', 'lead_investors': 'ramsey inc', 'revenue_estimate__annual_': '₹45 cr', 'valuation_estimate__if_available_': '₹1821 cr', 'number_of_employees__current_': '330', 'number_of_employees__estimate_range_': '415-1547', 'key_people': 'ceo: james dean, cto: ashley bryant', 'founders': 'ronald joyce (https://linkedin.com/in/hannah63)', 'board_members___advisors': 'jessica santana', 'employee_growth__yoy__': '47%', 'hiring_status': 'hiring freeze', 'popular_roles_open': 'sales, product', 'primary_products___services': 'online grocery', 'product_categories': 'saas', 'tech_stack': 'java, spring boot, gcp', 'integrations___apis_offered': 'razorpay, zoho, tally', 'target_market': 'smbs', 'major_customers___logos': 'boutique brands', 'press_mentions___recent_news': 'scientist will story serve.', 'competitors': 'startup a, startup b'}\n",
      "{'company_name': 'curefit', 'legal_entity_type': 'proprietorship', 'state': 'tamil nadu', 'headquarters_city': 'chandigarh', 'year_founded': '2014', 'company_website': 'https://parsonsllc.in', 'logo_url': 'https://logo.clearbit.com/parsonsllc.in', 'company_description__short_': 'fundamental coherent analyzer', 'company_description__long_': 'individual happen democrat hot money hit protect. yes power audience already.\\r\\ncomputer read space nation as. challenge the answer from image for. big sister science sing recognize hotel speak late.\\r\\nreceive expert west play arrive assume interview. history tell this stage magazine minute.', 'industry_sector': 'edtech', 'total_funding_raised__inr_': '₹68 cr', 'number_of_funding_rounds': '1', 'latest_funding_round_type': 'pre-seed', 'latest_funding_date': '2022-07-31', 'lead_investors': 'garcia, white and andrews', 'revenue_estimate__annual_': '₹206 cr', 'valuation_estimate__if_available_': '₹264 cr', 'number_of_employees__current_': '196', 'number_of_employees__estimate_range_': '289-1852', 'key_people': 'ceo: wendy hickman, cto: miguel fuller', 'founders': 'andrew brown (https://linkedin.com/in/vduran)', 'board_members___advisors': 'angela bennett', 'employee_growth__yoy__': '19%', 'hiring_status': 'actively hiring', 'popular_roles_open': 'sales, product', 'primary_products___services': 'learning app', 'product_categories': 'saas', 'tech_stack': 'node.js, mongodb, azure', 'integrations___apis_offered': 'razorpay, zoho, tally', 'target_market': 'smbs', 'major_customers___logos': 'boutique brands', 'press_mentions___recent_news': 'direction evening book amount.', 'competitors': 'startup a, startup b'}\n",
      "{'company_name': 'dailyhunt', 'legal_entity_type': 'proprietorship', 'state': 'karnataka', 'headquarters_city': 'lucknow', 'year_founded': '2003', 'company_website': 'https://rodriguezplc.in', 'logo_url': 'https://logo.clearbit.com/rodriguezplc.in', 'company_description__short_': 'sharable systemic alliance', 'company_description__long_': 'congress act job themselves. wait evening especially usually bring happen.\\r\\nmight four appear hour computer simply head. fear resource game each indeed. alone front pattern simply fund.\\r\\nwhom talk never pm message. bad for lay financial end return west draw. leg ready amount property keep carry.', 'industry_sector': 'fintech', 'total_funding_raised__inr_': '₹10 cr', 'number_of_funding_rounds': '2', 'latest_funding_round_type': 'series c', 'latest_funding_date': '2020-01-28', 'lead_investors': 'woods-smith', 'revenue_estimate__annual_': '₹300 cr', 'valuation_estimate__if_available_': '₹702 cr', 'number_of_employees__current_': '388', 'number_of_employees__estimate_range_': '97-1028', 'key_people': 'ceo: james marshall, cto: michael zamora', 'founders': 'amanda perry (https://linkedin.com/in/grantjames)', 'board_members___advisors': 'brooke harrison', 'employee_growth__yoy__': '43%', 'hiring_status': 'actively hiring', 'popular_roles_open': 'sales, engineering', 'primary_products___services': 'logistics services', 'product_categories': 'b2b', 'tech_stack': 'java, spring boot, gcp', 'integrations___apis_offered': 'razorpay, zoho, tally', 'target_market': 'consumers', 'major_customers___logos': 'direct consumers', 'press_mentions___recent_news': 'want know them structure too accept can.', 'competitors': 'startup a, startup b'}\n"
     ]
    }
   ],
   "source": [
    "docs = client.scroll(collection_name=COLLECTION_NAME, with_payload=True, limit=5)[0]\n",
    "for d in docs:\n",
    "    print(d.payload)\n"
   ]
  },
  {
   "cell_type": "code",
   "execution_count": 16,
   "id": "3412780c",
   "metadata": {},
   "outputs": [
    {
     "name": "stdout",
     "output_type": "stream",
     "text": [
      "Score: 0.75562274\n",
      "Payload: {'company_name': \"byju's\", 'legal_entity_type': 'proprietorship', 'state': 'punjab', 'headquarters_city': 'bengaluru', 'year_founded': '2020', 'company_website': 'https://brooks,wrightandsullivan.in', 'logo_url': 'https://logo.clearbit.com/brooks,wrightandsullivan.in', 'company_description__short_': 'stand-alone coherent software', 'company_description__long_': 'way rich travel hope. challenge business up deal technology.\\r\\neconomic quite leader realize for. policy behind feeling so.\\r\\npage decide term place source ground. situation student hotel more.\\r\\nbecome among discuss its hope including adult. most ground why many without color.', 'industry_sector': 'e-commerce', 'total_funding_raised__inr_': '₹86 cr', 'number_of_funding_rounds': '1', 'latest_funding_round_type': 'seed', 'latest_funding_date': '2021-04-23', 'lead_investors': 'clark-russell', 'revenue_estimate__annual_': '₹184 cr', 'valuation_estimate__if_available_': '₹194 cr', 'number_of_employees__current_': '108', 'number_of_employees__estimate_range_': '229-813', 'key_people': 'ceo: kelsey schneider, cto: stephanie simpson', 'founders': 'jacqueline mckenzie (https://linkedin.com/in/spalmer)', 'board_members___advisors': 'daniel noble', 'employee_growth__yoy__': '16%', 'hiring_status': 'actively hiring', 'popular_roles_open': 'engineering, sales', 'primary_products___services': 'digital payments', 'product_categories': 'saas', 'tech_stack': 'python, react, aws', 'integrations___apis_offered': 'razorpay, zoho, tally', 'target_market': 'consumers', 'major_customers___logos': 'direct consumers', 'press_mentions___recent_news': 'gun draw rich each one.', 'competitors': 'unacademy, vedantu'}\n",
      "\n",
      "Score: 0.74505216\n",
      "Payload: {'company_name': 'dailyhunt', 'legal_entity_type': 'public ltd', 'state': 'tamil nadu', 'headquarters_city': 'bengaluru', 'year_founded': '2006', 'company_website': 'https://gutierrez,warnerandwoodward.in', 'logo_url': 'https://logo.clearbit.com/gutierrez,warnerandwoodward.in', 'company_description__short_': 'polarized logistical success', 'company_description__long_': 'us firm offer between attention agency might. finally return very beyond street method total. sign strong member design cell contain million.\\r\\nfish smile hotel use benefit first entire. fact shake red reach. discussion plant full serious source.', 'industry_sector': 'edtech', 'total_funding_raised__inr_': '₹225 cr', 'number_of_funding_rounds': '4', 'latest_funding_round_type': 'series c', 'latest_funding_date': '2024-01-26', 'lead_investors': 'barber-nielsen', 'revenue_estimate__annual_': '₹75 cr', 'valuation_estimate__if_available_': '₹556 cr', 'number_of_employees__current_': '10', 'number_of_employees__estimate_range_': '416-680', 'key_people': 'ceo: adam doyle, cto: michael warner', 'founders': 'jonathan shepherd (https://linkedin.com/in/fjones)', 'board_members___advisors': 'megan morrison', 'employee_growth__yoy__': '9%', 'hiring_status': 'actively hiring', 'popular_roles_open': 'product, sales', 'primary_products___services': 'online grocery', 'product_categories': 'saas', 'tech_stack': 'java, spring boot, gcp', 'integrations___apis_offered': 'razorpay, zoho, tally', 'target_market': 'enterprises', 'major_customers___logos': 'unilever, mahindra', 'press_mentions___recent_news': 'short education our still agreement.', 'competitors': 'startup a, startup b'}\n",
      "\n",
      "Score: 0.7447857\n",
      "Payload: {'company_name': 'ola cabs', 'legal_entity_type': 'public ltd', 'state': 'punjab', 'headquarters_city': 'bengaluru', 'year_founded': '1998', 'company_website': 'https://nobleinc.in', 'logo_url': 'https://logo.clearbit.com/nobleinc.in', 'company_description__short_': 'assimilated methodical matrices', 'company_description__long_': 'ground prove part page foreign attorney factor. follow far more high let suddenly. teacher mother start movement street.\\r\\nmorning us fast thing appear employee here. society movement must wall billion. lawyer clearly success company sell everybody series.', 'industry_sector': 'edtech', 'total_funding_raised__inr_': '₹340 cr', 'number_of_funding_rounds': '2', 'latest_funding_round_type': 'seed', 'latest_funding_date': '2020-11-03', 'lead_investors': 'galvan, ellis and smith', 'revenue_estimate__annual_': '₹53 cr', 'valuation_estimate__if_available_': '₹1949 cr', 'number_of_employees__current_': '343', 'number_of_employees__estimate_range_': '428-1544', 'key_people': 'ceo: william lamb, cto: kylie lopez', 'founders': 'andrea garcia (https://linkedin.com/in/vbowman)', 'board_members___advisors': 'marc barrett', 'employee_growth__yoy__': '43%', 'hiring_status': 'actively hiring', 'popular_roles_open': 'product, sales', 'primary_products___services': 'online lending', 'product_categories': 'd2c', 'tech_stack': 'python, react, aws', 'integrations___apis_offered': 'razorpay, zoho, tally', 'target_market': 'consumers', 'major_customers___logos': 'direct consumers', 'press_mentions___recent_news': 'detail newspaper election adult tax red water candidate.', 'competitors': 'uber, blusmart'}\n",
      "\n",
      "Score: 0.74126166\n",
      "Payload: {'company_name': '1mg', 'legal_entity_type': 'public ltd', 'state': 'west bengal', 'headquarters_city': 'bengaluru', 'year_founded': '2023', 'company_website': 'https://collinsandsons.in', 'logo_url': 'https://logo.clearbit.com/collinsandsons.in', 'company_description__short_': 'multi-lateral tertiary system engine', 'company_description__long_': 'will reality over task style. phone yeah matter step since house. return book find today want stock with.\\r\\nthought senior huge ever. shake people economic ten prevent international people. owner under such employee final religious foreign.\\r\\ncolor present table social adult. change draw admit cost.', 'industry_sector': 'edtech', 'total_funding_raised__inr_': '₹479 cr', 'number_of_funding_rounds': '3', 'latest_funding_round_type': 'seed', 'latest_funding_date': '2024-02-12', 'lead_investors': 'cummings llc', 'revenue_estimate__annual_': '₹121 cr', 'valuation_estimate__if_available_': '₹1013 cr', 'number_of_employees__current_': '86', 'number_of_employees__estimate_range_': '442-1293', 'key_people': 'ceo: stephanie becker dds, cto: george rosales', 'founders': 'rodney meyer (https://linkedin.com/in/ashleycosta)', 'board_members___advisors': 'kelly lee', 'employee_growth__yoy__': '7%', 'hiring_status': 'actively hiring', 'popular_roles_open': 'engineering, sales', 'primary_products___services': 'insurance platform', 'product_categories': 'b2b', 'tech_stack': 'python, react, aws', 'integrations___apis_offered': 'razorpay, zoho, tally', 'target_market': 'enterprises', 'major_customers___logos': 'unilever, mahindra', 'press_mentions___recent_news': 'soldier major despite leave color.', 'competitors': 'startup a, startup b'}\n",
      "\n",
      "Score: 0.739452\n",
      "Payload: {'company_name': 'navi', 'legal_entity_type': 'llc', 'state': 'maharashtra', 'headquarters_city': 'bengaluru', 'year_founded': '2004', 'company_website': 'https://roberson,salazarandestrada.in', 'logo_url': 'https://logo.clearbit.com/roberson,salazarandestrada.in', 'company_description__short_': 'pre-emptive coherent infrastructure', 'company_description__long_': 'half stock turn seek. grow cover firm participant arm reality including pm. author simply program decade.\\r\\nsimilar for energy sound nor home. sister both economy reveal appear happy.\\r\\nstation north deal total.', 'industry_sector': 'fintech', 'total_funding_raised__inr_': '₹255 cr', 'number_of_funding_rounds': '4', 'latest_funding_round_type': 'pre-seed', 'latest_funding_date': '2023-01-21', 'lead_investors': 'jones-leblanc', 'revenue_estimate__annual_': '₹247 cr', 'valuation_estimate__if_available_': '₹678 cr', 'number_of_employees__current_': '462', 'number_of_employees__estimate_range_': '77-1990', 'key_people': 'ceo: alexis hart, cto: brett lopez', 'founders': 'vickie barrera (https://linkedin.com/in/isaiah51)', 'board_members___advisors': 'jacob hampton', 'employee_growth__yoy__': '13%', 'hiring_status': 'actively hiring', 'popular_roles_open': 'product, engineering', 'primary_products___services': 'electric scooters', 'product_categories': 'saas', 'tech_stack': 'python, react, aws', 'integrations___apis_offered': 'razorpay, zoho, tally', 'target_market': 'enterprises', 'major_customers___logos': 'maruti suzuki, bosch', 'press_mentions___recent_news': 'strong gun prepare middle security law.', 'competitors': 'company x, company y'}\n",
      "\n"
     ]
    },
    {
     "name": "stderr",
     "output_type": "stream",
     "text": [
      "/tmp/ipykernel_66257/1511023589.py:10: DeprecationWarning: `search` method is deprecated and will be removed in the future. Use `query_points` instead.\n",
      "  results = client.search(\n"
     ]
    }
   ],
   "source": [
    "from qdrant_client.http.models import Filter, FieldCondition, MatchValue\n",
    "\n",
    "query = \"fintech startups in bengaluru\"\n",
    "query_vector = embedding_model.embed_query(query)\n",
    "\n",
    "q_filter = Filter(must=[\n",
    "    FieldCondition(key=\"headquarters_city\", match=MatchValue(value=\"bengaluru\"))\n",
    "])\n",
    "\n",
    "results = client.search(\n",
    "    collection_name=COLLECTION_NAME,\n",
    "    query_vector=query_vector,\n",
    "    query_filter=q_filter,\n",
    "    limit=5,\n",
    "    with_payload=True\n",
    ")\n",
    "\n",
    "for pt in results:\n",
    "    print(\"Score:\", pt.score)\n",
    "    print(\"Payload:\", pt.payload)\n",
    "    print()\n"
   ]
  }
 ],
 "metadata": {
  "kernelspec": {
   "display_name": "venv",
   "language": "python",
   "name": "python3"
  },
  "language_info": {
   "codemirror_mode": {
    "name": "ipython",
    "version": 3
   },
   "file_extension": ".py",
   "mimetype": "text/x-python",
   "name": "python",
   "nbconvert_exporter": "python",
   "pygments_lexer": "ipython3",
   "version": "3.10.17"
  }
 },
 "nbformat": 4,
 "nbformat_minor": 5
}
