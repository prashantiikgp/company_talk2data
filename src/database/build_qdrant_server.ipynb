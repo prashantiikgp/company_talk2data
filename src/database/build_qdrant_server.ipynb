{
 "cells": [
  {
   "cell_type": "code",
   "execution_count": 173,
   "id": "c0992b4d",
   "metadata": {},
   "outputs": [
    {
     "name": "stdout",
     "output_type": "stream",
     "text": [
      "✅ SRC Path: /home/prashant-agrawal/projects/netflix_talk2data/src\n"
     ]
    }
   ],
   "source": [
    "# %% 📝 Souring Path\n",
    "import sys, os\n",
    "SRC_PATH = os.path.abspath(os.path.join(os.getcwd(), \"..\", \"..\", \"src\"))\n",
    "if SRC_PATH not in sys.path:\n",
    "    sys.path.insert(0, SRC_PATH)\n",
    "print(f\"✅ SRC Path: {SRC_PATH}\")\n"
   ]
  },
  {
   "cell_type": "code",
   "execution_count": 174,
   "id": "3747b2eb",
   "metadata": {},
   "outputs": [
    {
     "name": "stdout",
     "output_type": "stream",
     "text": [
      "📌 Base Dir: /home/prashant-agrawal/projects/netflix_talk2data/src\n",
      "📌 CSV Path: /home/prashant-agrawal/projects/netflix_talk2data/src/Data/Enriched_Indian_Startup_Dataset.csv\n",
      "📌 Qdrant Local Path: /home/prashant-agrawal/projects/netflix_talk2data/src/database/qdrant_store_local_db/collection\n",
      "📌 Collection Name: indian_startups\n",
      "📌 Schema Path: /home/prashant-agrawal/projects/netflix_talk2data/src/schema/payload_schema.json\n"
     ]
    }
   ],
   "source": [
    "# Python imports & libraries\n",
    "from langchain_community.vectorstores import Qdrant\n",
    "from langchain_openai import OpenAIEmbeddings\n",
    "from langchain_core.documents import Document\n",
    "from qdrant_client.http.models import Range\n",
    "from qdrant_client import QdrantClient\n",
    "from qdrant_client.http.models import VectorParams, Distance, PayloadSchemaType, FieldCondition, MatchValue, Filter\n",
    "from typing import Dict, Union, Any\n",
    "import pandas as pd\n",
    "import re\n",
    "import json\n",
    "\n",
    "# 🚀 Import your utility loaders\n",
    "from utils.qdrant_client_loader import get_qdrant_collection_name\n",
    "from utils.path_config import get_base_dir, get_data_path, get_qdrant_store_path, get_schema_path\n",
    "\n",
    "# %% 📁 Paths\n",
    "BASE_DIR = get_base_dir()\n",
    "DATA_PATH = get_data_path()\n",
    "SCHEMA_OUTPUT_PATH = get_schema_path()\n",
    "qdrant_store_path = get_qdrant_store_path()\n",
    "COLLECTION_NAME = get_qdrant_collection_name()\n",
    "\n",
    "print(f\"📌 Base Dir: {BASE_DIR}\")\n",
    "print(f\"📌 CSV Path: {DATA_PATH}\")\n",
    "print(f\"📌 Qdrant Local Path: {qdrant_store_path}\")\n",
    "print(f\"📌 Collection Name: {COLLECTION_NAME}\")\n",
    "print(f\"📌 Schema Path: {SCHEMA_OUTPUT_PATH}\")\n",
    "\n"
   ]
  },
  {
   "cell_type": "code",
   "execution_count": 175,
   "id": "b02f824b",
   "metadata": {},
   "outputs": [],
   "source": [
    "# %% 🔍 Normalize field names\n",
    "def normalize_field_name(field: str) -> str:\n",
    "    field = field.strip().lower()\n",
    "    field = re.sub(r\"[ ()/]\", \"_\", field)\n",
    "    return re.sub(r\"[^a-zA-Z0-9_]\", \"\", field)\n",
    "\n",
    "def normalize_field_value(value: Any) -> str:\n",
    "    return str(value).strip().lower()\n"
   ]
  },
  {
   "cell_type": "code",
   "execution_count": 197,
   "id": "e6981d01",
   "metadata": {},
   "outputs": [
    {
     "name": "stdout",
     "output_type": "stream",
     "text": [
      "📚 Loaded 500 documents\n",
      "🔑 Sample Metadata Keys: ['company_name', 'legal_entity_type', 'state', 'headquarters_city', 'year_founded', 'company_website', 'logo_url', 'company_description__short_', 'company_description__long_', 'industry_sector', 'total_funding_raised__inr_', 'number_of_funding_rounds', 'latest_funding_round_type', 'latest_funding_date', 'lead_investors', 'revenue_estimate__annual_', 'valuation_estimate__if_available_', 'number_of_employees__current_', 'number_of_employees__estimate_range_', 'key_people', 'founders', 'board_members___advisors', 'employee_growth__yoy__', 'hiring_status', 'popular_roles_open', 'primary_products___services', 'product_categories', 'tech_stack', 'integrations___apis_offered', 'target_market', 'major_customers___logos', 'press_mentions___recent_news', 'competitors']\n"
     ]
    }
   ],
   "source": [
    "# %% 🔍 Load CSV\n",
    "df = pd.read_csv(DATA_PATH)\n",
    "df = df.dropna(subset=[\"Company Description (Long)\"]).reset_index(drop=True)\n",
    "\n",
    "# %% 📄 Convert to LangChain Documents\n",
    "def load_documents_from_df(df: pd.DataFrame) -> list:\n",
    "    documents = []\n",
    "    for _, row in df.iterrows():\n",
    "        metadata = {\n",
    "            normalize_field_name(str(k)): str(v).strip().lower()\n",
    "            for k, v in row.items() if pd.notna(v)\n",
    "        }\n",
    "        content = \"\\n\".join(f\"{k}: {v}\" for k, v in metadata.items())\n",
    "        documents.append(Document(page_content=content, metadata=metadata))\n",
    "    return documents\n",
    "\n",
    "documents = load_documents_from_df(df)\n",
    "print(f\"📚 Loaded {len(documents)} documents\")\n",
    "print(\"🔑 Sample Metadata Keys:\", list(documents[0].metadata.keys()))\n",
    "\n",
    "# %% 🧠 Embedding Model\n",
    "embedding_model = OpenAIEmbeddings()\n"
   ]
  },
  {
   "cell_type": "code",
   "execution_count": 168,
   "id": "fe228725",
   "metadata": {},
   "outputs": [
    {
     "name": "stdout",
     "output_type": "stream",
     "text": [
      "✅ Re-created collection: indian_startups\n"
     ]
    }
   ],
   "source": [
    "# %% ✅ Explicitly Create Qdrant Collection\n",
    "from qdrant_client import QdrantClient\n",
    "from qdrant_client.http.models import VectorParams, Distance\n",
    "\n",
    "# %% 🔁 Recreate Qdrant Collection (Optional but Recommended)\n",
    "client = QdrantClient(host=\"localhost\", port=6333)\n",
    "\n",
    "if client.collection_exists(COLLECTION_NAME):\n",
    "    client.delete_collection(collection_name=COLLECTION_NAME)\n",
    "\n",
    "client.create_collection(\n",
    "    collection_name=COLLECTION_NAME,\n",
    "    vectors_config=VectorParams(size=1536, distance=Distance.COSINE)\n",
    ")\n",
    "print(f\"✅ Re-created collection: {COLLECTION_NAME}\")"
   ]
  },
  {
   "cell_type": "code",
   "execution_count": null,
   "id": "da20f835",
   "metadata": {},
   "outputs": [
    {
     "name": "stdout",
     "output_type": "stream",
     "text": [
      "✅ Created payload schema for collection: indian_startups\n"
     ]
    }
   ],
   "source": [
    "# --- Qdrant Payload Schema Indexing ---\n",
    "# ✅ Define schema (range-enabled where needed)\n",
    "from qdrant_client.models import PayloadSchemaType\n",
    "\n",
    "payload_schema = {\n",
    "    \"Company Name\": PayloadSchemaType.TEXT,\n",
    "    \"Legal Entity Type\": PayloadSchemaType.KEYWORD,\n",
    "    \"State\": PayloadSchemaType.KEYWORD,\n",
    "    \"Headquarters City\": PayloadSchemaType.KEYWORD,\n",
    "\n",
    "    \"Year Founded\": {\n",
    "        \"type\": PayloadSchemaType.INTEGER,\n",
    "        \"params\": {\"range\": True}\n",
    "    },\n",
    "\n",
    "    \"Company Website\": PayloadSchemaType.KEYWORD,\n",
    "    \"Logo URL\": PayloadSchemaType.KEYWORD,\n",
    "    \"Company Description (Short)\": PayloadSchemaType.KEYWORD,\n",
    "    \"Company Description (Long)\": PayloadSchemaType.KEYWORD,\n",
    "    \"Industry Sector\": PayloadSchemaType.KEYWORD,\n",
    "\n",
    "    \"Total Funding Raised (INR)\": {\n",
    "        \"type\": PayloadSchemaType.INTEGER,\n",
    "        \"params\": {\"range\": True}\n",
    "    },\n",
    "\n",
    "    \"Number of Funding Rounds\": {\n",
    "        \"type\": PayloadSchemaType.INTEGER,\n",
    "        \"params\": {\"range\": True}\n",
    "    },\n",
    "\n",
    "    \"Latest Funding Round Type\": PayloadSchemaType.KEYWORD,\n",
    "    \"Latest Funding Date\": PayloadSchemaType.KEYWORD,\n",
    "    \"Lead Investors\": PayloadSchemaType.KEYWORD,\n",
    "\n",
    "    \"Revenue Estimate (Annual)\": {\n",
    "        \"type\": PayloadSchemaType.INTEGER,\n",
    "        \"params\": {\"range\": True}\n",
    "    },\n",
    "\n",
    "    \"Valuation Estimate (if available)\": {\n",
    "        \"type\": PayloadSchemaType.INTEGER,\n",
    "        \"params\": {\"range\": True}\n",
    "    },\n",
    "\n",
    "    \"Number of Employees (Current)\": {\n",
    "        \"type\": PayloadSchemaType.INTEGER,\n",
    "        \"params\": {\"range\": True}\n",
    "    },\n",
    "\n",
    "    \"Number of Employees (Estimate Range)\": PayloadSchemaType.KEYWORD,\n",
    "    \"Key People\": PayloadSchemaType.KEYWORD,\n",
    "    \"Founders\": PayloadSchemaType.KEYWORD,\n",
    "    \"Board Members / Advisors\": PayloadSchemaType.KEYWORD,\n",
    "\n",
    "    \"Employee Growth (YoY %)\": {\n",
    "        \"type\": PayloadSchemaType.FLOAT,\n",
    "        \"params\": {\"range\": True}\n",
    "    },\n",
    "\n",
    "    \"Hiring Status\": PayloadSchemaType.KEYWORD,\n",
    "    \"Popular Roles Open\": PayloadSchemaType.KEYWORD,\n",
    "    \"Primary Products / Services\": PayloadSchemaType.KEYWORD,\n",
    "    \"Product Categories\": PayloadSchemaType.KEYWORD,\n",
    "    \"Tech Stack\": PayloadSchemaType.KEYWORD,\n",
    "    \"Integrations / APIs offered\": PayloadSchemaType.KEYWORD,\n",
    "    \"Target Market\": PayloadSchemaType.KEYWORD,\n",
    "    \"Major Customers / Logos\": PayloadSchemaType.KEYWORD,\n",
    "    \"Press Mentions / Recent News\": PayloadSchemaType.KEYWORD,\n",
    "    \"Competitors\": PayloadSchemaType.KEYWORD\n",
    "}\n"
   ]
  },
  {
   "cell_type": "code",
   "execution_count": 196,
   "id": "cee39e24",
   "metadata": {},
   "outputs": [
    {
     "ename": "KeyboardInterrupt",
     "evalue": "",
     "output_type": "error",
     "traceback": [
      "\u001b[0;31m---------------------------------------------------------------------------\u001b[0m",
      "\u001b[0;31mKeyboardInterrupt\u001b[0m                         Traceback (most recent call last)",
      "Cell \u001b[0;32mIn[196], line 12\u001b[0m\n\u001b[1;32m     10\u001b[0m     \u001b[38;5;28;01melse\u001b[39;00m:\n\u001b[1;32m     11\u001b[0m         field_schema \u001b[38;5;241m=\u001b[39m schema\n\u001b[0;32m---> 12\u001b[0m     \u001b[43mclient\u001b[49m\u001b[38;5;241;43m.\u001b[39;49m\u001b[43mcreate_payload_index\u001b[49m\u001b[43m(\u001b[49m\n\u001b[1;32m     13\u001b[0m \u001b[43m        \u001b[49m\u001b[43mcollection_name\u001b[49m\u001b[38;5;241;43m=\u001b[39;49m\u001b[43mCOLLECTION_NAME\u001b[49m\u001b[43m,\u001b[49m\n\u001b[1;32m     14\u001b[0m \u001b[43m        \u001b[49m\u001b[43mfield_name\u001b[49m\u001b[38;5;241;43m=\u001b[39;49m\u001b[43msafe_field\u001b[49m\u001b[43m,\u001b[49m\n\u001b[1;32m     15\u001b[0m \u001b[43m        \u001b[49m\u001b[43mfield_schema\u001b[49m\u001b[38;5;241;43m=\u001b[39;49m\u001b[43mfield_schema\u001b[49m\n\u001b[1;32m     16\u001b[0m \u001b[43m    \u001b[49m\u001b[43m)\u001b[49m\n\u001b[1;32m     18\u001b[0m \u001b[38;5;28mprint\u001b[39m(\u001b[38;5;124mf\u001b[39m\u001b[38;5;124m\"\u001b[39m\u001b[38;5;124m✅ Created payload schema for collection: \u001b[39m\u001b[38;5;132;01m{\u001b[39;00mCOLLECTION_NAME\u001b[38;5;132;01m}\u001b[39;00m\u001b[38;5;124m\"\u001b[39m)\n",
      "File \u001b[0;32m~/projects/netflix_talk2data/venv/lib/python3.10/site-packages/qdrant_client/qdrant_client.py:2735\u001b[0m, in \u001b[0;36mQdrantClient.create_payload_index\u001b[0;34m(self, collection_name, field_name, field_schema, field_type, wait, ordering, **kwargs)\u001b[0m\n\u001b[1;32m   2712\u001b[0m \u001b[38;5;250m\u001b[39m\u001b[38;5;124;03m\"\"\"Creates index for a given payload field.\u001b[39;00m\n\u001b[1;32m   2713\u001b[0m \u001b[38;5;124;03mIndexed fields allow to perform filtered search operations faster.\u001b[39;00m\n\u001b[1;32m   2714\u001b[0m \n\u001b[0;32m   (...)\u001b[0m\n\u001b[1;32m   2731\u001b[0m \u001b[38;5;124;03m    Operation Result\u001b[39;00m\n\u001b[1;32m   2732\u001b[0m \u001b[38;5;124;03m\"\"\"\u001b[39;00m\n\u001b[1;32m   2733\u001b[0m \u001b[38;5;28;01massert\u001b[39;00m \u001b[38;5;28mlen\u001b[39m(kwargs) \u001b[38;5;241m==\u001b[39m \u001b[38;5;241m0\u001b[39m, \u001b[38;5;124mf\u001b[39m\u001b[38;5;124m\"\u001b[39m\u001b[38;5;124mUnknown arguments: \u001b[39m\u001b[38;5;132;01m{\u001b[39;00m\u001b[38;5;28mlist\u001b[39m(kwargs\u001b[38;5;241m.\u001b[39mkeys())\u001b[38;5;132;01m}\u001b[39;00m\u001b[38;5;124m\"\u001b[39m\n\u001b[0;32m-> 2735\u001b[0m \u001b[38;5;28;01mreturn\u001b[39;00m \u001b[38;5;28;43mself\u001b[39;49m\u001b[38;5;241;43m.\u001b[39;49m\u001b[43m_client\u001b[49m\u001b[38;5;241;43m.\u001b[39;49m\u001b[43mcreate_payload_index\u001b[49m\u001b[43m(\u001b[49m\n\u001b[1;32m   2736\u001b[0m \u001b[43m    \u001b[49m\u001b[43mcollection_name\u001b[49m\u001b[38;5;241;43m=\u001b[39;49m\u001b[43mcollection_name\u001b[49m\u001b[43m,\u001b[49m\n\u001b[1;32m   2737\u001b[0m \u001b[43m    \u001b[49m\u001b[43mfield_name\u001b[49m\u001b[38;5;241;43m=\u001b[39;49m\u001b[43mfield_name\u001b[49m\u001b[43m,\u001b[49m\n\u001b[1;32m   2738\u001b[0m \u001b[43m    \u001b[49m\u001b[43mfield_schema\u001b[49m\u001b[38;5;241;43m=\u001b[39;49m\u001b[43mfield_schema\u001b[49m\u001b[43m,\u001b[49m\n\u001b[1;32m   2739\u001b[0m \u001b[43m    \u001b[49m\u001b[43mfield_type\u001b[49m\u001b[38;5;241;43m=\u001b[39;49m\u001b[43mfield_type\u001b[49m\u001b[43m,\u001b[49m\n\u001b[1;32m   2740\u001b[0m \u001b[43m    \u001b[49m\u001b[43mwait\u001b[49m\u001b[38;5;241;43m=\u001b[39;49m\u001b[43mwait\u001b[49m\u001b[43m,\u001b[49m\n\u001b[1;32m   2741\u001b[0m \u001b[43m    \u001b[49m\u001b[43mordering\u001b[49m\u001b[38;5;241;43m=\u001b[39;49m\u001b[43mordering\u001b[49m\u001b[43m,\u001b[49m\n\u001b[1;32m   2742\u001b[0m \u001b[43m    \u001b[49m\u001b[38;5;241;43m*\u001b[39;49m\u001b[38;5;241;43m*\u001b[39;49m\u001b[43mkwargs\u001b[49m\u001b[43m,\u001b[49m\n\u001b[1;32m   2743\u001b[0m \u001b[43m\u001b[49m\u001b[43m)\u001b[49m\n",
      "File \u001b[0;32m~/projects/netflix_talk2data/venv/lib/python3.10/site-packages/qdrant_client/qdrant_remote.py:3089\u001b[0m, in \u001b[0;36mQdrantRemote.create_payload_index\u001b[0;34m(self, collection_name, field_name, field_schema, field_type, wait, ordering, **kwargs)\u001b[0m\n\u001b[1;32m   3086\u001b[0m \u001b[38;5;28;01mif\u001b[39;00m \u001b[38;5;28misinstance\u001b[39m(field_schema, grpc\u001b[38;5;241m.\u001b[39mPayloadIndexParams):\n\u001b[1;32m   3087\u001b[0m     field_schema \u001b[38;5;241m=\u001b[39m GrpcToRest\u001b[38;5;241m.\u001b[39mconvert_payload_schema_params(field_schema)\n\u001b[0;32m-> 3089\u001b[0m result: Optional[types\u001b[38;5;241m.\u001b[39mUpdateResult] \u001b[38;5;241m=\u001b[39m \u001b[38;5;28;43mself\u001b[39;49m\u001b[38;5;241;43m.\u001b[39;49m\u001b[43mopenapi_client\u001b[49m\u001b[38;5;241;43m.\u001b[39;49m\u001b[43mindexes_api\u001b[49m\u001b[38;5;241;43m.\u001b[39;49m\u001b[43mcreate_field_index\u001b[49m\u001b[43m(\u001b[49m\n\u001b[1;32m   3090\u001b[0m \u001b[43m    \u001b[49m\u001b[43mcollection_name\u001b[49m\u001b[38;5;241;43m=\u001b[39;49m\u001b[43mcollection_name\u001b[49m\u001b[43m,\u001b[49m\n\u001b[1;32m   3091\u001b[0m \u001b[43m    \u001b[49m\u001b[43mcreate_field_index\u001b[49m\u001b[38;5;241;43m=\u001b[39;49m\u001b[43mmodels\u001b[49m\u001b[38;5;241;43m.\u001b[39;49m\u001b[43mCreateFieldIndex\u001b[49m\u001b[43m(\u001b[49m\n\u001b[1;32m   3092\u001b[0m \u001b[43m        \u001b[49m\u001b[43mfield_name\u001b[49m\u001b[38;5;241;43m=\u001b[39;49m\u001b[43mfield_name\u001b[49m\u001b[43m,\u001b[49m\u001b[43m \u001b[49m\u001b[43mfield_schema\u001b[49m\u001b[38;5;241;43m=\u001b[39;49m\u001b[43mfield_schema\u001b[49m\n\u001b[1;32m   3093\u001b[0m \u001b[43m    \u001b[49m\u001b[43m)\u001b[49m\u001b[43m,\u001b[49m\n\u001b[1;32m   3094\u001b[0m \u001b[43m    \u001b[49m\u001b[43mwait\u001b[49m\u001b[38;5;241;43m=\u001b[39;49m\u001b[43mwait\u001b[49m\u001b[43m,\u001b[49m\n\u001b[1;32m   3095\u001b[0m \u001b[43m    \u001b[49m\u001b[43mordering\u001b[49m\u001b[38;5;241;43m=\u001b[39;49m\u001b[43mordering\u001b[49m\u001b[43m,\u001b[49m\n\u001b[1;32m   3096\u001b[0m \u001b[43m\u001b[49m\u001b[43m)\u001b[49m\u001b[38;5;241m.\u001b[39mresult\n\u001b[1;32m   3097\u001b[0m \u001b[38;5;28;01massert\u001b[39;00m result \u001b[38;5;129;01mis\u001b[39;00m \u001b[38;5;129;01mnot\u001b[39;00m \u001b[38;5;28;01mNone\u001b[39;00m, \u001b[38;5;124m\"\u001b[39m\u001b[38;5;124mCreate field index returned None\u001b[39m\u001b[38;5;124m\"\u001b[39m\n\u001b[1;32m   3098\u001b[0m \u001b[38;5;28;01mreturn\u001b[39;00m result\n",
      "File \u001b[0;32m~/projects/netflix_talk2data/venv/lib/python3.10/site-packages/qdrant_client/http/api/indexes_api.py:168\u001b[0m, in \u001b[0;36mSyncIndexesApi.create_field_index\u001b[0;34m(self, collection_name, wait, ordering, create_field_index)\u001b[0m\n\u001b[1;32m    158\u001b[0m \u001b[38;5;28;01mdef\u001b[39;00m\u001b[38;5;250m \u001b[39m\u001b[38;5;21mcreate_field_index\u001b[39m(\n\u001b[1;32m    159\u001b[0m     \u001b[38;5;28mself\u001b[39m,\n\u001b[1;32m    160\u001b[0m     collection_name: \u001b[38;5;28mstr\u001b[39m,\n\u001b[0;32m   (...)\u001b[0m\n\u001b[1;32m    163\u001b[0m     create_field_index: m\u001b[38;5;241m.\u001b[39mCreateFieldIndex \u001b[38;5;241m=\u001b[39m \u001b[38;5;28;01mNone\u001b[39;00m,\n\u001b[1;32m    164\u001b[0m ) \u001b[38;5;241m-\u001b[39m\u001b[38;5;241m>\u001b[39m m\u001b[38;5;241m.\u001b[39mInlineResponse2006:\n\u001b[1;32m    165\u001b[0m \u001b[38;5;250m    \u001b[39m\u001b[38;5;124;03m\"\"\"\u001b[39;00m\n\u001b[1;32m    166\u001b[0m \u001b[38;5;124;03m    Create index for field in collection\u001b[39;00m\n\u001b[1;32m    167\u001b[0m \u001b[38;5;124;03m    \"\"\"\u001b[39;00m\n\u001b[0;32m--> 168\u001b[0m     \u001b[38;5;28;01mreturn\u001b[39;00m \u001b[38;5;28;43mself\u001b[39;49m\u001b[38;5;241;43m.\u001b[39;49m\u001b[43m_build_for_create_field_index\u001b[49m\u001b[43m(\u001b[49m\n\u001b[1;32m    169\u001b[0m \u001b[43m        \u001b[49m\u001b[43mcollection_name\u001b[49m\u001b[38;5;241;43m=\u001b[39;49m\u001b[43mcollection_name\u001b[49m\u001b[43m,\u001b[49m\n\u001b[1;32m    170\u001b[0m \u001b[43m        \u001b[49m\u001b[43mwait\u001b[49m\u001b[38;5;241;43m=\u001b[39;49m\u001b[43mwait\u001b[49m\u001b[43m,\u001b[49m\n\u001b[1;32m    171\u001b[0m \u001b[43m        \u001b[49m\u001b[43mordering\u001b[49m\u001b[38;5;241;43m=\u001b[39;49m\u001b[43mordering\u001b[49m\u001b[43m,\u001b[49m\n\u001b[1;32m    172\u001b[0m \u001b[43m        \u001b[49m\u001b[43mcreate_field_index\u001b[49m\u001b[38;5;241;43m=\u001b[39;49m\u001b[43mcreate_field_index\u001b[49m\u001b[43m,\u001b[49m\n\u001b[1;32m    173\u001b[0m \u001b[43m    \u001b[49m\u001b[43m)\u001b[49m\n",
      "File \u001b[0;32m~/projects/netflix_talk2data/venv/lib/python3.10/site-packages/qdrant_client/http/api/indexes_api.py:79\u001b[0m, in \u001b[0;36m_IndexesApi._build_for_create_field_index\u001b[0;34m(self, collection_name, wait, ordering, create_field_index)\u001b[0m\n\u001b[1;32m     77\u001b[0m \u001b[38;5;28;01mif\u001b[39;00m \u001b[38;5;124m\"\u001b[39m\u001b[38;5;124mContent-Type\u001b[39m\u001b[38;5;124m\"\u001b[39m \u001b[38;5;129;01mnot\u001b[39;00m \u001b[38;5;129;01min\u001b[39;00m headers:\n\u001b[1;32m     78\u001b[0m     headers[\u001b[38;5;124m\"\u001b[39m\u001b[38;5;124mContent-Type\u001b[39m\u001b[38;5;124m\"\u001b[39m] \u001b[38;5;241m=\u001b[39m \u001b[38;5;124m\"\u001b[39m\u001b[38;5;124mapplication/json\u001b[39m\u001b[38;5;124m\"\u001b[39m\n\u001b[0;32m---> 79\u001b[0m \u001b[38;5;28;01mreturn\u001b[39;00m \u001b[38;5;28;43mself\u001b[39;49m\u001b[38;5;241;43m.\u001b[39;49m\u001b[43mapi_client\u001b[49m\u001b[38;5;241;43m.\u001b[39;49m\u001b[43mrequest\u001b[49m\u001b[43m(\u001b[49m\n\u001b[1;32m     80\u001b[0m \u001b[43m    \u001b[49m\u001b[43mtype_\u001b[49m\u001b[38;5;241;43m=\u001b[39;49m\u001b[43mm\u001b[49m\u001b[38;5;241;43m.\u001b[39;49m\u001b[43mInlineResponse2006\u001b[49m\u001b[43m,\u001b[49m\n\u001b[1;32m     81\u001b[0m \u001b[43m    \u001b[49m\u001b[43mmethod\u001b[49m\u001b[38;5;241;43m=\u001b[39;49m\u001b[38;5;124;43m\"\u001b[39;49m\u001b[38;5;124;43mPUT\u001b[39;49m\u001b[38;5;124;43m\"\u001b[39;49m\u001b[43m,\u001b[49m\n\u001b[1;32m     82\u001b[0m \u001b[43m    \u001b[49m\u001b[43murl\u001b[49m\u001b[38;5;241;43m=\u001b[39;49m\u001b[38;5;124;43m\"\u001b[39;49m\u001b[38;5;124;43m/collections/\u001b[39;49m\u001b[38;5;132;43;01m{collection_name}\u001b[39;49;00m\u001b[38;5;124;43m/index\u001b[39;49m\u001b[38;5;124;43m\"\u001b[39;49m\u001b[43m,\u001b[49m\n\u001b[1;32m     83\u001b[0m \u001b[43m    \u001b[49m\u001b[43mheaders\u001b[49m\u001b[38;5;241;43m=\u001b[39;49m\u001b[43mheaders\u001b[49m\u001b[43m \u001b[49m\u001b[38;5;28;43;01mif\u001b[39;49;00m\u001b[43m \u001b[49m\u001b[43mheaders\u001b[49m\u001b[43m \u001b[49m\u001b[38;5;28;43;01melse\u001b[39;49;00m\u001b[43m \u001b[49m\u001b[38;5;28;43;01mNone\u001b[39;49;00m\u001b[43m,\u001b[49m\n\u001b[1;32m     84\u001b[0m \u001b[43m    \u001b[49m\u001b[43mpath_params\u001b[49m\u001b[38;5;241;43m=\u001b[39;49m\u001b[43mpath_params\u001b[49m\u001b[43m,\u001b[49m\n\u001b[1;32m     85\u001b[0m \u001b[43m    \u001b[49m\u001b[43mparams\u001b[49m\u001b[38;5;241;43m=\u001b[39;49m\u001b[43mquery_params\u001b[49m\u001b[43m,\u001b[49m\n\u001b[1;32m     86\u001b[0m \u001b[43m    \u001b[49m\u001b[43mcontent\u001b[49m\u001b[38;5;241;43m=\u001b[39;49m\u001b[43mbody\u001b[49m\u001b[43m,\u001b[49m\n\u001b[1;32m     87\u001b[0m \u001b[43m\u001b[49m\u001b[43m)\u001b[49m\n",
      "File \u001b[0;32m~/projects/netflix_talk2data/venv/lib/python3.10/site-packages/qdrant_client/http/api_client.py:90\u001b[0m, in \u001b[0;36mApiClient.request\u001b[0;34m(self, type_, method, url, path_params, **kwargs)\u001b[0m\n\u001b[1;32m     88\u001b[0m     kwargs[\u001b[38;5;124m\"\u001b[39m\u001b[38;5;124mtimeout\u001b[39m\u001b[38;5;124m\"\u001b[39m] \u001b[38;5;241m=\u001b[39m \u001b[38;5;28mint\u001b[39m(kwargs[\u001b[38;5;124m\"\u001b[39m\u001b[38;5;124mparams\u001b[39m\u001b[38;5;124m\"\u001b[39m][\u001b[38;5;124m\"\u001b[39m\u001b[38;5;124mtimeout\u001b[39m\u001b[38;5;124m\"\u001b[39m])\n\u001b[1;32m     89\u001b[0m request \u001b[38;5;241m=\u001b[39m \u001b[38;5;28mself\u001b[39m\u001b[38;5;241m.\u001b[39m_client\u001b[38;5;241m.\u001b[39mbuild_request(method, url, \u001b[38;5;241m*\u001b[39m\u001b[38;5;241m*\u001b[39mkwargs)\n\u001b[0;32m---> 90\u001b[0m \u001b[38;5;28;01mreturn\u001b[39;00m \u001b[38;5;28;43mself\u001b[39;49m\u001b[38;5;241;43m.\u001b[39;49m\u001b[43msend\u001b[49m\u001b[43m(\u001b[49m\u001b[43mrequest\u001b[49m\u001b[43m,\u001b[49m\u001b[43m \u001b[49m\u001b[43mtype_\u001b[49m\u001b[43m)\u001b[49m\n",
      "File \u001b[0;32m~/projects/netflix_talk2data/venv/lib/python3.10/site-packages/qdrant_client/http/api_client.py:107\u001b[0m, in \u001b[0;36mApiClient.send\u001b[0;34m(self, request, type_)\u001b[0m\n\u001b[1;32m    106\u001b[0m \u001b[38;5;28;01mdef\u001b[39;00m\u001b[38;5;250m \u001b[39m\u001b[38;5;21msend\u001b[39m(\u001b[38;5;28mself\u001b[39m, request: Request, type_: Type[T]) \u001b[38;5;241m-\u001b[39m\u001b[38;5;241m>\u001b[39m T:\n\u001b[0;32m--> 107\u001b[0m     response \u001b[38;5;241m=\u001b[39m \u001b[38;5;28;43mself\u001b[39;49m\u001b[38;5;241;43m.\u001b[39;49m\u001b[43mmiddleware\u001b[49m\u001b[43m(\u001b[49m\u001b[43mrequest\u001b[49m\u001b[43m,\u001b[49m\u001b[43m \u001b[49m\u001b[38;5;28;43mself\u001b[39;49m\u001b[38;5;241;43m.\u001b[39;49m\u001b[43msend_inner\u001b[49m\u001b[43m)\u001b[49m\n\u001b[1;32m    109\u001b[0m     \u001b[38;5;28;01mif\u001b[39;00m response\u001b[38;5;241m.\u001b[39mstatus_code \u001b[38;5;241m==\u001b[39m \u001b[38;5;241m429\u001b[39m:\n\u001b[1;32m    110\u001b[0m         retry_after_s \u001b[38;5;241m=\u001b[39m response\u001b[38;5;241m.\u001b[39mheaders\u001b[38;5;241m.\u001b[39mget(\u001b[38;5;124m\"\u001b[39m\u001b[38;5;124mRetry-After\u001b[39m\u001b[38;5;124m\"\u001b[39m, \u001b[38;5;28;01mNone\u001b[39;00m)\n",
      "File \u001b[0;32m~/projects/netflix_talk2data/venv/lib/python3.10/site-packages/qdrant_client/http/api_client.py:240\u001b[0m, in \u001b[0;36mBaseMiddleware.__call__\u001b[0;34m(self, request, call_next)\u001b[0m\n\u001b[1;32m    239\u001b[0m \u001b[38;5;28;01mdef\u001b[39;00m\u001b[38;5;250m \u001b[39m\u001b[38;5;21m__call__\u001b[39m(\u001b[38;5;28mself\u001b[39m, request: Request, call_next: Send) \u001b[38;5;241m-\u001b[39m\u001b[38;5;241m>\u001b[39m Response:\n\u001b[0;32m--> 240\u001b[0m     \u001b[38;5;28;01mreturn\u001b[39;00m \u001b[43mcall_next\u001b[49m\u001b[43m(\u001b[49m\u001b[43mrequest\u001b[49m\u001b[43m)\u001b[49m\n",
      "File \u001b[0;32m~/projects/netflix_talk2data/venv/lib/python3.10/site-packages/qdrant_client/http/api_client.py:129\u001b[0m, in \u001b[0;36mApiClient.send_inner\u001b[0;34m(self, request)\u001b[0m\n\u001b[1;32m    127\u001b[0m \u001b[38;5;28;01mdef\u001b[39;00m\u001b[38;5;250m \u001b[39m\u001b[38;5;21msend_inner\u001b[39m(\u001b[38;5;28mself\u001b[39m, request: Request) \u001b[38;5;241m-\u001b[39m\u001b[38;5;241m>\u001b[39m Response:\n\u001b[1;32m    128\u001b[0m     \u001b[38;5;28;01mtry\u001b[39;00m:\n\u001b[0;32m--> 129\u001b[0m         response \u001b[38;5;241m=\u001b[39m \u001b[38;5;28;43mself\u001b[39;49m\u001b[38;5;241;43m.\u001b[39;49m\u001b[43m_client\u001b[49m\u001b[38;5;241;43m.\u001b[39;49m\u001b[43msend\u001b[49m\u001b[43m(\u001b[49m\u001b[43mrequest\u001b[49m\u001b[43m)\u001b[49m\n\u001b[1;32m    130\u001b[0m     \u001b[38;5;28;01mexcept\u001b[39;00m \u001b[38;5;167;01mException\u001b[39;00m \u001b[38;5;28;01mas\u001b[39;00m e:\n\u001b[1;32m    131\u001b[0m         \u001b[38;5;28;01mraise\u001b[39;00m ResponseHandlingException(e)\n",
      "File \u001b[0;32m~/projects/netflix_talk2data/venv/lib/python3.10/site-packages/httpx/_client.py:914\u001b[0m, in \u001b[0;36mClient.send\u001b[0;34m(self, request, stream, auth, follow_redirects)\u001b[0m\n\u001b[1;32m    910\u001b[0m \u001b[38;5;28mself\u001b[39m\u001b[38;5;241m.\u001b[39m_set_timeout(request)\n\u001b[1;32m    912\u001b[0m auth \u001b[38;5;241m=\u001b[39m \u001b[38;5;28mself\u001b[39m\u001b[38;5;241m.\u001b[39m_build_request_auth(request, auth)\n\u001b[0;32m--> 914\u001b[0m response \u001b[38;5;241m=\u001b[39m \u001b[38;5;28;43mself\u001b[39;49m\u001b[38;5;241;43m.\u001b[39;49m\u001b[43m_send_handling_auth\u001b[49m\u001b[43m(\u001b[49m\n\u001b[1;32m    915\u001b[0m \u001b[43m    \u001b[49m\u001b[43mrequest\u001b[49m\u001b[43m,\u001b[49m\n\u001b[1;32m    916\u001b[0m \u001b[43m    \u001b[49m\u001b[43mauth\u001b[49m\u001b[38;5;241;43m=\u001b[39;49m\u001b[43mauth\u001b[49m\u001b[43m,\u001b[49m\n\u001b[1;32m    917\u001b[0m \u001b[43m    \u001b[49m\u001b[43mfollow_redirects\u001b[49m\u001b[38;5;241;43m=\u001b[39;49m\u001b[43mfollow_redirects\u001b[49m\u001b[43m,\u001b[49m\n\u001b[1;32m    918\u001b[0m \u001b[43m    \u001b[49m\u001b[43mhistory\u001b[49m\u001b[38;5;241;43m=\u001b[39;49m\u001b[43m[\u001b[49m\u001b[43m]\u001b[49m\u001b[43m,\u001b[49m\n\u001b[1;32m    919\u001b[0m \u001b[43m\u001b[49m\u001b[43m)\u001b[49m\n\u001b[1;32m    920\u001b[0m \u001b[38;5;28;01mtry\u001b[39;00m:\n\u001b[1;32m    921\u001b[0m     \u001b[38;5;28;01mif\u001b[39;00m \u001b[38;5;129;01mnot\u001b[39;00m stream:\n",
      "File \u001b[0;32m~/projects/netflix_talk2data/venv/lib/python3.10/site-packages/httpx/_client.py:942\u001b[0m, in \u001b[0;36mClient._send_handling_auth\u001b[0;34m(self, request, auth, follow_redirects, history)\u001b[0m\n\u001b[1;32m    939\u001b[0m request \u001b[38;5;241m=\u001b[39m \u001b[38;5;28mnext\u001b[39m(auth_flow)\n\u001b[1;32m    941\u001b[0m \u001b[38;5;28;01mwhile\u001b[39;00m \u001b[38;5;28;01mTrue\u001b[39;00m:\n\u001b[0;32m--> 942\u001b[0m     response \u001b[38;5;241m=\u001b[39m \u001b[38;5;28;43mself\u001b[39;49m\u001b[38;5;241;43m.\u001b[39;49m\u001b[43m_send_handling_redirects\u001b[49m\u001b[43m(\u001b[49m\n\u001b[1;32m    943\u001b[0m \u001b[43m        \u001b[49m\u001b[43mrequest\u001b[49m\u001b[43m,\u001b[49m\n\u001b[1;32m    944\u001b[0m \u001b[43m        \u001b[49m\u001b[43mfollow_redirects\u001b[49m\u001b[38;5;241;43m=\u001b[39;49m\u001b[43mfollow_redirects\u001b[49m\u001b[43m,\u001b[49m\n\u001b[1;32m    945\u001b[0m \u001b[43m        \u001b[49m\u001b[43mhistory\u001b[49m\u001b[38;5;241;43m=\u001b[39;49m\u001b[43mhistory\u001b[49m\u001b[43m,\u001b[49m\n\u001b[1;32m    946\u001b[0m \u001b[43m    \u001b[49m\u001b[43m)\u001b[49m\n\u001b[1;32m    947\u001b[0m     \u001b[38;5;28;01mtry\u001b[39;00m:\n\u001b[1;32m    948\u001b[0m         \u001b[38;5;28;01mtry\u001b[39;00m:\n",
      "File \u001b[0;32m~/projects/netflix_talk2data/venv/lib/python3.10/site-packages/httpx/_client.py:979\u001b[0m, in \u001b[0;36mClient._send_handling_redirects\u001b[0;34m(self, request, follow_redirects, history)\u001b[0m\n\u001b[1;32m    976\u001b[0m \u001b[38;5;28;01mfor\u001b[39;00m hook \u001b[38;5;129;01min\u001b[39;00m \u001b[38;5;28mself\u001b[39m\u001b[38;5;241m.\u001b[39m_event_hooks[\u001b[38;5;124m\"\u001b[39m\u001b[38;5;124mrequest\u001b[39m\u001b[38;5;124m\"\u001b[39m]:\n\u001b[1;32m    977\u001b[0m     hook(request)\n\u001b[0;32m--> 979\u001b[0m response \u001b[38;5;241m=\u001b[39m \u001b[38;5;28;43mself\u001b[39;49m\u001b[38;5;241;43m.\u001b[39;49m\u001b[43m_send_single_request\u001b[49m\u001b[43m(\u001b[49m\u001b[43mrequest\u001b[49m\u001b[43m)\u001b[49m\n\u001b[1;32m    980\u001b[0m \u001b[38;5;28;01mtry\u001b[39;00m:\n\u001b[1;32m    981\u001b[0m     \u001b[38;5;28;01mfor\u001b[39;00m hook \u001b[38;5;129;01min\u001b[39;00m \u001b[38;5;28mself\u001b[39m\u001b[38;5;241m.\u001b[39m_event_hooks[\u001b[38;5;124m\"\u001b[39m\u001b[38;5;124mresponse\u001b[39m\u001b[38;5;124m\"\u001b[39m]:\n",
      "File \u001b[0;32m~/projects/netflix_talk2data/venv/lib/python3.10/site-packages/httpx/_client.py:1014\u001b[0m, in \u001b[0;36mClient._send_single_request\u001b[0;34m(self, request)\u001b[0m\n\u001b[1;32m   1009\u001b[0m     \u001b[38;5;28;01mraise\u001b[39;00m \u001b[38;5;167;01mRuntimeError\u001b[39;00m(\n\u001b[1;32m   1010\u001b[0m         \u001b[38;5;124m\"\u001b[39m\u001b[38;5;124mAttempted to send an async request with a sync Client instance.\u001b[39m\u001b[38;5;124m\"\u001b[39m\n\u001b[1;32m   1011\u001b[0m     )\n\u001b[1;32m   1013\u001b[0m \u001b[38;5;28;01mwith\u001b[39;00m request_context(request\u001b[38;5;241m=\u001b[39mrequest):\n\u001b[0;32m-> 1014\u001b[0m     response \u001b[38;5;241m=\u001b[39m \u001b[43mtransport\u001b[49m\u001b[38;5;241;43m.\u001b[39;49m\u001b[43mhandle_request\u001b[49m\u001b[43m(\u001b[49m\u001b[43mrequest\u001b[49m\u001b[43m)\u001b[49m\n\u001b[1;32m   1016\u001b[0m \u001b[38;5;28;01massert\u001b[39;00m \u001b[38;5;28misinstance\u001b[39m(response\u001b[38;5;241m.\u001b[39mstream, SyncByteStream)\n\u001b[1;32m   1018\u001b[0m response\u001b[38;5;241m.\u001b[39mrequest \u001b[38;5;241m=\u001b[39m request\n",
      "File \u001b[0;32m~/projects/netflix_talk2data/venv/lib/python3.10/site-packages/httpx/_transports/default.py:250\u001b[0m, in \u001b[0;36mHTTPTransport.handle_request\u001b[0;34m(self, request)\u001b[0m\n\u001b[1;32m    237\u001b[0m req \u001b[38;5;241m=\u001b[39m httpcore\u001b[38;5;241m.\u001b[39mRequest(\n\u001b[1;32m    238\u001b[0m     method\u001b[38;5;241m=\u001b[39mrequest\u001b[38;5;241m.\u001b[39mmethod,\n\u001b[1;32m    239\u001b[0m     url\u001b[38;5;241m=\u001b[39mhttpcore\u001b[38;5;241m.\u001b[39mURL(\n\u001b[0;32m   (...)\u001b[0m\n\u001b[1;32m    247\u001b[0m     extensions\u001b[38;5;241m=\u001b[39mrequest\u001b[38;5;241m.\u001b[39mextensions,\n\u001b[1;32m    248\u001b[0m )\n\u001b[1;32m    249\u001b[0m \u001b[38;5;28;01mwith\u001b[39;00m map_httpcore_exceptions():\n\u001b[0;32m--> 250\u001b[0m     resp \u001b[38;5;241m=\u001b[39m \u001b[38;5;28;43mself\u001b[39;49m\u001b[38;5;241;43m.\u001b[39;49m\u001b[43m_pool\u001b[49m\u001b[38;5;241;43m.\u001b[39;49m\u001b[43mhandle_request\u001b[49m\u001b[43m(\u001b[49m\u001b[43mreq\u001b[49m\u001b[43m)\u001b[49m\n\u001b[1;32m    252\u001b[0m \u001b[38;5;28;01massert\u001b[39;00m \u001b[38;5;28misinstance\u001b[39m(resp\u001b[38;5;241m.\u001b[39mstream, typing\u001b[38;5;241m.\u001b[39mIterable)\n\u001b[1;32m    254\u001b[0m \u001b[38;5;28;01mreturn\u001b[39;00m Response(\n\u001b[1;32m    255\u001b[0m     status_code\u001b[38;5;241m=\u001b[39mresp\u001b[38;5;241m.\u001b[39mstatus,\n\u001b[1;32m    256\u001b[0m     headers\u001b[38;5;241m=\u001b[39mresp\u001b[38;5;241m.\u001b[39mheaders,\n\u001b[1;32m    257\u001b[0m     stream\u001b[38;5;241m=\u001b[39mResponseStream(resp\u001b[38;5;241m.\u001b[39mstream),\n\u001b[1;32m    258\u001b[0m     extensions\u001b[38;5;241m=\u001b[39mresp\u001b[38;5;241m.\u001b[39mextensions,\n\u001b[1;32m    259\u001b[0m )\n",
      "File \u001b[0;32m~/projects/netflix_talk2data/venv/lib/python3.10/site-packages/httpcore/_sync/connection_pool.py:256\u001b[0m, in \u001b[0;36mConnectionPool.handle_request\u001b[0;34m(self, request)\u001b[0m\n\u001b[1;32m    253\u001b[0m         closing \u001b[38;5;241m=\u001b[39m \u001b[38;5;28mself\u001b[39m\u001b[38;5;241m.\u001b[39m_assign_requests_to_connections()\n\u001b[1;32m    255\u001b[0m     \u001b[38;5;28mself\u001b[39m\u001b[38;5;241m.\u001b[39m_close_connections(closing)\n\u001b[0;32m--> 256\u001b[0m     \u001b[38;5;28;01mraise\u001b[39;00m exc \u001b[38;5;28;01mfrom\u001b[39;00m\u001b[38;5;250m \u001b[39m\u001b[38;5;28;01mNone\u001b[39;00m\n\u001b[1;32m    258\u001b[0m \u001b[38;5;66;03m# Return the response. Note that in this case we still have to manage\u001b[39;00m\n\u001b[1;32m    259\u001b[0m \u001b[38;5;66;03m# the point at which the response is closed.\u001b[39;00m\n\u001b[1;32m    260\u001b[0m \u001b[38;5;28;01massert\u001b[39;00m \u001b[38;5;28misinstance\u001b[39m(response\u001b[38;5;241m.\u001b[39mstream, typing\u001b[38;5;241m.\u001b[39mIterable)\n",
      "File \u001b[0;32m~/projects/netflix_talk2data/venv/lib/python3.10/site-packages/httpcore/_sync/connection_pool.py:236\u001b[0m, in \u001b[0;36mConnectionPool.handle_request\u001b[0;34m(self, request)\u001b[0m\n\u001b[1;32m    232\u001b[0m connection \u001b[38;5;241m=\u001b[39m pool_request\u001b[38;5;241m.\u001b[39mwait_for_connection(timeout\u001b[38;5;241m=\u001b[39mtimeout)\n\u001b[1;32m    234\u001b[0m \u001b[38;5;28;01mtry\u001b[39;00m:\n\u001b[1;32m    235\u001b[0m     \u001b[38;5;66;03m# Send the request on the assigned connection.\u001b[39;00m\n\u001b[0;32m--> 236\u001b[0m     response \u001b[38;5;241m=\u001b[39m \u001b[43mconnection\u001b[49m\u001b[38;5;241;43m.\u001b[39;49m\u001b[43mhandle_request\u001b[49m\u001b[43m(\u001b[49m\n\u001b[1;32m    237\u001b[0m \u001b[43m        \u001b[49m\u001b[43mpool_request\u001b[49m\u001b[38;5;241;43m.\u001b[39;49m\u001b[43mrequest\u001b[49m\n\u001b[1;32m    238\u001b[0m \u001b[43m    \u001b[49m\u001b[43m)\u001b[49m\n\u001b[1;32m    239\u001b[0m \u001b[38;5;28;01mexcept\u001b[39;00m ConnectionNotAvailable:\n\u001b[1;32m    240\u001b[0m     \u001b[38;5;66;03m# In some cases a connection may initially be available to\u001b[39;00m\n\u001b[1;32m    241\u001b[0m     \u001b[38;5;66;03m# handle a request, but then become unavailable.\u001b[39;00m\n\u001b[1;32m    242\u001b[0m     \u001b[38;5;66;03m#\u001b[39;00m\n\u001b[1;32m    243\u001b[0m     \u001b[38;5;66;03m# In this case we clear the connection and try again.\u001b[39;00m\n\u001b[1;32m    244\u001b[0m     pool_request\u001b[38;5;241m.\u001b[39mclear_connection()\n",
      "File \u001b[0;32m~/projects/netflix_talk2data/venv/lib/python3.10/site-packages/httpcore/_sync/connection.py:103\u001b[0m, in \u001b[0;36mHTTPConnection.handle_request\u001b[0;34m(self, request)\u001b[0m\n\u001b[1;32m    100\u001b[0m     \u001b[38;5;28mself\u001b[39m\u001b[38;5;241m.\u001b[39m_connect_failed \u001b[38;5;241m=\u001b[39m \u001b[38;5;28;01mTrue\u001b[39;00m\n\u001b[1;32m    101\u001b[0m     \u001b[38;5;28;01mraise\u001b[39;00m exc\n\u001b[0;32m--> 103\u001b[0m \u001b[38;5;28;01mreturn\u001b[39;00m \u001b[38;5;28;43mself\u001b[39;49m\u001b[38;5;241;43m.\u001b[39;49m\u001b[43m_connection\u001b[49m\u001b[38;5;241;43m.\u001b[39;49m\u001b[43mhandle_request\u001b[49m\u001b[43m(\u001b[49m\u001b[43mrequest\u001b[49m\u001b[43m)\u001b[49m\n",
      "File \u001b[0;32m~/projects/netflix_talk2data/venv/lib/python3.10/site-packages/httpcore/_sync/http11.py:136\u001b[0m, in \u001b[0;36mHTTP11Connection.handle_request\u001b[0;34m(self, request)\u001b[0m\n\u001b[1;32m    134\u001b[0m     \u001b[38;5;28;01mwith\u001b[39;00m Trace(\u001b[38;5;124m\"\u001b[39m\u001b[38;5;124mresponse_closed\u001b[39m\u001b[38;5;124m\"\u001b[39m, logger, request) \u001b[38;5;28;01mas\u001b[39;00m trace:\n\u001b[1;32m    135\u001b[0m         \u001b[38;5;28mself\u001b[39m\u001b[38;5;241m.\u001b[39m_response_closed()\n\u001b[0;32m--> 136\u001b[0m \u001b[38;5;28;01mraise\u001b[39;00m exc\n",
      "File \u001b[0;32m~/projects/netflix_talk2data/venv/lib/python3.10/site-packages/httpcore/_sync/http11.py:106\u001b[0m, in \u001b[0;36mHTTP11Connection.handle_request\u001b[0;34m(self, request)\u001b[0m\n\u001b[1;32m     95\u001b[0m     \u001b[38;5;28;01mpass\u001b[39;00m\n\u001b[1;32m     97\u001b[0m \u001b[38;5;28;01mwith\u001b[39;00m Trace(\n\u001b[1;32m     98\u001b[0m     \u001b[38;5;124m\"\u001b[39m\u001b[38;5;124mreceive_response_headers\u001b[39m\u001b[38;5;124m\"\u001b[39m, logger, request, kwargs\n\u001b[1;32m     99\u001b[0m ) \u001b[38;5;28;01mas\u001b[39;00m trace:\n\u001b[1;32m    100\u001b[0m     (\n\u001b[1;32m    101\u001b[0m         http_version,\n\u001b[1;32m    102\u001b[0m         status,\n\u001b[1;32m    103\u001b[0m         reason_phrase,\n\u001b[1;32m    104\u001b[0m         headers,\n\u001b[1;32m    105\u001b[0m         trailing_data,\n\u001b[0;32m--> 106\u001b[0m     ) \u001b[38;5;241m=\u001b[39m \u001b[38;5;28;43mself\u001b[39;49m\u001b[38;5;241;43m.\u001b[39;49m\u001b[43m_receive_response_headers\u001b[49m\u001b[43m(\u001b[49m\u001b[38;5;241;43m*\u001b[39;49m\u001b[38;5;241;43m*\u001b[39;49m\u001b[43mkwargs\u001b[49m\u001b[43m)\u001b[49m\n\u001b[1;32m    107\u001b[0m     trace\u001b[38;5;241m.\u001b[39mreturn_value \u001b[38;5;241m=\u001b[39m (\n\u001b[1;32m    108\u001b[0m         http_version,\n\u001b[1;32m    109\u001b[0m         status,\n\u001b[1;32m    110\u001b[0m         reason_phrase,\n\u001b[1;32m    111\u001b[0m         headers,\n\u001b[1;32m    112\u001b[0m     )\n\u001b[1;32m    114\u001b[0m network_stream \u001b[38;5;241m=\u001b[39m \u001b[38;5;28mself\u001b[39m\u001b[38;5;241m.\u001b[39m_network_stream\n",
      "File \u001b[0;32m~/projects/netflix_talk2data/venv/lib/python3.10/site-packages/httpcore/_sync/http11.py:177\u001b[0m, in \u001b[0;36mHTTP11Connection._receive_response_headers\u001b[0;34m(self, request)\u001b[0m\n\u001b[1;32m    174\u001b[0m timeout \u001b[38;5;241m=\u001b[39m timeouts\u001b[38;5;241m.\u001b[39mget(\u001b[38;5;124m\"\u001b[39m\u001b[38;5;124mread\u001b[39m\u001b[38;5;124m\"\u001b[39m, \u001b[38;5;28;01mNone\u001b[39;00m)\n\u001b[1;32m    176\u001b[0m \u001b[38;5;28;01mwhile\u001b[39;00m \u001b[38;5;28;01mTrue\u001b[39;00m:\n\u001b[0;32m--> 177\u001b[0m     event \u001b[38;5;241m=\u001b[39m \u001b[38;5;28;43mself\u001b[39;49m\u001b[38;5;241;43m.\u001b[39;49m\u001b[43m_receive_event\u001b[49m\u001b[43m(\u001b[49m\u001b[43mtimeout\u001b[49m\u001b[38;5;241;43m=\u001b[39;49m\u001b[43mtimeout\u001b[49m\u001b[43m)\u001b[49m\n\u001b[1;32m    178\u001b[0m     \u001b[38;5;28;01mif\u001b[39;00m \u001b[38;5;28misinstance\u001b[39m(event, h11\u001b[38;5;241m.\u001b[39mResponse):\n\u001b[1;32m    179\u001b[0m         \u001b[38;5;28;01mbreak\u001b[39;00m\n",
      "File \u001b[0;32m~/projects/netflix_talk2data/venv/lib/python3.10/site-packages/httpcore/_sync/http11.py:217\u001b[0m, in \u001b[0;36mHTTP11Connection._receive_event\u001b[0;34m(self, timeout)\u001b[0m\n\u001b[1;32m    214\u001b[0m     event \u001b[38;5;241m=\u001b[39m \u001b[38;5;28mself\u001b[39m\u001b[38;5;241m.\u001b[39m_h11_state\u001b[38;5;241m.\u001b[39mnext_event()\n\u001b[1;32m    216\u001b[0m \u001b[38;5;28;01mif\u001b[39;00m event \u001b[38;5;129;01mis\u001b[39;00m h11\u001b[38;5;241m.\u001b[39mNEED_DATA:\n\u001b[0;32m--> 217\u001b[0m     data \u001b[38;5;241m=\u001b[39m \u001b[38;5;28;43mself\u001b[39;49m\u001b[38;5;241;43m.\u001b[39;49m\u001b[43m_network_stream\u001b[49m\u001b[38;5;241;43m.\u001b[39;49m\u001b[43mread\u001b[49m\u001b[43m(\u001b[49m\n\u001b[1;32m    218\u001b[0m \u001b[43m        \u001b[49m\u001b[38;5;28;43mself\u001b[39;49m\u001b[38;5;241;43m.\u001b[39;49m\u001b[43mREAD_NUM_BYTES\u001b[49m\u001b[43m,\u001b[49m\u001b[43m \u001b[49m\u001b[43mtimeout\u001b[49m\u001b[38;5;241;43m=\u001b[39;49m\u001b[43mtimeout\u001b[49m\n\u001b[1;32m    219\u001b[0m \u001b[43m    \u001b[49m\u001b[43m)\u001b[49m\n\u001b[1;32m    221\u001b[0m     \u001b[38;5;66;03m# If we feed this case through h11 we'll raise an exception like:\u001b[39;00m\n\u001b[1;32m    222\u001b[0m     \u001b[38;5;66;03m#\u001b[39;00m\n\u001b[1;32m    223\u001b[0m     \u001b[38;5;66;03m#     httpcore.RemoteProtocolError: can't handle event type\u001b[39;00m\n\u001b[0;32m   (...)\u001b[0m\n\u001b[1;32m    227\u001b[0m     \u001b[38;5;66;03m# perspective. Instead we handle this case distinctly and treat\u001b[39;00m\n\u001b[1;32m    228\u001b[0m     \u001b[38;5;66;03m# it as a ConnectError.\u001b[39;00m\n\u001b[1;32m    229\u001b[0m     \u001b[38;5;28;01mif\u001b[39;00m data \u001b[38;5;241m==\u001b[39m \u001b[38;5;124mb\u001b[39m\u001b[38;5;124m\"\u001b[39m\u001b[38;5;124m\"\u001b[39m \u001b[38;5;129;01mand\u001b[39;00m \u001b[38;5;28mself\u001b[39m\u001b[38;5;241m.\u001b[39m_h11_state\u001b[38;5;241m.\u001b[39mtheir_state \u001b[38;5;241m==\u001b[39m h11\u001b[38;5;241m.\u001b[39mSEND_RESPONSE:\n",
      "File \u001b[0;32m~/projects/netflix_talk2data/venv/lib/python3.10/site-packages/httpcore/_backends/sync.py:128\u001b[0m, in \u001b[0;36mSyncStream.read\u001b[0;34m(self, max_bytes, timeout)\u001b[0m\n\u001b[1;32m    126\u001b[0m \u001b[38;5;28;01mwith\u001b[39;00m map_exceptions(exc_map):\n\u001b[1;32m    127\u001b[0m     \u001b[38;5;28mself\u001b[39m\u001b[38;5;241m.\u001b[39m_sock\u001b[38;5;241m.\u001b[39msettimeout(timeout)\n\u001b[0;32m--> 128\u001b[0m     \u001b[38;5;28;01mreturn\u001b[39;00m \u001b[38;5;28;43mself\u001b[39;49m\u001b[38;5;241;43m.\u001b[39;49m\u001b[43m_sock\u001b[49m\u001b[38;5;241;43m.\u001b[39;49m\u001b[43mrecv\u001b[49m\u001b[43m(\u001b[49m\u001b[43mmax_bytes\u001b[49m\u001b[43m)\u001b[49m\n",
      "\u001b[0;31mKeyboardInterrupt\u001b[0m: "
     ]
    }
   ],
   "source": [
    "# ✅ Sanitize field names and create payload indexes\n",
    "import re\n",
    "\n",
    "for field, schema in payload_schema.items():\n",
    "    safe_field = normalize_field_name(field)   #Using the normalize function to ensure field names are safe\n",
    "    \n",
    "    # If schema is a dict (with 'type'), extract just the type\n",
    "    if isinstance(schema, dict) and \"type\" in schema:\n",
    "        field_schema = schema[\"type\"]\n",
    "    else:\n",
    "        field_schema = schema\n",
    "    client.create_payload_index(\n",
    "        collection_name=COLLECTION_NAME,\n",
    "        field_name=safe_field,\n",
    "        field_schema=field_schema\n",
    "    )\n",
    "\n",
    "print(f\"✅ Created payload schema for collection: {COLLECTION_NAME}\")\n"
   ]
  },
  {
   "cell_type": "code",
   "execution_count": 178,
   "id": "cbc36383",
   "metadata": {},
   "outputs": [
    {
     "name": "stdout",
     "output_type": "stream",
     "text": [
      "✅ Ingested 500 documents.\n",
      "📊 Total in Qdrant: 500\n"
     ]
    }
   ],
   "source": [
    "# %% 📤 Ingest Documents into Qdrant\n",
    "\n",
    "qdrant = Qdrant.from_documents(\n",
    "    documents=documents,\n",
    "    embedding=embedding_model,\n",
    "    url=\"http://localhost:6333\",\n",
    "    collection_name=COLLECTION_NAME,\n",
    ")\n",
    "\n",
    "# Verify insertion\n",
    "print(f\"✅ Ingested {len(documents)} documents.\")\n",
    "print(f\"📊 Total in Qdrant: {qdrant.client.count(COLLECTION_NAME, exact=True).count}\")"
   ]
  },
  {
   "cell_type": "code",
   "execution_count": 186,
   "id": "c2ac843b",
   "metadata": {},
   "outputs": [],
   "source": [
    "from qdrant_client.http.models import FieldCondition, MatchText, Range, Filter\n",
    "\n",
    "def build_filter_conditions(filters: dict):\n",
    "    conditions = []\n",
    "    for key, value in filters.items():\n",
    "        norm_key = normalize_field_name(key)\n",
    "\n",
    "        if isinstance(value, dict) and (\"gte\" in value or \"lte\" in value):\n",
    "            # 📏 Range filter\n",
    "            conditions.append(\n",
    "                FieldCondition(\n",
    "                    key=norm_key,\n",
    "                    range=Range(\n",
    "                        gte=value.get(\"gte\"),\n",
    "                        lte=value.get(\"lte\")\n",
    "                    )\n",
    "                )\n",
    "            )\n",
    "        else:\n",
    "            # 🔤 Textual match (case-insensitive)\n",
    "            norm_value = normalize_field_value(value)\n",
    "            conditions.append(\n",
    "                FieldCondition(\n",
    "                    key=norm_key,\n",
    "                    match=MatchText(text=norm_value)\n",
    "                )\n",
    "            )\n",
    "    return conditions\n",
    "\n",
    "def search_with_metadata_and_range_filter(qdrant, query: str, k: int, filters: dict):\n",
    "    print(f\"🔍 Query: {query}\")\n",
    "    print(f\"📎 Filters: {filters}\")\n",
    "    print(f\"🔢 Top K: {k}\")\n",
    "\n",
    "    conditions = build_filter_conditions(filters)\n",
    "    q_filter = Filter(must=conditions)\n",
    "\n",
    "    results = qdrant.similarity_search_with_score(query=query, k=k, filter=q_filter)\n",
    "\n",
    "    if not results:\n",
    "        print(\"⚠️ No results found.\")\n",
    "    else:\n",
    "        for doc, score in results:\n",
    "            print(f\"\\n🎯 Score: {score:.4f}\")\n",
    "            print(doc.page_content)\n",
    "            print(\"-\" * 60)\n"
   ]
  },
  {
   "cell_type": "code",
   "execution_count": 187,
   "id": "ef9d0fef",
   "metadata": {},
   "outputs": [
    {
     "name": "stdout",
     "output_type": "stream",
     "text": [
      "🔍 Query: growing startups in delhi\n",
      "📎 Filters: {'state': 'delhi'}\n",
      "🔢 Top K: 5\n",
      "⚠️ No results found.\n"
     ]
    }
   ],
   "source": [
    "# --- Example Query ---\n",
    "search_with_metadata_and_range_filter(\n",
    "    qdrant,\n",
    "    query=\"growing startups in delhi\",\n",
    "    k=5,\n",
    "    filters={\n",
    "        \"state\": \"delhi\",\n",
    "    }\n",
    ")\n"
   ]
  },
  {
   "cell_type": "code",
   "execution_count": 190,
   "id": "d076a1d0",
   "metadata": {},
   "outputs": [
    {
     "name": "stdout",
     "output_type": "stream",
     "text": [
      "['Telangana' 'Rajasthan' 'Tamil Nadu' 'Karnataka' 'Uttar Pradesh' 'Delhi'\n",
      " 'West Bengal' 'Punjab' 'Maharashtra' 'Gujarat']\n",
      "    Company Name Legal Entity Type  State Headquarters City  Year Founded  \\\n",
      "6          Noise    Proprietorship  Delhi            Mumbai          1996   \n",
      "8    Practically               LLC  Delhi         Ahmedabad          2010   \n",
      "16   Tork Motors    Proprietorship  Delhi         Hyderabad          2004   \n",
      "27     Mamaearth        Public Ltd  Delhi             Delhi          2012   \n",
      "28      Scripbox               LLC  Delhi        Chandigarh          2013   \n",
      "..           ...               ...    ...               ...           ...   \n",
      "482     Cashfree           Pvt Ltd  Delhi         Bengaluru          2005   \n",
      "484        Udaan    Proprietorship  Delhi           Kolkata          2010   \n",
      "488     Ola Cabs    Proprietorship  Delhi         Ahmedabad          2004   \n",
      "493    BigBasket               LLC  Delhi           Kolkata          2003   \n",
      "497    ShareChat               LLC  Delhi        Chandigarh          2010   \n",
      "\n",
      "                        Company Website  \\\n",
      "6                 https://perkinsllc.in   \n",
      "8     https://bender,adamsandaguilar.in   \n",
      "16               https://lutz-maddox.in   \n",
      "27             https://thompsongroup.in   \n",
      "28              https://peters-allen.in   \n",
      "..                                  ...   \n",
      "482  https://barker,simpsonandmassey.in   \n",
      "484           https://wright-kennedy.in   \n",
      "488  https://stewart,clarkeandmartin.in   \n",
      "493           https://gilbertandsons.in   \n",
      "497     https://sharp,pinedaandcasey.in   \n",
      "\n",
      "                                              Logo URL  \\\n",
      "6              https://logo.clearbit.com/perkinsllc.in   \n",
      "8    https://logo.clearbit.com/bender,adamsandaguil...   \n",
      "16            https://logo.clearbit.com/lutz-maddox.in   \n",
      "27          https://logo.clearbit.com/thompsongroup.in   \n",
      "28           https://logo.clearbit.com/peters-allen.in   \n",
      "..                                                 ...   \n",
      "482  https://logo.clearbit.com/barker,simpsonandmas...   \n",
      "484        https://logo.clearbit.com/wright-kennedy.in   \n",
      "488  https://logo.clearbit.com/stewart,clarkeandmar...   \n",
      "493        https://logo.clearbit.com/gilbertandsons.in   \n",
      "497  https://logo.clearbit.com/sharp,pinedaandcasey.in   \n",
      "\n",
      "                      Company Description (Short)  \\\n",
      "6             Streamlined needs-based flexibility   \n",
      "8                   Persistent directional policy   \n",
      "16                Exclusive user-facing help-desk   \n",
      "27             Front-line logistical service-desk   \n",
      "28         Monitored bandwidth-monitored extranet   \n",
      "..                                            ...   \n",
      "482       Devolved analyzing budgetary management   \n",
      "484               Visionary system-worthy support   \n",
      "488            Multi-lateral real-time complexity   \n",
      "493          Versatile fresh-thinking application   \n",
      "497  Cross-group fresh-thinking open architecture   \n",
      "\n",
      "                            Company Description (Long) Industry Sector  ...  \\\n",
      "6    Again customer performance director sure media...      E-commerce  ...   \n",
      "8    Trial official court involve to around cost. Y...      E-commerce  ...   \n",
      "16   Protect site pass bring training still. Late h...        AgriTech  ...   \n",
      "27   People that someone laugh. Particularly onto f...      E-commerce  ...   \n",
      "28   Catch TV sell condition. Identify adult statem...         Fintech  ...   \n",
      "..                                                 ...             ...  ...   \n",
      "482  Blood for have news send bar case. Individual ...         Fintech  ...   \n",
      "484  Note foot each three these director. Husband p...            SaaS  ...   \n",
      "488  Teacher cause quickly as site forward story fi...      E-commerce  ...   \n",
      "493  Executive amount environment safe similar cont...        AgriTech  ...   \n",
      "497  Brother stage enjoy accept political watch lit...        AgriTech  ...   \n",
      "\n",
      "       Hiring Status      Popular Roles Open Primary Products / Services  \\\n",
      "6    Actively Hiring    Engineering, Product         Credit Card Rewards   \n",
      "8    Actively Hiring          Product, Sales               Home Services   \n",
      "16   Actively Hiring    Product, Engineering              Online Grocery   \n",
      "27   Actively Hiring        Sales, Marketing           Electric Scooters   \n",
      "28     Hiring Freeze  Engineering, Marketing          Insurance Platform   \n",
      "..               ...                     ...                         ...   \n",
      "482  Actively Hiring    Engineering, Product       Furniture Marketplace   \n",
      "484    Hiring Freeze    Engineering, Product             Online Pharmacy   \n",
      "488  Actively Hiring    Product, Engineering      Prescription Medicines   \n",
      "493  Actively Hiring      Marketing, Product      Prescription Medicines   \n",
      "497  Actively Hiring          Product, Sales         E-commerce Platform   \n",
      "\n",
      "    Product Categories               Tech Stack Integrations / APIs offered  \\\n",
      "6                  B2B       Python, React, AWS       Razorpay, Zoho, Tally   \n",
      "8                  D2C       Python, React, AWS       Razorpay, Zoho, Tally   \n",
      "16                 B2B       Python, React, AWS       Razorpay, Zoho, Tally   \n",
      "27                 D2C  Node.js, MongoDB, Azure       Razorpay, Zoho, Tally   \n",
      "28                 D2C   Java, Spring Boot, GCP       Razorpay, Zoho, Tally   \n",
      "..                 ...                      ...                         ...   \n",
      "482                B2B  Node.js, MongoDB, Azure       Razorpay, Zoho, Tally   \n",
      "484                B2B   Java, Spring Boot, GCP       Razorpay, Zoho, Tally   \n",
      "488               SaaS   Java, Spring Boot, GCP       Razorpay, Zoho, Tally   \n",
      "493                D2C   Java, Spring Boot, GCP       Razorpay, Zoho, Tally   \n",
      "497                D2C       Python, React, AWS       Razorpay, Zoho, Tally   \n",
      "\n",
      "    Target Market   Major Customers / Logos  \\\n",
      "6       Consumers          Direct Consumers   \n",
      "8       Consumers          Direct Consumers   \n",
      "16      Consumers          Direct Consumers   \n",
      "27      Consumers          Direct Consumers   \n",
      "28    Enterprises        Unilever, Mahindra   \n",
      "..            ...                       ...   \n",
      "482   Enterprises  HSBC (UK), ICICI (India)   \n",
      "484     Consumers          Direct Consumers   \n",
      "488     Consumers          Direct Consumers   \n",
      "493   Enterprises      Reliance Retail, SBI   \n",
      "497          SMBs  Tier 2 Service Providers   \n",
      "\n",
      "                          Press Mentions / Recent News             Competitors  \n",
      "6             Ten bed positive property order central.        Boat, Fire-Boltt  \n",
      "8                  Once Democrat member about both to.    Company X, Company Y  \n",
      "16                 Nor culture near history ever unit.    Company X, Company Y  \n",
      "27   Campaign read yet quickly myself discover coun...  Wow Skin Science, Plum  \n",
      "28                            Bit school doctor never.    Startup A, Startup B  \n",
      "..                                                 ...                     ...  \n",
      "482                         Build fall property music.    Startup A, Startup B  \n",
      "484  Interesting guess arm century hit cover eye tell.    Company X, Company Y  \n",
      "488                        Prepare decade ago century.          Uber, BluSmart  \n",
      "493                    Decision think something field.        Grofers, JioMart  \n",
      "497                   Send rich interest friend young.    Startup A, Startup B  \n",
      "\n",
      "[65 rows x 33 columns]\n"
     ]
    }
   ],
   "source": [
    "print(df['State'].unique())\n",
    "\n",
    "print(df[df['State'].str.lower().str.contains('delhi', na=False)])"
   ]
  },
  {
   "cell_type": "code",
   "execution_count": 192,
   "id": "f9ee4ed8",
   "metadata": {},
   "outputs": [],
   "source": [
    "from qdrant_client.http.models import Filter, FieldCondition, MatchText\n",
    "\n",
    "q_filter = Filter(must=[\n",
    "    FieldCondition(key=\"state\", match=MatchText(text=\"delhi\"))\n",
    "])\n",
    "result = client.scroll(\n",
    "    collection_name=COLLECTION_NAME,\n",
    "    scroll_filter=q_filter,\n",
    "    limit=10,\n",
    "    with_payload=True\n",
    ")\n",
    "for pt in result[0]:\n",
    "    print(pt.payload)"
   ]
  },
  {
   "cell_type": "code",
   "execution_count": 193,
   "id": "a751177e",
   "metadata": {},
   "outputs": [
    {
     "name": "stdout",
     "output_type": "stream",
     "text": [
      "{'page_content': 'company_name: policybazaar\\nlegal_entity_type: proprietorship\\nstate: gujarat\\nheadquarters_city: jaipur\\nyear_founded: 2002\\ncompany_website: https://jones,berryandcordova.in\\nlogo_url: https://logo.clearbit.com/jones,berryandcordova.in\\ncompany_description__short_: synergized asynchronous function\\ncompany_description__long_: machine your weight seat.\\r\\nlife however ok. hope where for seat once share. boy sport under important agreement decision purpose rest.\\r\\nstudent with claim. plant value serve federal.\\nindustry_sector: logistics\\ntotal_funding_raised__inr_: ₹443 cr\\nnumber_of_funding_rounds: 2\\nlatest_funding_round_type: pre-seed\\nlatest_funding_date: 2024-06-18\\nlead_investors: gilbert, leblanc and morgan\\nrevenue_estimate__annual_: ₹136 cr\\nvaluation_estimate__if_available_: ₹1573 cr\\nnumber_of_employees__current_: 77\\nnumber_of_employees__estimate_range_: 16-848\\nkey_people: ceo: karen king, cto: mr. russell graham\\nfounders: edward harper (https://linkedin.com/in/pettyjonathan)\\nboard_members___advisors: angela collins\\nemployee_growth__yoy__: 28%\\nhiring_status: actively hiring\\npopular_roles_open: sales, product\\nprimary_products___services: fashion retail\\nproduct_categories: saas\\ntech_stack: python, react, aws\\nintegrations___apis_offered: razorpay, zoho, tally\\ntarget_market: consumers\\nmajor_customers___logos: direct consumers\\npress_mentions___recent_news: difficult sort bring catch contain never mouth.\\ncompetitors: coverfox, turtlemint', 'metadata': {'company_name': 'policybazaar', 'legal_entity_type': 'proprietorship', 'state': 'gujarat', 'headquarters_city': 'jaipur', 'year_founded': '2002', 'company_website': 'https://jones,berryandcordova.in', 'logo_url': 'https://logo.clearbit.com/jones,berryandcordova.in', 'company_description__short_': 'synergized asynchronous function', 'company_description__long_': 'machine your weight seat.\\r\\nlife however ok. hope where for seat once share. boy sport under important agreement decision purpose rest.\\r\\nstudent with claim. plant value serve federal.', 'industry_sector': 'logistics', 'total_funding_raised__inr_': '₹443 cr', 'number_of_funding_rounds': '2', 'latest_funding_round_type': 'pre-seed', 'latest_funding_date': '2024-06-18', 'lead_investors': 'gilbert, leblanc and morgan', 'revenue_estimate__annual_': '₹136 cr', 'valuation_estimate__if_available_': '₹1573 cr', 'number_of_employees__current_': '77', 'number_of_employees__estimate_range_': '16-848', 'key_people': 'ceo: karen king, cto: mr. russell graham', 'founders': 'edward harper (https://linkedin.com/in/pettyjonathan)', 'board_members___advisors': 'angela collins', 'employee_growth__yoy__': '28%', 'hiring_status': 'actively hiring', 'popular_roles_open': 'sales, product', 'primary_products___services': 'fashion retail', 'product_categories': 'saas', 'tech_stack': 'python, react, aws', 'integrations___apis_offered': 'razorpay, zoho, tally', 'target_market': 'consumers', 'major_customers___logos': 'direct consumers', 'press_mentions___recent_news': 'difficult sort bring catch contain never mouth.', 'competitors': 'coverfox, turtlemint'}}\n",
      "{'page_content': 'company_name: paytm\\nlegal_entity_type: public ltd\\nstate: uttar pradesh\\nheadquarters_city: hyderabad\\nyear_founded: 2014\\ncompany_website: https://vasquez,smithandsoto.in\\nlogo_url: https://logo.clearbit.com/vasquez,smithandsoto.in\\ncompany_description__short_: innovative eco-centric groupware\\ncompany_description__long_: professional movement surface couple country firm sometimes speech. most small example. most sport support necessary.\\r\\nsection father continue operation. however range somebody get memory realize stop. close leg agreement decide house film.\\nindustry_sector: fintech\\ntotal_funding_raised__inr_: ₹198 cr\\nnumber_of_funding_rounds: 1\\nlatest_funding_round_type: pre-seed\\nlatest_funding_date: 2021-11-13\\nlead_investors: moreno, smith and campbell\\nrevenue_estimate__annual_: ₹284 cr\\nvaluation_estimate__if_available_: ₹873 cr\\nnumber_of_employees__current_: 287\\nnumber_of_employees__estimate_range_: 226-1237\\nkey_people: ceo: laurie young, cto: elizabeth fisher\\nfounders: mr. jay caldwell jr. (https://linkedin.com/in/diana76)\\nboard_members___advisors: victoria salas\\nemployee_growth__yoy__: 40%\\nhiring_status: actively hiring\\npopular_roles_open: product, sales\\nprimary_products___services: furniture marketplace\\nproduct_categories: d2c\\ntech_stack: java, spring boot, gcp\\nintegrations___apis_offered: razorpay, zoho, tally\\ntarget_market: enterprises\\nmajor_customers___logos: hsbc (uk), icici (india)\\npress_mentions___recent_news: sort high must seek.\\ncompetitors: phonepe, google pay', 'metadata': {'company_name': 'paytm', 'legal_entity_type': 'public ltd', 'state': 'uttar pradesh', 'headquarters_city': 'hyderabad', 'year_founded': '2014', 'company_website': 'https://vasquez,smithandsoto.in', 'logo_url': 'https://logo.clearbit.com/vasquez,smithandsoto.in', 'company_description__short_': 'innovative eco-centric groupware', 'company_description__long_': 'professional movement surface couple country firm sometimes speech. most small example. most sport support necessary.\\r\\nsection father continue operation. however range somebody get memory realize stop. close leg agreement decide house film.', 'industry_sector': 'fintech', 'total_funding_raised__inr_': '₹198 cr', 'number_of_funding_rounds': '1', 'latest_funding_round_type': 'pre-seed', 'latest_funding_date': '2021-11-13', 'lead_investors': 'moreno, smith and campbell', 'revenue_estimate__annual_': '₹284 cr', 'valuation_estimate__if_available_': '₹873 cr', 'number_of_employees__current_': '287', 'number_of_employees__estimate_range_': '226-1237', 'key_people': 'ceo: laurie young, cto: elizabeth fisher', 'founders': 'mr. jay caldwell jr. (https://linkedin.com/in/diana76)', 'board_members___advisors': 'victoria salas', 'employee_growth__yoy__': '40%', 'hiring_status': 'actively hiring', 'popular_roles_open': 'product, sales', 'primary_products___services': 'furniture marketplace', 'product_categories': 'd2c', 'tech_stack': 'java, spring boot, gcp', 'integrations___apis_offered': 'razorpay, zoho, tally', 'target_market': 'enterprises', 'major_customers___logos': 'hsbc (uk), icici (india)', 'press_mentions___recent_news': 'sort high must seek.', 'competitors': 'phonepe, google pay'}}\n",
      "{'page_content': 'company_name: pepperfry\\nlegal_entity_type: proprietorship\\nstate: gujarat\\nheadquarters_city: chandigarh\\nyear_founded: 2000\\ncompany_website: https://gomez-huang.in\\nlogo_url: https://logo.clearbit.com/gomez-huang.in\\ncompany_description__short_: extended full-range open architecture\\ncompany_description__long_: build say example plan goal today him.\\r\\ndiscussion foot behind. traditional maybe director more position.\\r\\nofficial per congress city. drive force one meeting according concern fly.\\nindustry_sector: fintech\\ntotal_funding_raised__inr_: ₹196 cr\\nnumber_of_funding_rounds: 2\\nlatest_funding_round_type: series b\\nlatest_funding_date: 2020-11-23\\nlead_investors: houston, allen and stone\\nrevenue_estimate__annual_: ₹264 cr\\nvaluation_estimate__if_available_: ₹1243 cr\\nnumber_of_employees__current_: 328\\nnumber_of_employees__estimate_range_: 470-733\\nkey_people: ceo: lisa clark, cto: jaime brown\\nfounders: sara white (https://linkedin.com/in/rachelphillips)\\nboard_members___advisors: paula mcdonald\\nemployee_growth__yoy__: 4%\\nhiring_status: actively hiring\\npopular_roles_open: product, sales\\nprimary_products___services: online pharmacy\\nproduct_categories: saas\\ntech_stack: python, react, aws\\nintegrations___apis_offered: razorpay, zoho, tally\\ntarget_market: enterprises\\nmajor_customers___logos: unilever, mahindra\\npress_mentions___recent_news: first board lead cause analysis course both.\\ncompetitors: urban ladder, ikea', 'metadata': {'company_name': 'pepperfry', 'legal_entity_type': 'proprietorship', 'state': 'gujarat', 'headquarters_city': 'chandigarh', 'year_founded': '2000', 'company_website': 'https://gomez-huang.in', 'logo_url': 'https://logo.clearbit.com/gomez-huang.in', 'company_description__short_': 'extended full-range open architecture', 'company_description__long_': 'build say example plan goal today him.\\r\\ndiscussion foot behind. traditional maybe director more position.\\r\\nofficial per congress city. drive force one meeting according concern fly.', 'industry_sector': 'fintech', 'total_funding_raised__inr_': '₹196 cr', 'number_of_funding_rounds': '2', 'latest_funding_round_type': 'series b', 'latest_funding_date': '2020-11-23', 'lead_investors': 'houston, allen and stone', 'revenue_estimate__annual_': '₹264 cr', 'valuation_estimate__if_available_': '₹1243 cr', 'number_of_employees__current_': '328', 'number_of_employees__estimate_range_': '470-733', 'key_people': 'ceo: lisa clark, cto: jaime brown', 'founders': 'sara white (https://linkedin.com/in/rachelphillips)', 'board_members___advisors': 'paula mcdonald', 'employee_growth__yoy__': '4%', 'hiring_status': 'actively hiring', 'popular_roles_open': 'product, sales', 'primary_products___services': 'online pharmacy', 'product_categories': 'saas', 'tech_stack': 'python, react, aws', 'integrations___apis_offered': 'razorpay, zoho, tally', 'target_market': 'enterprises', 'major_customers___logos': 'unilever, mahindra', 'press_mentions___recent_news': 'first board lead cause analysis course both.', 'competitors': 'urban ladder, ikea'}}\n",
      "{'page_content': 'company_name: zomato\\nlegal_entity_type: llc\\nstate: karnataka\\nheadquarters_city: chennai\\nyear_founded: 2008\\ncompany_website: https://hopkinsplc.in\\nlogo_url: https://logo.clearbit.com/hopkinsplc.in\\ncompany_description__short_: fully-configurable non-volatile capacity\\ncompany_description__long_: point couple probably social shoulder anything environment. movie because professional ask health.\\r\\nagent red avoid peace small according. same let field practice. democratic perhaps smile structure bill firm impact.\\nindustry_sector: logistics\\ntotal_funding_raised__inr_: ₹250 cr\\nnumber_of_funding_rounds: 4\\nlatest_funding_round_type: series b\\nlatest_funding_date: 2022-11-16\\nlead_investors: trevino, manning and vargas\\nrevenue_estimate__annual_: ₹140 cr\\nvaluation_estimate__if_available_: ₹183 cr\\nnumber_of_employees__current_: 430\\nnumber_of_employees__estimate_range_: 84-737\\nkey_people: ceo: james ferguson dds, cto: joseph hicks\\nfounders: kelsey villegas (https://linkedin.com/in/jaclynrowe)\\nboard_members___advisors: michael wilson\\nemployee_growth__yoy__: 45%\\nhiring_status: actively hiring\\npopular_roles_open: engineering, marketing\\nprimary_products___services: fashion retail\\nproduct_categories: saas\\ntech_stack: java, spring boot, gcp\\nintegrations___apis_offered: razorpay, zoho, tally\\ntarget_market: enterprises\\nmajor_customers___logos: hdfc bank, airtel\\npress_mentions___recent_news: financial require want training culture collection.\\ncompetitors: swiggy, foodpanda', 'metadata': {'company_name': 'zomato', 'legal_entity_type': 'llc', 'state': 'karnataka', 'headquarters_city': 'chennai', 'year_founded': '2008', 'company_website': 'https://hopkinsplc.in', 'logo_url': 'https://logo.clearbit.com/hopkinsplc.in', 'company_description__short_': 'fully-configurable non-volatile capacity', 'company_description__long_': 'point couple probably social shoulder anything environment. movie because professional ask health.\\r\\nagent red avoid peace small according. same let field practice. democratic perhaps smile structure bill firm impact.', 'industry_sector': 'logistics', 'total_funding_raised__inr_': '₹250 cr', 'number_of_funding_rounds': '4', 'latest_funding_round_type': 'series b', 'latest_funding_date': '2022-11-16', 'lead_investors': 'trevino, manning and vargas', 'revenue_estimate__annual_': '₹140 cr', 'valuation_estimate__if_available_': '₹183 cr', 'number_of_employees__current_': '430', 'number_of_employees__estimate_range_': '84-737', 'key_people': 'ceo: james ferguson dds, cto: joseph hicks', 'founders': 'kelsey villegas (https://linkedin.com/in/jaclynrowe)', 'board_members___advisors': 'michael wilson', 'employee_growth__yoy__': '45%', 'hiring_status': 'actively hiring', 'popular_roles_open': 'engineering, marketing', 'primary_products___services': 'fashion retail', 'product_categories': 'saas', 'tech_stack': 'java, spring boot, gcp', 'integrations___apis_offered': 'razorpay, zoho, tally', 'target_market': 'enterprises', 'major_customers___logos': 'hdfc bank, airtel', 'press_mentions___recent_news': 'financial require want training culture collection.', 'competitors': 'swiggy, foodpanda'}}\n",
      "{'page_content': 'company_name: noise\\nlegal_entity_type: pvt ltd\\nstate: gujarat\\nheadquarters_city: mumbai\\nyear_founded: 2012\\ncompany_website: https://love-robinson.in\\nlogo_url: https://logo.clearbit.com/love-robinson.in\\ncompany_description__short_: mandatory hybrid website\\ncompany_description__long_: phone energy say cold east defense interview. kitchen work just partner oil stand.\\r\\ndiscuss article live whom religious perform full act. continue something rate morning study interview. course near maintain impact let four.\\nindustry_sector: saas\\ntotal_funding_raised__inr_: ₹474 cr\\nnumber_of_funding_rounds: 1\\nlatest_funding_round_type: series b\\nlatest_funding_date: 2024-03-16\\nlead_investors: fisher-proctor\\nrevenue_estimate__annual_: ₹59 cr\\nvaluation_estimate__if_available_: ₹1630 cr\\nnumber_of_employees__current_: 51\\nnumber_of_employees__estimate_range_: 19-632\\nkey_people: ceo: maria mcgrath, cto: sarah glover\\nfounders: wendy hernandez (https://linkedin.com/in/marcuscunningham)\\nboard_members___advisors: patrick miller\\nemployee_growth__yoy__: 37%\\nhiring_status: actively hiring\\npopular_roles_open: engineering, product\\nprimary_products___services: health and fitness app\\nproduct_categories: b2b\\ntech_stack: node.js, mongodb, azure\\nintegrations___apis_offered: razorpay, zoho, tally\\ntarget_market: consumers\\nmajor_customers___logos: direct consumers\\npress_mentions___recent_news: field hospital many movie instead president.\\ncompetitors: boat, fire-boltt', 'metadata': {'company_name': 'noise', 'legal_entity_type': 'pvt ltd', 'state': 'gujarat', 'headquarters_city': 'mumbai', 'year_founded': '2012', 'company_website': 'https://love-robinson.in', 'logo_url': 'https://logo.clearbit.com/love-robinson.in', 'company_description__short_': 'mandatory hybrid website', 'company_description__long_': 'phone energy say cold east defense interview. kitchen work just partner oil stand.\\r\\ndiscuss article live whom religious perform full act. continue something rate morning study interview. course near maintain impact let four.', 'industry_sector': 'saas', 'total_funding_raised__inr_': '₹474 cr', 'number_of_funding_rounds': '1', 'latest_funding_round_type': 'series b', 'latest_funding_date': '2024-03-16', 'lead_investors': 'fisher-proctor', 'revenue_estimate__annual_': '₹59 cr', 'valuation_estimate__if_available_': '₹1630 cr', 'number_of_employees__current_': '51', 'number_of_employees__estimate_range_': '19-632', 'key_people': 'ceo: maria mcgrath, cto: sarah glover', 'founders': 'wendy hernandez (https://linkedin.com/in/marcuscunningham)', 'board_members___advisors': 'patrick miller', 'employee_growth__yoy__': '37%', 'hiring_status': 'actively hiring', 'popular_roles_open': 'engineering, product', 'primary_products___services': 'health and fitness app', 'product_categories': 'b2b', 'tech_stack': 'node.js, mongodb, azure', 'integrations___apis_offered': 'razorpay, zoho, tally', 'target_market': 'consumers', 'major_customers___logos': 'direct consumers', 'press_mentions___recent_news': 'field hospital many movie instead president.', 'competitors': 'boat, fire-boltt'}}\n"
     ]
    }
   ],
   "source": [
    "# After ingestion\n",
    "docs = qdrant.client.scroll(collection_name=COLLECTION_NAME, limit=5, with_payload=True)[0]\n",
    "for doc in docs:\n",
    "    print(doc.payload)"
   ]
  },
  {
   "cell_type": "code",
   "execution_count": 194,
   "id": "14c27735",
   "metadata": {},
   "outputs": [
    {
     "name": "stdout",
     "output_type": "stream",
     "text": [
      "Number of results: 0\n"
     ]
    }
   ],
   "source": [
    "from qdrant_client.http.models import Filter, FieldCondition, MatchText\n",
    "\n",
    "q_filter = Filter(must=[\n",
    "    FieldCondition(key=\"state\", match=MatchText(text=\"delhi\"))\n",
    "])\n",
    "result = client.scroll(\n",
    "    collection_name=COLLECTION_NAME,\n",
    "    scroll_filter=q_filter,\n",
    "    limit=10,\n",
    "    with_payload=True\n",
    ")\n",
    "print(\"Number of results:\", len(result[0]))\n",
    "for pt in result[0]:\n",
    "    print(pt.payload)"
   ]
  },
  {
   "cell_type": "code",
   "execution_count": 195,
   "id": "71c5cf6b",
   "metadata": {},
   "outputs": [
    {
     "name": "stdout",
     "output_type": "stream",
     "text": [
      "All states stored in Qdrant: set()\n"
     ]
    }
   ],
   "source": [
    "# Inspect all 'state' values in Qdrant directly (no filters)\n",
    "all_states = set()\n",
    "for pt in client.scroll(collection_name=COLLECTION_NAME, with_payload=True, limit=1000)[0]:\n",
    "    if 'state' in pt.payload:\n",
    "        all_states.add(pt.payload['state'])\n",
    "print(\"All states stored in Qdrant:\", all_states)"
   ]
  }
 ],
 "metadata": {
  "kernelspec": {
   "display_name": "venv",
   "language": "python",
   "name": "python3"
  },
  "language_info": {
   "codemirror_mode": {
    "name": "ipython",
    "version": 3
   },
   "file_extension": ".py",
   "mimetype": "text/x-python",
   "name": "python",
   "nbconvert_exporter": "python",
   "pygments_lexer": "ipython3",
   "version": "3.10.17"
  }
 },
 "nbformat": 4,
 "nbformat_minor": 5
}
