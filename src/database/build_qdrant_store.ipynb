{
 "cells": [
  {
   "cell_type": "code",
   "execution_count": 2,
   "id": "f03bcad9",
   "metadata": {},
   "outputs": [],
   "source": [
    "#%%capture\n",
    "#%pip install langchain langchain-community qdrant-client openai langchain-core tqdm pandas -U langchain-qdrant langchain-openai"
   ]
  },
  {
   "cell_type": "code",
   "execution_count": 3,
   "id": "f9432ab8",
   "metadata": {},
   "outputs": [
    {
     "name": "stdout",
     "output_type": "stream",
     "text": [
      "/home/prashant-agrawal/Netflix_Project/src\n"
     ]
    }
   ],
   "source": [
    "import sys, os\n",
    "SRC_PATH = os.path.abspath(os.path.join(os.getcwd(), \"..\"))\n",
    "if SRC_PATH not in sys.path:\n",
    "    sys.path.insert(0, SRC_PATH)\n",
    "print(SRC_PATH)"
   ]
  },
  {
   "cell_type": "code",
   "execution_count": 5,
   "id": "8c974067",
   "metadata": {},
   "outputs": [
    {
     "name": "stdout",
     "output_type": "stream",
     "text": [
      "Base Directory: /home/prashant-agrawal/Netflix_Project/src\n",
      "CSV Path: /home/prashant-agrawal/Netflix_Project/src/Data/Enriched_Indian_Startup_Dataset.csv\n",
      "Qdrant Local Path: /home/prashant-agrawal/Netflix_Project/src/database/qdrant_store_local_db/collection\n",
      "Qdrant Collection Name: indian_startups\n"
     ]
    }
   ],
   "source": [
    "from langchain_community.vectorstores import Qdrant\n",
    "from langchain_openai import OpenAIEmbeddings\n",
    "from langchain_core.documents import Document\n",
    "from qdrant_client import QdrantClient\n",
    "from qdrant_client.http.models import Distance, VectorParams\n",
    "import pandas as pd\n",
    "import re\n",
    "import os\n",
    "from utils.qdrant_client_loader import get_qdrant_client, get_qdrant_collection_name\n",
    "from utils.path_config import get_base_dir, get_data_path, get_qdrant_store_path\n",
    "\n",
    "# 📁 Paths\n",
    "BASE_DIR = get_base_dir()\n",
    "print(f\"Base Directory: {BASE_DIR}\")\n",
    "\n",
    "DATA_PATH = get_data_path()\n",
    "print(f\"CSV Path: {DATA_PATH}\")\n",
    "\n",
    "qdrant_store_path = get_qdrant_store_path()\n",
    "print(f\"Qdrant Local Path: {qdrant_store_path}\")\n",
    "\n",
    "COLLECTION_NAME = get_qdrant_collection_name()\n",
    "print(f\"Qdrant Collection Name: {COLLECTION_NAME}\")\n",
    "# Qdrant Client\n",
    "\n"
   ]
  },
  {
   "cell_type": "code",
   "execution_count": 6,
   "id": "c12e0767",
   "metadata": {},
   "outputs": [
    {
     "name": "stdout",
     "output_type": "stream",
     "text": [
      "✅ Stored 500 documents in Qdrant collection: 'indian_startups'\n"
     ]
    }
   ],
   "source": [
    "\n",
    "# 📊 Load and clean CSV\n",
    "# Check if the file exists\n",
    "if not os.path.exists(DATA_PATH):\n",
    "    raise FileNotFoundError(f\"The file at path '{DATA_PATH}' does not exist. Please verify the file path.\")\n",
    "\n",
    "df = pd.read_csv(DATA_PATH)\n",
    "df.columns = [\n",
    "    re.sub(r\"[^a-zA-Z0-9_]\", \"\", col.strip().lower().replace(\" \", \"_\"))\n",
    "    for col in df.columns\n",
    "]\n",
    "df = df.map(lambda x: x.strip() if isinstance(x, str) else x)\n",
    "\n",
    "# 🧠 Prepare documents\n",
    "columns_to_embed = df.columns.tolist()\n",
    "docs = []\n",
    "for _, row in df.iterrows():\n",
    "    base_meta = row.to_dict()\n",
    "    content = \"\\n\".join(f\"{col}: {row[col]}\" for col in columns_to_embed if pd.notna(row[col]))\n",
    "    docs.append(Document(page_content=content, metadata=base_meta))\n",
    "\n",
    "# 🔐 Embedding model\n",
    "embedding_model = OpenAIEmbeddings()\n",
    "\n",
    "\n",
    "\n",
    "# 🔄 Load into Qdrant\n",
    "qdrant_store = Qdrant.from_documents(\n",
    "    documents=docs,\n",
    "    embedding=embedding_model,\n",
    "    path=qdrant_store_path,  # ✅ Don't pass `client=`\n",
    "    collection_name=COLLECTION_NAME,\n",
    "    distance_func=\"Cosine\"\n",
    ")\n",
    "\n",
    "print(f\"✅ Stored {len(docs)} documents in Qdrant collection: '{COLLECTION_NAME}'\")\n"
   ]
  },
  {
   "cell_type": "code",
   "execution_count": 7,
   "id": "8cd3cfc5",
   "metadata": {},
   "outputs": [
    {
     "name": "stdout",
     "output_type": "stream",
     "text": [
      "[Qdrant Client] Initializing client with path: /home/prashant-agrawal/Netflix_Project/src/database/qdrant_store_local_db/collection\n"
     ]
    },
    {
     "ename": "RuntimeError",
     "evalue": "Storage folder /home/prashant-agrawal/Netflix_Project/src/database/qdrant_store_local_db/collection is already accessed by another instance of Qdrant client. If you require concurrent access, use Qdrant server instead.",
     "output_type": "error",
     "traceback": [
      "\u001b[0;31m---------------------------------------------------------------------------\u001b[0m",
      "\u001b[0;31mBlockingIOError\u001b[0m                           Traceback (most recent call last)",
      "File \u001b[0;32m~/Netflix_Project/venv/lib/python3.10/site-packages/portalocker/portalocker.py:118\u001b[0m, in \u001b[0;36mlock\u001b[0;34m(file_, flags)\u001b[0m\n\u001b[1;32m    117\u001b[0m \u001b[38;5;28;01mtry\u001b[39;00m:\n\u001b[0;32m--> 118\u001b[0m     \u001b[43mLOCKER\u001b[49m\u001b[43m(\u001b[49m\u001b[43mfile_\u001b[49m\u001b[43m,\u001b[49m\u001b[43m \u001b[49m\u001b[43mflags\u001b[49m\u001b[43m)\u001b[49m\n\u001b[1;32m    119\u001b[0m \u001b[38;5;28;01mexcept\u001b[39;00m \u001b[38;5;167;01mOSError\u001b[39;00m \u001b[38;5;28;01mas\u001b[39;00m exc_value:\n\u001b[1;32m    120\u001b[0m     \u001b[38;5;66;03m# Python can use one of several different exception classes to\u001b[39;00m\n\u001b[1;32m    121\u001b[0m     \u001b[38;5;66;03m# represent timeout (most likely is BlockingIOError and IOError),\u001b[39;00m\n\u001b[0;32m   (...)\u001b[0m\n\u001b[1;32m    126\u001b[0m     \u001b[38;5;66;03m# inherit) and check the errno (which should be EACCESS or EAGAIN\u001b[39;00m\n\u001b[1;32m    127\u001b[0m     \u001b[38;5;66;03m# according to the spec).\u001b[39;00m\n",
      "\u001b[0;31mBlockingIOError\u001b[0m: [Errno 11] Resource temporarily unavailable",
      "\nThe above exception was the direct cause of the following exception:\n",
      "\u001b[0;31mAlreadyLocked\u001b[0m                             Traceback (most recent call last)",
      "File \u001b[0;32m~/Netflix_Project/venv/lib/python3.10/site-packages/qdrant_client/local/qdrant_local.py:133\u001b[0m, in \u001b[0;36mQdrantLocal._load\u001b[0;34m(self)\u001b[0m\n\u001b[1;32m    132\u001b[0m \u001b[38;5;28;01mtry\u001b[39;00m:\n\u001b[0;32m--> 133\u001b[0m     \u001b[43mportalocker\u001b[49m\u001b[38;5;241;43m.\u001b[39;49m\u001b[43mlock\u001b[49m\u001b[43m(\u001b[49m\n\u001b[1;32m    134\u001b[0m \u001b[43m        \u001b[49m\u001b[38;5;28;43mself\u001b[39;49m\u001b[38;5;241;43m.\u001b[39;49m\u001b[43m_flock_file\u001b[49m\u001b[43m,\u001b[49m\n\u001b[1;32m    135\u001b[0m \u001b[43m        \u001b[49m\u001b[43mportalocker\u001b[49m\u001b[38;5;241;43m.\u001b[39;49m\u001b[43mLockFlags\u001b[49m\u001b[38;5;241;43m.\u001b[39;49m\u001b[43mEXCLUSIVE\u001b[49m\u001b[43m \u001b[49m\u001b[38;5;241;43m|\u001b[39;49m\u001b[43m \u001b[49m\u001b[43mportalocker\u001b[49m\u001b[38;5;241;43m.\u001b[39;49m\u001b[43mLockFlags\u001b[49m\u001b[38;5;241;43m.\u001b[39;49m\u001b[43mNON_BLOCKING\u001b[49m\u001b[43m,\u001b[49m\n\u001b[1;32m    136\u001b[0m \u001b[43m    \u001b[49m\u001b[43m)\u001b[49m\n\u001b[1;32m    137\u001b[0m \u001b[38;5;28;01mexcept\u001b[39;00m portalocker\u001b[38;5;241m.\u001b[39mexceptions\u001b[38;5;241m.\u001b[39mLockException:\n",
      "File \u001b[0;32m~/Netflix_Project/venv/lib/python3.10/site-packages/portalocker/portalocker.py:131\u001b[0m, in \u001b[0;36mlock\u001b[0;34m(file_, flags)\u001b[0m\n\u001b[1;32m    128\u001b[0m \u001b[38;5;28;01mif\u001b[39;00m exc_value\u001b[38;5;241m.\u001b[39merrno \u001b[38;5;129;01min\u001b[39;00m (errno\u001b[38;5;241m.\u001b[39mEACCES, errno\u001b[38;5;241m.\u001b[39mEAGAIN):\n\u001b[1;32m    129\u001b[0m     \u001b[38;5;66;03m# A timeout exception, wrap this so the outer code knows to try\u001b[39;00m\n\u001b[1;32m    130\u001b[0m     \u001b[38;5;66;03m# again (if it wants to).\u001b[39;00m\n\u001b[0;32m--> 131\u001b[0m     \u001b[38;5;28;01mraise\u001b[39;00m exceptions\u001b[38;5;241m.\u001b[39mAlreadyLocked(\n\u001b[1;32m    132\u001b[0m         exc_value,\n\u001b[1;32m    133\u001b[0m         fh\u001b[38;5;241m=\u001b[39mfile_,\n\u001b[1;32m    134\u001b[0m     ) \u001b[38;5;28;01mfrom\u001b[39;00m\u001b[38;5;250m \u001b[39m\u001b[38;5;21;01mexc_value\u001b[39;00m\n\u001b[1;32m    135\u001b[0m \u001b[38;5;28;01melse\u001b[39;00m:\n\u001b[1;32m    136\u001b[0m     \u001b[38;5;66;03m# Something else went wrong; don't wrap this so we stop\u001b[39;00m\n\u001b[1;32m    137\u001b[0m     \u001b[38;5;66;03m# immediately.\u001b[39;00m\n",
      "\u001b[0;31mAlreadyLocked\u001b[0m: [Errno 11] Resource temporarily unavailable",
      "\nDuring handling of the above exception, another exception occurred:\n",
      "\u001b[0;31mRuntimeError\u001b[0m                              Traceback (most recent call last)",
      "Cell \u001b[0;32mIn[7], line 16\u001b[0m\n\u001b[1;32m     12\u001b[0m embedding_model \u001b[38;5;241m=\u001b[39m OpenAIEmbeddings()\n\u001b[1;32m     14\u001b[0m \u001b[38;5;66;03m# Initialize the client if not already defined\u001b[39;00m\n\u001b[0;32m---> 16\u001b[0m client \u001b[38;5;241m=\u001b[39m \u001b[43mget_qdrant_client\u001b[49m\u001b[43m(\u001b[49m\u001b[43m)\u001b[49m\n\u001b[1;32m     18\u001b[0m \u001b[38;5;66;03m# 🔁 Load vector store from existing collection\u001b[39;00m\n\u001b[1;32m     19\u001b[0m qdrant_store \u001b[38;5;241m=\u001b[39m QdrantVectorStore(\n\u001b[1;32m     20\u001b[0m     client\u001b[38;5;241m=\u001b[39mclient,\n\u001b[1;32m     21\u001b[0m     collection_name\u001b[38;5;241m=\u001b[39mCOLLECTION_NAME,\n\u001b[1;32m     22\u001b[0m     embedding\u001b[38;5;241m=\u001b[39membedding_model,\n\u001b[1;32m     23\u001b[0m     \n\u001b[1;32m     24\u001b[0m )\n",
      "File \u001b[0;32m~/Netflix_Project/src/utils/qdrant_client_loader.py:36\u001b[0m, in \u001b[0;36mget_qdrant_client\u001b[0;34m()\u001b[0m\n\u001b[1;32m     34\u001b[0m     store_path \u001b[38;5;241m=\u001b[39m get_qdrant_store_path()\n\u001b[1;32m     35\u001b[0m     \u001b[38;5;28mprint\u001b[39m(\u001b[38;5;124mf\u001b[39m\u001b[38;5;124m\"\u001b[39m\u001b[38;5;124m[Qdrant Client] Initializing client with path: \u001b[39m\u001b[38;5;132;01m{\u001b[39;00mstore_path\u001b[38;5;132;01m}\u001b[39;00m\u001b[38;5;124m\"\u001b[39m)\n\u001b[0;32m---> 36\u001b[0m     _qdrant_client \u001b[38;5;241m=\u001b[39m \u001b[43mQdrantClient\u001b[49m\u001b[43m(\u001b[49m\u001b[43mpath\u001b[49m\u001b[38;5;241;43m=\u001b[39;49m\u001b[43mstore_path\u001b[49m\u001b[43m)\u001b[49m\n\u001b[1;32m     38\u001b[0m \u001b[38;5;28;01mreturn\u001b[39;00m _qdrant_client\n",
      "File \u001b[0;32m~/Netflix_Project/venv/lib/python3.10/site-packages/qdrant_client/qdrant_client.py:133\u001b[0m, in \u001b[0;36mQdrantClient.__init__\u001b[0;34m(self, location, url, port, grpc_port, prefer_grpc, https, api_key, prefix, timeout, host, path, force_disable_check_same_thread, grpc_options, auth_token_provider, cloud_inference, local_inference_batch_size, check_compatibility, **kwargs)\u001b[0m\n\u001b[1;32m    128\u001b[0m     \u001b[38;5;28mself\u001b[39m\u001b[38;5;241m.\u001b[39m_client \u001b[38;5;241m=\u001b[39m QdrantLocal(\n\u001b[1;32m    129\u001b[0m         location\u001b[38;5;241m=\u001b[39mlocation,\n\u001b[1;32m    130\u001b[0m         force_disable_check_same_thread\u001b[38;5;241m=\u001b[39mforce_disable_check_same_thread,\n\u001b[1;32m    131\u001b[0m     )\n\u001b[1;32m    132\u001b[0m \u001b[38;5;28;01melif\u001b[39;00m path \u001b[38;5;129;01mis\u001b[39;00m \u001b[38;5;129;01mnot\u001b[39;00m \u001b[38;5;28;01mNone\u001b[39;00m:\n\u001b[0;32m--> 133\u001b[0m     \u001b[38;5;28mself\u001b[39m\u001b[38;5;241m.\u001b[39m_client \u001b[38;5;241m=\u001b[39m \u001b[43mQdrantLocal\u001b[49m\u001b[43m(\u001b[49m\n\u001b[1;32m    134\u001b[0m \u001b[43m        \u001b[49m\u001b[43mlocation\u001b[49m\u001b[38;5;241;43m=\u001b[39;49m\u001b[43mpath\u001b[49m\u001b[43m,\u001b[49m\n\u001b[1;32m    135\u001b[0m \u001b[43m        \u001b[49m\u001b[43mforce_disable_check_same_thread\u001b[49m\u001b[38;5;241;43m=\u001b[39;49m\u001b[43mforce_disable_check_same_thread\u001b[49m\u001b[43m,\u001b[49m\n\u001b[1;32m    136\u001b[0m \u001b[43m    \u001b[49m\u001b[43m)\u001b[49m\n\u001b[1;32m    137\u001b[0m \u001b[38;5;28;01melse\u001b[39;00m:\n\u001b[1;32m    138\u001b[0m     \u001b[38;5;28;01mif\u001b[39;00m location \u001b[38;5;129;01mis\u001b[39;00m \u001b[38;5;129;01mnot\u001b[39;00m \u001b[38;5;28;01mNone\u001b[39;00m \u001b[38;5;129;01mand\u001b[39;00m url \u001b[38;5;129;01mis\u001b[39;00m \u001b[38;5;28;01mNone\u001b[39;00m:\n",
      "File \u001b[0;32m~/Netflix_Project/venv/lib/python3.10/site-packages/qdrant_client/local/qdrant_local.py:66\u001b[0m, in \u001b[0;36mQdrantLocal.__init__\u001b[0;34m(self, location, force_disable_check_same_thread)\u001b[0m\n\u001b[1;32m     64\u001b[0m \u001b[38;5;28mself\u001b[39m\u001b[38;5;241m.\u001b[39maliases: \u001b[38;5;28mdict\u001b[39m[\u001b[38;5;28mstr\u001b[39m, \u001b[38;5;28mstr\u001b[39m] \u001b[38;5;241m=\u001b[39m {}\n\u001b[1;32m     65\u001b[0m \u001b[38;5;28mself\u001b[39m\u001b[38;5;241m.\u001b[39m_flock_file: Optional[TextIOWrapper] \u001b[38;5;241m=\u001b[39m \u001b[38;5;28;01mNone\u001b[39;00m\n\u001b[0;32m---> 66\u001b[0m \u001b[38;5;28;43mself\u001b[39;49m\u001b[38;5;241;43m.\u001b[39;49m\u001b[43m_load\u001b[49m\u001b[43m(\u001b[49m\u001b[43m)\u001b[49m\n\u001b[1;32m     67\u001b[0m \u001b[38;5;28mself\u001b[39m\u001b[38;5;241m.\u001b[39m_closed: \u001b[38;5;28mbool\u001b[39m \u001b[38;5;241m=\u001b[39m \u001b[38;5;28;01mFalse\u001b[39;00m\n",
      "File \u001b[0;32m~/Netflix_Project/venv/lib/python3.10/site-packages/qdrant_client/local/qdrant_local.py:138\u001b[0m, in \u001b[0;36mQdrantLocal._load\u001b[0;34m(self)\u001b[0m\n\u001b[1;32m    133\u001b[0m     portalocker\u001b[38;5;241m.\u001b[39mlock(\n\u001b[1;32m    134\u001b[0m         \u001b[38;5;28mself\u001b[39m\u001b[38;5;241m.\u001b[39m_flock_file,\n\u001b[1;32m    135\u001b[0m         portalocker\u001b[38;5;241m.\u001b[39mLockFlags\u001b[38;5;241m.\u001b[39mEXCLUSIVE \u001b[38;5;241m|\u001b[39m portalocker\u001b[38;5;241m.\u001b[39mLockFlags\u001b[38;5;241m.\u001b[39mNON_BLOCKING,\n\u001b[1;32m    136\u001b[0m     )\n\u001b[1;32m    137\u001b[0m \u001b[38;5;28;01mexcept\u001b[39;00m portalocker\u001b[38;5;241m.\u001b[39mexceptions\u001b[38;5;241m.\u001b[39mLockException:\n\u001b[0;32m--> 138\u001b[0m     \u001b[38;5;28;01mraise\u001b[39;00m \u001b[38;5;167;01mRuntimeError\u001b[39;00m(\n\u001b[1;32m    139\u001b[0m         \u001b[38;5;124mf\u001b[39m\u001b[38;5;124m\"\u001b[39m\u001b[38;5;124mStorage folder \u001b[39m\u001b[38;5;132;01m{\u001b[39;00m\u001b[38;5;28mself\u001b[39m\u001b[38;5;241m.\u001b[39mlocation\u001b[38;5;132;01m}\u001b[39;00m\u001b[38;5;124m is already accessed by another instance of Qdrant client.\u001b[39m\u001b[38;5;124m\"\u001b[39m\n\u001b[1;32m    140\u001b[0m         \u001b[38;5;124mf\u001b[39m\u001b[38;5;124m\"\u001b[39m\u001b[38;5;124m If you require concurrent access, use Qdrant server instead.\u001b[39m\u001b[38;5;124m\"\u001b[39m\n\u001b[1;32m    141\u001b[0m     )\n",
      "\u001b[0;31mRuntimeError\u001b[0m: Storage folder /home/prashant-agrawal/Netflix_Project/src/database/qdrant_store_local_db/collection is already accessed by another instance of Qdrant client. If you require concurrent access, use Qdrant server instead."
     ]
    }
   ],
   "source": [
    "## -- Query Qdrant Collection -- ##\n",
    "\n",
    "from langchain_qdrant import QdrantVectorStore\n",
    "from langchain_openai import OpenAIEmbeddings\n",
    "from qdrant_client import QdrantClient\n",
    "from utils.qdrant_client_loader import get_qdrant_client\n",
    "import os\n",
    "\n",
    "query = \"Top funded fintech startups in Bengaluru\"\n",
    "\n",
    "# Create embedding model\n",
    "embedding_model = OpenAIEmbeddings()\n",
    "\n",
    "# Initialize the client if not already defined\n",
    "\n",
    "client = get_qdrant_client()\n",
    "\n",
    "# 🔁 Load vector store from existing collection\n",
    "qdrant_store = QdrantVectorStore(\n",
    "    client=client,\n",
    "    collection_name=COLLECTION_NAME,\n",
    "    embedding=embedding_model,\n",
    "    \n",
    ")\n",
    "\n",
    "\n",
    "# Perform search with embedding\n",
    "results = qdrant_store.similarity_search_with_score(\n",
    "    query=query,\n",
    "    k=5,\n",
    ")\n",
    "\n",
    "# Print results\n",
    "for doc, score in results:\n",
    "    print(f\"🧠 Score: {score:.4f}\")\n",
    "    print(doc.page_content)\n",
    "    print(\"-\" * 80)\n"
   ]
  }
 ],
 "metadata": {
  "kernelspec": {
   "display_name": "venv",
   "language": "python",
   "name": "python3"
  },
  "language_info": {
   "codemirror_mode": {
    "name": "ipython",
    "version": 3
   },
   "file_extension": ".py",
   "mimetype": "text/x-python",
   "name": "python",
   "nbconvert_exporter": "python",
   "pygments_lexer": "ipython3",
   "version": "3.10.16"
  }
 },
 "nbformat": 4,
 "nbformat_minor": 5
}
