{
 "cells": [
  {
   "cell_type": "code",
   "execution_count": 6,
   "id": "b6a88bda",
   "metadata": {},
   "outputs": [],
   "source": [
    "# -- Enhancer Agent --\n",
    "# This script sets up an agent that enhances queries by extracting structured metadata and filters.\n",
    "# It uses a set of tools to analyze and transform vague or unstructured queries into clear, structured metadata.\n",
    "# The agent is designed to work with the LangChain framework and utilizes OpenAI's GPT-4 model.\n",
    "# The agent is capable of using various tools such as keyword extractors, numeric constraint extractors, and category classifiers.\n",
    "\n",
    "import os\n",
    "import sys\n",
    "from langchain_core.tools import Tool\n",
    "from langchain.agents import create_react_agent\n",
    "from langchain_core.messages import HumanMessage\n",
    "from langgraph.prebuilt import ToolNode\n",
    "from langgraph.types import Command\n",
    "from typing import Literal\n",
    "from langchain_openai import ChatOpenAI\n",
    "from langchain.prompts import PromptTemplate\n",
    "\n",
    "\n"
   ]
  },
  {
   "cell_type": "code",
   "execution_count": 7,
   "id": "0d271cfd",
   "metadata": {},
   "outputs": [
    {
     "name": "stdout",
     "output_type": "stream",
     "text": [
      "BASE_DIR: /home/prashant-agrawal/Netflix_Project/src\n"
     ]
    }
   ],
   "source": [
    "\n",
    "import os\n",
    "import sys\n",
    "\n",
    "# Go up one level to reach src/\n",
    "BASE_DIR = os.path.abspath(os.path.join(os.getcwd(), \"..\"))\n",
    "if BASE_DIR not in sys.path:\n",
    "    sys.path.insert(0, BASE_DIR)\n",
    "\n",
    "print(f\"BASE_DIR: {BASE_DIR}\")\n"
   ]
  },
  {
   "cell_type": "code",
   "execution_count": 8,
   "id": "141e4859",
   "metadata": {},
   "outputs": [],
   "source": [
    "from tools.enhancer_tools_registry import rag_vector_tool\n",
    "\n",
    "# Define tools for the enhancer agent\n",
    "rag_agent_tools = [rag_vector_tool]\n",
    "\n",
    "\n",
    "# Define tool names for the agent\n",
    "tool_names = [tool.name for tool in rag_agent_tools]\n",
    "\n",
    "# Define the tool descriptions\n",
    "tool_descriptions = [tool.description for tool in rag_agent_tools]\n",
    "\n",
    "# Build readable tool help text for the prompt\n",
    "tool_help_text = \"\\n\".join(\n",
    "    [f\"{i+1}. {tool.name} - {tool.description}\" for i, tool in enumerate(rag_agent_tools)]\n",
    ")"
   ]
  },
  {
   "cell_type": "code",
   "execution_count": null,
   "id": "975ac8ed",
   "metadata": {},
   "outputs": [
    {
     "ename": "NameError",
     "evalue": "name 'rag_vector_tools' is not defined",
     "output_type": "error",
     "traceback": [
      "\u001b[0;31m---------------------------------------------------------------------------\u001b[0m",
      "\u001b[0;31mNameError\u001b[0m                                 Traceback (most recent call last)",
      "Cell \u001b[0;32mIn[9], line 28\u001b[0m\n\u001b[1;32m      2\u001b[0m rag_agent_prompt_template \u001b[38;5;241m=\u001b[39m PromptTemplate\u001b[38;5;241m.\u001b[39mfrom_template(\u001b[38;5;124m\"\"\"\u001b[39m\n\u001b[1;32m      3\u001b[0m \u001b[38;5;124mYou are a semantic search agent. Your job is to fetch top relevant results from a FAISS vector store using the rag_search_tool.\u001b[39m\n\u001b[1;32m      4\u001b[0m \n\u001b[0;32m   (...)\u001b[0m\n\u001b[1;32m     22\u001b[0m \u001b[38;5;132;01m{agent_scratchpad}\u001b[39;00m\n\u001b[1;32m     23\u001b[0m \u001b[38;5;124m\"\"\"\u001b[39m)\n\u001b[1;32m     25\u001b[0m \u001b[38;5;66;03m# Format the prompt with tool descriptions and names\u001b[39;00m\n\u001b[1;32m     26\u001b[0m formatted_prompt \u001b[38;5;241m=\u001b[39m rag_agent_prompt_template\u001b[38;5;241m.\u001b[39mpartial(\n\u001b[1;32m     27\u001b[0m     tools\u001b[38;5;241m=\u001b[39mtool_help_text,\n\u001b[0;32m---> 28\u001b[0m     tool_names\u001b[38;5;241m=\u001b[39m\u001b[38;5;124m\"\u001b[39m\u001b[38;5;124m, \u001b[39m\u001b[38;5;124m\"\u001b[39m\u001b[38;5;241m.\u001b[39mjoin(tool\u001b[38;5;241m.\u001b[39mname \u001b[38;5;28;01mfor\u001b[39;00m tool \u001b[38;5;129;01min\u001b[39;00m \u001b[43mrag_vector_tools\u001b[49m)\n\u001b[1;32m     29\u001b[0m )\n\u001b[1;32m     31\u001b[0m \u001b[38;5;66;03m# 🔧 Define the React-style agent\u001b[39;00m\n\u001b[1;32m     32\u001b[0m llm \u001b[38;5;241m=\u001b[39m ChatOpenAI(model\u001b[38;5;241m=\u001b[39m\u001b[38;5;124m\"\u001b[39m\u001b[38;5;124mgpt-4o\u001b[39m\u001b[38;5;124m\"\u001b[39m)  \u001b[38;5;66;03m# Or use your preferred model\u001b[39;00m\n",
      "\u001b[0;31mNameError\u001b[0m: name 'rag_vector_tools' is not defined"
     ]
    }
   ],
   "source": [
    "\n",
    "\n",
    "\n",
    "# 🧠 Prompt Template\n",
    "rag_agent_prompt_template = PromptTemplate.from_template(\"\"\"\n",
    "You are a semantic search agent. Your job is to fetch top relevant results from a FAISS vector store using the rag_search_tool.\n",
    "\n",
    "You have access to the following tools:\n",
    "{tools}\n",
    "\n",
    "\n",
    "Use this format:\n",
    "Question: the input query\n",
    "Thought: think about what to do\n",
    "Action: the action to take\n",
    "Action Input: the tool input\n",
    "Observation: the result\n",
    "... repeat if needed\n",
    "Thought: I now know the search results\n",
    "Final Answer: the documents retrieved\n",
    "\n",
    "Begin!\n",
    "\n",
    "Question: {input}\n",
    "{agent_scratchpad}\n",
    "\"\"\")\n",
    "\n",
    "# Format the prompt with tool descriptions and names\n",
    "formatted_prompt = rag_agent_prompt_template.partial(\n",
    "    tools=tool_help_text,\n",
    "    tool_names=\", \".join(tool.name for tool in rag_agent_tools)\n",
    ")\n",
    "\n",
    "# 🔧 Define the React-style agent\n",
    "llm = ChatOpenAI(model=\"gpt-4o\")  # Or use your preferred model\n",
    "\n",
    "\n",
    "# Create the agent\n",
    "rag_agent = create_react_agent(\n",
    "    llm=llm,\n",
    "    tools=rag_vector_tool,\n",
    "    prompt=formatted_prompt,\n",
    "    )\n",
    "\n",
    "\n"
   ]
  },
  {
   "cell_type": "code",
   "execution_count": null,
   "id": "25413009",
   "metadata": {},
   "outputs": [],
   "source": [
    "def rag_node(state: dict) -> Command[Literal[\"supervisor\"]]:\n",
    "    \"\"\"\n",
    "    RAG node for retrieving relevant documents using semantic + filter-aware search.\n",
    "    \"\"\"\n",
    "    system_prompt = (\n",
    "        \"You are a vector search agent. Your task is to:\\n\"\n",
    "        \"- Perform semantic search using the RAG tool.\\n\"\n",
    "        \"- Use filters if provided in the input.\\n\"\n",
    "        \"- Return the retrieved documents, nothing more.\\n\"\n",
    "        \"- Never generate answers, just retrieve.\"\n",
    "    )\n",
    "\n",
    "    messages = [{\"role\": \"system\", \"content\": system_prompt}] + state[\"messages\"]\n",
    "\n",
    "    response = rag_agent.invoke(messages)\n",
    "\n",
    "    print(\"🔍 RAG Node executed. Returning to supervisor.\")\n",
    "\n",
    "    return Command(\n",
    "        update={\n",
    "            \"messages\": [\n",
    "                HumanMessage(\n",
    "                    content=response.content,\n",
    "                    name=\"rag_agent\"\n",
    "                )\n",
    "            ]\n",
    "        },\n",
    "        goto=\"supervisor\"\n",
    "    )"
   ]
  },
  {
   "cell_type": "code",
   "execution_count": null,
   "id": "36c17a5a",
   "metadata": {},
   "outputs": [],
   "source": [
    "if __name__ == \"__main__\":\n",
    "    query = \"SaaS startups in Hyderabad funded over ₹50 crore after 2021 offering mobile apps\"\n",
    "    result = rag_agent.invoke({\"input\": query})\n",
    "    print(result[\"output\"])"
   ]
  }
 ],
 "metadata": {
  "kernelspec": {
   "display_name": "venv",
   "language": "python",
   "name": "python3"
  },
  "language_info": {
   "codemirror_mode": {
    "name": "ipython",
    "version": 3
   },
   "file_extension": ".py",
   "mimetype": "text/x-python",
   "name": "python",
   "nbconvert_exporter": "python",
   "pygments_lexer": "ipython3",
   "version": "3.10.17"
  }
 },
 "nbformat": 4,
 "nbformat_minor": 5
}
