{
 "cells": [
  {
   "cell_type": "code",
   "execution_count": 1,
   "id": "94714258",
   "metadata": {},
   "outputs": [],
   "source": [
    "##%pip install -U langchain langchain-core langchain-community langchain-openai"
   ]
  },
  {
   "cell_type": "code",
   "execution_count": 2,
   "id": "594a8f4f",
   "metadata": {},
   "outputs": [
    {
     "name": "stdout",
     "output_type": "stream",
     "text": [
      "✅ SRC path added: /home/prashant-agrawal/projects/netflix_talk2data/src\n"
     ]
    }
   ],
   "source": [
    "# Ensure src/ is in sys.path so 'tools' can be imported\n",
    "# %%\n",
    "import sys, os\n",
    "try:\n",
    "    # ✅ Running from a Python script (.py file)\n",
    "    TOOLS_PATH = os.path.abspath(os.path.join(os.path.dirname(__file__), \"..\"))\n",
    "except NameError:\n",
    "    # ✅ Running from a Jupyter notebook (__file__ is not defined)\n",
    "    TOOLS_PATH = os.path.abspath(os.path.join(os.getcwd(), \"..\"))\n",
    "SRC_PATH = os.path.join(TOOLS_PATH)\n",
    "\n",
    "\n",
    "if SRC_PATH not in sys.path:\n",
    "    sys.path.insert(0, SRC_PATH)\n",
    "    print(f\"✅ SRC path added: {SRC_PATH}\")\n",
    "else:\n",
    "    print(f\"🔁 SRC path already in sys.path: {SRC_PATH}\")"
   ]
  },
  {
   "cell_type": "code",
   "execution_count": 3,
   "id": "a1b71878",
   "metadata": {},
   "outputs": [
    {
     "name": "stdout",
     "output_type": "stream",
     "text": [
      "Current Path : /home/prashant-agrawal/projects/netflix_talk2data/src\n"
     ]
    }
   ],
   "source": [
    "import sys\n",
    "print(f\"Current Path : {sys.path[0]}\")"
   ]
  },
  {
   "cell_type": "code",
   "execution_count": 4,
   "id": "ba47942e",
   "metadata": {},
   "outputs": [],
   "source": [
    "# -- Enhancer Agent --\n",
    "# This script sets up an agent that enhances queries by extracting structured metadata and filters.\n",
    "# It uses a set of tools to analyze and transform vague or unstructured queries into clear, structured metadata.\n",
    "# The agent is designed to work with the LangChain framework and utilizes OpenAI's GPT-4 model.\n",
    "# The agent is capable of using various tools such as keyword extractors, numeric constraint extractors, and category classifiers.\n",
    "\n",
    "from langchain_core.tools import Tool\n",
    "from langchain.agents import create_react_agent\n",
    "from langchain_core.messages import HumanMessage\n",
    "from langgraph.prebuilt import ToolNode\n",
    "from langgraph.types import Command\n",
    "from typing import Literal\n",
    "from langchain_openai import ChatOpenAI\n",
    "from langchain.prompts import PromptTemplate\n"
   ]
  },
  {
   "cell_type": "code",
   "execution_count": 5,
   "id": "68f87690",
   "metadata": {},
   "outputs": [
    {
     "name": "stdout",
     "output_type": "stream",
     "text": [
      "🔁 SRC path already in sys.path: /home/prashant-agrawal/projects/netflix_talk2data/src\n"
     ]
    }
   ],
   "source": [
    "# 🔁 Import all tools from registry\n",
    "from tools.enhancer_tools_registry import (\n",
    "    keyword_extractor_tool,\n",
    "    extract_numeric_constraints_tool,\n",
    "    filter_composer_tool\n",
    ")\n",
    "\n",
    "# Define tools for the enhancer agent\n",
    "enhancer_tools = [\n",
    "    keyword_extractor_tool,\n",
    "    extract_numeric_constraints_tool,\n",
    "    filter_composer_tool\n",
    "]"
   ]
  },
  {
   "cell_type": "code",
   "execution_count": 6,
   "id": "cc9905de",
   "metadata": {},
   "outputs": [],
   "source": [
    "\n",
    "# Define tool names for the agent\n",
    "tool_names = [tool.name for tool in enhancer_tools]\n",
    "\n",
    "# Define the tool descriptions\n",
    "tool_descriptions = [tool.description for tool in enhancer_tools]\n",
    "\n",
    "# Build readable tool help text for the prompt\n",
    "tool_help_text = \"\\n\".join(\n",
    "    [f\"{i+1}. {tool.name} - {tool.description}\" for i, tool in enumerate(enhancer_tools)]\n",
    ")\n",
    "\n",
    "\n",
    "# Define system prompt used during agent creation\n",
    "\n",
    "enhancer_agent_prompt_template = PromptTemplate.from_template(\n",
    "    \"\"\"You are a Query Enhancer Agent.\n",
    "\n",
    "Your task is to:\n",
    "1. Understand the user's query and its intent.\n",
    "2. Clarify any ambiguities or vague instructions.\n",
    "3. Add contextual details such as location, industry, amount, category, or other metadata if implied.\n",
    "4. Output an improved version of the query, optimized for semantic and structured search.\n",
    "\n",
    "Rules:\n",
    "- Do not ask follow-up questions.\n",
    "- Infer likely meanings when user input is ambiguous.\n",
    "- Your output should be a standalone, precise query in natural language.\n",
    "- Do not include explanations or formatting like “Here’s the improved query.”\n",
    "\n",
    "Example:\n",
    "1. Fuzzy Funding Reference → Structured Numeric + Stage Filter\n",
    "User Query: \"Startups with big funding\"\n",
    "Enhanced Prompt: \"Indian startups that raised over $10 million in Series A or later funding rounds.\"\n",
    "Focus: Adds monetary threshold and filters funding stage.\n",
    "\n",
    "2. Location Mention → Structured Geographic Filter\n",
    "User Query: \"Top SaaS companies in Bangalore\"\n",
    "Enhanced Prompt: \"Top-performing SaaS startups headquartered in Bengaluru with recent traction or funding activity.\"\n",
    "Focus: Resolves city + domain, adds optional temporal or traction filter.\n",
    "\n",
    "🔹 3. Team Size Mention → Employee Count Filter\n",
    "User Query: \"Companies with large teams working in AI\"\n",
    "Enhanced Prompt: \"AI-focused startups in India with over 200 employees and active hiring status.\"\n",
    "Focus: Converts “large team” into a numeric filter + hiring signal.\n",
    "\n",
    "🔹 4. Recent Growth Mention → Year + Funding Filter\n",
    "User Query: \"Fast-growing e-commerce startups\"\n",
    "Enhanced Prompt: \"E-commerce startups founded after 2018 with rapid growth and multiple funding rounds.\"\n",
    "Focus: Infers growth using founding year and number of rounds.\n",
    "\n",
    "🔹 5. Tech Stack Mention → Tool + Sector Filters\n",
    "User Query: \"Fintech companies using AWS and React\"\n",
    "Enhanced Prompt: \"Fintech startups with a tech stack including AWS and React, offering scalable B2C solutions.\"\n",
    "Focus: Extracts cloud/backend/frontend tech + sector.\n",
    "\n",
    "\n",
    "\n",
    "You have access to the following tools:\n",
    "{tools}\n",
    "\n",
    "Format:\n",
    "Question: the input query\n",
    "Thought: think step-by-step about what to extract\n",
    "Action: the tool to use, from [{tool_names}]\n",
    "Action Input: JSON string or plain text input to the tool\n",
    "Observation: result returned by the tool\n",
    "... (repeat Thought/Action/Observation as needed)\n",
    "Thought: I have gathered all necessary structured data.\n",
    "Final Answer: a dictionary of all extracted metadata and filters\n",
    "\n",
    "Constraints:\n",
    "- NEVER ask the user again\n",
    "- ONLY use tools\n",
    "- NEVER hallucinate missing data\n",
    "\n",
    "Begin!\n",
    "\n",
    "Question: {input}\n",
    "{agent_scratchpad}\"\"\"\n",
    ")\n",
    "\n",
    "# Format the prompt with tool descriptions and names\n",
    "formatted_prompt = enhancer_agent_prompt_template.partial(\n",
    "    tools=tool_help_text,\n",
    "    tool_names=\", \".join(tool.name for tool in enhancer_tools)\n",
    ")\n",
    "\n",
    "# 🔧 Define the React-style agent\n",
    "llm = ChatOpenAI(model=\"gpt-4o\")  # Or use your preferred model\n",
    "\n",
    "\n",
    "# Create the agent\n",
    "enhancer_agent = create_react_agent(\n",
    "    llm=llm,\n",
    "    tools=enhancer_tools,\n",
    "    prompt=formatted_prompt,\n",
    "    )\n"
   ]
  },
  {
   "cell_type": "code",
   "execution_count": 7,
   "id": "adc1c928",
   "metadata": {},
   "outputs": [],
   "source": [
    "def enhancer_node(state: dict) -> Command[Literal[\"supervisor\"]]:\n",
    "    \"\"\"\n",
    "    Enhancer node for refining and structuring vague user queries.\n",
    "\n",
    "    Returns:\n",
    "        Command: Enhanced message sent back to the supervisor with reasoning.\n",
    "    \"\"\"\n",
    "\n",
    "    # 🧾 Instructional system message — passed as part of prompt to guide behavior\n",
    "    system_prompt = (\n",
    "        \"You are an advanced query enhancer. Your task is to:\\n\"\n",
    "        \"- Clarify and refine vague or ambiguous user inputs.\\n\"\n",
    "        \"- Extract metadata using tools (industry, funding stage, filters).\\n\"\n",
    "        \"- NEVER generate final answers, only enhance the query.\\n\"\n",
    "        \"- Return your reasoning and structured results back to the supervisor.\"\n",
    "    )\n",
    "\n",
    "    # 🧠 Compose messages for the agent\n",
    "    messages = [{\"role\": \"system\", \"content\": system_prompt}] + state[\"messages\"]\n",
    "\n",
    "    # 🚀 Invoke the agent (you can use `invoke()` or stream if needed)\n",
    "    enhanced_response = enhancer_agent.invoke(messages)\n",
    "\n",
    "    print(\"🧩 Enhancer Node executed. Routing back to: supervisor\")\n",
    "\n",
    "    return Command(\n",
    "        update={\n",
    "            \"messages\": [\n",
    "                HumanMessage(\n",
    "                    content=enhanced_response.content,\n",
    "                    name=\"enhancer\"\n",
    "                )\n",
    "            ]\n",
    "        },\n",
    "        goto=\"supervisor\"\n",
    "    )\n",
    "\n"
   ]
  },
  {
   "cell_type": "code",
   "execution_count": 8,
   "id": "96e729ef",
   "metadata": {},
   "outputs": [
    {
     "name": "stdout",
     "output_type": "stream",
     "text": [
      "\n",
      "\n",
      "\u001b[1m> Entering new AgentExecutor chain...\u001b[0m\n",
      "\u001b[32;1m\u001b[1;3mQuestion: List D2C or SaaS companies in Delhi or Hyderabad that raised over ₹200 crore, are currently hiring for engineers and PMs, valued above $500 million, offer mobile apps or APIs, and are backed by Sequoia or Accel.\n",
      "\n",
      "Thought: I need to extract keywords related to the sectors, location, hiring status, products, and investors from the query.\n",
      "\n",
      "Action: keyword_extractor\n",
      "\n",
      "Action Input: \"D2C or SaaS companies in Delhi or Hyderabad currently hiring for engineers and PMs offer mobile apps or APIs backed by Sequoia or Accel\"\n",
      "\u001b[0m\u001b[36;1m\u001b[1;3m{'headquarters_city': ['hyderabad', 'delhi'], 'industry_sector': ['d2c', 'saas'], 'hiring_status': ['currently hiring', 'hiring'], 'popular_roles_open': ['engineers'], 'primary_products__services': ['mobile app'], 'investors': ['sequoia', 'accel']}\u001b[0m\u001b[32;1m\u001b[1;3mAction: extract_numeric_constraints\n",
      "\n",
      "Action Input: \"raised over ₹200 crore, valued above $500 million\"\n",
      "\u001b[0m\u001b[33;1m\u001b[1;3m{'total_funding_raised_inr': {'gte': 500.0}}\u001b[0m\u001b[32;1m\u001b[1;3mObservation: {'total_funding_raised_inr': {'gte': 200.0}, 'valuation_usd_million': {'gte': 500.0}}\n",
      "\n",
      "Thought: I now have all the necessary structured data and filters based on the keywords and numeric constraints extracted.\n",
      "\n",
      "Final Answer: {'headquarters_city': ['Delhi', 'Hyderabad'], 'industry_sector': ['D2C', 'SaaS'], 'hiring_status': 'currently hiring', 'popular_roles_open': ['engineers', 'PMs'], 'primary_products__services': ['mobile apps', 'APIs'], 'investors': ['Sequoia', 'Accel'], 'total_funding_raised_inr': {'gte': 200.0}, 'valuation_usd_million': {'gte': 500.0}}\u001b[0m\n",
      "\n",
      "\u001b[1m> Finished chain.\u001b[0m\n",
      "{'headquarters_city': ['Delhi', 'Hyderabad'], 'industry_sector': ['D2C', 'SaaS'], 'hiring_status': 'currently hiring', 'popular_roles_open': ['engineers', 'PMs'], 'primary_products__services': ['mobile apps', 'APIs'], 'investors': ['Sequoia', 'Accel'], 'total_funding_raised_inr': {'gte': 200.0}, 'valuation_usd_million': {'gte': 500.0}}\n"
     ]
    }
   ],
   "source": [
    "from langchain.agents import AgentExecutor\n",
    "\n",
    "executor = AgentExecutor(agent=enhancer_agent, tools=enhancer_tools, verbose=True, handle_parsing_errors=True)\n",
    "\n",
    "query = \"\"\"\n",
    "\n",
    "List D2C or SaaS companies in Delhi or Hyderabad that raised over ₹200 crore, are currently hiring for engineers and PMs, valued above $500 million, \n",
    "\n",
    "offer mobile apps or APIs, and are backed by Sequoia or Accel.\"\"\"\n",
    "\n",
    "result = executor.invoke({\"input\": query})\n",
    "print(result[\"output\"])"
   ]
  }
 ],
 "metadata": {
  "kernelspec": {
   "display_name": "venv",
   "language": "python",
   "name": "python3"
  },
  "language_info": {
   "codemirror_mode": {
    "name": "ipython",
    "version": 3
   },
   "file_extension": ".py",
   "mimetype": "text/x-python",
   "name": "python",
   "nbconvert_exporter": "python",
   "pygments_lexer": "ipython3",
   "version": "3.10.17"
  }
 },
 "nbformat": 4,
 "nbformat_minor": 5
}
