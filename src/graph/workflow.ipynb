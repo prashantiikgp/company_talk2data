{
 "cells": [
  {
   "cell_type": "code",
   "execution_count": 1,
   "id": "03627c14",
   "metadata": {},
   "outputs": [
    {
     "name": "stdout",
     "output_type": "stream",
     "text": [
      "✅ SRC path added: /home/prashant-agrawal/projects/netflix_talk2data/src\n"
     ]
    }
   ],
   "source": [
    "# Ensure src/ is in sys.path so 'tools' can be imported\n",
    "# %%\n",
    "import sys, os\n",
    "try:\n",
    "    # ✅ Running from a Python script (.py file)\n",
    "    TOOLS_PATH = os.path.abspath(os.path.join(os.path.dirname(__file__), \"..\"))\n",
    "except NameError:\n",
    "    # ✅ Running from a Jupyter notebook (__file__ is not defined)\n",
    "    TOOLS_PATH = os.path.abspath(os.path.join(os.getcwd(), \"..\"))\n",
    "SRC_PATH = os.path.join(TOOLS_PATH)\n",
    "\n",
    "\n",
    "if SRC_PATH not in sys.path:\n",
    "    sys.path.insert(0, SRC_PATH)\n",
    "    print(f\"✅ SRC path added: {SRC_PATH}\")\n",
    "else:\n",
    "    print(f\"🔁 SRC path already in sys.path: {SRC_PATH}\")"
   ]
  },
  {
   "cell_type": "code",
   "execution_count": null,
   "id": "965b288c",
   "metadata": {},
   "outputs": [],
   "source": [
    "# src/graph/build_graph.py\n",
    "\n",
    "from langgraph.graph import StateGraph, START\n",
    "from agents.supervisor_agent import supervisor_node\n",
    "from agents.enhancer_agent import enhancer_node\n",
    "from agents.qdrant_search_agent import quadrant_search_node\n",
    "from schema.agent_state import AgentState\n",
    "\n",
    "def build_graph():\n",
    "    \"\"\"\n",
    "    Constructs and compiles the LangGraph workflow:\n",
    "\n",
    "      START\n",
    "        ↓\n",
    "    supervisor_node\n",
    "        ├──> enhancer_node ───┐\n",
    "        │       ↑             │\n",
    "        │       └─────────────┘\n",
    "        └──> quadrant_search_node -> END\n",
    "\n",
    "    Returns:\n",
    "        A compiled graph ready to invoke or stream.\n",
    "    \"\"\"\n",
    "    builder = StateGraph(state_schema=AgentState)\n",
    "\n",
    "    # Register each node\n",
    "    builder.add_node(\"supervisor\", supervisor_node)\n",
    "    builder.add_node(\"enhancer\", enhancer_node)\n",
    "    builder.add_node(\"qdrant_search\", quadrant_search_node)\n",
    "\n",
    "    # Define where execution begins\n",
    "    builder.set_entry_point(\"supervisor\")\n",
    "\n",
    "    # Static edges for validation (dynamic goto inside supervisor handles actual flow)\n",
    "    builder.add_edge(START, \"supervisor\")\n",
    "    builder.add_edge(\"supervisor\", \"enhancer\")\n",
    "    builder.add_edge(\"enhancer\", \"supervisor\")\n",
    "    #builder.add_edge(\"supervisor\", \"qdrant_search\")\n",
    "\n",
    "    # Mark the end node\n",
    "    builder.set_finish_point(\"qdrant_search\")\n",
    "\n",
    "    # Compile into an executable graph\n",
    "    return builder.compile()"
   ]
  },
  {
   "cell_type": "code",
   "execution_count": 13,
   "id": "ec6d0dbc",
   "metadata": {},
   "outputs": [
    {
     "data": {
      "image/png": "[encoded data removed]",
      "text/plain": [
       "<IPython.core.display.Image object>"
      ]
     },
     "metadata": {},
     "output_type": "display_data"
    }
   ],
   "source": [
    "# ...existing code...\n",
    "  # or from src.graph.build_graph import build_graph, depending on your sys.path\n",
    "\n",
    "graph = build_graph()\n",
    "\n",
    "# 2. Generate a Mermaid‐style PNG\n",
    "#    xray=True gives you the full node labels and edges\n",
    "mermaid_png = graph.get_graph(xray=True).draw_mermaid_png()\n",
    "\n",
    "# 3. Display it in‐notebook\n",
    "from IPython.display import Image, display\n",
    "display(Image(mermaid_png))\n",
    "# ...existing code..."
   ]
  }
 ],
 "metadata": {
  "kernelspec": {
   "display_name": "venv",
   "language": "python",
   "name": "python3"
  },
  "language_info": {
   "codemirror_mode": {
    "name": "ipython",
    "version": 3
   },
   "file_extension": ".py",
   "mimetype": "text/x-python",
   "name": "python",
   "nbconvert_exporter": "python",
   "pygments_lexer": "ipython3",
   "version": "3.10.17"
  }
 },
 "nbformat": 4,
 "nbformat_minor": 5
}
