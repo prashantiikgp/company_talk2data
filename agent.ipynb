{
 "cells": [
  {
   "cell_type": "code",
   "execution_count": 1,
   "id": "31b87ab1",
   "metadata": {},
   "outputs": [],
   "source": [
    "from langgraph.prebuilt import create_react_agent"
   ]
  },
  {
   "cell_type": "code",
   "execution_count": 2,
   "id": "1d86a394",
   "metadata": {},
   "outputs": [
    {
     "name": "stdout",
     "output_type": "stream",
     "text": [
      "/bin/bash: line 1: fg: no job control\n"
     ]
    }
   ],
   "source": [
    "!%pip install importnb"
   ]
  },
  {
   "cell_type": "code",
   "execution_count": 3,
   "id": "28929e83",
   "metadata": {},
   "outputs": [],
   "source": [
    "#Creating Aan Math Expert Agent\n",
    "\n",
    "# Initialize the model\n",
    "from dotenv import load_dotenv\n",
    "import os\n",
    "load_dotenv()\n",
    "\n",
    "openai_api_key = os.getenv(\"OPENAI_API_KEY\")\n",
    "\n",
    "\n",
    "from langchain_openai import ChatOpenAI\n",
    "llm = ChatOpenAI(\n",
    "    model=\"gpt-4o\",\n",
    "    temperature=0,\n",
    "    max_tokens=2000,\n",
    "    openai_api_key=\"openai_api_key\",    \n",
    ")"
   ]
  },
  {
   "cell_type": "code",
   "execution_count": 4,
   "id": "ed98af86",
   "metadata": {},
   "outputs": [
    {
     "ename": "ModuleNotFoundError",
     "evalue": "No module named 'prompts'",
     "output_type": "error",
     "traceback": [
      "\u001b[0;31m---------------------------------------------------------------------------\u001b[0m",
      "\u001b[0;31mModuleNotFoundError\u001b[0m                       Traceback (most recent call last)",
      "Cell \u001b[0;32mIn[4], line 4\u001b[0m\n\u001b[1;32m      2\u001b[0m \u001b[38;5;28;01mfrom\u001b[39;00m\u001b[38;5;250m \u001b[39m\u001b[38;5;21;01mlanggraph\u001b[39;00m\u001b[38;5;21;01m.\u001b[39;00m\u001b[38;5;21;01mprebuilt\u001b[39;00m\u001b[38;5;250m \u001b[39m\u001b[38;5;28;01mimport\u001b[39;00m create_react_agent\n\u001b[1;32m      3\u001b[0m \u001b[38;5;66;03m# Ensure the directory containing prompts.py is in the Python path\u001b[39;00m\n\u001b[0;32m----> 4\u001b[0m \u001b[38;5;28;01mfrom\u001b[39;00m\u001b[38;5;250m \u001b[39m\u001b[38;5;21;01mprompts\u001b[39;00m\u001b[38;5;250m \u001b[39m\u001b[38;5;28;01mimport\u001b[39;00m MathPrompt\n\u001b[1;32m      6\u001b[0m \u001b[38;5;66;03m# Define the required tools\u001b[39;00m\n\u001b[1;32m      7\u001b[0m \u001b[38;5;28;01mdef\u001b[39;00m\u001b[38;5;250m \u001b[39m\u001b[38;5;21madd\u001b[39m(a, b):\n",
      "\u001b[0;31mModuleNotFoundError\u001b[0m: No module named 'prompts'"
     ]
    }
   ],
   "source": [
    "# Create Math Agent\n",
    "from langgraph.prebuilt import create_react_agent\n",
    "# Ensure the directory containing prompts.py is in the Python path\n",
    "from prompts import MathPrompt\n",
    "\n",
    "# Define the required tools\n",
    "def add(a, b):\n",
    "    return a + b\n",
    "\n",
    "def multiply(a, b):\n",
    "    return a * b\n",
    "\n",
    "math_expert_agent = create_react_agent(\n",
    "    name=\"Math_Expert\",\n",
    "    prompt=MathPrompt,\n",
    "    tools=[add, multiply],\n",
    "    model=llm,\n",
    "    verbose=True,\n",
    ")"
   ]
  },
  {
   "cell_type": "code",
   "execution_count": 4,
   "id": "729342df",
   "metadata": {},
   "outputs": [
    {
     "name": "stdout",
     "output_type": "stream",
     "text": [
      "\n",
      "📤 [LLM Start] Prompt:\n",
      "Human: What are 3 startup ideas in the robotics space?\n",
      "\n",
      "✅ [LLM End] Response:\n",
      "generations=[[ChatGeneration(text='1. Robotic Healthcare Assistance: A startup could develop robots that assist in healthcare settings, such as hospitals, clinics, and nursing homes. These robots could perform tasks like delivering medication, assisting in surgeries, helping patients with mobility issues, or even providing companionship to lonely patients. \\n\\n2. Robotic Farming: A startup could create robots that assist with farming tasks. This could include planting and harvesting crops, monitoring crop health, or even managing livestock. These robots could help to increase efficiency and reduce the need for manual labor in the farming industry.\\n\\n3. Robotic Waste Management: A startup could develop robots that assist with waste management. This could include robots that sort and recycle waste, clean up litter in public spaces, or even robots that can safely handle and dispose of hazardous waste. This could help to improve the efficiency and safety of waste management processes.', generation_info={'finish_reason': 'stop', 'logprobs': None}, message=AIMessage(content='1. Robotic Healthcare Assistance: A startup could develop robots that assist in healthcare settings, such as hospitals, clinics, and nursing homes. These robots could perform tasks like delivering medication, assisting in surgeries, helping patients with mobility issues, or even providing companionship to lonely patients. \\n\\n2. Robotic Farming: A startup could create robots that assist with farming tasks. This could include planting and harvesting crops, monitoring crop health, or even managing livestock. These robots could help to increase efficiency and reduce the need for manual labor in the farming industry.\\n\\n3. Robotic Waste Management: A startup could develop robots that assist with waste management. This could include robots that sort and recycle waste, clean up litter in public spaces, or even robots that can safely handle and dispose of hazardous waste. This could help to improve the efficiency and safety of waste management processes.', additional_kwargs={'refusal': None}, response_metadata={'token_usage': {'completion_tokens': 174, 'prompt_tokens': 18, 'total_tokens': 192, 'completion_tokens_details': {'accepted_prediction_tokens': 0, 'audio_tokens': 0, 'reasoning_tokens': 0, 'rejected_prediction_tokens': 0}, 'prompt_tokens_details': {'audio_tokens': 0, 'cached_tokens': 0}}, 'model_name': 'gpt-4-0613', 'system_fingerprint': None, 'id': 'chatcmpl-BS23ZG8efCIX8YusyczbU1D7jfxZU', 'finish_reason': 'stop', 'logprobs': None}, id='run-5b93add9-1e11-4093-8b72-45bea397b076-0', usage_metadata={'input_tokens': 18, 'output_tokens': 174, 'total_tokens': 192, 'input_token_details': {'audio': 0, 'cache_read': 0}, 'output_token_details': {'audio': 0, 'reasoning': 0}}))]] llm_output={'token_usage': {'completion_tokens': 174, 'prompt_tokens': 18, 'total_tokens': 192, 'completion_tokens_details': {'accepted_prediction_tokens': 0, 'audio_tokens': 0, 'reasoning_tokens': 0, 'rejected_prediction_tokens': 0}, 'prompt_tokens_details': {'audio_tokens': 0, 'cached_tokens': 0}}, 'model_name': 'gpt-4-0613', 'system_fingerprint': None, 'id': 'chatcmpl-BS23ZG8efCIX8YusyczbU1D7jfxZU'} run=None type='LLMResult'\n",
      "\n",
      "🧠 Final Output:\n",
      "content='1. Robotic Healthcare Assistance: A startup could develop robots that assist in healthcare settings, such as hospitals, clinics, and nursing homes. These robots could perform tasks like delivering medication, assisting in surgeries, helping patients with mobility issues, or even providing companionship to lonely patients. \\n\\n2. Robotic Farming: A startup could create robots that assist with farming tasks. This could include planting and harvesting crops, monitoring crop health, or even managing livestock. These robots could help to increase efficiency and reduce the need for manual labor in the farming industry.\\n\\n3. Robotic Waste Management: A startup could develop robots that assist with waste management. This could include robots that sort and recycle waste, clean up litter in public spaces, or even robots that can safely handle and dispose of hazardous waste. This could help to improve the efficiency and safety of waste management processes.' additional_kwargs={'refusal': None} response_metadata={'token_usage': {'completion_tokens': 174, 'prompt_tokens': 18, 'total_tokens': 192, 'completion_tokens_details': {'accepted_prediction_tokens': 0, 'audio_tokens': 0, 'reasoning_tokens': 0, 'rejected_prediction_tokens': 0}, 'prompt_tokens_details': {'audio_tokens': 0, 'cached_tokens': 0}}, 'model_name': 'gpt-4-0613', 'system_fingerprint': None, 'id': 'chatcmpl-BS23ZG8efCIX8YusyczbU1D7jfxZU', 'finish_reason': 'stop', 'logprobs': None} id='run-5b93add9-1e11-4093-8b72-45bea397b076-0' usage_metadata={'input_tokens': 18, 'output_tokens': 174, 'total_tokens': 192, 'input_token_details': {'audio': 0, 'cache_read': 0}, 'output_token_details': {'audio': 0, 'reasoning': 0}}\n"
     ]
    }
   ],
   "source": [
    "from config.setup import init_env, get_llm\n",
    "from dotenv import load_dotenv\n",
    "load_dotenv(override=True) \n",
    "\n",
    "init_env()\n",
    "llm = get_llm()\n",
    "\n",
    "response = llm.invoke(\"What are 3 startup ideas in the robotics space?\")\n",
    "print(\"\\n🧠 Final Output:\")\n",
    "print(response)"
   ]
  },
  {
   "cell_type": "code",
   "execution_count": 7,
   "id": "cc9e1c99",
   "metadata": {},
   "outputs": [
    {
     "name": "stdout",
     "output_type": "stream",
     "text": [
      "\n",
      "🧠 Final Output: 1. AI-Powered Climate Modeling: A startup could develop advanced AI algorithms to improve the accuracy and efficiency of climate modeling. This could help scientists and policymakers better understand and predict climate change, enabling them to make more informed decisions about how to mitigate its impacts.\n",
      "\n",
      "2. AI for Renewable Energy Optimization: A startup could use AI to optimize the generation and distribution of renewable energy. For example, AI could be used to predict wind patterns for wind farms, optimize the angle of solar panels throughout the day, or manage the distribution of energy across a smart grid.\n",
      "\n",
      "3. AI for Carbon Capture and Storage: A startup could develop AI technologies to improve the efficiency and effectiveness of carbon capture and storage. This could involve using AI to identify the best locations for carbon storage, optimize the capture process, or monitor stored carbon to ensure it remains secure.\n"
     ]
    }
   ],
   "source": [
    "from dotenv import load_dotenv\n",
    "load_dotenv(override=True)\n",
    "from dotenv import load_dotenv\n",
    "load_dotenv(override=True)\n",
    "\n",
    "import os\n",
    "from langchain_openai import ChatOpenAI\n",
    "\n",
    "llm = ChatOpenAI(\n",
    "    model=\"gpt-4\",\n",
    "    temperature=0,\n",
    "    api_key=os.getenv(\"OPENAI_API_KEY\")\n",
    ")\n",
    "\n",
    "response = llm.invoke(\"What are 3 AI startup ideas in climate tech?\")\n",
    "print(\"\\n🧠 Final Output:\", response.content)"
   ]
  }
 ],
 "metadata": {
  "kernelspec": {
   "display_name": "venv",
   "language": "python",
   "name": "python3"
  },
  "language_info": {
   "codemirror_mode": {
    "name": "ipython",
    "version": 3
   },
   "file_extension": ".py",
   "mimetype": "text/x-python",
   "name": "python",
   "nbconvert_exporter": "python",
   "pygments_lexer": "ipython3",
   "version": "3.10.17"
  }
 },
 "nbformat": 4,
 "nbformat_minor": 5
}
