{
 "cells": [
  {
   "cell_type": "code",
   "execution_count": 1,
   "id": "d46819a5",
   "metadata": {},
   "outputs": [],
   "source": [
    "# prompts/math_prompt.py\n",
    "from langchain.prompts import ChatPromptTemplate\n"
   ]
  },
  {
   "cell_type": "code",
   "execution_count": 4,
   "id": "4402cbe6",
   "metadata": {},
   "outputs": [],
   "source": [
    "\n",
    "MathPrompt = ChatPromptTemplate.from_messages([\n",
    "    (\"system\", \"You are a math expert.\"),\n",
    "    (\"human\", \"{question}\")\n",
    "])"
   ]
  }
 ],
 "metadata": {
  "kernelspec": {
   "display_name": "venv",
   "language": "python",
   "name": "python3"
  },
  "language_info": {
   "codemirror_mode": {
    "name": "ipython",
    "version": 3
   },
   "file_extension": ".py",
   "mimetype": "text/x-python",
   "name": "python",
   "nbconvert_exporter": "python",
   "pygments_lexer": "ipython3",
   "version": "3.10.16"
  }
 },
 "nbformat": 4,
 "nbformat_minor": 5
}
