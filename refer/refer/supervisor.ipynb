{
 "cells": [
  {
   "cell_type": "code",
   "execution_count": 76,
   "id": "79d233f2",
   "metadata": {},
   "outputs": [
    {
     "name": "stdout",
     "output_type": "stream",
     "text": [
      "Requirement already satisfied: langgraph-supervisor in /home/prashant-agrawal/Netflix_Project/venv/lib/python3.10/site-packages (0.0.17)\n",
      "Requirement already satisfied: langchain-openai in /home/prashant-agrawal/Netflix_Project/venv/lib/python3.10/site-packages (0.3.14)\n",
      "Requirement already satisfied: langchain in /home/prashant-agrawal/Netflix_Project/venv/lib/python3.10/site-packages (0.3.23)\n",
      "Requirement already satisfied: langchain-core<0.4.0,>=0.3.40 in /home/prashant-agrawal/Netflix_Project/venv/lib/python3.10/site-packages (from langgraph-supervisor) (0.3.54)\n",
      "Requirement already satisfied: langgraph-prebuilt<0.2.0,>=0.1.7 in /home/prashant-agrawal/Netflix_Project/venv/lib/python3.10/site-packages (from langgraph-supervisor) (0.1.8)\n",
      "Requirement already satisfied: langgraph<0.4.0,>=0.3.5 in /home/prashant-agrawal/Netflix_Project/venv/lib/python3.10/site-packages (from langgraph-supervisor) (0.3.31)\n",
      "Requirement already satisfied: tiktoken<1,>=0.7 in /home/prashant-agrawal/Netflix_Project/venv/lib/python3.10/site-packages (from langchain-openai) (0.9.0)\n",
      "Requirement already satisfied: openai<2.0.0,>=1.68.2 in /home/prashant-agrawal/Netflix_Project/venv/lib/python3.10/site-packages (from langchain-openai) (1.75.0)\n",
      "Requirement already satisfied: requests<3,>=2 in /home/prashant-agrawal/Netflix_Project/venv/lib/python3.10/site-packages (from langchain) (2.32.3)\n",
      "Requirement already satisfied: SQLAlchemy<3,>=1.4 in /home/prashant-agrawal/Netflix_Project/venv/lib/python3.10/site-packages (from langchain) (2.0.40)\n",
      "Requirement already satisfied: PyYAML>=5.3 in /home/prashant-agrawal/Netflix_Project/venv/lib/python3.10/site-packages (from langchain) (6.0.2)\n",
      "Requirement already satisfied: langchain-text-splitters<1.0.0,>=0.3.8 in /home/prashant-agrawal/Netflix_Project/venv/lib/python3.10/site-packages (from langchain) (0.3.8)\n",
      "Requirement already satisfied: async-timeout<5.0.0,>=4.0.0 in /home/prashant-agrawal/Netflix_Project/venv/lib/python3.10/site-packages (from langchain) (4.0.3)\n",
      "Requirement already satisfied: pydantic<3.0.0,>=2.7.4 in /home/prashant-agrawal/Netflix_Project/venv/lib/python3.10/site-packages (from langchain) (2.11.3)\n",
      "Requirement already satisfied: langsmith<0.4,>=0.1.17 in /home/prashant-agrawal/Netflix_Project/venv/lib/python3.10/site-packages (from langchain) (0.3.32)\n",
      "Requirement already satisfied: jsonpatch<2.0,>=1.33 in /home/prashant-agrawal/Netflix_Project/venv/lib/python3.10/site-packages (from langchain-core<0.4.0,>=0.3.40->langgraph-supervisor) (1.33)\n",
      "Requirement already satisfied: typing-extensions>=4.7 in /home/prashant-agrawal/Netflix_Project/venv/lib/python3.10/site-packages (from langchain-core<0.4.0,>=0.3.40->langgraph-supervisor) (4.13.2)\n",
      "Requirement already satisfied: tenacity!=8.4.0,<10.0.0,>=8.1.0 in /home/prashant-agrawal/Netflix_Project/venv/lib/python3.10/site-packages (from langchain-core<0.4.0,>=0.3.40->langgraph-supervisor) (9.1.2)\n",
      "Requirement already satisfied: packaging<25,>=23.2 in /home/prashant-agrawal/Netflix_Project/venv/lib/python3.10/site-packages (from langchain-core<0.4.0,>=0.3.40->langgraph-supervisor) (24.2)\n",
      "Requirement already satisfied: xxhash<4.0.0,>=3.5.0 in /home/prashant-agrawal/Netflix_Project/venv/lib/python3.10/site-packages (from langgraph<0.4.0,>=0.3.5->langgraph-supervisor) (3.5.0)\n",
      "Requirement already satisfied: langgraph-checkpoint<3.0.0,>=2.0.10 in /home/prashant-agrawal/Netflix_Project/venv/lib/python3.10/site-packages (from langgraph<0.4.0,>=0.3.5->langgraph-supervisor) (2.0.24)\n",
      "Requirement already satisfied: langgraph-sdk<0.2.0,>=0.1.42 in /home/prashant-agrawal/Netflix_Project/venv/lib/python3.10/site-packages (from langgraph<0.4.0,>=0.3.5->langgraph-supervisor) (0.1.61)\n",
      "Requirement already satisfied: requests-toolbelt<2.0.0,>=1.0.0 in /home/prashant-agrawal/Netflix_Project/venv/lib/python3.10/site-packages (from langsmith<0.4,>=0.1.17->langchain) (1.0.0)\n",
      "Requirement already satisfied: orjson<4.0.0,>=3.9.14 in /home/prashant-agrawal/Netflix_Project/venv/lib/python3.10/site-packages (from langsmith<0.4,>=0.1.17->langchain) (3.10.16)\n",
      "Requirement already satisfied: httpx<1,>=0.23.0 in /home/prashant-agrawal/Netflix_Project/venv/lib/python3.10/site-packages (from langsmith<0.4,>=0.1.17->langchain) (0.28.1)\n",
      "Requirement already satisfied: zstandard<0.24.0,>=0.23.0 in /home/prashant-agrawal/Netflix_Project/venv/lib/python3.10/site-packages (from langsmith<0.4,>=0.1.17->langchain) (0.23.0)\n",
      "Requirement already satisfied: anyio<5,>=3.5.0 in /home/prashant-agrawal/Netflix_Project/venv/lib/python3.10/site-packages (from openai<2.0.0,>=1.68.2->langchain-openai) (4.9.0)\n",
      "Requirement already satisfied: distro<2,>=1.7.0 in /home/prashant-agrawal/Netflix_Project/venv/lib/python3.10/site-packages (from openai<2.0.0,>=1.68.2->langchain-openai) (1.9.0)\n",
      "Requirement already satisfied: jiter<1,>=0.4.0 in /home/prashant-agrawal/Netflix_Project/venv/lib/python3.10/site-packages (from openai<2.0.0,>=1.68.2->langchain-openai) (0.9.0)\n",
      "Requirement already satisfied: tqdm>4 in /home/prashant-agrawal/Netflix_Project/venv/lib/python3.10/site-packages (from openai<2.0.0,>=1.68.2->langchain-openai) (4.67.1)\n",
      "Requirement already satisfied: sniffio in /home/prashant-agrawal/Netflix_Project/venv/lib/python3.10/site-packages (from openai<2.0.0,>=1.68.2->langchain-openai) (1.3.1)\n",
      "Requirement already satisfied: typing-inspection>=0.4.0 in /home/prashant-agrawal/Netflix_Project/venv/lib/python3.10/site-packages (from pydantic<3.0.0,>=2.7.4->langchain) (0.4.0)\n",
      "Requirement already satisfied: pydantic-core==2.33.1 in /home/prashant-agrawal/Netflix_Project/venv/lib/python3.10/site-packages (from pydantic<3.0.0,>=2.7.4->langchain) (2.33.1)\n",
      "Requirement already satisfied: annotated-types>=0.6.0 in /home/prashant-agrawal/Netflix_Project/venv/lib/python3.10/site-packages (from pydantic<3.0.0,>=2.7.4->langchain) (0.7.0)\n",
      "Requirement already satisfied: urllib3<3,>=1.21.1 in /home/prashant-agrawal/Netflix_Project/venv/lib/python3.10/site-packages (from requests<3,>=2->langchain) (1.26.20)\n",
      "Requirement already satisfied: certifi>=2017.4.17 in /home/prashant-agrawal/Netflix_Project/venv/lib/python3.10/site-packages (from requests<3,>=2->langchain) (2025.1.31)\n",
      "Requirement already satisfied: idna<4,>=2.5 in /home/prashant-agrawal/Netflix_Project/venv/lib/python3.10/site-packages (from requests<3,>=2->langchain) (3.10)\n",
      "Requirement already satisfied: charset-normalizer<4,>=2 in /home/prashant-agrawal/Netflix_Project/venv/lib/python3.10/site-packages (from requests<3,>=2->langchain) (3.4.1)\n",
      "Requirement already satisfied: greenlet>=1 in /home/prashant-agrawal/Netflix_Project/venv/lib/python3.10/site-packages (from SQLAlchemy<3,>=1.4->langchain) (3.2.0)\n",
      "Requirement already satisfied: regex>=2022.1.18 in /home/prashant-agrawal/Netflix_Project/venv/lib/python3.10/site-packages (from tiktoken<1,>=0.7->langchain-openai) (2024.11.6)\n",
      "Requirement already satisfied: exceptiongroup>=1.0.2 in /home/prashant-agrawal/Netflix_Project/venv/lib/python3.10/site-packages (from anyio<5,>=3.5.0->openai<2.0.0,>=1.68.2->langchain-openai) (1.2.2)\n",
      "Requirement already satisfied: httpcore==1.* in /home/prashant-agrawal/Netflix_Project/venv/lib/python3.10/site-packages (from httpx<1,>=0.23.0->langsmith<0.4,>=0.1.17->langchain) (1.0.8)\n",
      "Requirement already satisfied: h11<0.15,>=0.13 in /home/prashant-agrawal/Netflix_Project/venv/lib/python3.10/site-packages (from httpcore==1.*->httpx<1,>=0.23.0->langsmith<0.4,>=0.1.17->langchain) (0.14.0)\n",
      "Requirement already satisfied: jsonpointer>=1.9 in /home/prashant-agrawal/Netflix_Project/venv/lib/python3.10/site-packages (from jsonpatch<2.0,>=1.33->langchain-core<0.4.0,>=0.3.40->langgraph-supervisor) (3.0.0)\n",
      "Requirement already satisfied: ormsgpack<2.0.0,>=1.8.0 in /home/prashant-agrawal/Netflix_Project/venv/lib/python3.10/site-packages (from langgraph-checkpoint<3.0.0,>=2.0.10->langgraph<0.4.0,>=0.3.5->langgraph-supervisor) (1.9.1)\n",
      "\n",
      "\u001b[1m[\u001b[0m\u001b[34;49mnotice\u001b[0m\u001b[1;39;49m]\u001b[0m\u001b[39;49m A new release of pip is available: \u001b[0m\u001b[31;49m23.0.1\u001b[0m\u001b[39;49m -> \u001b[0m\u001b[32;49m25.0.1\u001b[0m\n",
      "\u001b[1m[\u001b[0m\u001b[34;49mnotice\u001b[0m\u001b[1;39;49m]\u001b[0m\u001b[39;49m To update, run: \u001b[0m\u001b[32;49mpip install --upgrade pip\u001b[0m\n",
      "Note: you may need to restart the kernel to use updated packages.\n"
     ]
    }
   ],
   "source": [
    "%pip install langgraph-supervisor langchain-openai langchain"
   ]
  },
  {
   "cell_type": "code",
   "execution_count": 77,
   "id": "d850de7e",
   "metadata": {},
   "outputs": [],
   "source": [
    "#Initialize the Model\n",
    "from dotenv import load_dotenv\n",
    "import os \n",
    "from langchain_openai import ChatOpenAI\n",
    "load_dotenv()\n",
    "\n",
    "openai_api_key = os.getenv(\"OPENAI_API_KEY\")\n",
    "\n",
    "model = ChatOpenAI(model=\"gpt-4o\", openai_api_key=openai_api_key)"
   ]
  },
  {
   "cell_type": "code",
   "execution_count": 78,
   "id": "ef12177d",
   "metadata": {},
   "outputs": [],
   "source": [
    "#Initialize and the tools\n",
    "\n",
    "def add(a: float, b: float) -> float:\n",
    "    \"\"\"Add two numbers.\"\"\"\n",
    "    return a + b\n",
    "\n",
    "def multiply(a: float, b: float) -> float:\n",
    "    \"\"\"Multiply two numbers.\"\"\"\n",
    "    return a * b\n",
    "\n",
    "def web_search(query: str) -> str:\n",
    "    \"\"\"Search the web for information.\"\"\"\n",
    "    return (\n",
    "        \"Here are the headcounts for each of the FAANG companies in 2024:\\n\"\n",
    "        \"1. **Facebook (Meta)**: 67,317 employees.\\n\"\n",
    "        \"2. **Apple**: 164,000 employees.\\n\"\n",
    "        \"3. **Amazon**: 1,551,000 employees.\\n\"\n",
    "        \"4. **Netflix**: 14,000 employees.\\n\"\n",
    "        \"5. **Google (Alphabet)**: 181,269 employees.\"\n",
    "    )\n"
   ]
  },
  {
   "cell_type": "code",
   "execution_count": 79,
   "id": "2662736b",
   "metadata": {},
   "outputs": [],
   "source": [
    "#Initialize the Agents\n",
    "from langgraph.prebuilt import create_react_agent\n",
    "math_agent = create_react_agent(\n",
    "    model=model,\n",
    "    tools=[add, multiply],\n",
    "    name=\"math_expert\",\n",
    "    prompt=\"You are a math expert. Always use one tool at a time.\"\n",
    ")\n",
    "\n",
    "research_agent = create_react_agent(\n",
    "    model=model,\n",
    "    tools=[web_search],\n",
    "    name=\"research_expert\",\n",
    "    prompt=\"You are a world class researcher with access to web search. Do not do any math.\"\n",
    ")\n",
    "\n"
   ]
  },
  {
   "cell_type": "code",
   "execution_count": 80,
   "id": "8e543680",
   "metadata": {},
   "outputs": [],
   "source": [
    "#Creater Supervisor \n",
    "from langgraph_supervisor import create_supervisor\n",
    "\n",
    "# Create supervisor workflow\n",
    "workflow = create_supervisor(\n",
    "    agents=[research_agent, math_agent],\n",
    "    model=model,\n",
    "    prompt=(\n",
    "        \"You are a team supervisor managing a research expert and a math expert. \"\n",
    "        \"For current events, use research_agent. \"\n",
    "        \"For math problems, use math_agent.\"\n",
    "    )\n",
    ")\n"
   ]
  },
  {
   "cell_type": "code",
   "execution_count": 82,
   "id": "528d7f45",
   "metadata": {},
   "outputs": [
    {
     "name": "stdout",
     "output_type": "stream",
     "text": [
      "('[human] Can you get me the headcounts of FAANG companies and then add them '\n",
      " 'together?\\n')\n",
      "'[ai] \\n'\n",
      "'[tool] Successfully transferred to research_expert\\n'\n",
      "('[ai] Here are the employee headcounts for each of the FAANG companies in '\n",
      " '2023:\\n'\n",
      " '\\n'\n",
      " '1. **Facebook (Meta)**: 67,317 employees.\\n'\n",
      " '2. **Amazon**: 1,551,000 employees.\\n'\n",
      " '3. **Apple**: 164,000 employees.\\n'\n",
      " '4. **Netflix**: 14,000 employees.\\n'\n",
      " '5. **Google (Alphabet)**: 181,269 employees.\\n'\n",
      " '\\n'\n",
      " 'To find the total headcount, please add these numbers together.\\n')\n",
      "'[ai] Transferring back to supervisor\\n'\n",
      "'[tool] Successfully transferred back to supervisor\\n'\n",
      "'[ai] \\n'\n",
      "'[tool] Successfully transferred to math_expert\\n'\n",
      "('[ai] The total headcount for the FAANG companies in 2023 is 1,977,586 '\n",
      " 'employees.\\n')\n",
      "'[ai] Transferring back to supervisor\\n'\n",
      "'[tool] Successfully transferred back to supervisor\\n'\n",
      "('[ai] The total headcount for the FAANG companies in 2023 is 1,977,586 '\n",
      " 'employees.\\n')\n"
     ]
    }
   ],
   "source": [
    "# Compile and run\n",
    "from pprint import pprint\n",
    "\n",
    "app = workflow.compile()\n",
    "result = app.invoke({\n",
    "    \"messages\": [\n",
    "        {\n",
    "            \"role\": \"user\",\n",
    "            \"content\": \"Can you get me the headcounts of FAANG companies and then add them together?\"\n",
    "        }\n",
    "    ]},config={\"configurable\": {\"return_intermediate_steps\": True}},\n",
    "    )\n",
    "for message in result[\"messages\"]:\n",
    "    pprint(f\"[{message.type}] {message.content}\\n\")\n"
   ]
  },
  {
   "cell_type": "code",
   "execution_count": null,
   "id": "22506631",
   "metadata": {},
   "outputs": [],
   "source": [
    "# Just to Get the final output\n",
    "\n",
    "\n",
    "from pprint import pprint\n",
    "app = workflow.compile()\n",
    "# Extract final assistant response\n",
    "final_output = result.get(\"messages\", [])[-1].content if result.get(\"messages\", []) else \"No response\"\n",
    "pprint(final_output)"
   ]
  },
  {
   "cell_type": "code",
   "execution_count": null,
   "id": "1960c4ed",
   "metadata": {},
   "outputs": [],
   "source": [
    "# For Giving the Langgraph 'workflow' is your StateGraph instance\n",
    "compiled_workflow = workflow.compile()\n",
    "\n",
    "# Now you can access the graph visualization methods\n",
    "print(compiled_workflow.get_graph().draw_mermaid())\n",
    "\n",
    "from IPython.display import Markdown\n",
    "\n",
    "mermaid_str = compiled_workflow.get_graph().draw_mermaid()\n",
    "Markdown(f\"```mermaid\\n{mermaid_str}\\n```\")\n"
   ]
  }
 ],
 "metadata": {
  "kernelspec": {
   "display_name": "venv",
   "language": "python",
   "name": "python3"
  },
  "language_info": {
   "codemirror_mode": {
    "name": "ipython",
    "version": 3
   },
   "file_extension": ".py",
   "mimetype": "text/x-python",
   "name": "python",
   "nbconvert_exporter": "python",
   "pygments_lexer": "ipython3",
   "version": "3.10.16"
  }
 },
 "nbformat": 4,
 "nbformat_minor": 5
}
