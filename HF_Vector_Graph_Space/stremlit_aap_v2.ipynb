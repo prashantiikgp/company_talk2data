{
 "cells": [
  {
   "cell_type": "code",
   "execution_count": 21,
   "id": "1fda5e16",
   "metadata": {},
   "outputs": [],
   "source": [
    "# ------------------ 1. 🔐 Environment Setup ------------------\n",
    "import os\n",
    "import streamlit as st\n",
    "from dotenv import load_dotenv\n",
    "from langchain_openai import ChatOpenAI\n",
    "from langchain_community.graphs import Neo4jGraph\n",
    "from langchain_community.chains.graph_qa.cypher import GraphCypherQAChain\n",
    "from neo4j import GraphDatabase\n",
    "import pandas as pd\n",
    "\n",
    "# Load environment variables\n",
    "load_dotenv()\n",
    "\n",
    "NEO4J_URI = os.getenv(\"NEO4J_URI\")\n",
    "NEO4J_USERNAME = os.getenv(\"NEO4J_USERNAME\")\n",
    "NEO4J_PASSWORD = os.getenv(\"NEO4J_PASSWORD\")\n",
    "OPENAI_API_KEY = os.getenv(\"OPENAI_API_KEY\")"
   ]
  },
  {
   "cell_type": "code",
   "execution_count": 22,
   "id": "b484e085",
   "metadata": {},
   "outputs": [],
   "source": [
    "# ------------------ 2. 🔗 Initialize the language model & Neo4j & Query Chain------------------\n",
    "# Initialize the language model\n",
    "llm = ChatOpenAI(\n",
    "    model=\"gpt-4o\",\n",
    "    openai_api_key=OPENAI_API_KEY\n",
    ")\n",
    "\n",
    "# Connect to Neo4j\n",
    "graph = Neo4jGraph(\n",
    "    url=NEO4J_URI,\n",
    "    username=NEO4J_USERNAME,\n",
    "    password=NEO4J_PASSWORD\n",
    ")\n",
    "\n",
    "# Build the query chain\n",
    "chain = GraphCypherQAChain.from_llm(\n",
    "    llm=llm,\n",
    "    graph=graph,\n",
    "    verbose=False,\n",
    "    allow_dangerous_requests=True\n",
    ")"
   ]
  },
  {
   "cell_type": "code",
   "execution_count": 29,
   "id": "d6aec1cc",
   "metadata": {},
   "outputs": [
    {
     "name": "stderr",
     "output_type": "stream",
     "text": [
      "2025-04-25 00:15:18.497 Thread 'MainThread': missing ScriptRunContext! This warning can be ignored when running in bare mode.\n",
      "2025-04-25 00:15:18.501 Thread 'MainThread': missing ScriptRunContext! This warning can be ignored when running in bare mode.\n",
      "2025-04-25 00:15:18.502 Thread 'MainThread': missing ScriptRunContext! This warning can be ignored when running in bare mode.\n",
      "2025-04-25 00:15:18.504 Thread 'MainThread': missing ScriptRunContext! This warning can be ignored when running in bare mode.\n",
      "2025-04-25 00:15:18.504 Thread 'MainThread': missing ScriptRunContext! This warning can be ignored when running in bare mode.\n",
      "2025-04-25 00:15:18.505 Thread 'MainThread': missing ScriptRunContext! This warning can be ignored when running in bare mode.\n",
      "2025-04-25 00:15:18.506 Thread 'MainThread': missing ScriptRunContext! This warning can be ignored when running in bare mode.\n",
      "2025-04-25 00:15:18.507 Thread 'MainThread': missing ScriptRunContext! This warning can be ignored when running in bare mode.\n",
      "2025-04-25 00:15:18.508 Thread 'MainThread': missing ScriptRunContext! This warning can be ignored when running in bare mode.\n",
      "2025-04-25 00:15:18.509 Thread 'MainThread': missing ScriptRunContext! This warning can be ignored when running in bare mode.\n",
      "2025-04-25 00:15:18.510 Thread 'MainThread': missing ScriptRunContext! This warning can be ignored when running in bare mode.\n",
      "2025-04-25 00:15:18.511 Thread 'MainThread': missing ScriptRunContext! This warning can be ignored when running in bare mode.\n",
      "2025-04-25 00:15:18.514 Thread 'MainThread': missing ScriptRunContext! This warning can be ignored when running in bare mode.\n",
      "2025-04-25 00:15:18.515 Thread 'MainThread': missing ScriptRunContext! This warning can be ignored when running in bare mode.\n",
      "2025-04-25 00:15:18.516 Thread 'MainThread': missing ScriptRunContext! This warning can be ignored when running in bare mode.\n"
     ]
    }
   ],
   "source": [
    "# ------------------ 3. 🔗 Streamlit App ------------------\n",
    "# App layout\n",
    "st.set_page_config(page_title=\"Netflix Q&A\", layout=\"centered\")\n",
    "st.title(\"🎬 Data_Agent: Ask Netflix Dataset\")\n",
    "st.markdown(\"Ask anything about the Netflix movies dataset.\")\n",
    "\n",
    "# Session state defaults\n",
    "if \"chat_history\" not in st.session_state:\n",
    "    st.session_state.chat_history = []\n",
    "\n",
    "if \"session_name\" not in st.session_state:\n",
    "    st.session_state.session_name = \"\"\n",
    "\n",
    "# Sidebar session input\n",
    "st.sidebar.header(\"🗂️ Session Info\")\n",
    "session_input = st.sidebar.text_input(\"Enter Session Name:\", placeholder=\"e.g. Demo with Client\")\n",
    "\n",
    "if session_input:\n",
    "    st.session_state.session_name = session_input\n",
    "    st.sidebar.success(f\"Current Session: {session_input}\")"
   ]
  },
  {
   "cell_type": "code",
   "execution_count": null,
   "id": "ce5f4e86",
   "metadata": {},
   "outputs": [],
   "source": [
    "# Query input\n",
    "user_input = st.text_input(\"Enter your query:\", placeholder=\"e.g. Find the most recent Indian movie\")\n",
    "\n",
    "if user_input:\n",
    "    with st.spinner(\"Thinking...\"):\n",
    "        try:\n",
    "            # Get LLM response\n",
    "            response = chain.invoke({\"query\": user_input})\n",
    "            st.success(\"Answer:\")\n",
    "            st.write(response)\n",
    "\n",
    "            # Save in memory\n",
    "            st.session_state.chat_history.append({\n",
    "                \"query\": user_input,\n",
    "                \"answer\": response\n",
    "            })\n",
    "\n",
    "            # Optional: Show Cypher + snapshot\n",
    "            if st.button(\"🔍 Show Cypher + Data Snapshot\"):\n",
    "                cypher = chain.cypher_generation_chain.run({\"question\": user_input})\n",
    "                st.code(cypher, language=\"cypher\")\n",
    "\n",
    "                try:\n",
    "                    driver = GraphDatabase.driver(NEO4J_URI, auth=(NEO4J_USERNAME, NEO4J_PASSWORD))\n",
    "                    with driver.session() as session:\n",
    "                        records = session.run(cypher)\n",
    "                        df = pd.DataFrame([r.data() for r in records])\n",
    "\n",
    "                        if not df.empty:\n",
    "                            st.info(\"📊 Matching Data Snapshot:\")\n",
    "                            st.dataframe(df)\n",
    "                        else:\n",
    "                            st.warning(\"No matching data found for this query.\")\n",
    "                except Exception as db_err:\n",
    "                    st.error(f\"Error while fetching data snapshot: {db_err}\")\n",
    "\n",
    "        except Exception as e:\n",
    "            st.error(f\"❌ Error: {e}\")"
   ]
  },
  {
   "cell_type": "code",
   "execution_count": 26,
   "id": "7e12cab3",
   "metadata": {},
   "outputs": [
    {
     "name": "stderr",
     "output_type": "stream",
     "text": [
      "2025-04-24 23:23:41.134 Thread 'MainThread': missing ScriptRunContext! This warning can be ignored when running in bare mode.\n"
     ]
    }
   ],
   "source": [
    "# Optional: Show full memory for this session\n",
    "if st.session_state.chat_history:\n",
    "    with st.expander(\"🧠 View Chat Memory\"):\n",
    "        for i, chat in enumerate(st.session_state.chat_history):\n",
    "            st.markdown(f\"**Q{i+1}:** {chat['query']}\")\n",
    "            st.markdown(f\"**A{i+1}:** {chat['answer']}\")\n",
    "            st.markdown(\"---\")"
   ]
  }
 ],
 "metadata": {
  "kernelspec": {
   "display_name": "venv",
   "language": "python",
   "name": "python3"
  },
  "language_info": {
   "codemirror_mode": {
    "name": "ipython",
    "version": 3
   },
   "file_extension": ".py",
   "mimetype": "text/x-python",
   "name": "python",
   "nbconvert_exporter": "python",
   "pygments_lexer": "ipython3",
   "version": "3.10.16"
  }
 },
 "nbformat": 4,
 "nbformat_minor": 5
}
