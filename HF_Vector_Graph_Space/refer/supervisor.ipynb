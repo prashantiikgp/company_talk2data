{
 "cells": [
  {
   "cell_type": "code",
   "execution_count": null,
   "id": "79d233f2",
   "metadata": {},
   "outputs": [],
   "source": [
    "%pip install langgraph-supervisor langchain-openai langchain"
   ]
  },
  {
   "cell_type": "code",
   "execution_count": 1,
   "id": "d850de7e",
   "metadata": {},
   "outputs": [],
   "source": [
    "#Initialize the Model\n",
    "from dotenv import load_dotenv\n",
    "import os \n",
    "from langchain_openai import ChatOpenAI\n",
    "load_dotenv()\n",
    "\n",
    "openai_api_key = os.getenv(\"OPENAI_API_KEY\")\n",
    "\n",
    "model = ChatOpenAI(model=\"gpt-4o\", openai_api_key=openai_api_key)"
   ]
  },
  {
   "cell_type": "code",
   "execution_count": 2,
   "id": "ef12177d",
   "metadata": {},
   "outputs": [],
   "source": [
    "#Initialize and the tools\n",
    "\n",
    "def add(a: float, b: float) -> float:\n",
    "    \"\"\"Add two numbers.\"\"\"\n",
    "    return a + b\n",
    "\n",
    "def multiply(a: float, b: float) -> float:\n",
    "    \"\"\"Multiply two numbers.\"\"\"\n",
    "    return a * b\n",
    "\n",
    "def web_search(query: str) -> str:\n",
    "    \"\"\"Search the web for information.\"\"\"\n",
    "    return (\n",
    "        \"Here are the headcounts for each of the FAANG companies in 2024:\\n\"\n",
    "        \"1. **Facebook (Meta)**: 67,317 employees.\\n\"\n",
    "        \"2. **Apple**: 164,000 employees.\\n\"\n",
    "        \"3. **Amazon**: 1,551,000 employees.\\n\"\n",
    "        \"4. **Netflix**: 14,000 employees.\\n\"\n",
    "        \"5. **Google (Alphabet)**: 181,269 employees.\"\n",
    "    )\n"
   ]
  },
  {
   "cell_type": "code",
   "execution_count": 3,
   "id": "2662736b",
   "metadata": {},
   "outputs": [],
   "source": [
    "#Initialize the Agents\n",
    "from langgraph.prebuilt import create_react_agent\n",
    "math_agent = create_react_agent(\n",
    "    model=model,\n",
    "    tools=[add, multiply],\n",
    "    name=\"math_expert\",\n",
    "    prompt=\"You are a math expert. Always use one tool at a time.\"\n",
    ")\n",
    "\n",
    "research_agent = create_react_agent(\n",
    "    model=model,\n",
    "    tools=[web_search],\n",
    "    name=\"research_expert\",\n",
    "    prompt=\"You are a world class researcher with access to web search. Do not do any math.\"\n",
    ")\n",
    "\n"
   ]
  },
  {
   "cell_type": "code",
   "execution_count": 4,
   "id": "8e543680",
   "metadata": {},
   "outputs": [],
   "source": [
    "#Creater Supervisor \n",
    "from langgraph_supervisor import create_supervisor\n",
    "\n",
    "# Create supervisor workflow\n",
    "workflow = create_supervisor(\n",
    "    agents=[research_agent, math_agent],\n",
    "    model=model,\n",
    "    prompt=(\n",
    "        \"You are a team supervisor managing a research expert and a math expert. \"\n",
    "        \"For current events, use research_agent. \"\n",
    "        \"For math problems, use math_agent.\"\n",
    "    )\n",
    ")\n"
   ]
  },
  {
   "cell_type": "code",
   "execution_count": 8,
   "id": "528d7f45",
   "metadata": {},
   "outputs": [
    {
     "name": "stdout",
     "output_type": "stream",
     "text": [
      "('[human] Can you get me the headcounts of FAANG companies and then add them '\n",
      " 'together?\\n')\n",
      "'[ai] \\n'\n",
      "'[tool] Successfully transferred to research_expert\\n'\n",
      "('[ai] Here are the employee headcounts for each of the FAANG companies in '\n",
      " '2023:\\n'\n",
      " '\\n'\n",
      " '1. **Meta Platforms (Facebook)**: 67,317 employees\\n'\n",
      " '2. **Apple**: 164,000 employees\\n'\n",
      " '3. **Amazon**: 1,551,000 employees\\n'\n",
      " '4. **Netflix**: 14,000 employees\\n'\n",
      " '5. **Google (Alphabet)**: 181,269 employees\\n'\n",
      " '\\n'\n",
      " 'To calculate the total headcount, you can simply add these numbers '\n",
      " 'together.\\n')\n",
      "'[ai] Transferring back to supervisor\\n'\n",
      "'[tool] Successfully transferred back to supervisor\\n'\n",
      "'[ai] \\n'\n",
      "'[tool] Successfully transferred to math_expert\\n'\n",
      "('[ai] The total headcount for the FAANG companies combined is 1,977,586 '\n",
      " 'employees.\\n')\n",
      "'[ai] Transferring back to supervisor\\n'\n",
      "'[tool] Successfully transferred back to supervisor\\n'\n",
      "('[ai] The total headcount for the FAANG companies combined is 1,977,586 '\n",
      " 'employees.\\n')\n"
     ]
    }
   ],
   "source": [
    "# Compile and run\n",
    "from pprint import pprint\n",
    "\n",
    "app = workflow.compile()\n",
    "result = app.invoke(\n",
    "    {\n",
    "        \"messages\": [\n",
    "            {\n",
    "                \"role\": \"user\",\n",
    "                \"content\": \"Can you get me the headcounts of FAANG companies and then add them together?\"\n",
    "            }\n",
    "        ]\n",
    "    },\n",
    "    config={\"configurable\": {\"return_intermediate_steps\": True}},\n",
    ")\n",
    "for message in result[\"messages\"]:\n",
    "    pprint(f\"[{message.type}] {message.content}\\n\")\n"
   ]
  },
  {
   "cell_type": "code",
   "execution_count": 9,
   "id": "22506631",
   "metadata": {},
   "outputs": [
    {
     "name": "stdout",
     "output_type": "stream",
     "text": [
      "'The total headcount for the FAANG companies combined is 1,977,586 employees.'\n"
     ]
    }
   ],
   "source": [
    "# Just to Get the final output\n",
    "\n",
    "\n",
    "from pprint import pprint\n",
    "app = workflow.compile()\n",
    "# Extract final assistant response\n",
    "final_output = result.get(\"messages\", [])[-1].content if result.get(\"messages\", []) else \"No response\"\n",
    "pprint(final_output)"
   ]
  },
  {
   "cell_type": "code",
   "execution_count": 12,
   "id": "1960c4ed",
   "metadata": {},
   "outputs": [
    {
     "name": "stdout",
     "output_type": "stream",
     "text": [
      "---\n",
      "config:\n",
      "  flowchart:\n",
      "    curve: linear\n",
      "---\n",
      "graph TD;\n",
      "\t__start__([<p>__start__</p>]):::first\n",
      "\tsupervisor(supervisor)\n",
      "\tresearch_expert(research_expert)\n",
      "\tmath_expert(math_expert)\n",
      "\t__end__([<p>__end__</p>]):::last\n",
      "\t__start__ --> supervisor;\n",
      "\tmath_expert --> supervisor;\n",
      "\tresearch_expert --> supervisor;\n",
      "\tsupervisor -.-> research_expert;\n",
      "\tsupervisor -.-> math_expert;\n",
      "\tsupervisor -.-> __end__;\n",
      "\tclassDef default fill:#f2f0ff,line-height:1.2\n",
      "\tclassDef first fill-opacity:0\n",
      "\tclassDef last fill:#bfb6fc\n",
      "\n"
     ]
    }
   ],
   "source": [
    "# For Giving the Langgraph 'workflow' is your StateGraph instance\n",
    "compiled_workflow = workflow.compile()\n",
    "\n",
    "# Now you can access the graph visualization methods\n",
    "print(compiled_workflow.get_graph().draw_mermaid())"
   ]
  },
  {
   "cell_type": "code",
   "execution_count": 17,
   "id": "a7ae4906",
   "metadata": {},
   "outputs": [
    {
     "data": {
      "image/png": "[encoded data removed]",
      "text/plain": [
       "<IPython.core.display.Image object>"
      ]
     },
     "metadata": {},
     "output_type": "display_data"
    }
   ],
   "source": [
    "\n",
    "from IPython.display import Image\n",
    "display(Image(compiled_workflow.get_graph().draw_mermaid_png()))\n"
   ]
  }
 ],
 "metadata": {
  "kernelspec": {
   "display_name": "venv",
   "language": "python",
   "name": "python3"
  },
  "language_info": {
   "codemirror_mode": {
    "name": "ipython",
    "version": 3
   },
   "file_extension": ".py",
   "mimetype": "text/x-python",
   "name": "python",
   "nbconvert_exporter": "python",
   "pygments_lexer": "ipython3",
   "version": "3.10.16"
  }
 },
 "nbformat": 4,
 "nbformat_minor": 5
}
